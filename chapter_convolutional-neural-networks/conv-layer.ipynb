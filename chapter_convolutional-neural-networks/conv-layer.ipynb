{
 "cells": [
  {
   "cell_type": "markdown",
   "id": "2a91f68b",
   "metadata": {
    "slideshow": {
     "slide_type": "-"
    }
   },
   "source": [
    "# Convolutions for Images\n",
    "\n",
    "Cross-correlation operation"
   ]
  },
  {
   "cell_type": "code",
   "execution_count": 2,
   "id": "cd2828cc",
   "metadata": {
    "execution": {
     "iopub.execute_input": "2022-07-13T08:13:31.691765Z",
     "iopub.status.busy": "2022-07-13T08:13:31.691193Z",
     "iopub.status.idle": "2022-07-13T08:13:31.696958Z",
     "shell.execute_reply": "2022-07-13T08:13:31.696179Z"
    },
    "origin_pos": 4,
    "tab": [
     "pytorch"
    ]
   },
   "outputs": [],
   "source": [
    "import torch\n",
    "from torch import nn\n",
    "from d2l import torch as d2l\n",
    "\n",
    "def corr2d(X, K):  \n",
    "    \"\"\"Compute 2D cross-correlation.\"\"\"\n",
    "    h, w = K.shape\n",
    "    Y = torch.zeros((X.shape[0] - h + 1, X.shape[1] - w + 1))\n",
    "    for i in range(Y.shape[0]):\n",
    "        for j in range(Y.shape[1]):\n",
    "            Y[i, j] = (X[i:i + h, j:j + w] * K).sum()\n",
    "    return Y"
   ]
  },
  {
   "cell_type": "markdown",
   "id": "54cd2c3d",
   "metadata": {
    "slideshow": {
     "slide_type": "slide"
    }
   },
   "source": [
    "Validate the output of the above implementation"
   ]
  },
  {
   "cell_type": "code",
   "execution_count": 3,
   "id": "cde0f461",
   "metadata": {
    "execution": {
     "iopub.execute_input": "2022-07-13T08:13:31.700438Z",
     "iopub.status.busy": "2022-07-13T08:13:31.700005Z",
     "iopub.status.idle": "2022-07-13T08:13:31.730741Z",
     "shell.execute_reply": "2022-07-13T08:13:31.729962Z"
    },
    "origin_pos": 7,
    "tab": [
     "pytorch"
    ]
   },
   "outputs": [
    {
     "data": {
      "text/plain": [
       "tensor([[19., 25.],\n",
       "        [37., 43.]])"
      ]
     },
     "execution_count": 3,
     "metadata": {},
     "output_type": "execute_result"
    }
   ],
   "source": [
    "X = torch.tensor([[0.0, 1.0, 2.0], [3.0, 4.0, 5.0], [6.0, 7.0, 8.0]])\n",
    "K = torch.tensor([[0.0, 1.0], [2.0, 3.0]])\n",
    "corr2d(X, K)"
   ]
  },
  {
   "cell_type": "markdown",
   "id": "f6fb4477",
   "metadata": {
    "slideshow": {
     "slide_type": "slide"
    }
   },
   "source": [
    "Implement a two-dimensional convolutional layer"
   ]
  },
  {
   "cell_type": "code",
   "execution_count": 4,
   "id": "c3941706",
   "metadata": {
    "execution": {
     "iopub.execute_input": "2022-07-13T08:13:31.734439Z",
     "iopub.status.busy": "2022-07-13T08:13:31.733978Z",
     "iopub.status.idle": "2022-07-13T08:13:31.738989Z",
     "shell.execute_reply": "2022-07-13T08:13:31.738196Z"
    },
    "origin_pos": 10,
    "tab": [
     "pytorch"
    ]
   },
   "outputs": [],
   "source": [
    "class Conv2D(nn.Module):\n",
    "    def __init__(self, kernel_size):\n",
    "        super().__init__()\n",
    "        self.weight = nn.Parameter(torch.rand(kernel_size))\n",
    "        self.bias = nn.Parameter(torch.zeros(1))\n",
    "\n",
    "    def forward(self, x):\n",
    "        return corr2d(x, self.weight) + self.bias"
   ]
  },
  {
   "cell_type": "markdown",
   "id": "0744bad2",
   "metadata": {
    "slideshow": {
     "slide_type": "slide"
    }
   },
   "source": [
    "A simple application of a convolutional layer:\n",
    "detecting the edge of an object in an image"
   ]
  },
  {
   "cell_type": "code",
   "execution_count": 5,
   "id": "66404952",
   "metadata": {
    "execution": {
     "iopub.execute_input": "2022-07-13T08:13:31.742477Z",
     "iopub.status.busy": "2022-07-13T08:13:31.742042Z",
     "iopub.status.idle": "2022-07-13T08:13:31.748582Z",
     "shell.execute_reply": "2022-07-13T08:13:31.747776Z"
    },
    "origin_pos": 13,
    "tab": [
     "pytorch"
    ]
   },
   "outputs": [
    {
     "data": {
      "text/plain": [
       "tensor([[1., 1., 0., 0., 0., 0., 1., 1.],\n",
       "        [1., 1., 0., 0., 0., 0., 1., 1.],\n",
       "        [1., 1., 0., 0., 0., 0., 1., 1.],\n",
       "        [1., 1., 0., 0., 0., 0., 1., 1.],\n",
       "        [1., 1., 0., 0., 0., 0., 1., 1.],\n",
       "        [1., 1., 0., 0., 0., 0., 1., 1.]])"
      ]
     },
     "execution_count": 5,
     "metadata": {},
     "output_type": "execute_result"
    }
   ],
   "source": [
    "X = torch.ones((6, 8))\n",
    "X[:, 2:6] = 0\n",
    "X"
   ]
  },
  {
   "cell_type": "code",
   "execution_count": 6,
   "id": "5276037a",
   "metadata": {
    "execution": {
     "iopub.execute_input": "2022-07-13T08:13:31.752139Z",
     "iopub.status.busy": "2022-07-13T08:13:31.751610Z",
     "iopub.status.idle": "2022-07-13T08:13:31.755674Z",
     "shell.execute_reply": "2022-07-13T08:13:31.754847Z"
    },
    "origin_pos": 16,
    "tab": [
     "pytorch"
    ]
   },
   "outputs": [],
   "source": [
    "K = torch.tensor([[1.0, -1.0]])"
   ]
  },
  {
   "cell_type": "markdown",
   "id": "e7038606",
   "metadata": {
    "slideshow": {
     "slide_type": "slide"
    }
   },
   "source": [
    "We detect 1 for the edge from white to black\n",
    "and -1 for the edge from black to white"
   ]
  },
  {
   "cell_type": "code",
   "execution_count": 7,
   "id": "28378a62",
   "metadata": {
    "execution": {
     "iopub.execute_input": "2022-07-13T08:13:31.759276Z",
     "iopub.status.busy": "2022-07-13T08:13:31.758651Z",
     "iopub.status.idle": "2022-07-13T08:13:31.765475Z",
     "shell.execute_reply": "2022-07-13T08:13:31.764675Z"
    },
    "origin_pos": 18,
    "tab": [
     "pytorch"
    ]
   },
   "outputs": [
    {
     "data": {
      "text/plain": [
       "tensor([[ 0.,  1.,  0.,  0.,  0., -1.,  0.],\n",
       "        [ 0.,  1.,  0.,  0.,  0., -1.,  0.],\n",
       "        [ 0.,  1.,  0.,  0.,  0., -1.,  0.],\n",
       "        [ 0.,  1.,  0.,  0.,  0., -1.,  0.],\n",
       "        [ 0.,  1.,  0.,  0.,  0., -1.,  0.],\n",
       "        [ 0.,  1.,  0.,  0.,  0., -1.,  0.]])"
      ]
     },
     "execution_count": 7,
     "metadata": {},
     "output_type": "execute_result"
    }
   ],
   "source": [
    "Y = corr2d(X, K)\n",
    "Y"
   ]
  },
  {
   "cell_type": "markdown",
   "id": "53cf5439",
   "metadata": {
    "slideshow": {
     "slide_type": "slide"
    }
   },
   "source": [
    "The kernel `K` only detects vertical edges"
   ]
  },
  {
   "cell_type": "code",
   "execution_count": 8,
   "id": "2e27c2fd",
   "metadata": {
    "execution": {
     "iopub.execute_input": "2022-07-13T08:13:31.769014Z",
     "iopub.status.busy": "2022-07-13T08:13:31.768501Z",
     "iopub.status.idle": "2022-07-13T08:13:31.775183Z",
     "shell.execute_reply": "2022-07-13T08:13:31.774369Z"
    },
    "origin_pos": 20,
    "tab": [
     "pytorch"
    ]
   },
   "outputs": [
    {
     "data": {
      "text/plain": [
       "tensor([[0., 0., 0., 0., 0.],\n",
       "        [0., 0., 0., 0., 0.],\n",
       "        [0., 0., 0., 0., 0.],\n",
       "        [0., 0., 0., 0., 0.],\n",
       "        [0., 0., 0., 0., 0.],\n",
       "        [0., 0., 0., 0., 0.],\n",
       "        [0., 0., 0., 0., 0.],\n",
       "        [0., 0., 0., 0., 0.]])"
      ]
     },
     "execution_count": 8,
     "metadata": {},
     "output_type": "execute_result"
    }
   ],
   "source": [
    "corr2d(X.t(), K)"
   ]
  },
  {
   "cell_type": "markdown",
   "id": "4d04c32d",
   "metadata": {
    "slideshow": {
     "slide_type": "slide"
    }
   },
   "source": [
    "Learn the kernel that generated `Y` from `X`"
   ]
  },
  {
   "cell_type": "code",
   "execution_count": 9,
   "id": "ad7caaa7",
   "metadata": {
    "execution": {
     "iopub.execute_input": "2022-07-13T08:13:31.778962Z",
     "iopub.status.busy": "2022-07-13T08:13:31.778287Z",
     "iopub.status.idle": "2022-07-13T08:13:31.792649Z",
     "shell.execute_reply": "2022-07-13T08:13:31.791811Z"
    },
    "origin_pos": 23,
    "tab": [
     "pytorch"
    ]
   },
   "outputs": [
    {
     "name": "stdout",
     "output_type": "stream",
     "text": [
      "epoch 2, loss 6.369\n",
      "epoch 4, loss 1.191\n",
      "epoch 6, loss 0.250\n",
      "epoch 8, loss 0.062\n",
      "epoch 10, loss 0.019\n"
     ]
    },
    {
     "name": "stdout",
     "output_type": "stream",
     "text": [
      "/home/d2l-worker/miniconda3/envs/d2l-en-release-0/lib/python3.8/site-packages/torch/nn/modules/lazy.py:178: UserWarning: Lazy modules are a new feature under heavy development so changes to the API or functionality can happen at any moment.\n",
      "  warnings.warn('Lazy modules are a new feature under heavy development '\n"
     ]
    }
   ],
   "source": [
    "conv2d = nn.LazyConv2d(1, kernel_size=(1, 2), bias=False)\n",
    "\n",
    "X = X.reshape((1, 1, 6, 8))\n",
    "Y = Y.reshape((1, 1, 6, 7))\n",
    "lr = 3e-2\n",
    "\n",
    "for i in range(10):\n",
    "    Y_hat = conv2d(X)\n",
    "    l = (Y_hat - Y) ** 2\n",
    "    conv2d.zero_grad()\n",
    "    l.sum().backward()\n",
    "    conv2d.weight.data[:] -= lr * conv2d.weight.grad\n",
    "    if (i + 1) % 2 == 0:\n",
    "        print(f'epoch {i + 1}, loss {l.sum():.3f}')"
   ]
  },
  {
   "cell_type": "markdown",
   "id": "ad82f37d",
   "metadata": {
    "slideshow": {
     "slide_type": "slide"
    }
   },
   "source": [
    "Take a look at the kernel tensor we learned"
   ]
  },
  {
   "cell_type": "code",
   "execution_count": 10,
   "id": "925f74db",
   "metadata": {
    "execution": {
     "iopub.execute_input": "2022-07-13T08:13:31.796156Z",
     "iopub.status.busy": "2022-07-13T08:13:31.795622Z",
     "iopub.status.idle": "2022-07-13T08:13:31.801535Z",
     "shell.execute_reply": "2022-07-13T08:13:31.800717Z"
    },
    "origin_pos": 27,
    "tab": [
     "pytorch"
    ]
   },
   "outputs": [
    {
     "data": {
      "text/plain": [
       "tensor([[ 0.9997, -0.9751]])"
      ]
     },
     "execution_count": 10,
     "metadata": {},
     "output_type": "execute_result"
    }
   ],
   "source": [
    "conv2d.weight.data.reshape((1, 2))"
   ]
  }
 ],
 "metadata": {
  "celltoolbar": "Slideshow",
  "language_info": {
   "name": "python"
  },
  "rise": {
   "autolaunch": true,
   "enable_chalkboard": true,
   "overlay": "<div class='my-top-right'><img height=80px src='http://d2l.ai/_static/logo-with-text.png'/></div><div class='my-top-left'></div>",
   "scroll": true
  }
 },
 "nbformat": 4,
 "nbformat_minor": 5
}