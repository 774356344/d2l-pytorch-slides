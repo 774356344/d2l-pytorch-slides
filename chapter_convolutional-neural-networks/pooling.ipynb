{
 "cells": [
  {
   "cell_type": "markdown",
   "id": "eb9e2096",
   "metadata": {
    "slideshow": {
     "slide_type": "-"
    }
   },
   "source": [
    "# Pooling\n",
    "\n",
    "Implement the forward propagation\n",
    "of the pooling layer"
   ]
  },
  {
   "cell_type": "code",
   "execution_count": 2,
   "id": "8625a0ce",
   "metadata": {
    "execution": {
     "iopub.execute_input": "2022-09-07T22:11:07.588217Z",
     "iopub.status.busy": "2022-09-07T22:11:07.587649Z",
     "iopub.status.idle": "2022-09-07T22:11:07.593654Z",
     "shell.execute_reply": "2022-09-07T22:11:07.592920Z"
    },
    "origin_pos": 4,
    "tab": [
     "pytorch"
    ]
   },
   "outputs": [],
   "source": [
    "import torch\n",
    "from torch import nn\n",
    "from d2l import torch as d2l\n",
    "\n",
    "def pool2d(X, pool_size, mode='max'):\n",
    "    p_h, p_w = pool_size\n",
    "    Y = torch.zeros((X.shape[0] - p_h + 1, X.shape[1] - p_w + 1))\n",
    "    for i in range(Y.shape[0]):\n",
    "        for j in range(Y.shape[1]):\n",
    "            if mode == 'max':\n",
    "                Y[i, j] = X[i: i + p_h, j: j + p_w].max()\n",
    "            elif mode == 'avg':\n",
    "                Y[i, j] = X[i: i + p_h, j: j + p_w].mean()\n",
    "    return Y"
   ]
  },
  {
   "cell_type": "markdown",
   "id": "d1dad3b9",
   "metadata": {
    "slideshow": {
     "slide_type": "slide"
    }
   },
   "source": [
    "Validate the output of the two-dimensional max-pooling layer"
   ]
  },
  {
   "cell_type": "code",
   "execution_count": 3,
   "id": "98aae7b4",
   "metadata": {
    "execution": {
     "iopub.execute_input": "2022-09-07T22:11:07.597000Z",
     "iopub.status.busy": "2022-09-07T22:11:07.596572Z",
     "iopub.status.idle": "2022-09-07T22:11:07.625908Z",
     "shell.execute_reply": "2022-09-07T22:11:07.625186Z"
    },
    "origin_pos": 7,
    "tab": [
     "pytorch"
    ]
   },
   "outputs": [
    {
     "data": {
      "text/plain": [
       "tensor([[4., 5.],\n",
       "        [7., 8.]])"
      ]
     },
     "execution_count": 3,
     "metadata": {},
     "output_type": "execute_result"
    }
   ],
   "source": [
    "X = torch.tensor([[0.0, 1.0, 2.0], [3.0, 4.0, 5.0], [6.0, 7.0, 8.0]])\n",
    "pool2d(X, (2, 2))"
   ]
  },
  {
   "cell_type": "markdown",
   "id": "c23e5237",
   "metadata": {
    "slideshow": {
     "slide_type": "-"
    }
   },
   "source": [
    "The average pooling layer"
   ]
  },
  {
   "cell_type": "code",
   "execution_count": 4,
   "id": "55a43d86",
   "metadata": {
    "execution": {
     "iopub.execute_input": "2022-09-07T22:11:07.629753Z",
     "iopub.status.busy": "2022-09-07T22:11:07.629125Z",
     "iopub.status.idle": "2022-09-07T22:11:07.635367Z",
     "shell.execute_reply": "2022-09-07T22:11:07.634589Z"
    },
    "origin_pos": 9,
    "tab": [
     "pytorch"
    ]
   },
   "outputs": [
    {
     "data": {
      "text/plain": [
       "tensor([[2., 3.],\n",
       "        [5., 6.]])"
      ]
     },
     "execution_count": 4,
     "metadata": {},
     "output_type": "execute_result"
    }
   ],
   "source": [
    "pool2d(X, (2, 2), 'avg')"
   ]
  },
  {
   "cell_type": "markdown",
   "id": "0663d79f",
   "metadata": {
    "slideshow": {
     "slide_type": "slide"
    }
   },
   "source": [
    "Padding and Stride"
   ]
  },
  {
   "cell_type": "code",
   "execution_count": 5,
   "id": "b468ea87",
   "metadata": {
    "execution": {
     "iopub.execute_input": "2022-09-07T22:11:07.638719Z",
     "iopub.status.busy": "2022-09-07T22:11:07.638255Z",
     "iopub.status.idle": "2022-09-07T22:11:07.644493Z",
     "shell.execute_reply": "2022-09-07T22:11:07.643692Z"
    },
    "origin_pos": 12,
    "tab": [
     "pytorch"
    ]
   },
   "outputs": [
    {
     "data": {
      "text/plain": [
       "tensor([[[[ 0.,  1.,  2.,  3.],\n",
       "          [ 4.,  5.,  6.,  7.],\n",
       "          [ 8.,  9., 10., 11.],\n",
       "          [12., 13., 14., 15.]]]])"
      ]
     },
     "execution_count": 5,
     "metadata": {},
     "output_type": "execute_result"
    }
   ],
   "source": [
    "X = torch.arange(16, dtype=torch.float32).reshape((1, 1, 4, 4))\n",
    "X"
   ]
  },
  {
   "cell_type": "markdown",
   "id": "efe327aa",
   "metadata": {
    "slideshow": {
     "slide_type": "-"
    }
   },
   "source": [
    "Deep learning frameworks default to matching pooling window sizes and stride"
   ]
  },
  {
   "cell_type": "code",
   "execution_count": 6,
   "id": "752e2e4e",
   "metadata": {
    "execution": {
     "iopub.execute_input": "2022-09-07T22:11:07.647898Z",
     "iopub.status.busy": "2022-09-07T22:11:07.647457Z",
     "iopub.status.idle": "2022-09-07T22:11:07.653242Z",
     "shell.execute_reply": "2022-09-07T22:11:07.652503Z"
    },
    "origin_pos": 16,
    "tab": [
     "pytorch"
    ]
   },
   "outputs": [
    {
     "data": {
      "text/plain": [
       "tensor([[[[10.]]]])"
      ]
     },
     "execution_count": 6,
     "metadata": {},
     "output_type": "execute_result"
    }
   ],
   "source": [
    "pool2d = nn.MaxPool2d(3)\n",
    "pool2d(X)"
   ]
  },
  {
   "cell_type": "markdown",
   "id": "6efe232f",
   "metadata": {
    "slideshow": {
     "slide_type": "slide"
    }
   },
   "source": [
    "The stride and padding can be manually specified"
   ]
  },
  {
   "cell_type": "code",
   "execution_count": 7,
   "id": "a80a07fc",
   "metadata": {
    "execution": {
     "iopub.execute_input": "2022-09-07T22:11:07.656742Z",
     "iopub.status.busy": "2022-09-07T22:11:07.656117Z",
     "iopub.status.idle": "2022-09-07T22:11:07.662536Z",
     "shell.execute_reply": "2022-09-07T22:11:07.661800Z"
    },
    "origin_pos": 20,
    "tab": [
     "pytorch"
    ]
   },
   "outputs": [
    {
     "data": {
      "text/plain": [
       "tensor([[[[ 5.,  7.],\n",
       "          [13., 15.]]]])"
      ]
     },
     "execution_count": 7,
     "metadata": {},
     "output_type": "execute_result"
    }
   ],
   "source": [
    "pool2d = nn.MaxPool2d(3, padding=1, stride=2)\n",
    "pool2d(X)"
   ]
  },
  {
   "cell_type": "code",
   "execution_count": 8,
   "id": "3a196b0f",
   "metadata": {
    "execution": {
     "iopub.execute_input": "2022-09-07T22:11:07.665880Z",
     "iopub.status.busy": "2022-09-07T22:11:07.665385Z",
     "iopub.status.idle": "2022-09-07T22:11:07.671429Z",
     "shell.execute_reply": "2022-09-07T22:11:07.670666Z"
    },
    "origin_pos": 24,
    "tab": [
     "pytorch"
    ]
   },
   "outputs": [
    {
     "data": {
      "text/plain": [
       "tensor([[[[ 5.,  7.],\n",
       "          [13., 15.]]]])"
      ]
     },
     "execution_count": 8,
     "metadata": {},
     "output_type": "execute_result"
    }
   ],
   "source": [
    "pool2d = nn.MaxPool2d((2, 3), stride=(2, 3), padding=(0, 1))\n",
    "pool2d(X)"
   ]
  },
  {
   "cell_type": "markdown",
   "id": "7e454b3f",
   "metadata": {
    "slideshow": {
     "slide_type": "slide"
    }
   },
   "source": [
    "The pooling layer pools each input channel separately"
   ]
  },
  {
   "cell_type": "code",
   "execution_count": 9,
   "id": "c8a1f007",
   "metadata": {
    "execution": {
     "iopub.execute_input": "2022-09-07T22:11:07.674798Z",
     "iopub.status.busy": "2022-09-07T22:11:07.674290Z",
     "iopub.status.idle": "2022-09-07T22:11:07.680447Z",
     "shell.execute_reply": "2022-09-07T22:11:07.679688Z"
    },
    "origin_pos": 28,
    "tab": [
     "pytorch"
    ]
   },
   "outputs": [
    {
     "data": {
      "text/plain": [
       "tensor([[[[ 0.,  1.,  2.,  3.],\n",
       "          [ 4.,  5.,  6.,  7.],\n",
       "          [ 8.,  9., 10., 11.],\n",
       "          [12., 13., 14., 15.]],\n",
       "\n",
       "         [[ 1.,  2.,  3.,  4.],\n",
       "          [ 5.,  6.,  7.,  8.],\n",
       "          [ 9., 10., 11., 12.],\n",
       "          [13., 14., 15., 16.]]]])"
      ]
     },
     "execution_count": 9,
     "metadata": {},
     "output_type": "execute_result"
    }
   ],
   "source": [
    "X = torch.cat((X, X + 1), 1)\n",
    "X"
   ]
  },
  {
   "cell_type": "code",
   "execution_count": 10,
   "id": "3a292a9b",
   "metadata": {
    "execution": {
     "iopub.execute_input": "2022-09-07T22:11:07.684218Z",
     "iopub.status.busy": "2022-09-07T22:11:07.683585Z",
     "iopub.status.idle": "2022-09-07T22:11:07.691241Z",
     "shell.execute_reply": "2022-09-07T22:11:07.690332Z"
    },
    "origin_pos": 32,
    "tab": [
     "pytorch"
    ]
   },
   "outputs": [
    {
     "data": {
      "text/plain": [
       "tensor([[[[ 5.,  7.],\n",
       "          [13., 15.]],\n",
       "\n",
       "         [[ 6.,  8.],\n",
       "          [14., 16.]]]])"
      ]
     },
     "execution_count": 10,
     "metadata": {},
     "output_type": "execute_result"
    }
   ],
   "source": [
    "pool2d = nn.MaxPool2d(3, padding=1, stride=2)\n",
    "pool2d(X)"
   ]
  }
 ],
 "metadata": {
  "celltoolbar": "Slideshow",
  "language_info": {
   "name": "python"
  },
  "rise": {
   "autolaunch": true,
   "enable_chalkboard": true,
   "overlay": "<div class='my-top-right'><img height=80px src='http://d2l.ai/_static/logo-with-text.png'/></div><div class='my-top-left'></div>",
   "scroll": true
  }
 },
 "nbformat": 4,
 "nbformat_minor": 5
}