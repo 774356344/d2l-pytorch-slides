{
 "cells": [
  {
   "cell_type": "markdown",
   "id": "b8a4a80e",
   "metadata": {
    "slideshow": {
     "slide_type": "-"
    }
   },
   "source": [
    "# Pooling\n",
    "\n",
    "Implement the forward propagation\n",
    "of the pooling layer"
   ]
  },
  {
   "cell_type": "code",
   "execution_count": 2,
   "id": "c2ce826d",
   "metadata": {
    "execution": {
     "iopub.execute_input": "2022-08-29T07:17:56.063728Z",
     "iopub.status.busy": "2022-08-29T07:17:56.063021Z",
     "iopub.status.idle": "2022-08-29T07:17:56.069792Z",
     "shell.execute_reply": "2022-08-29T07:17:56.068787Z"
    },
    "origin_pos": 4,
    "tab": [
     "pytorch"
    ]
   },
   "outputs": [],
   "source": [
    "import torch\n",
    "from torch import nn\n",
    "from d2l import torch as d2l\n",
    "\n",
    "def pool2d(X, pool_size, mode='max'):\n",
    "    p_h, p_w = pool_size\n",
    "    Y = torch.zeros((X.shape[0] - p_h + 1, X.shape[1] - p_w + 1))\n",
    "    for i in range(Y.shape[0]):\n",
    "        for j in range(Y.shape[1]):\n",
    "            if mode == 'max':\n",
    "                Y[i, j] = X[i: i + p_h, j: j + p_w].max()\n",
    "            elif mode == 'avg':\n",
    "                Y[i, j] = X[i: i + p_h, j: j + p_w].mean()\n",
    "    return Y"
   ]
  },
  {
   "cell_type": "markdown",
   "id": "bef70425",
   "metadata": {
    "slideshow": {
     "slide_type": "slide"
    }
   },
   "source": [
    "Validate the output of the two-dimensional max-pooling layer"
   ]
  },
  {
   "cell_type": "code",
   "execution_count": 3,
   "id": "d462fe88",
   "metadata": {
    "execution": {
     "iopub.execute_input": "2022-08-29T07:17:56.073925Z",
     "iopub.status.busy": "2022-08-29T07:17:56.073364Z",
     "iopub.status.idle": "2022-08-29T07:17:56.103461Z",
     "shell.execute_reply": "2022-08-29T07:17:56.102113Z"
    },
    "origin_pos": 7,
    "tab": [
     "pytorch"
    ]
   },
   "outputs": [
    {
     "data": {
      "text/plain": [
       "tensor([[4., 5.],\n",
       "        [7., 8.]])"
      ]
     },
     "execution_count": 3,
     "metadata": {},
     "output_type": "execute_result"
    }
   ],
   "source": [
    "X = torch.tensor([[0.0, 1.0, 2.0], [3.0, 4.0, 5.0], [6.0, 7.0, 8.0]])\n",
    "pool2d(X, (2, 2))"
   ]
  },
  {
   "cell_type": "markdown",
   "id": "0e1bb833",
   "metadata": {
    "slideshow": {
     "slide_type": "-"
    }
   },
   "source": [
    "The average pooling layer"
   ]
  },
  {
   "cell_type": "code",
   "execution_count": 4,
   "id": "011d935e",
   "metadata": {
    "execution": {
     "iopub.execute_input": "2022-08-29T07:17:56.108051Z",
     "iopub.status.busy": "2022-08-29T07:17:56.107484Z",
     "iopub.status.idle": "2022-08-29T07:17:56.115442Z",
     "shell.execute_reply": "2022-08-29T07:17:56.114571Z"
    },
    "origin_pos": 9,
    "tab": [
     "pytorch"
    ]
   },
   "outputs": [
    {
     "data": {
      "text/plain": [
       "tensor([[2., 3.],\n",
       "        [5., 6.]])"
      ]
     },
     "execution_count": 4,
     "metadata": {},
     "output_type": "execute_result"
    }
   ],
   "source": [
    "pool2d(X, (2, 2), 'avg')"
   ]
  },
  {
   "cell_type": "markdown",
   "id": "6d9cb007",
   "metadata": {
    "slideshow": {
     "slide_type": "slide"
    }
   },
   "source": [
    "Padding and Stride"
   ]
  },
  {
   "cell_type": "code",
   "execution_count": 5,
   "id": "c1615719",
   "metadata": {
    "execution": {
     "iopub.execute_input": "2022-08-29T07:17:56.119378Z",
     "iopub.status.busy": "2022-08-29T07:17:56.119073Z",
     "iopub.status.idle": "2022-08-29T07:17:56.126836Z",
     "shell.execute_reply": "2022-08-29T07:17:56.125962Z"
    },
    "origin_pos": 12,
    "tab": [
     "pytorch"
    ]
   },
   "outputs": [
    {
     "data": {
      "text/plain": [
       "tensor([[[[ 0.,  1.,  2.,  3.],\n",
       "          [ 4.,  5.,  6.,  7.],\n",
       "          [ 8.,  9., 10., 11.],\n",
       "          [12., 13., 14., 15.]]]])"
      ]
     },
     "execution_count": 5,
     "metadata": {},
     "output_type": "execute_result"
    }
   ],
   "source": [
    "X = torch.arange(16, dtype=torch.float32).reshape((1, 1, 4, 4))\n",
    "X"
   ]
  },
  {
   "cell_type": "markdown",
   "id": "7de4ef97",
   "metadata": {
    "slideshow": {
     "slide_type": "-"
    }
   },
   "source": [
    "Deep learning frameworks default to matching pooling window sizes and stride"
   ]
  },
  {
   "cell_type": "code",
   "execution_count": 6,
   "id": "63e899b7",
   "metadata": {
    "execution": {
     "iopub.execute_input": "2022-08-29T07:17:56.130817Z",
     "iopub.status.busy": "2022-08-29T07:17:56.130274Z",
     "iopub.status.idle": "2022-08-29T07:17:56.138358Z",
     "shell.execute_reply": "2022-08-29T07:17:56.137277Z"
    },
    "origin_pos": 16,
    "tab": [
     "pytorch"
    ]
   },
   "outputs": [
    {
     "data": {
      "text/plain": [
       "tensor([[[[10.]]]])"
      ]
     },
     "execution_count": 6,
     "metadata": {},
     "output_type": "execute_result"
    }
   ],
   "source": [
    "pool2d = nn.MaxPool2d(3)\n",
    "pool2d(X)"
   ]
  },
  {
   "cell_type": "markdown",
   "id": "e3b2435e",
   "metadata": {
    "slideshow": {
     "slide_type": "slide"
    }
   },
   "source": [
    "The stride and padding can be manually specified"
   ]
  },
  {
   "cell_type": "code",
   "execution_count": 7,
   "id": "1e667809",
   "metadata": {
    "execution": {
     "iopub.execute_input": "2022-08-29T07:17:56.142489Z",
     "iopub.status.busy": "2022-08-29T07:17:56.141859Z",
     "iopub.status.idle": "2022-08-29T07:17:56.150222Z",
     "shell.execute_reply": "2022-08-29T07:17:56.149082Z"
    },
    "origin_pos": 20,
    "tab": [
     "pytorch"
    ]
   },
   "outputs": [
    {
     "data": {
      "text/plain": [
       "tensor([[[[ 5.,  7.],\n",
       "          [13., 15.]]]])"
      ]
     },
     "execution_count": 7,
     "metadata": {},
     "output_type": "execute_result"
    }
   ],
   "source": [
    "pool2d = nn.MaxPool2d(3, padding=1, stride=2)\n",
    "pool2d(X)"
   ]
  },
  {
   "cell_type": "code",
   "execution_count": 8,
   "id": "bbfe9b07",
   "metadata": {
    "execution": {
     "iopub.execute_input": "2022-08-29T07:17:56.154273Z",
     "iopub.status.busy": "2022-08-29T07:17:56.153696Z",
     "iopub.status.idle": "2022-08-29T07:17:56.161599Z",
     "shell.execute_reply": "2022-08-29T07:17:56.160704Z"
    },
    "origin_pos": 24,
    "tab": [
     "pytorch"
    ]
   },
   "outputs": [
    {
     "data": {
      "text/plain": [
       "tensor([[[[ 5.,  7.],\n",
       "          [13., 15.]]]])"
      ]
     },
     "execution_count": 8,
     "metadata": {},
     "output_type": "execute_result"
    }
   ],
   "source": [
    "pool2d = nn.MaxPool2d((2, 3), stride=(2, 3), padding=(0, 1))\n",
    "pool2d(X)"
   ]
  },
  {
   "cell_type": "markdown",
   "id": "237e56fa",
   "metadata": {
    "slideshow": {
     "slide_type": "slide"
    }
   },
   "source": [
    "The pooling layer pools each input channel separately"
   ]
  },
  {
   "cell_type": "code",
   "execution_count": 9,
   "id": "39adf240",
   "metadata": {
    "execution": {
     "iopub.execute_input": "2022-08-29T07:17:56.165495Z",
     "iopub.status.busy": "2022-08-29T07:17:56.164907Z",
     "iopub.status.idle": "2022-08-29T07:17:56.171762Z",
     "shell.execute_reply": "2022-08-29T07:17:56.170925Z"
    },
    "origin_pos": 28,
    "tab": [
     "pytorch"
    ]
   },
   "outputs": [
    {
     "data": {
      "text/plain": [
       "tensor([[[[ 0.,  1.,  2.,  3.],\n",
       "          [ 4.,  5.,  6.,  7.],\n",
       "          [ 8.,  9., 10., 11.],\n",
       "          [12., 13., 14., 15.]],\n",
       "\n",
       "         [[ 1.,  2.,  3.,  4.],\n",
       "          [ 5.,  6.,  7.,  8.],\n",
       "          [ 9., 10., 11., 12.],\n",
       "          [13., 14., 15., 16.]]]])"
      ]
     },
     "execution_count": 9,
     "metadata": {},
     "output_type": "execute_result"
    }
   ],
   "source": [
    "X = torch.cat((X, X + 1), 1)\n",
    "X"
   ]
  },
  {
   "cell_type": "code",
   "execution_count": 10,
   "id": "6d12d996",
   "metadata": {
    "execution": {
     "iopub.execute_input": "2022-08-29T07:17:56.175467Z",
     "iopub.status.busy": "2022-08-29T07:17:56.174878Z",
     "iopub.status.idle": "2022-08-29T07:17:56.181741Z",
     "shell.execute_reply": "2022-08-29T07:17:56.180818Z"
    },
    "origin_pos": 32,
    "tab": [
     "pytorch"
    ]
   },
   "outputs": [
    {
     "data": {
      "text/plain": [
       "tensor([[[[ 5.,  7.],\n",
       "          [13., 15.]],\n",
       "\n",
       "         [[ 6.,  8.],\n",
       "          [14., 16.]]]])"
      ]
     },
     "execution_count": 10,
     "metadata": {},
     "output_type": "execute_result"
    }
   ],
   "source": [
    "pool2d = nn.MaxPool2d(3, padding=1, stride=2)\n",
    "pool2d(X)"
   ]
  }
 ],
 "metadata": {
  "celltoolbar": "Slideshow",
  "language_info": {
   "name": "python"
  },
  "rise": {
   "autolaunch": true,
   "enable_chalkboard": true,
   "overlay": "<div class='my-top-right'><img height=80px src='http://d2l.ai/_static/logo-with-text.png'/></div><div class='my-top-left'></div>",
   "scroll": true
  }
 },
 "nbformat": 4,
 "nbformat_minor": 5
}