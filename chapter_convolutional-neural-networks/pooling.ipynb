{
 "cells": [
  {
   "cell_type": "markdown",
   "id": "3032747b",
   "metadata": {
    "slideshow": {
     "slide_type": "-"
    }
   },
   "source": [
    "# Pooling\n",
    "\n",
    "Implement the forward propagation\n",
    "of the pooling layer"
   ]
  },
  {
   "cell_type": "code",
   "execution_count": 2,
   "id": "b5d92fe0",
   "metadata": {
    "execution": {
     "iopub.execute_input": "2022-07-13T07:56:19.470488Z",
     "iopub.status.busy": "2022-07-13T07:56:19.469887Z",
     "iopub.status.idle": "2022-07-13T07:56:19.477040Z",
     "shell.execute_reply": "2022-07-13T07:56:19.475923Z"
    },
    "origin_pos": 4,
    "tab": [
     "pytorch"
    ]
   },
   "outputs": [],
   "source": [
    "import torch\n",
    "from torch import nn\n",
    "from d2l import torch as d2l\n",
    "\n",
    "def pool2d(X, pool_size, mode='max'):\n",
    "    p_h, p_w = pool_size\n",
    "    Y = torch.zeros((X.shape[0] - p_h + 1, X.shape[1] - p_w + 1))\n",
    "    for i in range(Y.shape[0]):\n",
    "        for j in range(Y.shape[1]):\n",
    "            if mode == 'max':\n",
    "                Y[i, j] = X[i: i + p_h, j: j + p_w].max()\n",
    "            elif mode == 'avg':\n",
    "                Y[i, j] = X[i: i + p_h, j: j + p_w].mean()\n",
    "    return Y"
   ]
  },
  {
   "cell_type": "markdown",
   "id": "7b65c313",
   "metadata": {
    "slideshow": {
     "slide_type": "slide"
    }
   },
   "source": [
    "Validate the output of the two-dimensional max-pooling layer"
   ]
  },
  {
   "cell_type": "code",
   "execution_count": 3,
   "id": "6918af13",
   "metadata": {
    "execution": {
     "iopub.execute_input": "2022-07-13T07:56:19.480649Z",
     "iopub.status.busy": "2022-07-13T07:56:19.480163Z",
     "iopub.status.idle": "2022-07-13T07:56:19.512475Z",
     "shell.execute_reply": "2022-07-13T07:56:19.511058Z"
    },
    "origin_pos": 7,
    "tab": [
     "pytorch"
    ]
   },
   "outputs": [
    {
     "data": {
      "text/plain": [
       "tensor([[4., 5.],\n",
       "        [7., 8.]])"
      ]
     },
     "execution_count": 3,
     "metadata": {},
     "output_type": "execute_result"
    }
   ],
   "source": [
    "X = torch.tensor([[0.0, 1.0, 2.0], [3.0, 4.0, 5.0], [6.0, 7.0, 8.0]])\n",
    "pool2d(X, (2, 2))"
   ]
  },
  {
   "cell_type": "markdown",
   "id": "87115282",
   "metadata": {
    "slideshow": {
     "slide_type": "-"
    }
   },
   "source": [
    "The average pooling layer"
   ]
  },
  {
   "cell_type": "code",
   "execution_count": 4,
   "id": "1636584e",
   "metadata": {
    "execution": {
     "iopub.execute_input": "2022-07-13T07:56:19.517925Z",
     "iopub.status.busy": "2022-07-13T07:56:19.516993Z",
     "iopub.status.idle": "2022-07-13T07:56:19.524040Z",
     "shell.execute_reply": "2022-07-13T07:56:19.523230Z"
    },
    "origin_pos": 9,
    "tab": [
     "pytorch"
    ]
   },
   "outputs": [
    {
     "data": {
      "text/plain": [
       "tensor([[2., 3.],\n",
       "        [5., 6.]])"
      ]
     },
     "execution_count": 4,
     "metadata": {},
     "output_type": "execute_result"
    }
   ],
   "source": [
    "pool2d(X, (2, 2), 'avg')"
   ]
  },
  {
   "cell_type": "markdown",
   "id": "46ceeb79",
   "metadata": {
    "slideshow": {
     "slide_type": "slide"
    }
   },
   "source": [
    "Padding and Stride"
   ]
  },
  {
   "cell_type": "code",
   "execution_count": 5,
   "id": "72eb9e5d",
   "metadata": {
    "execution": {
     "iopub.execute_input": "2022-07-13T07:56:19.527646Z",
     "iopub.status.busy": "2022-07-13T07:56:19.527024Z",
     "iopub.status.idle": "2022-07-13T07:56:19.533391Z",
     "shell.execute_reply": "2022-07-13T07:56:19.532620Z"
    },
    "origin_pos": 12,
    "tab": [
     "pytorch"
    ]
   },
   "outputs": [
    {
     "data": {
      "text/plain": [
       "tensor([[[[ 0.,  1.,  2.,  3.],\n",
       "          [ 4.,  5.,  6.,  7.],\n",
       "          [ 8.,  9., 10., 11.],\n",
       "          [12., 13., 14., 15.]]]])"
      ]
     },
     "execution_count": 5,
     "metadata": {},
     "output_type": "execute_result"
    }
   ],
   "source": [
    "X = torch.arange(16, dtype=torch.float32).reshape((1, 1, 4, 4))\n",
    "X"
   ]
  },
  {
   "cell_type": "markdown",
   "id": "c5b67061",
   "metadata": {
    "slideshow": {
     "slide_type": "-"
    }
   },
   "source": [
    "Deep learning frameworks default to matching pooling window sizes and stride"
   ]
  },
  {
   "cell_type": "code",
   "execution_count": 6,
   "id": "986b7649",
   "metadata": {
    "execution": {
     "iopub.execute_input": "2022-07-13T07:56:19.536863Z",
     "iopub.status.busy": "2022-07-13T07:56:19.536278Z",
     "iopub.status.idle": "2022-07-13T07:56:19.542795Z",
     "shell.execute_reply": "2022-07-13T07:56:19.542059Z"
    },
    "origin_pos": 16,
    "tab": [
     "pytorch"
    ]
   },
   "outputs": [
    {
     "data": {
      "text/plain": [
       "tensor([[[[10.]]]])"
      ]
     },
     "execution_count": 6,
     "metadata": {},
     "output_type": "execute_result"
    }
   ],
   "source": [
    "pool2d = nn.MaxPool2d(3)\n",
    "pool2d(X)"
   ]
  },
  {
   "cell_type": "markdown",
   "id": "01f1e82b",
   "metadata": {
    "slideshow": {
     "slide_type": "slide"
    }
   },
   "source": [
    "The stride and padding can be manually specified"
   ]
  },
  {
   "cell_type": "code",
   "execution_count": 7,
   "id": "8a1a6e8d",
   "metadata": {
    "execution": {
     "iopub.execute_input": "2022-07-13T07:56:19.546347Z",
     "iopub.status.busy": "2022-07-13T07:56:19.545785Z",
     "iopub.status.idle": "2022-07-13T07:56:19.567764Z",
     "shell.execute_reply": "2022-07-13T07:56:19.566280Z"
    },
    "origin_pos": 20,
    "tab": [
     "pytorch"
    ]
   },
   "outputs": [
    {
     "data": {
      "text/plain": [
       "tensor([[[[ 5.,  7.],\n",
       "          [13., 15.]]]])"
      ]
     },
     "execution_count": 7,
     "metadata": {},
     "output_type": "execute_result"
    }
   ],
   "source": [
    "pool2d = nn.MaxPool2d(3, padding=1, stride=2)\n",
    "pool2d(X)"
   ]
  },
  {
   "cell_type": "code",
   "execution_count": 8,
   "id": "61e45b89",
   "metadata": {
    "execution": {
     "iopub.execute_input": "2022-07-13T07:56:19.572935Z",
     "iopub.status.busy": "2022-07-13T07:56:19.572334Z",
     "iopub.status.idle": "2022-07-13T07:56:19.580103Z",
     "shell.execute_reply": "2022-07-13T07:56:19.579303Z"
    },
    "origin_pos": 24,
    "tab": [
     "pytorch"
    ]
   },
   "outputs": [
    {
     "data": {
      "text/plain": [
       "tensor([[[[ 5.,  7.],\n",
       "          [13., 15.]]]])"
      ]
     },
     "execution_count": 8,
     "metadata": {},
     "output_type": "execute_result"
    }
   ],
   "source": [
    "pool2d = nn.MaxPool2d((2, 3), stride=(2, 3), padding=(0, 1))\n",
    "pool2d(X)"
   ]
  },
  {
   "cell_type": "markdown",
   "id": "b8f11e3d",
   "metadata": {
    "slideshow": {
     "slide_type": "slide"
    }
   },
   "source": [
    "The pooling layer pools each input channel separately"
   ]
  },
  {
   "cell_type": "code",
   "execution_count": 9,
   "id": "e55b5457",
   "metadata": {
    "execution": {
     "iopub.execute_input": "2022-07-13T07:56:19.583908Z",
     "iopub.status.busy": "2022-07-13T07:56:19.583385Z",
     "iopub.status.idle": "2022-07-13T07:56:19.590289Z",
     "shell.execute_reply": "2022-07-13T07:56:19.589237Z"
    },
    "origin_pos": 28,
    "tab": [
     "pytorch"
    ]
   },
   "outputs": [
    {
     "data": {
      "text/plain": [
       "tensor([[[[ 0.,  1.,  2.,  3.],\n",
       "          [ 4.,  5.,  6.,  7.],\n",
       "          [ 8.,  9., 10., 11.],\n",
       "          [12., 13., 14., 15.]],\n",
       "\n",
       "         [[ 1.,  2.,  3.,  4.],\n",
       "          [ 5.,  6.,  7.,  8.],\n",
       "          [ 9., 10., 11., 12.],\n",
       "          [13., 14., 15., 16.]]]])"
      ]
     },
     "execution_count": 9,
     "metadata": {},
     "output_type": "execute_result"
    }
   ],
   "source": [
    "X = torch.cat((X, X + 1), 1)\n",
    "X"
   ]
  },
  {
   "cell_type": "code",
   "execution_count": 10,
   "id": "028fab3a",
   "metadata": {
    "execution": {
     "iopub.execute_input": "2022-07-13T07:56:19.593915Z",
     "iopub.status.busy": "2022-07-13T07:56:19.593468Z",
     "iopub.status.idle": "2022-07-13T07:56:19.600398Z",
     "shell.execute_reply": "2022-07-13T07:56:19.599565Z"
    },
    "origin_pos": 32,
    "tab": [
     "pytorch"
    ]
   },
   "outputs": [
    {
     "data": {
      "text/plain": [
       "tensor([[[[ 5.,  7.],\n",
       "          [13., 15.]],\n",
       "\n",
       "         [[ 6.,  8.],\n",
       "          [14., 16.]]]])"
      ]
     },
     "execution_count": 10,
     "metadata": {},
     "output_type": "execute_result"
    }
   ],
   "source": [
    "pool2d = nn.MaxPool2d(3, padding=1, stride=2)\n",
    "pool2d(X)"
   ]
  }
 ],
 "metadata": {
  "celltoolbar": "Slideshow",
  "language_info": {
   "name": "python"
  },
  "rise": {
   "autolaunch": true,
   "enable_chalkboard": true,
   "overlay": "<div class='my-top-right'><img height=80px src='http://d2l.ai/_static/logo-with-text.png'/></div><div class='my-top-left'></div>",
   "scroll": true
  }
 },
 "nbformat": 4,
 "nbformat_minor": 5
}