{
 "cells": [
  {
   "cell_type": "markdown",
   "id": "0517bd32",
   "metadata": {
    "slideshow": {
     "slide_type": "-"
    }
   },
   "source": [
    "# Multiple Input and Multiple Output Channels\n",
    "\n",
    "Implement cross-correlation operations with multiple input channels"
   ]
  },
  {
   "cell_type": "code",
   "execution_count": 2,
   "id": "1ec53857",
   "metadata": {
    "execution": {
     "iopub.execute_input": "2022-09-07T22:07:52.842257Z",
     "iopub.status.busy": "2022-09-07T22:07:52.841683Z",
     "iopub.status.idle": "2022-09-07T22:07:52.846057Z",
     "shell.execute_reply": "2022-09-07T22:07:52.845340Z"
    },
    "origin_pos": 4,
    "tab": [
     "pytorch"
    ]
   },
   "outputs": [],
   "source": [
    "import torch\n",
    "from d2l import torch as d2l\n",
    "\n",
    "def corr2d_multi_in(X, K):\n",
    "    return sum(d2l.corr2d(x, k) for x, k in zip(X, K))"
   ]
  },
  {
   "cell_type": "markdown",
   "id": "63e2e309",
   "metadata": {
    "slideshow": {
     "slide_type": "-"
    }
   },
   "source": [
    "Validate the output"
   ]
  },
  {
   "cell_type": "code",
   "execution_count": 3,
   "id": "81c2b999",
   "metadata": {
    "execution": {
     "iopub.execute_input": "2022-09-07T22:07:52.850692Z",
     "iopub.status.busy": "2022-09-07T22:07:52.850003Z",
     "iopub.status.idle": "2022-09-07T22:07:52.900474Z",
     "shell.execute_reply": "2022-09-07T22:07:52.898534Z"
    },
    "origin_pos": 7,
    "tab": [
     "pytorch"
    ]
   },
   "outputs": [
    {
     "data": {
      "text/plain": [
       "tensor([[ 56.,  72.],\n",
       "        [104., 120.]])"
      ]
     },
     "execution_count": 3,
     "metadata": {},
     "output_type": "execute_result"
    }
   ],
   "source": [
    "X = torch.tensor([[[0.0, 1.0, 2.0], [3.0, 4.0, 5.0], [6.0, 7.0, 8.0]],\n",
    "               [[1.0, 2.0, 3.0], [4.0, 5.0, 6.0], [7.0, 8.0, 9.0]]])\n",
    "K = torch.tensor([[[0.0, 1.0], [2.0, 3.0]], [[1.0, 2.0], [3.0, 4.0]]])\n",
    "\n",
    "corr2d_multi_in(X, K)"
   ]
  },
  {
   "cell_type": "markdown",
   "id": "10f70b1f",
   "metadata": {
    "slideshow": {
     "slide_type": "slide"
    }
   },
   "source": [
    "Calculate the output of multiple channels"
   ]
  },
  {
   "cell_type": "code",
   "execution_count": 5,
   "id": "9c838373",
   "metadata": {
    "execution": {
     "iopub.execute_input": "2022-09-07T22:07:52.942345Z",
     "iopub.status.busy": "2022-09-07T22:07:52.941533Z",
     "iopub.status.idle": "2022-09-07T22:07:52.950301Z",
     "shell.execute_reply": "2022-09-07T22:07:52.949237Z"
    },
    "origin_pos": 11,
    "tab": [
     "pytorch"
    ]
   },
   "outputs": [
    {
     "data": {
      "text/plain": [
       "torch.Size([3, 2, 2, 2])"
      ]
     },
     "execution_count": 5,
     "metadata": {},
     "output_type": "execute_result"
    }
   ],
   "source": [
    "def corr2d_multi_in_out(X, K):\n",
    "    return torch.stack([corr2d_multi_in(X, k) for k in K], 0)\n",
    "\n",
    "K = torch.stack((K, K + 1, K + 2), 0)\n",
    "K.shape"
   ]
  },
  {
   "cell_type": "code",
   "execution_count": 6,
   "id": "fe123dde",
   "metadata": {
    "execution": {
     "iopub.execute_input": "2022-09-07T22:07:52.959281Z",
     "iopub.status.busy": "2022-09-07T22:07:52.956421Z",
     "iopub.status.idle": "2022-09-07T22:07:52.977904Z",
     "shell.execute_reply": "2022-09-07T22:07:52.976290Z"
    },
    "origin_pos": 13,
    "tab": [
     "pytorch"
    ]
   },
   "outputs": [
    {
     "data": {
      "text/plain": [
       "tensor([[[ 56.,  72.],\n",
       "         [104., 120.]],\n",
       "\n",
       "        [[ 76., 100.],\n",
       "         [148., 172.]],\n",
       "\n",
       "        [[ 96., 128.],\n",
       "         [192., 224.]]])"
      ]
     },
     "execution_count": 6,
     "metadata": {},
     "output_type": "execute_result"
    }
   ],
   "source": [
    "corr2d_multi_in_out(X, K)"
   ]
  },
  {
   "cell_type": "markdown",
   "id": "09509d10",
   "metadata": {
    "slideshow": {
     "slide_type": "slide"
    }
   },
   "source": [
    "$1 \\times 1$ convolution"
   ]
  },
  {
   "cell_type": "code",
   "execution_count": 9,
   "id": "98082c11",
   "metadata": {
    "execution": {
     "iopub.execute_input": "2022-09-07T22:07:53.005696Z",
     "iopub.status.busy": "2022-09-07T22:07:53.005159Z",
     "iopub.status.idle": "2022-09-07T22:07:53.011793Z",
     "shell.execute_reply": "2022-09-07T22:07:53.010916Z"
    },
    "origin_pos": 19,
    "tab": [
     "pytorch"
    ]
   },
   "outputs": [],
   "source": [
    "def corr2d_multi_in_out_1x1(X, K):\n",
    "    c_i, h, w = X.shape\n",
    "    c_o = K.shape[0]\n",
    "    X = X.reshape((c_i, h * w))\n",
    "    K = K.reshape((c_o, c_i))\n",
    "    Y = torch.matmul(K, X)\n",
    "    return Y.reshape((c_o, h, w))\n",
    "\n",
    "X = torch.normal(0, 1, (3, 3, 3))\n",
    "K = torch.normal(0, 1, (2, 3, 1, 1))\n",
    "\n",
    "Y1 = corr2d_multi_in_out_1x1(X, K)\n",
    "Y2 = corr2d_multi_in_out(X, K)\n",
    "assert float(torch.abs(Y1 - Y2).sum()) < 1e-6"
   ]
  }
 ],
 "metadata": {
  "celltoolbar": "Slideshow",
  "language_info": {
   "name": "python"
  },
  "rise": {
   "autolaunch": true,
   "enable_chalkboard": true,
   "overlay": "<div class='my-top-right'><img height=80px src='http://d2l.ai/_static/logo-with-text.png'/></div><div class='my-top-left'></div>",
   "scroll": true
  }
 },
 "nbformat": 4,
 "nbformat_minor": 5
}