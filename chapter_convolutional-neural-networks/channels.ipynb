{
 "cells": [
  {
   "cell_type": "markdown",
   "id": "595f03e8",
   "metadata": {
    "slideshow": {
     "slide_type": "-"
    }
   },
   "source": [
    "# Multiple Input and Multiple Output Channels\n",
    "\n",
    "Implement cross-correlation operations with multiple input channels"
   ]
  },
  {
   "cell_type": "code",
   "execution_count": 2,
   "id": "c1c75743",
   "metadata": {
    "execution": {
     "iopub.execute_input": "2022-08-19T17:13:56.160814Z",
     "iopub.status.busy": "2022-08-19T17:13:56.160241Z",
     "iopub.status.idle": "2022-08-19T17:13:56.164712Z",
     "shell.execute_reply": "2022-08-19T17:13:56.163943Z"
    },
    "origin_pos": 4,
    "tab": [
     "pytorch"
    ]
   },
   "outputs": [],
   "source": [
    "import torch\n",
    "from d2l import torch as d2l\n",
    "\n",
    "def corr2d_multi_in(X, K):\n",
    "    return sum(d2l.corr2d(x, k) for x, k in zip(X, K))"
   ]
  },
  {
   "cell_type": "markdown",
   "id": "675031d5",
   "metadata": {
    "slideshow": {
     "slide_type": "-"
    }
   },
   "source": [
    "Validate the output"
   ]
  },
  {
   "cell_type": "code",
   "execution_count": 3,
   "id": "257e7204",
   "metadata": {
    "execution": {
     "iopub.execute_input": "2022-08-19T17:13:56.168136Z",
     "iopub.status.busy": "2022-08-19T17:13:56.167692Z",
     "iopub.status.idle": "2022-08-19T17:13:56.199331Z",
     "shell.execute_reply": "2022-08-19T17:13:56.198474Z"
    },
    "origin_pos": 7,
    "tab": [
     "pytorch"
    ]
   },
   "outputs": [
    {
     "data": {
      "text/plain": [
       "tensor([[ 56.,  72.],\n",
       "        [104., 120.]])"
      ]
     },
     "execution_count": 3,
     "metadata": {},
     "output_type": "execute_result"
    }
   ],
   "source": [
    "X = torch.tensor([[[0.0, 1.0, 2.0], [3.0, 4.0, 5.0], [6.0, 7.0, 8.0]],\n",
    "               [[1.0, 2.0, 3.0], [4.0, 5.0, 6.0], [7.0, 8.0, 9.0]]])\n",
    "K = torch.tensor([[[0.0, 1.0], [2.0, 3.0]], [[1.0, 2.0], [3.0, 4.0]]])\n",
    "\n",
    "corr2d_multi_in(X, K)"
   ]
  },
  {
   "cell_type": "markdown",
   "id": "973a01e5",
   "metadata": {
    "slideshow": {
     "slide_type": "slide"
    }
   },
   "source": [
    "Calculate the output of multiple channels"
   ]
  },
  {
   "cell_type": "code",
   "execution_count": 5,
   "id": "d07ac421",
   "metadata": {
    "execution": {
     "iopub.execute_input": "2022-08-19T17:13:56.211885Z",
     "iopub.status.busy": "2022-08-19T17:13:56.211441Z",
     "iopub.status.idle": "2022-08-19T17:13:56.217304Z",
     "shell.execute_reply": "2022-08-19T17:13:56.216516Z"
    },
    "origin_pos": 11,
    "tab": [
     "pytorch"
    ]
   },
   "outputs": [
    {
     "data": {
      "text/plain": [
       "torch.Size([3, 2, 2, 2])"
      ]
     },
     "execution_count": 5,
     "metadata": {},
     "output_type": "execute_result"
    }
   ],
   "source": [
    "def corr2d_multi_in_out(X, K):\n",
    "    return torch.stack([corr2d_multi_in(X, k) for k in K], 0)\n",
    "\n",
    "K = torch.stack((K, K + 1, K + 2), 0)\n",
    "K.shape"
   ]
  },
  {
   "cell_type": "code",
   "execution_count": 6,
   "id": "740cabf5",
   "metadata": {
    "execution": {
     "iopub.execute_input": "2022-08-19T17:13:56.220927Z",
     "iopub.status.busy": "2022-08-19T17:13:56.220377Z",
     "iopub.status.idle": "2022-08-19T17:13:56.227486Z",
     "shell.execute_reply": "2022-08-19T17:13:56.226700Z"
    },
    "origin_pos": 13,
    "tab": [
     "pytorch"
    ]
   },
   "outputs": [
    {
     "data": {
      "text/plain": [
       "tensor([[[ 56.,  72.],\n",
       "         [104., 120.]],\n",
       "\n",
       "        [[ 76., 100.],\n",
       "         [148., 172.]],\n",
       "\n",
       "        [[ 96., 128.],\n",
       "         [192., 224.]]])"
      ]
     },
     "execution_count": 6,
     "metadata": {},
     "output_type": "execute_result"
    }
   ],
   "source": [
    "corr2d_multi_in_out(X, K)"
   ]
  },
  {
   "cell_type": "markdown",
   "id": "f091f103",
   "metadata": {
    "slideshow": {
     "slide_type": "slide"
    }
   },
   "source": [
    "$1 \\times 1$ convolution"
   ]
  },
  {
   "cell_type": "code",
   "execution_count": 9,
   "id": "9b80725d",
   "metadata": {
    "execution": {
     "iopub.execute_input": "2022-08-19T17:13:56.245757Z",
     "iopub.status.busy": "2022-08-19T17:13:56.245467Z",
     "iopub.status.idle": "2022-08-19T17:13:56.251840Z",
     "shell.execute_reply": "2022-08-19T17:13:56.251059Z"
    },
    "origin_pos": 19,
    "tab": [
     "pytorch"
    ]
   },
   "outputs": [],
   "source": [
    "def corr2d_multi_in_out_1x1(X, K):\n",
    "    c_i, h, w = X.shape\n",
    "    c_o = K.shape[0]\n",
    "    X = X.reshape((c_i, h * w))\n",
    "    K = K.reshape((c_o, c_i))\n",
    "    Y = torch.matmul(K, X)\n",
    "    return Y.reshape((c_o, h, w))\n",
    "\n",
    "X = torch.normal(0, 1, (3, 3, 3))\n",
    "K = torch.normal(0, 1, (2, 3, 1, 1))\n",
    "\n",
    "Y1 = corr2d_multi_in_out_1x1(X, K)\n",
    "Y2 = corr2d_multi_in_out(X, K)\n",
    "assert float(torch.abs(Y1 - Y2).sum()) < 1e-6"
   ]
  }
 ],
 "metadata": {
  "celltoolbar": "Slideshow",
  "language_info": {
   "name": "python"
  },
  "rise": {
   "autolaunch": true,
   "enable_chalkboard": true,
   "overlay": "<div class='my-top-right'><img height=80px src='http://d2l.ai/_static/logo-with-text.png'/></div><div class='my-top-left'></div>",
   "scroll": true
  }
 },
 "nbformat": 4,
 "nbformat_minor": 5
}