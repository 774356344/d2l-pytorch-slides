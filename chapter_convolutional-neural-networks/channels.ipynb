{
 "cells": [
  {
   "cell_type": "markdown",
   "id": "904b62b6",
   "metadata": {
    "slideshow": {
     "slide_type": "-"
    }
   },
   "source": [
    "# Multiple Input and Multiple Output Channels\n",
    "\n",
    "Implement cross-correlation operations with multiple input channels"
   ]
  },
  {
   "cell_type": "code",
   "execution_count": 2,
   "id": "b834d768",
   "metadata": {
    "execution": {
     "iopub.execute_input": "2022-07-13T08:07:35.222014Z",
     "iopub.status.busy": "2022-07-13T08:07:35.221442Z",
     "iopub.status.idle": "2022-07-13T08:07:35.225899Z",
     "shell.execute_reply": "2022-07-13T08:07:35.225148Z"
    },
    "origin_pos": 4,
    "tab": [
     "pytorch"
    ]
   },
   "outputs": [],
   "source": [
    "import torch\n",
    "from d2l import torch as d2l\n",
    "\n",
    "def corr2d_multi_in(X, K):\n",
    "    return sum(d2l.corr2d(x, k) for x, k in zip(X, K))"
   ]
  },
  {
   "cell_type": "markdown",
   "id": "ccf62564",
   "metadata": {
    "slideshow": {
     "slide_type": "-"
    }
   },
   "source": [
    "Validate the output"
   ]
  },
  {
   "cell_type": "code",
   "execution_count": 3,
   "id": "72898e2f",
   "metadata": {
    "execution": {
     "iopub.execute_input": "2022-07-13T08:07:35.231597Z",
     "iopub.status.busy": "2022-07-13T08:07:35.230852Z",
     "iopub.status.idle": "2022-07-13T08:07:35.263277Z",
     "shell.execute_reply": "2022-07-13T08:07:35.262467Z"
    },
    "origin_pos": 7,
    "tab": [
     "pytorch"
    ]
   },
   "outputs": [
    {
     "data": {
      "text/plain": [
       "tensor([[ 56.,  72.],\n",
       "        [104., 120.]])"
      ]
     },
     "execution_count": 3,
     "metadata": {},
     "output_type": "execute_result"
    }
   ],
   "source": [
    "X = torch.tensor([[[0.0, 1.0, 2.0], [3.0, 4.0, 5.0], [6.0, 7.0, 8.0]],\n",
    "               [[1.0, 2.0, 3.0], [4.0, 5.0, 6.0], [7.0, 8.0, 9.0]]])\n",
    "K = torch.tensor([[[0.0, 1.0], [2.0, 3.0]], [[1.0, 2.0], [3.0, 4.0]]])\n",
    "\n",
    "corr2d_multi_in(X, K)"
   ]
  },
  {
   "cell_type": "markdown",
   "id": "e7936bd7",
   "metadata": {
    "slideshow": {
     "slide_type": "slide"
    }
   },
   "source": [
    "Calculate the output of multiple channels"
   ]
  },
  {
   "cell_type": "code",
   "execution_count": 5,
   "id": "ab34e5d9",
   "metadata": {
    "execution": {
     "iopub.execute_input": "2022-07-13T08:07:35.273801Z",
     "iopub.status.busy": "2022-07-13T08:07:35.273512Z",
     "iopub.status.idle": "2022-07-13T08:07:35.279447Z",
     "shell.execute_reply": "2022-07-13T08:07:35.278628Z"
    },
    "origin_pos": 11,
    "tab": [
     "pytorch"
    ]
   },
   "outputs": [
    {
     "data": {
      "text/plain": [
       "torch.Size([3, 2, 2, 2])"
      ]
     },
     "execution_count": 5,
     "metadata": {},
     "output_type": "execute_result"
    }
   ],
   "source": [
    "def corr2d_multi_in_out(X, K):\n",
    "    return torch.stack([corr2d_multi_in(X, k) for k in K], 0)\n",
    "\n",
    "K = torch.stack((K, K + 1, K + 2), 0)\n",
    "K.shape"
   ]
  },
  {
   "cell_type": "code",
   "execution_count": 6,
   "id": "8b25fd86",
   "metadata": {
    "execution": {
     "iopub.execute_input": "2022-07-13T08:07:35.282643Z",
     "iopub.status.busy": "2022-07-13T08:07:35.282360Z",
     "iopub.status.idle": "2022-07-13T08:07:35.289787Z",
     "shell.execute_reply": "2022-07-13T08:07:35.289047Z"
    },
    "origin_pos": 13,
    "tab": [
     "pytorch"
    ]
   },
   "outputs": [
    {
     "data": {
      "text/plain": [
       "tensor([[[ 56.,  72.],\n",
       "         [104., 120.]],\n",
       "\n",
       "        [[ 76., 100.],\n",
       "         [148., 172.]],\n",
       "\n",
       "        [[ 96., 128.],\n",
       "         [192., 224.]]])"
      ]
     },
     "execution_count": 6,
     "metadata": {},
     "output_type": "execute_result"
    }
   ],
   "source": [
    "corr2d_multi_in_out(X, K)"
   ]
  },
  {
   "cell_type": "markdown",
   "id": "034e2e37",
   "metadata": {
    "slideshow": {
     "slide_type": "slide"
    }
   },
   "source": [
    "$1 \\times 1$ convolution"
   ]
  },
  {
   "cell_type": "code",
   "execution_count": 9,
   "id": "1810e26a",
   "metadata": {
    "execution": {
     "iopub.execute_input": "2022-07-13T08:07:35.308381Z",
     "iopub.status.busy": "2022-07-13T08:07:35.308100Z",
     "iopub.status.idle": "2022-07-13T08:07:35.314494Z",
     "shell.execute_reply": "2022-07-13T08:07:35.313722Z"
    },
    "origin_pos": 19,
    "tab": [
     "pytorch"
    ]
   },
   "outputs": [],
   "source": [
    "def corr2d_multi_in_out_1x1(X, K):\n",
    "    c_i, h, w = X.shape\n",
    "    c_o = K.shape[0]\n",
    "    X = X.reshape((c_i, h * w))\n",
    "    K = K.reshape((c_o, c_i))\n",
    "    Y = torch.matmul(K, X)\n",
    "    return Y.reshape((c_o, h, w))\n",
    "\n",
    "X = torch.normal(0, 1, (3, 3, 3))\n",
    "K = torch.normal(0, 1, (2, 3, 1, 1))\n",
    "\n",
    "Y1 = corr2d_multi_in_out_1x1(X, K)\n",
    "Y2 = corr2d_multi_in_out(X, K)\n",
    "assert float(torch.abs(Y1 - Y2).sum()) < 1e-6"
   ]
  }
 ],
 "metadata": {
  "celltoolbar": "Slideshow",
  "language_info": {
   "name": "python"
  },
  "rise": {
   "autolaunch": true,
   "enable_chalkboard": true,
   "overlay": "<div class='my-top-right'><img height=80px src='http://d2l.ai/_static/logo-with-text.png'/></div><div class='my-top-left'></div>",
   "scroll": true
  }
 },
 "nbformat": 4,
 "nbformat_minor": 5
}