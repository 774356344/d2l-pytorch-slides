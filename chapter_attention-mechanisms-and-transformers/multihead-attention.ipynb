{
 "cells": [
  {
   "cell_type": "markdown",
   "id": "32fe858e",
   "metadata": {
    "slideshow": {
     "slide_type": "-"
    }
   },
   "source": [
    "# Multi-Head Attention\n",
    "\n"
   ]
  },
  {
   "cell_type": "code",
   "execution_count": 1,
   "id": "dc98cebc",
   "metadata": {
    "execution": {
     "iopub.execute_input": "2022-07-13T08:12:17.929253Z",
     "iopub.status.busy": "2022-07-13T08:12:17.928606Z",
     "iopub.status.idle": "2022-07-13T08:12:20.084056Z",
     "shell.execute_reply": "2022-07-13T08:12:20.082868Z"
    },
    "origin_pos": 3,
    "tab": [
     "pytorch"
    ]
   },
   "outputs": [],
   "source": [
    "import math\n",
    "import torch\n",
    "from torch import nn\n",
    "from d2l import torch as d2l"
   ]
  },
  {
   "cell_type": "markdown",
   "id": "77c48a06",
   "metadata": {
    "slideshow": {
     "slide_type": "slide"
    }
   },
   "source": [
    "Choose the scaled dot-product attention\n",
    "for each head"
   ]
  },
  {
   "cell_type": "code",
   "execution_count": 2,
   "id": "085022a8",
   "metadata": {
    "execution": {
     "iopub.execute_input": "2022-07-13T08:12:20.121552Z",
     "iopub.status.busy": "2022-07-13T08:12:20.120696Z",
     "iopub.status.idle": "2022-07-13T08:12:20.130828Z",
     "shell.execute_reply": "2022-07-13T08:12:20.129899Z"
    },
    "origin_pos": 7,
    "tab": [
     "pytorch"
    ]
   },
   "outputs": [],
   "source": [
    "class MultiHeadAttention(d2l.Module):\n",
    "    \"\"\"Multi-head attention.\"\"\"\n",
    "    def __init__(self, num_hiddens, num_heads, dropout, bias=False, **kwargs):\n",
    "        super().__init__()\n",
    "        self.num_heads = num_heads\n",
    "        self.attention = d2l.DotProductAttention(dropout, num_heads)\n",
    "        self.W_q = nn.LazyLinear(num_hiddens, bias=bias)\n",
    "        self.W_k = nn.LazyLinear(num_hiddens, bias=bias)\n",
    "        self.W_v = nn.LazyLinear(num_hiddens, bias=bias)\n",
    "        self.W_o = nn.LazyLinear(num_hiddens, bias=bias)\n",
    "\n",
    "    def forward(self, queries, keys, values, valid_lens, window_mask=None):\n",
    "        queries = self.transpose_qkv(self.W_q(queries))\n",
    "        keys = self.transpose_qkv(self.W_k(keys))\n",
    "        values = self.transpose_qkv(self.W_v(values))\n",
    "\n",
    "        if valid_lens is not None:\n",
    "            valid_lens = torch.repeat_interleave(\n",
    "                valid_lens, repeats=self.num_heads, dim=0)\n",
    "\n",
    "        output = self.attention(queries, keys, values, valid_lens,\n",
    "                                window_mask)\n",
    "        output_concat = self.transpose_output(output)\n",
    "        return self.W_o(output_concat)"
   ]
  },
  {
   "cell_type": "markdown",
   "id": "2d60030d",
   "metadata": {
    "slideshow": {
     "slide_type": "slide"
    }
   },
   "source": [
    "Parallel computation of multiple heads"
   ]
  },
  {
   "cell_type": "code",
   "execution_count": 3,
   "id": "300ea722",
   "metadata": {
    "execution": {
     "iopub.execute_input": "2022-07-13T08:12:20.135296Z",
     "iopub.status.busy": "2022-07-13T08:12:20.134746Z",
     "iopub.status.idle": "2022-07-13T08:12:20.140907Z",
     "shell.execute_reply": "2022-07-13T08:12:20.140143Z"
    },
    "origin_pos": 11,
    "tab": [
     "pytorch"
    ]
   },
   "outputs": [],
   "source": [
    "@d2l.add_to_class(MultiHeadAttention)  \n",
    "def transpose_qkv(self, X):\n",
    "    \"\"\"Transposition for parallel computation of multiple attention heads.\"\"\"\n",
    "    X = X.reshape(X.shape[0], X.shape[1], self.num_heads, -1)\n",
    "    X = X.permute(0, 2, 1, 3)\n",
    "    return X.reshape(-1, X.shape[2], X.shape[3])\n",
    "\n",
    "@d2l.add_to_class(MultiHeadAttention)  \n",
    "def transpose_output(self, X):\n",
    "    \"\"\"Reverse the operation of transpose_qkv.\"\"\"\n",
    "    X = X.reshape(-1, self.num_heads, X.shape[1], X.shape[2])\n",
    "    X = X.permute(0, 2, 1, 3)\n",
    "    return X.reshape(X.shape[0], X.shape[1], -1)"
   ]
  },
  {
   "cell_type": "markdown",
   "id": "f4f39335",
   "metadata": {
    "slideshow": {
     "slide_type": "slide"
    }
   },
   "source": [
    "Test our implemented"
   ]
  },
  {
   "cell_type": "code",
   "execution_count": 4,
   "id": "546a2887",
   "metadata": {
    "execution": {
     "iopub.execute_input": "2022-07-13T08:12:20.145905Z",
     "iopub.status.busy": "2022-07-13T08:12:20.145225Z",
     "iopub.status.idle": "2022-07-13T08:12:20.151283Z",
     "shell.execute_reply": "2022-07-13T08:12:20.150455Z"
    },
    "origin_pos": 15,
    "tab": [
     "pytorch"
    ]
   },
   "outputs": [
    {
     "name": "stdout",
     "output_type": "stream",
     "text": [
      "/home/d2l-worker/miniconda3/envs/d2l-en-release-0/lib/python3.8/site-packages/torch/nn/modules/lazy.py:178: UserWarning: Lazy modules are a new feature under heavy development so changes to the API or functionality can happen at any moment.\n",
      "  warnings.warn('Lazy modules are a new feature under heavy development '\n"
     ]
    }
   ],
   "source": [
    "num_hiddens, num_heads = 100, 5\n",
    "attention = MultiHeadAttention(num_hiddens, num_heads, 0.5)"
   ]
  },
  {
   "cell_type": "code",
   "execution_count": 5,
   "id": "f4361ab9",
   "metadata": {
    "execution": {
     "iopub.execute_input": "2022-07-13T08:12:20.156208Z",
     "iopub.status.busy": "2022-07-13T08:12:20.155581Z",
     "iopub.status.idle": "2022-07-13T08:12:20.185249Z",
     "shell.execute_reply": "2022-07-13T08:12:20.184356Z"
    },
    "origin_pos": 17,
    "tab": [
     "pytorch"
    ]
   },
   "outputs": [],
   "source": [
    "batch_size, num_queries, num_kvpairs, valid_lens = 2, 4, 6, torch.tensor([3, 2])\n",
    "X = torch.ones((batch_size, num_queries, num_hiddens))\n",
    "Y = torch.ones((batch_size, num_kvpairs, num_hiddens))\n",
    "d2l.check_shape(attention(X, Y, Y, valid_lens),\n",
    "                (batch_size, num_queries, num_hiddens))"
   ]
  }
 ],
 "metadata": {
  "celltoolbar": "Slideshow",
  "language_info": {
   "name": "python"
  },
  "rise": {
   "autolaunch": true,
   "enable_chalkboard": true,
   "overlay": "<div class='my-top-right'><img height=80px src='http://d2l.ai/_static/logo-with-text.png'/></div><div class='my-top-left'></div>",
   "scroll": true
  }
 },
 "nbformat": 4,
 "nbformat_minor": 5
}