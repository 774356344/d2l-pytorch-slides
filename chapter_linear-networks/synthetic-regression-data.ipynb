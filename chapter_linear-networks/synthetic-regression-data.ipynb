{
 "cells": [
  {
   "cell_type": "markdown",
   "metadata": {
    "slideshow": {
     "slide_type": "-"
    }
   },
   "source": [
    "# Synthetic Regression Data\n",
    "\n"
   ]
  },
  {
   "cell_type": "code",
   "execution_count": 1,
   "metadata": {
    "origin_pos": 3,
    "tab": [
     "pytorch"
    ]
   },
   "outputs": [],
   "source": [
    "%matplotlib inline\n",
    "import random\n",
    "import torch\n",
    "from d2l import torch as d2l"
   ]
  },
  {
   "cell_type": "markdown",
   "metadata": {
    "slideshow": {
     "slide_type": "-"
    }
   },
   "source": [
    "$$\\mathbf{y}= \\mathbf{X} \\mathbf{w} + b + \\mathbf\\epsilon$$"
   ]
  },
  {
   "cell_type": "code",
   "execution_count": 3,
   "metadata": {
    "origin_pos": 8,
    "tab": [
     "pytorch"
    ]
   },
   "outputs": [],
   "source": [
    "class SyntheticRegressionData(d2l.DataModule):  \n",
    "    def __init__(self, w, b, noise=0.01, num_examples=1000,\n",
    "                 batch_size=8):\n",
    "        super().__init__()\n",
    "        self.save_hyperparameters()\n",
    "        self.X = torch.randn(num_examples, len(w))\n",
    "        noise = torch.randn(num_examples, 1) * noise\n",
    "        self.y = torch.matmul(self.X, w.reshape((-1, 1))) + b + noise\n",
    "\n",
    "data = SyntheticRegressionData(w=torch.tensor([2, -3.4]), b=4.2)"
   ]
  },
  {
   "cell_type": "markdown",
   "metadata": {
    "slideshow": {
     "slide_type": "slide"
    }
   },
   "source": [
    "Each row in `features` consists of a vector in $\\mathbb{R}^2$ and each row in `labels` is a scalar"
   ]
  },
  {
   "cell_type": "code",
   "execution_count": 4,
   "metadata": {
    "origin_pos": 10,
    "tab": [
     "pytorch"
    ]
   },
   "outputs": [
    {
     "name": "stdout",
     "output_type": "stream",
     "text": [
      "features: tensor([-0.6172,  0.9769]) \n",
      "label: tensor([-0.3432])\n"
     ]
    }
   ],
   "source": [
    "print('features:', data.X[0],'\\nlabel:', data.y[0])"
   ]
  },
  {
   "cell_type": "markdown",
   "metadata": {
    "slideshow": {
     "slide_type": "slide"
    }
   },
   "source": [
    "Define the `train_dataloader` function\n",
    "takes a batch size, a matrix of features,\n",
    "and a vector of labels, yielding minibatches of size `batch_size`"
   ]
  },
  {
   "cell_type": "code",
   "execution_count": 6,
   "metadata": {
    "origin_pos": 14,
    "tab": [
     "pytorch"
    ]
   },
   "outputs": [
    {
     "name": "stdout",
     "output_type": "stream",
     "text": [
      "X shape: torch.Size([8, 2]) \n",
      "y shape: torch.Size([8, 1])\n"
     ]
    }
   ],
   "source": [
    "@d2l.add_to_class(SyntheticRegressionData)\n",
    "def train_dataloader(self):\n",
    "    indices = list(range(self.num_examples))\n",
    "    random.shuffle(indices)\n",
    "    for i in range(0, self.num_examples, self.batch_size):\n",
    "        batch_indices = torch.tensor(\n",
    "            indices[i: min(i + self.batch_size, self.num_examples)])\n",
    "        yield self.X[batch_indices], self.y[batch_indices]\n",
    "\n",
    "X, y = next(iter(data.train_dataloader()))\n",
    "print('X shape:', X.shape, '\\ny shape:', y.shape)"
   ]
  },
  {
   "cell_type": "markdown",
   "metadata": {
    "slideshow": {
     "slide_type": "slide"
    }
   },
   "source": [
    "Call the existing API in a framework to load data"
   ]
  },
  {
   "cell_type": "code",
   "execution_count": 8,
   "metadata": {
    "attributes": {
     "classes": [],
     "id": "",
     "n": "4"
    },
    "origin_pos": 18,
    "tab": [
     "pytorch"
    ]
   },
   "outputs": [
    {
     "data": {
      "text/plain": [
       "[tensor([[-1.1457,  0.8551],\n",
       "         [-1.8158, -0.6051],\n",
       "         [-0.2431, -0.2181],\n",
       "         [ 0.0175,  0.4087],\n",
       "         [-0.1382,  1.1670],\n",
       "         [ 0.0506,  0.7525],\n",
       "         [-0.4986, -0.0107],\n",
       "         [ 0.7206, -0.4952]]),\n",
       " tensor([[-0.9905],\n",
       "         [ 2.6317],\n",
       "         [ 4.4656],\n",
       "         [ 2.8253],\n",
       "         [-0.0310],\n",
       "         [ 1.7274],\n",
       "         [ 3.2372],\n",
       "         [ 7.3350]])]"
      ]
     },
     "execution_count": 8,
     "metadata": {},
     "output_type": "execute_result"
    }
   ],
   "source": [
    "def tensorloader(tensors, batch_size, shuffle):  \n",
    "    dataset = torch.utils.data.TensorDataset(*tensors)\n",
    "    return torch.utils.data.DataLoader(dataset, batch_size, shuffle=shuffle)\n",
    "@d2l.add_to_class(SyntheticRegressionData)  \n",
    "def train_dataloader(self):\n",
    "    return tensorloader((self.X, self.y), self.batch_size, shuffle=True)\n",
    "\n",
    "next(iter(data.train_dataloader()))"
   ]
  },
  {
   "cell_type": "code",
   "execution_count": 9,
   "metadata": {
    "origin_pos": 20,
    "tab": [
     "pytorch"
    ]
   },
   "outputs": [
    {
     "data": {
      "text/plain": [
       "125"
      ]
     },
     "execution_count": 9,
     "metadata": {},
     "output_type": "execute_result"
    }
   ],
   "source": [
    "len(data.train_dataloader())"
   ]
  }
 ],
 "metadata": {
  "celltoolbar": "Slideshow",
  "language_info": {
   "name": "python"
  },
  "rise": {
   "autolaunch": true,
   "enable_chalkboard": true,
   "overlay": "<div class='my-top-right'><img height=80px src='http://d2l.ai/_static/logo-with-text.png'/></div><div class='my-top-left'></div>",
   "scroll": true
  }
 },
 "nbformat": 4,
 "nbformat_minor": 4
}