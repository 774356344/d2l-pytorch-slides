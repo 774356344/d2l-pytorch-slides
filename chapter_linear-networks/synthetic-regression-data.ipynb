{
 "cells": [
  {
   "cell_type": "markdown",
   "metadata": {
    "slideshow": {
     "slide_type": "-"
    }
   },
   "source": [
    "# Synthetic Regression Data\n",
    "\n"
   ]
  },
  {
   "cell_type": "code",
   "execution_count": 1,
   "metadata": {
    "origin_pos": 2,
    "tab": [
     "pytorch"
    ]
   },
   "outputs": [],
   "source": [
    "%matplotlib inline\n",
    "import random\n",
    "import torch\n",
    "from d2l import torch as d2l"
   ]
  },
  {
   "cell_type": "markdown",
   "metadata": {
    "slideshow": {
     "slide_type": "slide"
    }
   },
   "source": [
    "Construct an artificial dataset\n",
    "according to a linear model with additive noise.\n",
    "The true parameters generating our true targets are\n",
    "$\\mathbf{w} = [2, -3.4]^\\top$ and $b = 4.2$.\n",
    "$$\\mathbf{y}= \\mathbf{X} \\mathbf{w} + b + \\mathbf\\epsilon$$"
   ]
  },
  {
   "cell_type": "code",
   "execution_count": 3,
   "metadata": {
    "origin_pos": 7,
    "tab": [
     "pytorch"
    ]
   },
   "outputs": [],
   "source": [
    "class SyntheticRegressionData(d2l.DataModule):  \n",
    "    def __init__(self, w, b, noise=0.01, num_examples=1000, batch_size=8):\n",
    "        super().__init__()\n",
    "        self.save_hyperparameters()\n",
    "        self.X = torch.normal(0, 1, (num_examples, len(w)))\n",
    "        y = torch.matmul(self.X, w) + b + torch.normal(0, noise, (num_examples,))\n",
    "        self.y = y.reshape((-1, 1))\n",
    "\n",
    "w = torch.tensor([2, -3.4])\n",
    "b = 4.2\n",
    "data = SyntheticRegressionData(w, b)"
   ]
  },
  {
   "cell_type": "markdown",
   "metadata": {
    "slideshow": {
     "slide_type": "slide"
    }
   },
   "source": [
    "Each row in `features` consists of a vector in $\\mathbb{R}^2$ and each row in `labels` is a scalar"
   ]
  },
  {
   "cell_type": "code",
   "execution_count": 4,
   "metadata": {
    "origin_pos": 9,
    "tab": [
     "pytorch"
    ]
   },
   "outputs": [
    {
     "name": "stdout",
     "output_type": "stream",
     "text": [
      "features: tensor([ 1.0323, -0.0329]) \n",
      "label: tensor([6.3724])\n"
     ]
    }
   ],
   "source": [
    "print('features:', data.X[0],'\\nlabel:', data.y[0])"
   ]
  },
  {
   "cell_type": "markdown",
   "metadata": {
    "slideshow": {
     "slide_type": "slide"
    }
   },
   "source": [
    "Define the `data_iter` function\n",
    "that\n",
    "takes a batch size, a matrix of features,\n",
    "and a vector of labels, yielding minibatches of size `batch_size`"
   ]
  },
  {
   "cell_type": "code",
   "execution_count": 6,
   "metadata": {
    "origin_pos": 14,
    "tab": [
     "pytorch"
    ]
   },
   "outputs": [
    {
     "name": "stdout",
     "output_type": "stream",
     "text": [
      "X shape: torch.Size([8, 2]) \n",
      "y shape: torch.Size([8, 1])\n"
     ]
    }
   ],
   "source": [
    "@d2l.add_to_class(SyntheticRegressionData)\n",
    "def train_dataloader(self):\n",
    "    indices = list(range(self.num_examples))\n",
    "    random.shuffle(indices)\n",
    "    for i in range(0, self.num_examples, self.batch_size):\n",
    "        batch_indices = torch.tensor(\n",
    "            indices[i: min(i + self.batch_size, self.num_examples)])\n",
    "        yield self.X[batch_indices], self.y[batch_indices]\n",
    "\n",
    "X, y = next(iter(data.train_dataloader()))\n",
    "print('X shape:', X.shape, '\\ny shape:', y.shape)"
   ]
  },
  {
   "cell_type": "markdown",
   "metadata": {
    "slideshow": {
     "slide_type": "slide"
    }
   },
   "source": [
    "Call the existing API in a framework to read data"
   ]
  },
  {
   "cell_type": "code",
   "execution_count": 8,
   "metadata": {
    "attributes": {
     "classes": [],
     "id": "",
     "n": "4"
    },
    "origin_pos": 20,
    "tab": [
     "pytorch"
    ]
   },
   "outputs": [
    {
     "data": {
      "text/plain": [
       "[tensor([[ 1.8273, -0.3405],\n",
       "         [ 0.3609, -1.4379],\n",
       "         [-0.1293, -1.0305],\n",
       "         [-1.0967,  0.7427],\n",
       "         [ 0.0045, -0.3536],\n",
       "         [-1.6509,  1.9914],\n",
       "         [-0.9864,  2.0244],\n",
       "         [ 1.1538,  0.7084]]),\n",
       " tensor([[ 9.0194],\n",
       "         [ 9.8133],\n",
       "         [ 7.4450],\n",
       "         [-0.5365],\n",
       "         [ 5.4222],\n",
       "         [-5.8550],\n",
       "         [-4.6594],\n",
       "         [ 4.0990]])]"
      ]
     },
     "execution_count": 8,
     "metadata": {},
     "output_type": "execute_result"
    }
   ],
   "source": [
    "@d2l.add_to_class(SyntheticRegressionData)  \n",
    "def train_dataloader(self):\n",
    "    dataset = torch.utils.data.TensorDataset(self.X, self.y)\n",
    "    return torch.utils.data.DataLoader(dataset, self.batch_size, shuffle=True)\n",
    "\n",
    "next(iter(data.train_dataloader()))"
   ]
  },
  {
   "cell_type": "code",
   "execution_count": 9,
   "metadata": {
    "origin_pos": 22,
    "tab": [
     "pytorch"
    ]
   },
   "outputs": [
    {
     "data": {
      "text/plain": [
       "125"
      ]
     },
     "execution_count": 9,
     "metadata": {},
     "output_type": "execute_result"
    }
   ],
   "source": [
    "len(data.train_dataloader())"
   ]
  }
 ],
 "metadata": {
  "celltoolbar": "Slideshow",
  "language_info": {
   "name": "python"
  },
  "rise": {
   "autolaunch": true,
   "enable_chalkboard": true,
   "overlay": "<div class='my-top-right'><img height=80px src='http://d2l.ai/_static/logo-with-text.png'/></div><div class='my-top-left'></div>",
   "scroll": true
  }
 },
 "nbformat": 4,
 "nbformat_minor": 4
}