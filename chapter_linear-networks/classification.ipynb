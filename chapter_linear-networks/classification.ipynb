{
 "cells": [
  {
   "cell_type": "markdown",
   "metadata": {
    "slideshow": {
     "slide_type": "-"
    }
   },
   "source": [
    "# The Base Classification Model\n",
    "\n"
   ]
  },
  {
   "cell_type": "code",
   "execution_count": 4,
   "metadata": {
    "origin_pos": 10,
    "tab": [
     "pytorch"
    ]
   },
   "outputs": [],
   "source": [
    "import torch\n",
    "from d2l import torch as d2l\n",
    "\n",
    "class Classification(d2l.Module):  \n",
    "    def __init__(self):\n",
    "        super().__init__()\n",
    "\n",
    "    def training_step(self, batch):\n",
    "        X, y = batch\n",
    "        l = self.loss(self(X), y)\n",
    "        epoch = self.trainer.train_batch_idx / self.trainer.num_train_batches\n",
    "        self.board.xlabel = 'epoch'\n",
    "        self.board.draw(epoch, l, 'train_loss', every_n=50)\n",
    "        return l\n",
    "\n",
    "@d2l.add_to_class(Classification)  \n",
    "def validation_step(self, batch):\n",
    "    X, y = batch\n",
    "    y_hat = self(X)\n",
    "    for k, v in (('val_loss', self.loss(y_hat, y)),\n",
    "                 ('val_acc', self.accuracy(y_hat, y))):\n",
    "        self.board.draw(self.trainer.epoch+1, v, k,\n",
    "                        every_n=self.trainer.num_val_batches)\n",
    "\n",
    "@d2l.add_to_class(Classification)  \n",
    "def configure_optimizers(self):\n",
    "    return torch.optim.SGD(self.parameters(), lr=self.lr)"
   ]
  },
  {
   "cell_type": "markdown",
   "metadata": {
    "slideshow": {
     "slide_type": "slide"
    }
   },
   "source": [
    "Compare the predicted class with the ground-truth `y` elementwise"
   ]
  },
  {
   "cell_type": "code",
   "execution_count": 5,
   "metadata": {
    "origin_pos": 13,
    "tab": [
     "pytorch"
    ]
   },
   "outputs": [],
   "source": [
    "@d2l.add_to_class(Classification)  \n",
    "def accuracy(self, y_hat, y):\n",
    "    \"\"\"Compute the number of correct predictions.\"\"\"\n",
    "    if len(y_hat.shape) > 1 and y_hat.shape[1] > 1:\n",
    "        y_hat = y_hat.argmax(axis=1)\n",
    "    cmp = y_hat.type(y.dtype) == y\n",
    "    return cmp.type(torch.float32).mean()"
   ]
  }
 ],
 "metadata": {
  "celltoolbar": "Slideshow",
  "language_info": {
   "name": "python"
  },
  "rise": {
   "autolaunch": true,
   "enable_chalkboard": true,
   "overlay": "<div class='my-top-right'><img height=80px src='http://d2l.ai/_static/logo-with-text.png'/></div><div class='my-top-left'></div>",
   "scroll": true
  }
 },
 "nbformat": 4,
 "nbformat_minor": 4
}