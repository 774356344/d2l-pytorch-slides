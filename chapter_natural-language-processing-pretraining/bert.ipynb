{
 "cells": [
  {
   "cell_type": "markdown",
   "id": "516b8424",
   "metadata": {
    "slideshow": {
     "slide_type": "-"
    }
   },
   "source": [
    "# Bidirectional Encoder Representations from Transformers (BERT)\n",
    "\n"
   ]
  },
  {
   "cell_type": "code",
   "execution_count": 1,
   "id": "ce507506",
   "metadata": {
    "execution": {
     "iopub.execute_input": "2022-09-07T22:05:47.139014Z",
     "iopub.status.busy": "2022-09-07T22:05:47.138287Z",
     "iopub.status.idle": "2022-09-07T22:05:49.312714Z",
     "shell.execute_reply": "2022-09-07T22:05:49.311231Z"
    },
    "origin_pos": 2,
    "tab": [
     "pytorch"
    ]
   },
   "outputs": [],
   "source": [
    "import torch\n",
    "from torch import nn\n",
    "from d2l import torch as d2l"
   ]
  },
  {
   "cell_type": "markdown",
   "id": "d7e9c232",
   "metadata": {
    "slideshow": {
     "slide_type": "slide"
    }
   },
   "source": [
    "Input Representation"
   ]
  },
  {
   "cell_type": "code",
   "execution_count": 2,
   "id": "5530f192",
   "metadata": {
    "execution": {
     "iopub.execute_input": "2022-09-07T22:05:49.319884Z",
     "iopub.status.busy": "2022-09-07T22:05:49.318923Z",
     "iopub.status.idle": "2022-09-07T22:05:49.327348Z",
     "shell.execute_reply": "2022-09-07T22:05:49.326099Z"
    },
    "origin_pos": 4,
    "tab": [
     "pytorch"
    ]
   },
   "outputs": [],
   "source": [
    "def get_tokens_and_segments(tokens_a, tokens_b=None):\n",
    "    \"\"\"Get tokens of the BERT input sequence and their segment IDs.\"\"\"\n",
    "    tokens = ['<cls>'] + tokens_a + ['<sep>']\n",
    "    segments = [0] * (len(tokens_a) + 2)\n",
    "    if tokens_b is not None:\n",
    "        tokens += tokens_b + ['<sep>']\n",
    "        segments += [1] * (len(tokens_b) + 1)\n",
    "    return tokens, segments"
   ]
  },
  {
   "cell_type": "markdown",
   "id": "48e1a205",
   "metadata": {
    "slideshow": {
     "slide_type": "slide"
    }
   },
   "source": [
    "`BERTEncoder` class"
   ]
  },
  {
   "cell_type": "code",
   "execution_count": 3,
   "id": "be2a399d",
   "metadata": {
    "execution": {
     "iopub.execute_input": "2022-09-07T22:05:49.331409Z",
     "iopub.status.busy": "2022-09-07T22:05:49.330873Z",
     "iopub.status.idle": "2022-09-07T22:05:49.340963Z",
     "shell.execute_reply": "2022-09-07T22:05:49.339867Z"
    },
    "origin_pos": 7,
    "tab": [
     "pytorch"
    ]
   },
   "outputs": [],
   "source": [
    "class BERTEncoder(nn.Module):\n",
    "    \"\"\"BERT encoder.\"\"\"\n",
    "    def __init__(self, vocab_size, num_hiddens, ffn_num_hiddens, num_heads,\n",
    "                 num_blks, dropout, max_len=1000, **kwargs):\n",
    "        super(BERTEncoder, self).__init__(**kwargs)\n",
    "        self.token_embedding = nn.Embedding(vocab_size, num_hiddens)\n",
    "        self.segment_embedding = nn.Embedding(2, num_hiddens)\n",
    "        self.blks = nn.Sequential()\n",
    "        for i in range(num_blks):\n",
    "            self.blks.add_module(f\"{i}\", d2l.TransformerEncoderBlock(\n",
    "                num_hiddens, ffn_num_hiddens, num_heads, dropout, True))\n",
    "        self.pos_embedding = nn.Parameter(torch.randn(1, max_len,\n",
    "                                                      num_hiddens))\n",
    "\n",
    "    def forward(self, tokens, segments, valid_lens):\n",
    "        X = self.token_embedding(tokens) + self.segment_embedding(segments)\n",
    "        X = X + self.pos_embedding[:, :X.shape[1], :]\n",
    "        for blk in self.blks:\n",
    "            X = blk(X, valid_lens)\n",
    "        return X"
   ]
  },
  {
   "cell_type": "markdown",
   "id": "efcbee12",
   "metadata": {
    "slideshow": {
     "slide_type": "slide"
    }
   },
   "source": [
    "Inference of `BERTEncoder`"
   ]
  },
  {
   "cell_type": "code",
   "execution_count": 4,
   "id": "8c709aef",
   "metadata": {
    "execution": {
     "iopub.execute_input": "2022-09-07T22:05:49.344671Z",
     "iopub.status.busy": "2022-09-07T22:05:49.344124Z",
     "iopub.status.idle": "2022-09-07T22:05:49.472093Z",
     "shell.execute_reply": "2022-09-07T22:05:49.470573Z"
    },
    "origin_pos": 10,
    "tab": [
     "pytorch"
    ]
   },
   "outputs": [
    {
     "name": "stdout",
     "output_type": "stream",
     "text": [
      "/home/d2l-worker/miniconda3/envs/d2l-en-release-0/lib/python3.9/site-packages/torch/nn/modules/lazy.py:178: UserWarning: Lazy modules are a new feature under heavy development so changes to the API or functionality can happen at any moment.\n",
      "  warnings.warn('Lazy modules are a new feature under heavy development '\n"
     ]
    }
   ],
   "source": [
    "vocab_size, num_hiddens, ffn_num_hiddens, num_heads = 10000, 768, 1024, 4\n",
    "ffn_num_input, num_blks, dropout = 768, 2, 0.2\n",
    "encoder = BERTEncoder(vocab_size, num_hiddens, ffn_num_hiddens, num_heads,\n",
    "                      num_blks, dropout)"
   ]
  },
  {
   "cell_type": "code",
   "execution_count": 5,
   "id": "a6374848",
   "metadata": {
    "execution": {
     "iopub.execute_input": "2022-09-07T22:05:49.477922Z",
     "iopub.status.busy": "2022-09-07T22:05:49.477050Z",
     "iopub.status.idle": "2022-09-07T22:05:49.635712Z",
     "shell.execute_reply": "2022-09-07T22:05:49.634379Z"
    },
    "origin_pos": 13,
    "tab": [
     "pytorch"
    ]
   },
   "outputs": [
    {
     "data": {
      "text/plain": [
       "torch.Size([2, 8, 768])"
      ]
     },
     "execution_count": 5,
     "metadata": {},
     "output_type": "execute_result"
    }
   ],
   "source": [
    "tokens = torch.randint(0, vocab_size, (2, 8))\n",
    "segments = torch.tensor([[0, 0, 0, 0, 1, 1, 1, 1], [0, 0, 0, 1, 1, 1, 1, 1]])\n",
    "encoded_X = encoder(tokens, segments, None)\n",
    "encoded_X.shape"
   ]
  },
  {
   "cell_type": "markdown",
   "id": "55f34dfb",
   "metadata": {
    "slideshow": {
     "slide_type": "slide"
    }
   },
   "source": [
    "Masked Language Modeling"
   ]
  },
  {
   "cell_type": "code",
   "execution_count": 6,
   "id": "5263d3e5",
   "metadata": {
    "execution": {
     "iopub.execute_input": "2022-09-07T22:05:49.640562Z",
     "iopub.status.busy": "2022-09-07T22:05:49.640037Z",
     "iopub.status.idle": "2022-09-07T22:05:49.649070Z",
     "shell.execute_reply": "2022-09-07T22:05:49.648272Z"
    },
    "origin_pos": 16,
    "tab": [
     "pytorch"
    ]
   },
   "outputs": [],
   "source": [
    "class MaskLM(nn.Module):\n",
    "    \"\"\"The masked language model task of BERT.\"\"\"\n",
    "    def __init__(self, vocab_size, num_hiddens, **kwargs):\n",
    "        super(MaskLM, self).__init__(**kwargs)\n",
    "        self.mlp = nn.Sequential(nn.LazyLinear(num_hiddens),\n",
    "                                 nn.ReLU(),\n",
    "                                 nn.LayerNorm(num_hiddens),\n",
    "                                 nn.LazyLinear(vocab_size))\n",
    "\n",
    "    def forward(self, X, pred_positions):\n",
    "        num_pred_positions = pred_positions.shape[1]\n",
    "        pred_positions = pred_positions.reshape(-1)\n",
    "        batch_size = X.shape[0]\n",
    "        batch_idx = torch.arange(0, batch_size)\n",
    "        batch_idx = torch.repeat_interleave(batch_idx, num_pred_positions)\n",
    "        masked_X = X[batch_idx, pred_positions]\n",
    "        masked_X = masked_X.reshape((batch_size, num_pred_positions, -1))\n",
    "        mlm_Y_hat = self.mlp(masked_X)\n",
    "        return mlm_Y_hat"
   ]
  },
  {
   "cell_type": "markdown",
   "id": "fcbcb47e",
   "metadata": {
    "slideshow": {
     "slide_type": "slide"
    }
   },
   "source": [
    "The forward inference of `MaskLM`"
   ]
  },
  {
   "cell_type": "code",
   "execution_count": 7,
   "id": "0f0c41ee",
   "metadata": {
    "execution": {
     "iopub.execute_input": "2022-09-07T22:05:49.652668Z",
     "iopub.status.busy": "2022-09-07T22:05:49.652229Z",
     "iopub.status.idle": "2022-09-07T22:05:49.754640Z",
     "shell.execute_reply": "2022-09-07T22:05:49.753569Z"
    },
    "origin_pos": 19,
    "tab": [
     "pytorch"
    ]
   },
   "outputs": [
    {
     "data": {
      "text/plain": [
       "torch.Size([2, 3, 10000])"
      ]
     },
     "execution_count": 7,
     "metadata": {},
     "output_type": "execute_result"
    }
   ],
   "source": [
    "mlm = MaskLM(vocab_size, num_hiddens)\n",
    "mlm_positions = torch.tensor([[1, 5, 2], [6, 1, 5]])\n",
    "mlm_Y_hat = mlm(encoded_X, mlm_positions)\n",
    "mlm_Y_hat.shape"
   ]
  },
  {
   "cell_type": "code",
   "execution_count": 8,
   "id": "c2cdee70",
   "metadata": {
    "execution": {
     "iopub.execute_input": "2022-09-07T22:05:49.758726Z",
     "iopub.status.busy": "2022-09-07T22:05:49.758410Z",
     "iopub.status.idle": "2022-09-07T22:05:49.769582Z",
     "shell.execute_reply": "2022-09-07T22:05:49.768274Z"
    },
    "origin_pos": 22,
    "tab": [
     "pytorch"
    ]
   },
   "outputs": [
    {
     "data": {
      "text/plain": [
       "torch.Size([6])"
      ]
     },
     "execution_count": 8,
     "metadata": {},
     "output_type": "execute_result"
    }
   ],
   "source": [
    "mlm_Y = torch.tensor([[7, 8, 9], [10, 20, 30]])\n",
    "loss = nn.CrossEntropyLoss(reduction='none')\n",
    "mlm_l = loss(mlm_Y_hat.reshape((-1, vocab_size)), mlm_Y.reshape(-1))\n",
    "mlm_l.shape"
   ]
  },
  {
   "cell_type": "markdown",
   "id": "603acc1f",
   "metadata": {
    "slideshow": {
     "slide_type": "slide"
    }
   },
   "source": [
    "Next Sentence Prediction"
   ]
  },
  {
   "cell_type": "code",
   "execution_count": 9,
   "id": "cecf56df",
   "metadata": {
    "execution": {
     "iopub.execute_input": "2022-09-07T22:05:49.775546Z",
     "iopub.status.busy": "2022-09-07T22:05:49.774527Z",
     "iopub.status.idle": "2022-09-07T22:05:49.781868Z",
     "shell.execute_reply": "2022-09-07T22:05:49.780839Z"
    },
    "origin_pos": 25,
    "tab": [
     "pytorch"
    ]
   },
   "outputs": [],
   "source": [
    "class NextSentencePred(nn.Module):\n",
    "    \"\"\"The next sentence prediction task of BERT.\"\"\"\n",
    "    def __init__(self, **kwargs):\n",
    "        super(NextSentencePred, self).__init__(**kwargs)\n",
    "        self.output = nn.LazyLinear(2)\n",
    "\n",
    "    def forward(self, X):\n",
    "        return self.output(X)"
   ]
  },
  {
   "cell_type": "markdown",
   "id": "c6b21ce7",
   "metadata": {
    "slideshow": {
     "slide_type": "slide"
    }
   },
   "source": [
    "The forward inference of an `NextSentencePred`"
   ]
  },
  {
   "cell_type": "code",
   "execution_count": 10,
   "id": "1dd7dcdd",
   "metadata": {
    "execution": {
     "iopub.execute_input": "2022-09-07T22:05:49.786321Z",
     "iopub.status.busy": "2022-09-07T22:05:49.785494Z",
     "iopub.status.idle": "2022-09-07T22:05:49.795916Z",
     "shell.execute_reply": "2022-09-07T22:05:49.794733Z"
    },
    "origin_pos": 28,
    "tab": [
     "pytorch"
    ]
   },
   "outputs": [
    {
     "data": {
      "text/plain": [
       "torch.Size([2, 2])"
      ]
     },
     "execution_count": 10,
     "metadata": {},
     "output_type": "execute_result"
    }
   ],
   "source": [
    "encoded_X = torch.flatten(encoded_X, start_dim=1)\n",
    "nsp = NextSentencePred()\n",
    "nsp_Y_hat = nsp(encoded_X)\n",
    "nsp_Y_hat.shape"
   ]
  },
  {
   "cell_type": "code",
   "execution_count": 11,
   "id": "a4cfd1b4",
   "metadata": {
    "execution": {
     "iopub.execute_input": "2022-09-07T22:05:49.800823Z",
     "iopub.status.busy": "2022-09-07T22:05:49.800257Z",
     "iopub.status.idle": "2022-09-07T22:05:49.808507Z",
     "shell.execute_reply": "2022-09-07T22:05:49.807532Z"
    },
    "origin_pos": 31,
    "tab": [
     "pytorch"
    ]
   },
   "outputs": [
    {
     "data": {
      "text/plain": [
       "torch.Size([2])"
      ]
     },
     "execution_count": 11,
     "metadata": {},
     "output_type": "execute_result"
    }
   ],
   "source": [
    "nsp_y = torch.tensor([0, 1])\n",
    "nsp_l = loss(nsp_Y_hat, nsp_y)\n",
    "nsp_l.shape"
   ]
  },
  {
   "cell_type": "markdown",
   "id": "02babc20",
   "metadata": {
    "slideshow": {
     "slide_type": "slide"
    }
   },
   "source": [
    "Putting It All Together"
   ]
  },
  {
   "cell_type": "code",
   "execution_count": 12,
   "id": "e1064c3e",
   "metadata": {
    "execution": {
     "iopub.execute_input": "2022-09-07T22:05:49.813234Z",
     "iopub.status.busy": "2022-09-07T22:05:49.812659Z",
     "iopub.status.idle": "2022-09-07T22:05:49.819956Z",
     "shell.execute_reply": "2022-09-07T22:05:49.818975Z"
    },
    "origin_pos": 34,
    "tab": [
     "pytorch"
    ]
   },
   "outputs": [],
   "source": [
    "class BERTModel(nn.Module):\n",
    "    \"\"\"The BERT model.\"\"\"\n",
    "    def __init__(self, vocab_size, num_hiddens, ffn_num_hiddens,\n",
    "                 num_heads, num_blks, dropout, max_len=1000):\n",
    "        super(BERTModel, self).__init__()\n",
    "        self.encoder = BERTEncoder(vocab_size, num_hiddens, ffn_num_hiddens,\n",
    "                                   num_heads, num_blks, dropout,\n",
    "                                   max_len=max_len)\n",
    "        self.hidden = nn.Sequential(nn.LazyLinear(num_hiddens),\n",
    "                                    nn.Tanh())\n",
    "        self.mlm = MaskLM(vocab_size, num_hiddens)\n",
    "        self.nsp = NextSentencePred()\n",
    "\n",
    "    def forward(self, tokens, segments, valid_lens=None, pred_positions=None):\n",
    "        encoded_X = self.encoder(tokens, segments, valid_lens)\n",
    "        if pred_positions is not None:\n",
    "            mlm_Y_hat = self.mlm(encoded_X, pred_positions)\n",
    "        else:\n",
    "            mlm_Y_hat = None\n",
    "        nsp_Y_hat = self.nsp(self.hidden(encoded_X[:, 0, :]))\n",
    "        return encoded_X, mlm_Y_hat, nsp_Y_hat"
   ]
  }
 ],
 "metadata": {
  "celltoolbar": "Slideshow",
  "language_info": {
   "name": "python"
  },
  "rise": {
   "autolaunch": true,
   "enable_chalkboard": true,
   "overlay": "<div class='my-top-right'><img height=80px src='http://d2l.ai/_static/logo-with-text.png'/></div><div class='my-top-left'></div>",
   "scroll": true
  }
 },
 "nbformat": 4,
 "nbformat_minor": 5
}