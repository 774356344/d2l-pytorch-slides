{
 "cells": [
  {
   "cell_type": "markdown",
   "id": "31c394a1",
   "metadata": {
    "slideshow": {
     "slide_type": "-"
    }
   },
   "source": [
    "# Encoder-Decoder Architecture\n",
    "\n",
    "Encoder"
   ]
  },
  {
   "cell_type": "code",
   "execution_count": 1,
   "id": "3a11cd6e",
   "metadata": {
    "execution": {
     "iopub.execute_input": "2022-08-29T22:06:09.750857Z",
     "iopub.status.busy": "2022-08-29T22:06:09.750171Z",
     "iopub.status.idle": "2022-08-29T22:06:12.389478Z",
     "shell.execute_reply": "2022-08-29T22:06:12.386415Z"
    },
    "origin_pos": 3,
    "tab": [
     "pytorch"
    ]
   },
   "outputs": [],
   "source": [
    "from torch import nn\n",
    "from d2l import torch as d2l\n",
    "\n",
    "\n",
    "class Encoder(nn.Module):\n",
    "    \"\"\"The base encoder interface for the encoder-decoder architecture.\"\"\"\n",
    "    def __init__(self):\n",
    "        super().__init__()\n",
    "\n",
    "    def forward(self, X, *args):\n",
    "        raise NotImplementedError"
   ]
  },
  {
   "cell_type": "markdown",
   "id": "e3ccd916",
   "metadata": {
    "slideshow": {
     "slide_type": "slide"
    }
   },
   "source": [
    "Decoder"
   ]
  },
  {
   "cell_type": "code",
   "execution_count": 2,
   "id": "f8767c7c",
   "metadata": {
    "execution": {
     "iopub.execute_input": "2022-08-29T22:06:12.396696Z",
     "iopub.status.busy": "2022-08-29T22:06:12.395663Z",
     "iopub.status.idle": "2022-08-29T22:06:12.402165Z",
     "shell.execute_reply": "2022-08-29T22:06:12.400886Z"
    },
    "origin_pos": 7,
    "tab": [
     "pytorch"
    ]
   },
   "outputs": [],
   "source": [
    "class Decoder(nn.Module):\n",
    "    \"\"\"The base decoder interface for the encoder-decoder architecture.\"\"\"\n",
    "    def __init__(self):\n",
    "        super().__init__()\n",
    "\n",
    "    def init_state(self, enc_outputs, *args):\n",
    "        raise NotImplementedError\n",
    "\n",
    "    def forward(self, X, state):\n",
    "        raise NotImplementedError"
   ]
  },
  {
   "cell_type": "markdown",
   "id": "5cfe75f2",
   "metadata": {
    "slideshow": {
     "slide_type": "slide"
    }
   },
   "source": [
    "Putting the Encoder and Decoder Together"
   ]
  },
  {
   "cell_type": "code",
   "execution_count": 3,
   "id": "8774dd52",
   "metadata": {
    "execution": {
     "iopub.execute_input": "2022-08-29T22:06:12.407000Z",
     "iopub.status.busy": "2022-08-29T22:06:12.406251Z",
     "iopub.status.idle": "2022-08-29T22:06:12.419396Z",
     "shell.execute_reply": "2022-08-29T22:06:12.416948Z"
    },
    "origin_pos": 10,
    "tab": [
     "pytorch"
    ]
   },
   "outputs": [],
   "source": [
    "class EncoderDecoder(d2l.Classifier):\n",
    "    \"\"\"The base class for the encoder-decoder architecture.\"\"\"\n",
    "    def __init__(self, encoder, decoder):\n",
    "        super().__init__()\n",
    "        self.encoder = encoder\n",
    "        self.decoder = decoder\n",
    "\n",
    "    def forward(self, enc_X, dec_X, *args):\n",
    "        enc_outputs = self.encoder(enc_X, *args)\n",
    "        dec_state = self.decoder.init_state(enc_outputs, *args)\n",
    "        return self.decoder(dec_X, dec_state)[0]"
   ]
  }
 ],
 "metadata": {
  "celltoolbar": "Slideshow",
  "language_info": {
   "name": "python"
  },
  "rise": {
   "autolaunch": true,
   "enable_chalkboard": true,
   "overlay": "<div class='my-top-right'><img height=80px src='http://d2l.ai/_static/logo-with-text.png'/></div><div class='my-top-left'></div>",
   "scroll": true
  }
 },
 "nbformat": 4,
 "nbformat_minor": 5
}