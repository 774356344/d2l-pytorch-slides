{
 "cells": [
  {
   "cell_type": "markdown",
   "id": "e22801c2",
   "metadata": {
    "slideshow": {
     "slide_type": "-"
    }
   },
   "source": [
    "# Encoder-Decoder Architecture\n",
    "\n",
    "Encoder"
   ]
  },
  {
   "cell_type": "code",
   "execution_count": 1,
   "id": "692a4d71",
   "metadata": {
    "execution": {
     "iopub.execute_input": "2022-07-13T08:17:51.821365Z",
     "iopub.status.busy": "2022-07-13T08:17:51.820682Z",
     "iopub.status.idle": "2022-07-13T08:17:53.731792Z",
     "shell.execute_reply": "2022-07-13T08:17:53.730881Z"
    },
    "origin_pos": 3,
    "tab": [
     "pytorch"
    ]
   },
   "outputs": [],
   "source": [
    "from torch import nn\n",
    "from d2l import torch as d2l\n",
    "\n",
    "\n",
    "class Encoder(nn.Module):\n",
    "    \"\"\"The base encoder interface for the encoder-decoder architecture.\"\"\"\n",
    "    def __init__(self):\n",
    "        super().__init__()\n",
    "\n",
    "    def forward(self, X, *args):\n",
    "        raise NotImplementedError"
   ]
  },
  {
   "cell_type": "markdown",
   "id": "dfe1859c",
   "metadata": {
    "slideshow": {
     "slide_type": "slide"
    }
   },
   "source": [
    "Decoder"
   ]
  },
  {
   "cell_type": "code",
   "execution_count": 2,
   "id": "b81cd6b7",
   "metadata": {
    "execution": {
     "iopub.execute_input": "2022-07-13T08:17:53.736009Z",
     "iopub.status.busy": "2022-07-13T08:17:53.735422Z",
     "iopub.status.idle": "2022-07-13T08:17:53.740371Z",
     "shell.execute_reply": "2022-07-13T08:17:53.739603Z"
    },
    "origin_pos": 7,
    "tab": [
     "pytorch"
    ]
   },
   "outputs": [],
   "source": [
    "class Decoder(nn.Module):\n",
    "    \"\"\"The base decoder interface for the encoder-decoder architecture.\"\"\"\n",
    "    def __init__(self):\n",
    "        super().__init__()\n",
    "\n",
    "    def init_state(self, enc_outputs, *args):\n",
    "        raise NotImplementedError\n",
    "\n",
    "    def forward(self, X, state):\n",
    "        raise NotImplementedError"
   ]
  },
  {
   "cell_type": "markdown",
   "id": "887df9f7",
   "metadata": {
    "slideshow": {
     "slide_type": "slide"
    }
   },
   "source": [
    "Putting the Encoder and Decoder Together"
   ]
  },
  {
   "cell_type": "code",
   "execution_count": 3,
   "id": "8397f495",
   "metadata": {
    "execution": {
     "iopub.execute_input": "2022-07-13T08:17:53.743936Z",
     "iopub.status.busy": "2022-07-13T08:17:53.743380Z",
     "iopub.status.idle": "2022-07-13T08:17:53.748616Z",
     "shell.execute_reply": "2022-07-13T08:17:53.747818Z"
    },
    "origin_pos": 10,
    "tab": [
     "pytorch"
    ]
   },
   "outputs": [],
   "source": [
    "class EncoderDecoder(d2l.Classifier):\n",
    "    \"\"\"The base class for the encoder-decoder architecture.\"\"\"\n",
    "    def __init__(self, encoder, decoder):\n",
    "        super().__init__()\n",
    "        self.encoder = encoder\n",
    "        self.decoder = decoder\n",
    "\n",
    "    def forward(self, enc_X, dec_X, *args):\n",
    "        enc_outputs = self.encoder(enc_X, *args)\n",
    "        dec_state = self.decoder.init_state(enc_outputs, *args)\n",
    "        return self.decoder(dec_X, dec_state)[0]"
   ]
  }
 ],
 "metadata": {
  "celltoolbar": "Slideshow",
  "language_info": {
   "name": "python"
  },
  "rise": {
   "autolaunch": true,
   "enable_chalkboard": true,
   "overlay": "<div class='my-top-right'><img height=80px src='http://d2l.ai/_static/logo-with-text.png'/></div><div class='my-top-left'></div>",
   "scroll": true
  }
 },
 "nbformat": 4,
 "nbformat_minor": 5
}