{
 "cells": [
  {
   "cell_type": "markdown",
   "id": "a1594003",
   "metadata": {
    "slideshow": {
     "slide_type": "-"
    }
   },
   "source": [
    "# Encoder-Decoder Architecture\n",
    "\n",
    "Encoder"
   ]
  },
  {
   "cell_type": "code",
   "execution_count": 1,
   "id": "4958f939",
   "metadata": {
    "execution": {
     "iopub.execute_input": "2022-12-14T05:28:41.566047Z",
     "iopub.status.busy": "2022-12-14T05:28:41.565765Z",
     "iopub.status.idle": "2022-12-14T05:28:44.021398Z",
     "shell.execute_reply": "2022-12-14T05:28:44.020241Z"
    },
    "origin_pos": 3,
    "tab": [
     "pytorch"
    ]
   },
   "outputs": [],
   "source": [
    "from torch import nn\n",
    "from d2l import torch as d2l\n",
    "\n",
    "\n",
    "class Encoder(nn.Module):  \n",
    "    \"\"\"The base encoder interface for the encoder-decoder architecture.\"\"\"\n",
    "    def __init__(self):\n",
    "        super().__init__()\n",
    "\n",
    "    def forward(self, X, *args):\n",
    "        raise NotImplementedError"
   ]
  },
  {
   "cell_type": "markdown",
   "id": "7139bee0",
   "metadata": {
    "slideshow": {
     "slide_type": "slide"
    }
   },
   "source": [
    "Decoder"
   ]
  },
  {
   "cell_type": "code",
   "execution_count": 2,
   "id": "aff7d785",
   "metadata": {
    "execution": {
     "iopub.execute_input": "2022-12-14T05:28:44.025564Z",
     "iopub.status.busy": "2022-12-14T05:28:44.024978Z",
     "iopub.status.idle": "2022-12-14T05:28:44.030932Z",
     "shell.execute_reply": "2022-12-14T05:28:44.029838Z"
    },
    "origin_pos": 8,
    "tab": [
     "pytorch"
    ]
   },
   "outputs": [],
   "source": [
    "class Decoder(nn.Module):  \n",
    "    \"\"\"The base decoder interface for the encoder-decoder architecture.\"\"\"\n",
    "    def __init__(self):\n",
    "        super().__init__()\n",
    "\n",
    "    def init_state(self, enc_all_outputs, *args):\n",
    "        raise NotImplementedError\n",
    "\n",
    "    def forward(self, X, state):\n",
    "        raise NotImplementedError"
   ]
  },
  {
   "cell_type": "markdown",
   "id": "be97bad4",
   "metadata": {
    "slideshow": {
     "slide_type": "slide"
    }
   },
   "source": [
    "Putting the Encoder and Decoder Together"
   ]
  },
  {
   "cell_type": "code",
   "execution_count": 3,
   "id": "67dd0c75",
   "metadata": {
    "execution": {
     "iopub.execute_input": "2022-12-14T05:28:44.034062Z",
     "iopub.status.busy": "2022-12-14T05:28:44.033574Z",
     "iopub.status.idle": "2022-12-14T05:28:44.039675Z",
     "shell.execute_reply": "2022-12-14T05:28:44.038547Z"
    },
    "origin_pos": 12,
    "tab": [
     "pytorch"
    ]
   },
   "outputs": [],
   "source": [
    "class EncoderDecoder(d2l.Classifier):  \n",
    "    \"\"\"The base class for the encoder-decoder architecture.\"\"\"\n",
    "    def __init__(self, encoder, decoder):\n",
    "        super().__init__()\n",
    "        self.encoder = encoder\n",
    "        self.decoder = decoder\n",
    "\n",
    "    def forward(self, enc_X, dec_X, *args):\n",
    "        enc_all_outputs = self.encoder(enc_X, *args)\n",
    "        dec_state = self.decoder.init_state(enc_all_outputs, *args)\n",
    "        return self.decoder(dec_X, dec_state)[0]"
   ]
  }
 ],
 "metadata": {
  "celltoolbar": "Slideshow",
  "language_info": {
   "name": "python"
  },
  "rise": {
   "autolaunch": true,
   "enable_chalkboard": true,
   "overlay": "<div class='my-top-right'><img height=80px src='http://d2l.ai/_static/logo-with-text.png'/></div><div class='my-top-left'></div>",
   "scroll": true
  }
 },
 "nbformat": 4,
 "nbformat_minor": 5
}