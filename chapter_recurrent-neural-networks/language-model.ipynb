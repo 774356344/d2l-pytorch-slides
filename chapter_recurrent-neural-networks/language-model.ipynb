{
 "cells": [
  {
   "cell_type": "markdown",
   "id": "3cb517d1",
   "metadata": {
    "slideshow": {
     "slide_type": "-"
    }
   },
   "source": [
    "# Language Models\n",
    "\n"
   ]
  },
  {
   "cell_type": "code",
   "execution_count": 1,
   "id": "11a165fa",
   "metadata": {
    "attributes": {
     "classes": [],
     "id": "",
     "n": "3"
    },
    "execution": {
     "iopub.execute_input": "2022-12-14T05:42:39.949109Z",
     "iopub.status.busy": "2022-12-14T05:42:39.948819Z",
     "iopub.status.idle": "2022-12-14T05:42:42.328766Z",
     "shell.execute_reply": "2022-12-14T05:42:42.327918Z"
    },
    "origin_pos": 3,
    "tab": [
     "pytorch"
    ]
   },
   "outputs": [],
   "source": [
    "import torch\n",
    "from d2l import torch as d2l"
   ]
  },
  {
   "cell_type": "markdown",
   "id": "5df2737b",
   "metadata": {
    "slideshow": {
     "slide_type": "slide"
    }
   },
   "source": [
    "Read minibatches of input sequences and target sequences at random"
   ]
  },
  {
   "cell_type": "code",
   "execution_count": 4,
   "id": "21d52aa2",
   "metadata": {
    "attributes": {
     "classes": [],
     "id": "",
     "n": "7"
    },
    "execution": {
     "iopub.execute_input": "2022-12-14T05:42:42.348531Z",
     "iopub.status.busy": "2022-12-14T05:42:42.348098Z",
     "iopub.status.idle": "2022-12-14T05:42:42.792228Z",
     "shell.execute_reply": "2022-12-14T05:42:42.791408Z"
    },
    "origin_pos": 11,
    "tab": [
     "pytorch"
    ]
   },
   "outputs": [
    {
     "name": "stdout",
     "output_type": "stream",
     "text": [
      "X: tensor([[21,  9,  6,  0,  3,  2, 21, 21, 13,  6],\n",
      "        [15,  0, 10, 15,  0,  2,  0,  3,  2, 13]]) \n",
      "Y: tensor([[ 9,  6,  0,  3,  2, 21, 21, 13,  6,  0],\n",
      "        [ 0, 10, 15,  0,  2,  0,  3,  2, 13, 13]])\n"
     ]
    }
   ],
   "source": [
    "@d2l.add_to_class(d2l.TimeMachine)  \n",
    "def __init__(self, batch_size, num_steps, num_train=10000, num_val=5000):\n",
    "    super(d2l.TimeMachine, self).__init__()\n",
    "    self.save_hyperparameters()\n",
    "    corpus, self.vocab = self.build(self._download())\n",
    "    array = torch.tensor([corpus[i:i+num_steps+1]\n",
    "                        for i in range(len(corpus)-num_steps)])\n",
    "    self.X, self.Y = array[:,:-1], array[:,1:]\n",
    "\n",
    "@d2l.add_to_class(d2l.TimeMachine)  \n",
    "def get_dataloader(self, train):\n",
    "    idx = slice(0, self.num_train) if train else slice(\n",
    "        self.num_train, self.num_train + self.num_val)\n",
    "    return self.get_tensorloader([self.X, self.Y], train, idx)\n",
    "\n",
    "data = d2l.TimeMachine(batch_size=2, num_steps=10)\n",
    "for X, Y in data.train_dataloader():\n",
    "    print('X:', X, '\\nY:', Y)\n",
    "    break"
   ]
  }
 ],
 "metadata": {
  "celltoolbar": "Slideshow",
  "language_info": {
   "name": "python"
  },
  "rise": {
   "autolaunch": true,
   "enable_chalkboard": true,
   "overlay": "<div class='my-top-right'><img height=80px src='http://d2l.ai/_static/logo-with-text.png'/></div><div class='my-top-left'></div>",
   "scroll": true
  }
 },
 "nbformat": 4,
 "nbformat_minor": 5
}