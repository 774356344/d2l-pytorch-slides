{
 "cells": [
  {
   "cell_type": "markdown",
   "metadata": {
    "slideshow": {
     "slide_type": "-"
    }
   },
   "source": [
    "# Sequence Models\n",
    "\n"
   ]
  },
  {
   "cell_type": "code",
   "execution_count": 8,
   "metadata": {
    "attributes": {
     "classes": [],
     "id": "",
     "n": "8"
    },
    "origin_pos": 3,
    "tab": [
     "pytorch"
    ]
   },
   "outputs": [],
   "source": [
    "%matplotlib inline\n",
    "import torch\n",
    "from torch import nn\n",
    "from d2l import torch as d2l"
   ]
  },
  {
   "cell_type": "markdown",
   "metadata": {
    "slideshow": {
     "slide_type": "-"
    }
   },
   "source": [
    "Generate our sequence data by using a sine function with some additive noise for time steps $1, 2, \\ldots, 1000$"
   ]
  },
  {
   "cell_type": "code",
   "execution_count": 10,
   "metadata": {
    "attributes": {
     "classes": [],
     "id": "",
     "n": "10"
    },
    "origin_pos": 6,
    "tab": [
     "pytorch"
    ]
   },
   "outputs": [],
   "source": [
    "class Data(d2l.DataModule):\n",
    "    def __init__(self, batch_size=16, T=1000, num_train=600, tau=4):\n",
    "        self.save_hyperparameters()\n",
    "        self.time = torch.arange(1, T + 1, dtype=torch.float32)\n",
    "        self.x = torch.sin(0.01 * self.time) + torch.randn(T) * 0.2\n",
    "data = Data()\n",
    "d2l.plot(data.time, data.x, 'time', 'x', xlim=[1, 1000], figsize=(6, 3))"
   ]
  },
  {
   "cell_type": "markdown",
   "metadata": {
    "slideshow": {
     "slide_type": "slide"
    }
   },
   "source": [
    "Construct examples with labels $y_t = x_t$ and features $\\mathbf{x}_t = [x_{t-\\tau}, \\ldots, x_{t-1}]$.\n",
    "Create a data iterator on the first 600 examples"
   ]
  },
  {
   "cell_type": "code",
   "execution_count": null,
   "metadata": {
    "origin_pos": 10,
    "tab": [
     "pytorch"
    ]
   },
   "outputs": [],
   "source": [
    "@d2l.add_to_class(Data)\n",
    "def get_dataloader(self, train):\n",
    "    features = [self.x[i : self.T-self.tau+i] for i in range(self.tau)]\n",
    "    self.features = torch.stack(features, 1)\n",
    "    self.labels = self.x[self.tau:].reshape((-1, 1))\n",
    "    i = slice(0, self.num_train) if train else slice(self.num_train, None)\n",
    "    return self.get_tensorloader([self.features, self.labels], train, i)\n",
    "\n",
    "model = d2l.LinearRegression(data.tau, lr=0.01)\n",
    "trainer = d2l.Trainer(max_epochs=5)\n",
    "trainer.fit(model, data)"
   ]
  },
  {
   "cell_type": "markdown",
   "metadata": {
    "slideshow": {
     "slide_type": "slide"
    }
   },
   "source": [
    "Predicting what happens just in the next time step"
   ]
  },
  {
   "cell_type": "code",
   "execution_count": null,
   "metadata": {
    "origin_pos": 16,
    "tab": [
     "pytorch"
    ]
   },
   "outputs": [],
   "source": [
    "onestep_preds = model(data.features).detach().numpy()\n",
    "d2l.plot(data.time[data.tau:], [data.labels, onestep_preds], 'time', 'x',\n",
    "         legend=['labels', '1-step preds'], figsize=(6, 3))\n",
    "\n",
    "multistep_preds = torch.zeros(data.T)\n",
    "multistep_preds[:] = data.x\n",
    "for i in range(data.num_train + data.tau, data.T):\n",
    "    multistep_preds[i] = model(\n",
    "        multistep_preds[i - data.tau:i].reshape((1, -1)))\n",
    "multistep_preds = multistep_preds.detach().numpy()\n",
    "\n",
    "d2l.plot([data.time[data.tau:], data.time[data.num_train+data.tau:]],\n",
    "         [onestep_preds, multistep_preds[data.num_train+data.tau:]], 'time',\n",
    "         'x', legend=['1-step preds', 'multistep preds'], figsize=(6, 3))"
   ]
  },
  {
   "cell_type": "markdown",
   "metadata": {
    "slideshow": {
     "slide_type": "slide"
    }
   },
   "source": [
    "Take a closer look at the difficulties in $k$-step-ahead predictions"
   ]
  },
  {
   "cell_type": "code",
   "execution_count": null,
   "metadata": {
    "origin_pos": 19,
    "tab": [
     "pytorch"
    ]
   },
   "outputs": [],
   "source": [
    "def k_step_pred(k):\n",
    "    features = []\n",
    "    for i in range(data.tau):\n",
    "        features.append(data.x[i : i+data.T-data.tau-k+1])\n",
    "    for i in range(k):\n",
    "        preds = model(torch.stack(features[i : i+data.tau], 1))\n",
    "        features.append(preds.reshape(-1))\n",
    "    return features[data.tau:]\n",
    "\n",
    "steps = (1, 4, 16, 64)\n",
    "preds = k_step_pred(steps[-1])\n",
    "d2l.plot(data.time[data.tau+steps[-1]-1:],\n",
    "         [preds[k - 1].detach().numpy() for k in steps], 'time', 'x',\n",
    "         legend=[f'{k}-step preds' for k in steps], figsize=(6, 3))"
   ]
  }
 ],
 "metadata": {
  "celltoolbar": "Slideshow",
  "language_info": {
   "name": "python"
  },
  "rise": {
   "autolaunch": true,
   "enable_chalkboard": true,
   "overlay": "<div class='my-top-right'><img height=80px src='http://d2l.ai/_static/logo-with-text.png'/></div><div class='my-top-left'></div>",
   "scroll": true
  }
 },
 "nbformat": 4,
 "nbformat_minor": 4
}