{
 "cells": [
  {
   "cell_type": "markdown",
   "id": "d92960fc",
   "metadata": {
    "slideshow": {
     "slide_type": "-"
    }
   },
   "source": [
    "# Data Preprocessing\n",
    "\n",
    "Create a CSV file below"
   ]
  },
  {
   "cell_type": "code",
   "execution_count": 2,
   "id": "fc826189",
   "metadata": {
    "execution": {
     "iopub.execute_input": "2022-12-14T04:44:57.282385Z",
     "iopub.status.busy": "2022-12-14T04:44:57.282132Z",
     "iopub.status.idle": "2022-12-14T04:44:57.642143Z",
     "shell.execute_reply": "2022-12-14T04:44:57.641370Z"
    },
    "origin_pos": 4,
    "tab": [
     "pytorch"
    ]
   },
   "outputs": [
    {
     "name": "stdout",
     "output_type": "stream",
     "text": [
      "   NumRooms RoofType   Price\n",
      "0       NaN      NaN  127500\n",
      "1       2.0      NaN  106000\n",
      "2       4.0    Slate  178100\n",
      "3       NaN      NaN  140000\n"
     ]
    }
   ],
   "source": [
    "import os\n",
    "\n",
    "os.makedirs(os.path.join('..', 'data'), exist_ok=True)\n",
    "data_file = os.path.join('..', 'data', 'house_tiny.csv')\n",
    "with open(data_file, 'w') as f:\n",
    "    f.write('''NumRooms,RoofType,Price\n",
    "NA,NA,127500\n",
    "2,NA,106000\n",
    "4,Slate,178100\n",
    "NA,NA,140000''')\n",
    "\n",
    "import pandas as pd\n",
    "\n",
    "data = pd.read_csv(data_file)\n",
    "print(data)"
   ]
  },
  {
   "cell_type": "markdown",
   "id": "1bd10554",
   "metadata": {
    "slideshow": {
     "slide_type": "slide"
    }
   },
   "source": [
    "For categorical input fields, \n",
    "we can treat `NaN` as a category"
   ]
  },
  {
   "cell_type": "code",
   "execution_count": 3,
   "id": "51da1816",
   "metadata": {
    "execution": {
     "iopub.execute_input": "2022-12-14T04:44:57.645393Z",
     "iopub.status.busy": "2022-12-14T04:44:57.645122Z",
     "iopub.status.idle": "2022-12-14T04:44:57.654329Z",
     "shell.execute_reply": "2022-12-14T04:44:57.653320Z"
    },
    "origin_pos": 6,
    "tab": [
     "pytorch"
    ]
   },
   "outputs": [
    {
     "name": "stdout",
     "output_type": "stream",
     "text": [
      "   NumRooms  RoofType_Slate  RoofType_nan\n",
      "0       NaN               0             1\n",
      "1       2.0               0             1\n",
      "2       4.0               1             0\n",
      "3       NaN               0             1\n"
     ]
    }
   ],
   "source": [
    "inputs, targets = data.iloc[:, 0:2], data.iloc[:, 2]\n",
    "inputs = pd.get_dummies(inputs, dummy_na=True)\n",
    "print(inputs)"
   ]
  },
  {
   "cell_type": "markdown",
   "id": "40ac830e",
   "metadata": {
    "slideshow": {
     "slide_type": "slide"
    }
   },
   "source": [
    "Replace the `NaN` entries with \n",
    "the mean value of the corresponding column"
   ]
  },
  {
   "cell_type": "code",
   "execution_count": 4,
   "id": "86c7ca70",
   "metadata": {
    "execution": {
     "iopub.execute_input": "2022-12-14T04:44:57.657474Z",
     "iopub.status.busy": "2022-12-14T04:44:57.657196Z",
     "iopub.status.idle": "2022-12-14T04:44:57.666017Z",
     "shell.execute_reply": "2022-12-14T04:44:57.665271Z"
    },
    "origin_pos": 8,
    "tab": [
     "pytorch"
    ]
   },
   "outputs": [
    {
     "name": "stdout",
     "output_type": "stream",
     "text": [
      "   NumRooms  RoofType_Slate  RoofType_nan\n",
      "0       3.0               0             1\n",
      "1       2.0               0             1\n",
      "2       4.0               1             0\n",
      "3       3.0               0             1\n"
     ]
    }
   ],
   "source": [
    "inputs = inputs.fillna(inputs.mean())\n",
    "print(inputs)"
   ]
  },
  {
   "cell_type": "markdown",
   "id": "edecf754",
   "metadata": {
    "slideshow": {
     "slide_type": "slide"
    }
   },
   "source": [
    "All the entries in `inputs` and `targets` are numerical,\n",
    "we can load them into a tensor"
   ]
  },
  {
   "cell_type": "code",
   "execution_count": 5,
   "id": "2d3b3e1e",
   "metadata": {
    "execution": {
     "iopub.execute_input": "2022-12-14T04:44:57.669048Z",
     "iopub.status.busy": "2022-12-14T04:44:57.668773Z",
     "iopub.status.idle": "2022-12-14T04:44:58.787301Z",
     "shell.execute_reply": "2022-12-14T04:44:58.786420Z"
    },
    "origin_pos": 11,
    "tab": [
     "pytorch"
    ]
   },
   "outputs": [
    {
     "data": {
      "text/plain": [
       "(tensor([[3., 0., 1.],\n",
       "         [2., 0., 1.],\n",
       "         [4., 1., 0.],\n",
       "         [3., 0., 1.]], dtype=torch.float64),\n",
       " tensor([127500, 106000, 178100, 140000]))"
      ]
     },
     "execution_count": 5,
     "metadata": {},
     "output_type": "execute_result"
    }
   ],
   "source": [
    "import torch\n",
    "\n",
    "X, y = torch.tensor(inputs.values), torch.tensor(targets.values)\n",
    "X, y"
   ]
  }
 ],
 "metadata": {
  "celltoolbar": "Slideshow",
  "language_info": {
   "name": "python"
  },
  "rise": {
   "autolaunch": true,
   "enable_chalkboard": true,
   "overlay": "<div class='my-top-right'><img height=80px src='http://d2l.ai/_static/logo-with-text.png'/></div><div class='my-top-left'></div>",
   "scroll": true
  }
 },
 "nbformat": 4,
 "nbformat_minor": 5
}