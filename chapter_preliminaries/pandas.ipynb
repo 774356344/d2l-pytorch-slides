{
 "cells": [
  {
   "cell_type": "markdown",
   "id": "67847fe1",
   "metadata": {
    "slideshow": {
     "slide_type": "-"
    }
   },
   "source": [
    "# Data Preprocessing\n",
    "\n",
    "Create a CSV file below"
   ]
  },
  {
   "cell_type": "code",
   "execution_count": 2,
   "id": "2096824d",
   "metadata": {
    "execution": {
     "iopub.execute_input": "2022-08-29T22:11:04.972289Z",
     "iopub.status.busy": "2022-08-29T22:11:04.972019Z",
     "iopub.status.idle": "2022-08-29T22:11:05.334955Z",
     "shell.execute_reply": "2022-08-29T22:11:05.334054Z"
    },
    "origin_pos": 4,
    "tab": [
     "pytorch"
    ]
   },
   "outputs": [
    {
     "name": "stdout",
     "output_type": "stream",
     "text": [
      "   NumRooms RoofType   Price\n",
      "0       NaN      NaN  127500\n",
      "1       2.0      NaN  106000\n",
      "2       4.0    Slate  178100\n",
      "3       NaN      NaN  140000\n"
     ]
    }
   ],
   "source": [
    "import os\n",
    "\n",
    "os.makedirs(os.path.join('..', 'data'), exist_ok=True)\n",
    "data_file = os.path.join('..', 'data', 'house_tiny.csv')\n",
    "with open(data_file, 'w') as f:\n",
    "    f.write('''NumRooms,RoofType,Price\n",
    "NA,NA,127500\n",
    "2,NA,106000\n",
    "4,Slate,178100\n",
    "NA,NA,140000''')\n",
    "\n",
    "import pandas as pd\n",
    "\n",
    "data = pd.read_csv(data_file)\n",
    "print(data)"
   ]
  },
  {
   "cell_type": "markdown",
   "id": "862145ce",
   "metadata": {
    "slideshow": {
     "slide_type": "slide"
    }
   },
   "source": [
    "For categorical input fields, \n",
    "we can treat `NaN` as a category"
   ]
  },
  {
   "cell_type": "code",
   "execution_count": 3,
   "id": "57492823",
   "metadata": {
    "execution": {
     "iopub.execute_input": "2022-08-29T22:11:05.338740Z",
     "iopub.status.busy": "2022-08-29T22:11:05.338249Z",
     "iopub.status.idle": "2022-08-29T22:11:05.347111Z",
     "shell.execute_reply": "2022-08-29T22:11:05.346267Z"
    },
    "origin_pos": 6,
    "tab": [
     "pytorch"
    ]
   },
   "outputs": [
    {
     "name": "stdout",
     "output_type": "stream",
     "text": [
      "   NumRooms  RoofType_Slate  RoofType_nan\n",
      "0       NaN               0             1\n",
      "1       2.0               0             1\n",
      "2       4.0               1             0\n",
      "3       NaN               0             1\n"
     ]
    }
   ],
   "source": [
    "inputs, targets = data.iloc[:, 0:2], data.iloc[:, 2]\n",
    "inputs = pd.get_dummies(inputs, dummy_na=True)\n",
    "print(inputs)"
   ]
  },
  {
   "cell_type": "markdown",
   "id": "6f726243",
   "metadata": {
    "slideshow": {
     "slide_type": "slide"
    }
   },
   "source": [
    "Replace the `NaN` entries with \n",
    "the mean value of the corresponding column"
   ]
  },
  {
   "cell_type": "code",
   "execution_count": 4,
   "id": "9525b0ab",
   "metadata": {
    "execution": {
     "iopub.execute_input": "2022-08-29T22:11:05.350494Z",
     "iopub.status.busy": "2022-08-29T22:11:05.350079Z",
     "iopub.status.idle": "2022-08-29T22:11:05.358601Z",
     "shell.execute_reply": "2022-08-29T22:11:05.357795Z"
    },
    "origin_pos": 8,
    "tab": [
     "pytorch"
    ]
   },
   "outputs": [
    {
     "name": "stdout",
     "output_type": "stream",
     "text": [
      "   NumRooms  RoofType_Slate  RoofType_nan\n",
      "0       3.0               0             1\n",
      "1       2.0               0             1\n",
      "2       4.0               1             0\n",
      "3       3.0               0             1\n"
     ]
    }
   ],
   "source": [
    "inputs = inputs.fillna(inputs.mean())\n",
    "print(inputs)"
   ]
  },
  {
   "cell_type": "markdown",
   "id": "16a8f194",
   "metadata": {
    "slideshow": {
     "slide_type": "slide"
    }
   },
   "source": [
    "All the entries in `inputs` and `targets` are numerical,\n",
    "we can load them into a tensor"
   ]
  },
  {
   "cell_type": "code",
   "execution_count": 5,
   "id": "e11bbb6d",
   "metadata": {
    "execution": {
     "iopub.execute_input": "2022-08-29T22:11:05.362699Z",
     "iopub.status.busy": "2022-08-29T22:11:05.362254Z",
     "iopub.status.idle": "2022-08-29T22:11:06.131551Z",
     "shell.execute_reply": "2022-08-29T22:11:06.130727Z"
    },
    "origin_pos": 11,
    "tab": [
     "pytorch"
    ]
   },
   "outputs": [
    {
     "data": {
      "text/plain": [
       "(tensor([[3., 0., 1.],\n",
       "         [2., 0., 1.],\n",
       "         [4., 1., 0.],\n",
       "         [3., 0., 1.]], dtype=torch.float64),\n",
       " tensor([127500, 106000, 178100, 140000]))"
      ]
     },
     "execution_count": 5,
     "metadata": {},
     "output_type": "execute_result"
    }
   ],
   "source": [
    "import torch\n",
    "\n",
    "X, y = torch.tensor(inputs.values), torch.tensor(targets.values)\n",
    "X, y"
   ]
  }
 ],
 "metadata": {
  "celltoolbar": "Slideshow",
  "language_info": {
   "name": "python"
  },
  "rise": {
   "autolaunch": true,
   "enable_chalkboard": true,
   "overlay": "<div class='my-top-right'><img height=80px src='http://d2l.ai/_static/logo-with-text.png'/></div><div class='my-top-left'></div>",
   "scroll": true
  }
 },
 "nbformat": 4,
 "nbformat_minor": 5
}