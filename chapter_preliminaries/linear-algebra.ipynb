{
 "cells": [
  {
   "cell_type": "markdown",
   "id": "cb5978bd",
   "metadata": {
    "slideshow": {
     "slide_type": "-"
    }
   },
   "source": [
    "# Linear Algebra\n",
    "\n",
    "Scalars are implemented as tensors \n",
    "that contain only one element"
   ]
  },
  {
   "cell_type": "code",
   "execution_count": 1,
   "id": "b991d25e",
   "metadata": {
    "execution": {
     "iopub.execute_input": "2022-08-29T22:13:02.042136Z",
     "iopub.status.busy": "2022-08-29T22:13:02.041548Z",
     "iopub.status.idle": "2022-08-29T22:13:02.880268Z",
     "shell.execute_reply": "2022-08-29T22:13:02.879434Z"
    },
    "origin_pos": 3,
    "tab": [
     "pytorch"
    ]
   },
   "outputs": [
    {
     "data": {
      "text/plain": [
       "(tensor(5.), tensor(6.), tensor(1.5000), tensor(9.))"
      ]
     },
     "execution_count": 1,
     "metadata": {},
     "output_type": "execute_result"
    }
   ],
   "source": [
    "import torch\n",
    "\n",
    "x = torch.tensor(3.0)\n",
    "y = torch.tensor(2.0)\n",
    "\n",
    "x + y, x * y, x / y, x**y"
   ]
  },
  {
   "cell_type": "markdown",
   "id": "0afe9ea0",
   "metadata": {
    "slideshow": {
     "slide_type": "slide"
    }
   },
   "source": [
    "You can think of vectors\n",
    "as fixed-length arrays of scalars"
   ]
  },
  {
   "cell_type": "code",
   "execution_count": 2,
   "id": "79b31cf2",
   "metadata": {
    "execution": {
     "iopub.execute_input": "2022-08-29T22:13:02.886403Z",
     "iopub.status.busy": "2022-08-29T22:13:02.885598Z",
     "iopub.status.idle": "2022-08-29T22:13:02.891702Z",
     "shell.execute_reply": "2022-08-29T22:13:02.890904Z"
    },
    "origin_pos": 7,
    "tab": [
     "pytorch"
    ]
   },
   "outputs": [
    {
     "data": {
      "text/plain": [
       "tensor([0, 1, 2])"
      ]
     },
     "execution_count": 2,
     "metadata": {},
     "output_type": "execute_result"
    }
   ],
   "source": [
    "x = torch.arange(3)\n",
    "x"
   ]
  },
  {
   "cell_type": "markdown",
   "id": "7b5919a1",
   "metadata": {
    "slideshow": {
     "slide_type": "slide"
    }
   },
   "source": [
    "We access a tensor's elements via indexing"
   ]
  },
  {
   "cell_type": "code",
   "execution_count": 3,
   "id": "5ba66fc3",
   "metadata": {
    "execution": {
     "iopub.execute_input": "2022-08-29T22:13:02.895555Z",
     "iopub.status.busy": "2022-08-29T22:13:02.895019Z",
     "iopub.status.idle": "2022-08-29T22:13:02.901735Z",
     "shell.execute_reply": "2022-08-29T22:13:02.900915Z"
    },
    "origin_pos": 11,
    "tab": [
     "pytorch"
    ]
   },
   "outputs": [
    {
     "data": {
      "text/plain": [
       "tensor(2)"
      ]
     },
     "execution_count": 3,
     "metadata": {},
     "output_type": "execute_result"
    }
   ],
   "source": [
    "x[2]"
   ]
  },
  {
   "cell_type": "markdown",
   "id": "0073abd1",
   "metadata": {
    "slideshow": {
     "slide_type": "slide"
    }
   },
   "source": [
    "In code, this corresponds to the tensor's length"
   ]
  },
  {
   "cell_type": "code",
   "execution_count": 4,
   "id": "da382104",
   "metadata": {
    "execution": {
     "iopub.execute_input": "2022-08-29T22:13:02.906513Z",
     "iopub.status.busy": "2022-08-29T22:13:02.905967Z",
     "iopub.status.idle": "2022-08-29T22:13:02.911552Z",
     "shell.execute_reply": "2022-08-29T22:13:02.910377Z"
    },
    "origin_pos": 15,
    "tab": [
     "pytorch"
    ]
   },
   "outputs": [
    {
     "data": {
      "text/plain": [
       "3"
      ]
     },
     "execution_count": 4,
     "metadata": {},
     "output_type": "execute_result"
    }
   ],
   "source": [
    "len(x)"
   ]
  },
  {
   "cell_type": "markdown",
   "id": "701bb725",
   "metadata": {
    "slideshow": {
     "slide_type": "-"
    }
   },
   "source": [
    "Tensors with just one axis have shapes with just one element"
   ]
  },
  {
   "cell_type": "code",
   "execution_count": 5,
   "id": "7470be51",
   "metadata": {
    "execution": {
     "iopub.execute_input": "2022-08-29T22:13:02.915109Z",
     "iopub.status.busy": "2022-08-29T22:13:02.914542Z",
     "iopub.status.idle": "2022-08-29T22:13:02.919586Z",
     "shell.execute_reply": "2022-08-29T22:13:02.918805Z"
    },
    "origin_pos": 19,
    "tab": [
     "pytorch"
    ]
   },
   "outputs": [
    {
     "data": {
      "text/plain": [
       "torch.Size([3])"
      ]
     },
     "execution_count": 5,
     "metadata": {},
     "output_type": "execute_result"
    }
   ],
   "source": [
    "x.shape"
   ]
  },
  {
   "cell_type": "markdown",
   "id": "59b358bb",
   "metadata": {
    "slideshow": {
     "slide_type": "slide"
    }
   },
   "source": [
    "We can convert any appropriately sized $m \\times n$ tensor \n",
    "into an $m \\times n$ matrix"
   ]
  },
  {
   "cell_type": "code",
   "execution_count": 6,
   "id": "2c0ae22f",
   "metadata": {
    "execution": {
     "iopub.execute_input": "2022-08-29T22:13:02.924152Z",
     "iopub.status.busy": "2022-08-29T22:13:02.923615Z",
     "iopub.status.idle": "2022-08-29T22:13:02.929342Z",
     "shell.execute_reply": "2022-08-29T22:13:02.928531Z"
    },
    "origin_pos": 23,
    "tab": [
     "pytorch"
    ]
   },
   "outputs": [
    {
     "data": {
      "text/plain": [
       "tensor([[0, 1],\n",
       "        [2, 3],\n",
       "        [4, 5]])"
      ]
     },
     "execution_count": 6,
     "metadata": {},
     "output_type": "execute_result"
    }
   ],
   "source": [
    "A = torch.arange(6).reshape(3, 2)\n",
    "A"
   ]
  },
  {
   "cell_type": "markdown",
   "id": "52dc36c7",
   "metadata": {
    "slideshow": {
     "slide_type": "-"
    }
   },
   "source": [
    "Matrix's transpose"
   ]
  },
  {
   "cell_type": "code",
   "execution_count": 7,
   "id": "021854d4",
   "metadata": {
    "execution": {
     "iopub.execute_input": "2022-08-29T22:13:02.933729Z",
     "iopub.status.busy": "2022-08-29T22:13:02.933176Z",
     "iopub.status.idle": "2022-08-29T22:13:02.938514Z",
     "shell.execute_reply": "2022-08-29T22:13:02.937755Z"
    },
    "origin_pos": 27,
    "tab": [
     "pytorch"
    ]
   },
   "outputs": [
    {
     "data": {
      "text/plain": [
       "tensor([[0, 2, 4],\n",
       "        [1, 3, 5]])"
      ]
     },
     "execution_count": 7,
     "metadata": {},
     "output_type": "execute_result"
    }
   ],
   "source": [
    "A.T"
   ]
  },
  {
   "cell_type": "markdown",
   "id": "89244183",
   "metadata": {
    "slideshow": {
     "slide_type": "slide"
    }
   },
   "source": [
    "Symmetric matrices are the subset of square matrices\n",
    "that are equal to their own transposes:\n",
    "$\\mathbf{A} = \\mathbf{A}^\\top$"
   ]
  },
  {
   "cell_type": "code",
   "execution_count": 8,
   "id": "de2c9f1d",
   "metadata": {
    "execution": {
     "iopub.execute_input": "2022-08-29T22:13:02.942029Z",
     "iopub.status.busy": "2022-08-29T22:13:02.941478Z",
     "iopub.status.idle": "2022-08-29T22:13:02.948104Z",
     "shell.execute_reply": "2022-08-29T22:13:02.947320Z"
    },
    "origin_pos": 31,
    "tab": [
     "pytorch"
    ]
   },
   "outputs": [
    {
     "data": {
      "text/plain": [
       "tensor([[True, True, True],\n",
       "        [True, True, True],\n",
       "        [True, True, True]])"
      ]
     },
     "execution_count": 8,
     "metadata": {},
     "output_type": "execute_result"
    }
   ],
   "source": [
    "A = torch.tensor([[1, 2, 3], [2, 0, 4], [3, 4, 5]])\n",
    "A == A.T"
   ]
  },
  {
   "cell_type": "markdown",
   "id": "9063fdd0",
   "metadata": {
    "slideshow": {
     "slide_type": "slide"
    }
   },
   "source": [
    "Tensors\n",
    "give us a generic way to describe \n",
    "extensions to $n^{\\mathrm{th}}$-order arrays"
   ]
  },
  {
   "cell_type": "code",
   "execution_count": 9,
   "id": "5dc9bc06",
   "metadata": {
    "execution": {
     "iopub.execute_input": "2022-08-29T22:13:02.951704Z",
     "iopub.status.busy": "2022-08-29T22:13:02.951182Z",
     "iopub.status.idle": "2022-08-29T22:13:02.956914Z",
     "shell.execute_reply": "2022-08-29T22:13:02.956136Z"
    },
    "origin_pos": 35,
    "tab": [
     "pytorch"
    ]
   },
   "outputs": [
    {
     "data": {
      "text/plain": [
       "tensor([[[ 0,  1,  2,  3],\n",
       "         [ 4,  5,  6,  7],\n",
       "         [ 8,  9, 10, 11]],\n",
       "\n",
       "        [[12, 13, 14, 15],\n",
       "         [16, 17, 18, 19],\n",
       "         [20, 21, 22, 23]]])"
      ]
     },
     "execution_count": 9,
     "metadata": {},
     "output_type": "execute_result"
    }
   ],
   "source": [
    "torch.arange(24).reshape(2, 3, 4)"
   ]
  },
  {
   "cell_type": "code",
   "execution_count": 10,
   "id": "254effaf",
   "metadata": {
    "execution": {
     "iopub.execute_input": "2022-08-29T22:13:02.960253Z",
     "iopub.status.busy": "2022-08-29T22:13:02.959981Z",
     "iopub.status.idle": "2022-08-29T22:13:02.966874Z",
     "shell.execute_reply": "2022-08-29T22:13:02.966075Z"
    },
    "origin_pos": 39,
    "tab": [
     "pytorch"
    ]
   },
   "outputs": [
    {
     "data": {
      "text/plain": [
       "(tensor([[0., 1., 2.],\n",
       "         [3., 4., 5.]]),\n",
       " tensor([[ 0.,  2.,  4.],\n",
       "         [ 6.,  8., 10.]]))"
      ]
     },
     "execution_count": 10,
     "metadata": {},
     "output_type": "execute_result"
    }
   ],
   "source": [
    "A = torch.arange(6, dtype=torch.float32).reshape(2, 3)\n",
    "B = A.clone()\n",
    "A, A + B"
   ]
  },
  {
   "cell_type": "markdown",
   "id": "be03697d",
   "metadata": {
    "slideshow": {
     "slide_type": "slide"
    }
   },
   "source": [
    "Elementwise product of two matrices\n",
    "is called their *Hadamard product*"
   ]
  },
  {
   "cell_type": "code",
   "execution_count": 11,
   "id": "68b82858",
   "metadata": {
    "execution": {
     "iopub.execute_input": "2022-08-29T22:13:02.970419Z",
     "iopub.status.busy": "2022-08-29T22:13:02.969855Z",
     "iopub.status.idle": "2022-08-29T22:13:02.975931Z",
     "shell.execute_reply": "2022-08-29T22:13:02.974855Z"
    },
    "origin_pos": 43,
    "tab": [
     "pytorch"
    ]
   },
   "outputs": [
    {
     "data": {
      "text/plain": [
       "tensor([[ 0.,  1.,  4.],\n",
       "        [ 9., 16., 25.]])"
      ]
     },
     "execution_count": 11,
     "metadata": {},
     "output_type": "execute_result"
    }
   ],
   "source": [
    "A * B"
   ]
  },
  {
   "cell_type": "markdown",
   "id": "d6090ccf",
   "metadata": {
    "slideshow": {
     "slide_type": "slide"
    }
   },
   "source": [
    "Adding or multiplying a scalar and a tensor"
   ]
  },
  {
   "cell_type": "code",
   "execution_count": 12,
   "id": "12d3c472",
   "metadata": {
    "execution": {
     "iopub.execute_input": "2022-08-29T22:13:02.979338Z",
     "iopub.status.busy": "2022-08-29T22:13:02.978812Z",
     "iopub.status.idle": "2022-08-29T22:13:02.985013Z",
     "shell.execute_reply": "2022-08-29T22:13:02.984221Z"
    },
    "origin_pos": 47,
    "tab": [
     "pytorch"
    ]
   },
   "outputs": [
    {
     "data": {
      "text/plain": [
       "(tensor([[[ 2,  3,  4,  5],\n",
       "          [ 6,  7,  8,  9],\n",
       "          [10, 11, 12, 13]],\n",
       " \n",
       "         [[14, 15, 16, 17],\n",
       "          [18, 19, 20, 21],\n",
       "          [22, 23, 24, 25]]]),\n",
       " torch.Size([2, 3, 4]))"
      ]
     },
     "execution_count": 12,
     "metadata": {},
     "output_type": "execute_result"
    }
   ],
   "source": [
    "a = 2\n",
    "X = torch.arange(24).reshape(2, 3, 4)\n",
    "a + X, (a * X).shape"
   ]
  },
  {
   "cell_type": "markdown",
   "id": "c03c5308",
   "metadata": {
    "slideshow": {
     "slide_type": "slide"
    }
   },
   "source": [
    "The sum of a tensor's elements"
   ]
  },
  {
   "cell_type": "code",
   "execution_count": 13,
   "id": "70e663fb",
   "metadata": {
    "execution": {
     "iopub.execute_input": "2022-08-29T22:13:02.988553Z",
     "iopub.status.busy": "2022-08-29T22:13:02.988030Z",
     "iopub.status.idle": "2022-08-29T22:13:02.994079Z",
     "shell.execute_reply": "2022-08-29T22:13:02.993293Z"
    },
    "origin_pos": 51,
    "tab": [
     "pytorch"
    ]
   },
   "outputs": [
    {
     "data": {
      "text/plain": [
       "(tensor([0., 1., 2.]), tensor(3.))"
      ]
     },
     "execution_count": 13,
     "metadata": {},
     "output_type": "execute_result"
    }
   ],
   "source": [
    "x = torch.arange(3, dtype=torch.float32)\n",
    "x, x.sum()"
   ]
  },
  {
   "cell_type": "markdown",
   "id": "84aced88",
   "metadata": {
    "slideshow": {
     "slide_type": "slide"
    }
   },
   "source": [
    "Sums over the elements of tensors of arbitrary shape"
   ]
  },
  {
   "cell_type": "code",
   "execution_count": 14,
   "id": "f41da656",
   "metadata": {
    "execution": {
     "iopub.execute_input": "2022-08-29T22:13:02.997608Z",
     "iopub.status.busy": "2022-08-29T22:13:02.997099Z",
     "iopub.status.idle": "2022-08-29T22:13:03.002586Z",
     "shell.execute_reply": "2022-08-29T22:13:03.001809Z"
    },
    "origin_pos": 55,
    "tab": [
     "pytorch"
    ]
   },
   "outputs": [
    {
     "data": {
      "text/plain": [
       "(torch.Size([2, 3]), tensor(15.))"
      ]
     },
     "execution_count": 14,
     "metadata": {},
     "output_type": "execute_result"
    }
   ],
   "source": [
    "A.shape, A.sum()"
   ]
  },
  {
   "cell_type": "markdown",
   "id": "d104bc03",
   "metadata": {
    "slideshow": {
     "slide_type": "slide"
    }
   },
   "source": [
    "Specify the axes \n",
    "along which the tensor should be reduced"
   ]
  },
  {
   "cell_type": "code",
   "execution_count": 15,
   "id": "13616d7b",
   "metadata": {
    "execution": {
     "iopub.execute_input": "2022-08-29T22:13:03.006269Z",
     "iopub.status.busy": "2022-08-29T22:13:03.005756Z",
     "iopub.status.idle": "2022-08-29T22:13:03.011092Z",
     "shell.execute_reply": "2022-08-29T22:13:03.010271Z"
    },
    "origin_pos": 59,
    "tab": [
     "pytorch"
    ]
   },
   "outputs": [
    {
     "data": {
      "text/plain": [
       "(torch.Size([2, 3]), torch.Size([3]))"
      ]
     },
     "execution_count": 15,
     "metadata": {},
     "output_type": "execute_result"
    }
   ],
   "source": [
    "A.shape, A.sum(axis=0).shape"
   ]
  },
  {
   "cell_type": "code",
   "execution_count": 16,
   "id": "5e93d420",
   "metadata": {
    "execution": {
     "iopub.execute_input": "2022-08-29T22:13:03.014795Z",
     "iopub.status.busy": "2022-08-29T22:13:03.014139Z",
     "iopub.status.idle": "2022-08-29T22:13:03.019449Z",
     "shell.execute_reply": "2022-08-29T22:13:03.018620Z"
    },
    "origin_pos": 63,
    "tab": [
     "pytorch"
    ]
   },
   "outputs": [
    {
     "data": {
      "text/plain": [
       "(torch.Size([2, 3]), torch.Size([2]))"
      ]
     },
     "execution_count": 16,
     "metadata": {},
     "output_type": "execute_result"
    }
   ],
   "source": [
    "A.shape, A.sum(axis=1).shape"
   ]
  },
  {
   "cell_type": "code",
   "execution_count": 17,
   "id": "e7cd6876",
   "metadata": {
    "execution": {
     "iopub.execute_input": "2022-08-29T22:13:03.022643Z",
     "iopub.status.busy": "2022-08-29T22:13:03.022371Z",
     "iopub.status.idle": "2022-08-29T22:13:03.027997Z",
     "shell.execute_reply": "2022-08-29T22:13:03.027219Z"
    },
    "origin_pos": 67,
    "tab": [
     "pytorch"
    ]
   },
   "outputs": [
    {
     "data": {
      "text/plain": [
       "tensor(True)"
      ]
     },
     "execution_count": 17,
     "metadata": {},
     "output_type": "execute_result"
    }
   ],
   "source": [
    "A.sum(axis=[0, 1]) == A.sum()"
   ]
  },
  {
   "cell_type": "markdown",
   "id": "5837a459",
   "metadata": {
    "slideshow": {
     "slide_type": "slide"
    }
   },
   "source": [
    "A related quantity is the *mean*, also called the *average*"
   ]
  },
  {
   "cell_type": "code",
   "execution_count": 18,
   "id": "6f405871",
   "metadata": {
    "execution": {
     "iopub.execute_input": "2022-08-29T22:13:03.031491Z",
     "iopub.status.busy": "2022-08-29T22:13:03.030971Z",
     "iopub.status.idle": "2022-08-29T22:13:03.038339Z",
     "shell.execute_reply": "2022-08-29T22:13:03.037211Z"
    },
    "origin_pos": 71,
    "tab": [
     "pytorch"
    ]
   },
   "outputs": [
    {
     "data": {
      "text/plain": [
       "(tensor(2.5000), tensor(2.5000))"
      ]
     },
     "execution_count": 18,
     "metadata": {},
     "output_type": "execute_result"
    }
   ],
   "source": [
    "A.mean(), A.sum() / A.numel()"
   ]
  },
  {
   "cell_type": "code",
   "execution_count": 19,
   "id": "b1d05b8c",
   "metadata": {
    "execution": {
     "iopub.execute_input": "2022-08-29T22:13:03.041928Z",
     "iopub.status.busy": "2022-08-29T22:13:03.041414Z",
     "iopub.status.idle": "2022-08-29T22:13:03.047764Z",
     "shell.execute_reply": "2022-08-29T22:13:03.046986Z"
    },
    "origin_pos": 75,
    "tab": [
     "pytorch"
    ]
   },
   "outputs": [
    {
     "data": {
      "text/plain": [
       "(tensor([1.5000, 2.5000, 3.5000]), tensor([1.5000, 2.5000, 3.5000]))"
      ]
     },
     "execution_count": 19,
     "metadata": {},
     "output_type": "execute_result"
    }
   ],
   "source": [
    "A.mean(axis=0), A.sum(axis=0) / A.shape[0]"
   ]
  },
  {
   "cell_type": "markdown",
   "id": "78204e4e",
   "metadata": {
    "slideshow": {
     "slide_type": "slide"
    }
   },
   "source": [
    "Keep the number of axes unchanged"
   ]
  },
  {
   "cell_type": "code",
   "execution_count": 20,
   "id": "ff4c5dbc",
   "metadata": {
    "execution": {
     "iopub.execute_input": "2022-08-29T22:13:03.051348Z",
     "iopub.status.busy": "2022-08-29T22:13:03.050839Z",
     "iopub.status.idle": "2022-08-29T22:13:03.056579Z",
     "shell.execute_reply": "2022-08-29T22:13:03.055816Z"
    },
    "origin_pos": 79,
    "tab": [
     "pytorch"
    ]
   },
   "outputs": [
    {
     "data": {
      "text/plain": [
       "(tensor([[ 3.],\n",
       "         [12.]]),\n",
       " torch.Size([2, 1]))"
      ]
     },
     "execution_count": 20,
     "metadata": {},
     "output_type": "execute_result"
    }
   ],
   "source": [
    "sum_A = A.sum(axis=1, keepdims=True)\n",
    "sum_A, sum_A.shape"
   ]
  },
  {
   "cell_type": "markdown",
   "id": "0e048875",
   "metadata": {
    "slideshow": {
     "slide_type": "-"
    }
   },
   "source": [
    "Divide `A` by `sum_A` with broadcasting"
   ]
  },
  {
   "cell_type": "code",
   "execution_count": 21,
   "id": "78297b84",
   "metadata": {
    "execution": {
     "iopub.execute_input": "2022-08-29T22:13:03.059973Z",
     "iopub.status.busy": "2022-08-29T22:13:03.059471Z",
     "iopub.status.idle": "2022-08-29T22:13:03.065073Z",
     "shell.execute_reply": "2022-08-29T22:13:03.064179Z"
    },
    "origin_pos": 83,
    "tab": [
     "pytorch"
    ]
   },
   "outputs": [
    {
     "data": {
      "text/plain": [
       "tensor([[0.0000, 0.3333, 0.6667],\n",
       "        [0.2500, 0.3333, 0.4167]])"
      ]
     },
     "execution_count": 21,
     "metadata": {},
     "output_type": "execute_result"
    }
   ],
   "source": [
    "A / sum_A"
   ]
  },
  {
   "cell_type": "markdown",
   "id": "741d3544",
   "metadata": {
    "slideshow": {
     "slide_type": "slide"
    }
   },
   "source": [
    "The cumulative sum of elements of `A` along some axis"
   ]
  },
  {
   "cell_type": "code",
   "execution_count": 22,
   "id": "36d30fe1",
   "metadata": {
    "execution": {
     "iopub.execute_input": "2022-08-29T22:13:03.069703Z",
     "iopub.status.busy": "2022-08-29T22:13:03.069197Z",
     "iopub.status.idle": "2022-08-29T22:13:03.074807Z",
     "shell.execute_reply": "2022-08-29T22:13:03.074024Z"
    },
    "origin_pos": 87,
    "tab": [
     "pytorch"
    ]
   },
   "outputs": [
    {
     "data": {
      "text/plain": [
       "tensor([[0., 1., 2.],\n",
       "        [3., 5., 7.]])"
      ]
     },
     "execution_count": 22,
     "metadata": {},
     "output_type": "execute_result"
    }
   ],
   "source": [
    "A.cumsum(axis=0)"
   ]
  },
  {
   "cell_type": "markdown",
   "id": "821bb9c6",
   "metadata": {
    "slideshow": {
     "slide_type": "slide"
    }
   },
   "source": [
    "The *dot product* of two vectors is a sum over the products of the elements at the same position"
   ]
  },
  {
   "cell_type": "code",
   "execution_count": 23,
   "id": "08593400",
   "metadata": {
    "execution": {
     "iopub.execute_input": "2022-08-29T22:13:03.078344Z",
     "iopub.status.busy": "2022-08-29T22:13:03.077727Z",
     "iopub.status.idle": "2022-08-29T22:13:03.084430Z",
     "shell.execute_reply": "2022-08-29T22:13:03.083643Z"
    },
    "origin_pos": 91,
    "tab": [
     "pytorch"
    ]
   },
   "outputs": [
    {
     "data": {
      "text/plain": [
       "(tensor([0., 1., 2.]), tensor([1., 1., 1.]), tensor(3.))"
      ]
     },
     "execution_count": 23,
     "metadata": {},
     "output_type": "execute_result"
    }
   ],
   "source": [
    "y = torch.ones(3, dtype = torch.float32)\n",
    "x, y, torch.dot(x, y)"
   ]
  },
  {
   "cell_type": "markdown",
   "id": "7b725c21",
   "metadata": {
    "slideshow": {
     "slide_type": "-"
    }
   },
   "source": [
    "We can calculate the dot product of two vectors \n",
    "by performing an elementwise multiplication followed by a sum"
   ]
  },
  {
   "cell_type": "code",
   "execution_count": 24,
   "id": "ca5b4986",
   "metadata": {
    "execution": {
     "iopub.execute_input": "2022-08-29T22:13:03.087882Z",
     "iopub.status.busy": "2022-08-29T22:13:03.087329Z",
     "iopub.status.idle": "2022-08-29T22:13:03.092902Z",
     "shell.execute_reply": "2022-08-29T22:13:03.092110Z"
    },
    "origin_pos": 95,
    "tab": [
     "pytorch"
    ]
   },
   "outputs": [
    {
     "data": {
      "text/plain": [
       "tensor(3.)"
      ]
     },
     "execution_count": 24,
     "metadata": {},
     "output_type": "execute_result"
    }
   ],
   "source": [
    "torch.sum(x * y)"
   ]
  },
  {
   "cell_type": "markdown",
   "id": "4dae9a52",
   "metadata": {
    "slideshow": {
     "slide_type": "slide"
    }
   },
   "source": [
    "The matrix-vector product $\\mathbf{A}\\mathbf{x}$\n",
    "is simply a column vector of length $m$,\n",
    "whose $i^\\mathrm{th}$ element is the dot product \n",
    "$\\mathbf{a}^\\top_i \\mathbf{x}$"
   ]
  },
  {
   "cell_type": "code",
   "execution_count": 25,
   "id": "ab3b262c",
   "metadata": {
    "execution": {
     "iopub.execute_input": "2022-08-29T22:13:03.096999Z",
     "iopub.status.busy": "2022-08-29T22:13:03.096186Z",
     "iopub.status.idle": "2022-08-29T22:13:03.102602Z",
     "shell.execute_reply": "2022-08-29T22:13:03.101827Z"
    },
    "origin_pos": 102,
    "tab": [
     "pytorch"
    ]
   },
   "outputs": [
    {
     "data": {
      "text/plain": [
       "(torch.Size([2, 3]), torch.Size([3]), tensor([ 5., 14.]), tensor([ 5., 14.]))"
      ]
     },
     "execution_count": 25,
     "metadata": {},
     "output_type": "execute_result"
    }
   ],
   "source": [
    "A.shape, x.shape, torch.mv(A, x), A@x"
   ]
  },
  {
   "cell_type": "markdown",
   "id": "03829b32",
   "metadata": {
    "slideshow": {
     "slide_type": "slide"
    }
   },
   "source": [
    "We can think of the matrix-matrix multiplication $\\mathbf{AB}$\n",
    "as performing $m$ matrix-vector products \n",
    "or $m \\times n$ dot products \n",
    "and stitching the results together \n",
    "to form an $n \\times m$ matrix"
   ]
  },
  {
   "cell_type": "code",
   "execution_count": 26,
   "id": "7250e2fe",
   "metadata": {
    "execution": {
     "iopub.execute_input": "2022-08-29T22:13:03.106170Z",
     "iopub.status.busy": "2022-08-29T22:13:03.105637Z",
     "iopub.status.idle": "2022-08-29T22:13:03.112050Z",
     "shell.execute_reply": "2022-08-29T22:13:03.111261Z"
    },
    "origin_pos": 106,
    "tab": [
     "pytorch"
    ]
   },
   "outputs": [
    {
     "data": {
      "text/plain": [
       "(tensor([[ 3.,  3.,  3.,  3.],\n",
       "         [12., 12., 12., 12.]]),\n",
       " tensor([[ 3.,  3.,  3.,  3.],\n",
       "         [12., 12., 12., 12.]]))"
      ]
     },
     "execution_count": 26,
     "metadata": {},
     "output_type": "execute_result"
    }
   ],
   "source": [
    "B = torch.ones(3, 4)\n",
    "torch.mm(A, B), A@B"
   ]
  },
  {
   "cell_type": "markdown",
   "id": "ad9413d3",
   "metadata": {
    "slideshow": {
     "slide_type": "slide"
    }
   },
   "source": [
    "The $\\ell_2$ *norm*\n",
    "$$\\|\\mathbf{x}\\|_2 = \\sqrt{\\sum_{i=1}^n x_i^2}$$"
   ]
  },
  {
   "cell_type": "code",
   "execution_count": 27,
   "id": "b878e037",
   "metadata": {
    "execution": {
     "iopub.execute_input": "2022-08-29T22:13:03.116279Z",
     "iopub.status.busy": "2022-08-29T22:13:03.115752Z",
     "iopub.status.idle": "2022-08-29T22:13:03.121646Z",
     "shell.execute_reply": "2022-08-29T22:13:03.120831Z"
    },
    "origin_pos": 110,
    "tab": [
     "pytorch"
    ]
   },
   "outputs": [
    {
     "data": {
      "text/plain": [
       "tensor(5.)"
      ]
     },
     "execution_count": 27,
     "metadata": {},
     "output_type": "execute_result"
    }
   ],
   "source": [
    "u = torch.tensor([3.0, -4.0])\n",
    "torch.norm(u)"
   ]
  },
  {
   "cell_type": "markdown",
   "id": "ee86614f",
   "metadata": {
    "slideshow": {
     "slide_type": "slide"
    }
   },
   "source": [
    "The $\\ell_1$ norm\n",
    "$$\\|\\mathbf{x}\\|_1 = \\sum_{i=1}^n \\left|x_i \\right|$$"
   ]
  },
  {
   "cell_type": "code",
   "execution_count": 28,
   "id": "642c743f",
   "metadata": {
    "execution": {
     "iopub.execute_input": "2022-08-29T22:13:03.125311Z",
     "iopub.status.busy": "2022-08-29T22:13:03.124730Z",
     "iopub.status.idle": "2022-08-29T22:13:03.130616Z",
     "shell.execute_reply": "2022-08-29T22:13:03.129823Z"
    },
    "origin_pos": 114,
    "tab": [
     "pytorch"
    ]
   },
   "outputs": [
    {
     "data": {
      "text/plain": [
       "tensor(7.)"
      ]
     },
     "execution_count": 28,
     "metadata": {},
     "output_type": "execute_result"
    }
   ],
   "source": [
    "torch.abs(u).sum()"
   ]
  },
  {
   "cell_type": "markdown",
   "id": "9a7e1cea",
   "metadata": {
    "slideshow": {
     "slide_type": "slide"
    }
   },
   "source": [
    "The *Frobenius norm*, \n",
    "which is much easier to compute\n",
    "$$\\|\\mathbf{X}\\|_F = \\sqrt{\\sum_{i=1}^m \\sum_{j=1}^n x_{ij}^2}$$"
   ]
  },
  {
   "cell_type": "code",
   "execution_count": 29,
   "id": "9ed6262a",
   "metadata": {
    "execution": {
     "iopub.execute_input": "2022-08-29T22:13:03.133945Z",
     "iopub.status.busy": "2022-08-29T22:13:03.133667Z",
     "iopub.status.idle": "2022-08-29T22:13:03.139795Z",
     "shell.execute_reply": "2022-08-29T22:13:03.138967Z"
    },
    "origin_pos": 118,
    "tab": [
     "pytorch"
    ]
   },
   "outputs": [
    {
     "data": {
      "text/plain": [
       "tensor(6.)"
      ]
     },
     "execution_count": 29,
     "metadata": {},
     "output_type": "execute_result"
    }
   ],
   "source": [
    "torch.norm(torch.ones((4, 9)))"
   ]
  }
 ],
 "metadata": {
  "celltoolbar": "Slideshow",
  "language_info": {
   "name": "python"
  },
  "rise": {
   "autolaunch": true,
   "enable_chalkboard": true,
   "overlay": "<div class='my-top-right'><img height=80px src='http://d2l.ai/_static/logo-with-text.png'/></div><div class='my-top-left'></div>",
   "scroll": true
  }
 },
 "nbformat": 4,
 "nbformat_minor": 5
}