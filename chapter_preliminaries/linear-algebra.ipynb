{
 "cells": [
  {
   "cell_type": "markdown",
   "id": "3ce8d606",
   "metadata": {
    "slideshow": {
     "slide_type": "-"
    }
   },
   "source": [
    "# Linear Algebra\n",
    "\n",
    "Scalars are implemented as tensors \n",
    "that contain only one element"
   ]
  },
  {
   "cell_type": "code",
   "execution_count": 1,
   "id": "6eaf8ac1",
   "metadata": {
    "execution": {
     "iopub.execute_input": "2022-07-13T08:12:03.664396Z",
     "iopub.status.busy": "2022-07-13T08:12:03.663912Z",
     "iopub.status.idle": "2022-07-13T08:12:04.625687Z",
     "shell.execute_reply": "2022-07-13T08:12:04.624604Z"
    },
    "origin_pos": 3,
    "tab": [
     "pytorch"
    ]
   },
   "outputs": [
    {
     "data": {
      "text/plain": [
       "(tensor(5.), tensor(6.), tensor(1.5000), tensor(9.))"
      ]
     },
     "execution_count": 1,
     "metadata": {},
     "output_type": "execute_result"
    }
   ],
   "source": [
    "import torch\n",
    "\n",
    "x = torch.tensor(3.0)\n",
    "y = torch.tensor(2.0)\n",
    "\n",
    "x + y, x * y, x / y, x**y"
   ]
  },
  {
   "cell_type": "markdown",
   "id": "1817987f",
   "metadata": {
    "slideshow": {
     "slide_type": "slide"
    }
   },
   "source": [
    "You can think of vectors\n",
    "as fixed-length arrays of scalars"
   ]
  },
  {
   "cell_type": "code",
   "execution_count": 2,
   "id": "45d39234",
   "metadata": {
    "execution": {
     "iopub.execute_input": "2022-07-13T08:12:04.657514Z",
     "iopub.status.busy": "2022-07-13T08:12:04.656799Z",
     "iopub.status.idle": "2022-07-13T08:12:04.663653Z",
     "shell.execute_reply": "2022-07-13T08:12:04.662667Z"
    },
    "origin_pos": 7,
    "tab": [
     "pytorch"
    ]
   },
   "outputs": [
    {
     "data": {
      "text/plain": [
       "tensor([0, 1, 2])"
      ]
     },
     "execution_count": 2,
     "metadata": {},
     "output_type": "execute_result"
    }
   ],
   "source": [
    "x = torch.arange(3)\n",
    "x"
   ]
  },
  {
   "cell_type": "markdown",
   "id": "5560acc9",
   "metadata": {
    "slideshow": {
     "slide_type": "slide"
    }
   },
   "source": [
    "We access a tensor's elements via indexing"
   ]
  },
  {
   "cell_type": "code",
   "execution_count": 3,
   "id": "316450b7",
   "metadata": {
    "execution": {
     "iopub.execute_input": "2022-07-13T08:12:04.668898Z",
     "iopub.status.busy": "2022-07-13T08:12:04.668185Z",
     "iopub.status.idle": "2022-07-13T08:12:04.674434Z",
     "shell.execute_reply": "2022-07-13T08:12:04.673467Z"
    },
    "origin_pos": 11,
    "tab": [
     "pytorch"
    ]
   },
   "outputs": [
    {
     "data": {
      "text/plain": [
       "tensor(2)"
      ]
     },
     "execution_count": 3,
     "metadata": {},
     "output_type": "execute_result"
    }
   ],
   "source": [
    "x[2]"
   ]
  },
  {
   "cell_type": "markdown",
   "id": "ee7386d2",
   "metadata": {
    "slideshow": {
     "slide_type": "slide"
    }
   },
   "source": [
    "In code, this corresponds to the tensor's length"
   ]
  },
  {
   "cell_type": "code",
   "execution_count": 4,
   "id": "d9478f74",
   "metadata": {
    "execution": {
     "iopub.execute_input": "2022-07-13T08:12:04.679676Z",
     "iopub.status.busy": "2022-07-13T08:12:04.678948Z",
     "iopub.status.idle": "2022-07-13T08:12:04.684785Z",
     "shell.execute_reply": "2022-07-13T08:12:04.683933Z"
    },
    "origin_pos": 15,
    "tab": [
     "pytorch"
    ]
   },
   "outputs": [
    {
     "data": {
      "text/plain": [
       "3"
      ]
     },
     "execution_count": 4,
     "metadata": {},
     "output_type": "execute_result"
    }
   ],
   "source": [
    "len(x)"
   ]
  },
  {
   "cell_type": "markdown",
   "id": "c2001b48",
   "metadata": {
    "slideshow": {
     "slide_type": "-"
    }
   },
   "source": [
    "Tensors with just one axis have shapes with just one element"
   ]
  },
  {
   "cell_type": "code",
   "execution_count": 5,
   "id": "c3d98718",
   "metadata": {
    "execution": {
     "iopub.execute_input": "2022-07-13T08:12:04.689500Z",
     "iopub.status.busy": "2022-07-13T08:12:04.688953Z",
     "iopub.status.idle": "2022-07-13T08:12:04.694581Z",
     "shell.execute_reply": "2022-07-13T08:12:04.693673Z"
    },
    "origin_pos": 19,
    "tab": [
     "pytorch"
    ]
   },
   "outputs": [
    {
     "data": {
      "text/plain": [
       "torch.Size([3])"
      ]
     },
     "execution_count": 5,
     "metadata": {},
     "output_type": "execute_result"
    }
   ],
   "source": [
    "x.shape"
   ]
  },
  {
   "cell_type": "markdown",
   "id": "6f788519",
   "metadata": {
    "slideshow": {
     "slide_type": "slide"
    }
   },
   "source": [
    "We can convert any appropriately size $m \\times n$ tensor \n",
    "into an $m \\times n$ matrix"
   ]
  },
  {
   "cell_type": "code",
   "execution_count": 6,
   "id": "ffc3263d",
   "metadata": {
    "execution": {
     "iopub.execute_input": "2022-07-13T08:12:04.699310Z",
     "iopub.status.busy": "2022-07-13T08:12:04.698751Z",
     "iopub.status.idle": "2022-07-13T08:12:04.704943Z",
     "shell.execute_reply": "2022-07-13T08:12:04.704126Z"
    },
    "origin_pos": 23,
    "tab": [
     "pytorch"
    ]
   },
   "outputs": [
    {
     "data": {
      "text/plain": [
       "tensor([[0, 1],\n",
       "        [2, 3],\n",
       "        [4, 5]])"
      ]
     },
     "execution_count": 6,
     "metadata": {},
     "output_type": "execute_result"
    }
   ],
   "source": [
    "A = torch.arange(6).reshape(3, 2)\n",
    "A"
   ]
  },
  {
   "cell_type": "markdown",
   "id": "2f2c213c",
   "metadata": {
    "slideshow": {
     "slide_type": "-"
    }
   },
   "source": [
    "Matrix's transpose"
   ]
  },
  {
   "cell_type": "code",
   "execution_count": 7,
   "id": "c969442e",
   "metadata": {
    "execution": {
     "iopub.execute_input": "2022-07-13T08:12:04.709637Z",
     "iopub.status.busy": "2022-07-13T08:12:04.709093Z",
     "iopub.status.idle": "2022-07-13T08:12:04.715036Z",
     "shell.execute_reply": "2022-07-13T08:12:04.714117Z"
    },
    "origin_pos": 27,
    "tab": [
     "pytorch"
    ]
   },
   "outputs": [
    {
     "data": {
      "text/plain": [
       "tensor([[0, 2, 4],\n",
       "        [1, 3, 5]])"
      ]
     },
     "execution_count": 7,
     "metadata": {},
     "output_type": "execute_result"
    }
   ],
   "source": [
    "A.T"
   ]
  },
  {
   "cell_type": "markdown",
   "id": "1d03321a",
   "metadata": {
    "slideshow": {
     "slide_type": "slide"
    }
   },
   "source": [
    "Symmetric matrices are the subset of square matrices\n",
    "that are equal to their own transposes:\n",
    "$\\mathbf{A} = \\mathbf{A}^\\top$"
   ]
  },
  {
   "cell_type": "code",
   "execution_count": 8,
   "id": "05e5ea5b",
   "metadata": {
    "execution": {
     "iopub.execute_input": "2022-07-13T08:12:04.719774Z",
     "iopub.status.busy": "2022-07-13T08:12:04.719205Z",
     "iopub.status.idle": "2022-07-13T08:12:04.726080Z",
     "shell.execute_reply": "2022-07-13T08:12:04.725154Z"
    },
    "origin_pos": 31,
    "tab": [
     "pytorch"
    ]
   },
   "outputs": [
    {
     "data": {
      "text/plain": [
       "tensor([[True, True, True],\n",
       "        [True, True, True],\n",
       "        [True, True, True]])"
      ]
     },
     "execution_count": 8,
     "metadata": {},
     "output_type": "execute_result"
    }
   ],
   "source": [
    "A = torch.tensor([[1, 2, 3], [2, 0, 4], [3, 4, 5]])\n",
    "A == A.T"
   ]
  },
  {
   "cell_type": "markdown",
   "id": "87f715b9",
   "metadata": {
    "slideshow": {
     "slide_type": "slide"
    }
   },
   "source": [
    "Tensors\n",
    "give us a generic way to describe \n",
    "extensions to $n^{\\mathrm{th}}$-order arrays"
   ]
  },
  {
   "cell_type": "code",
   "execution_count": 9,
   "id": "78e35c79",
   "metadata": {
    "execution": {
     "iopub.execute_input": "2022-07-13T08:12:04.730732Z",
     "iopub.status.busy": "2022-07-13T08:12:04.730193Z",
     "iopub.status.idle": "2022-07-13T08:12:04.737601Z",
     "shell.execute_reply": "2022-07-13T08:12:04.736697Z"
    },
    "origin_pos": 35,
    "tab": [
     "pytorch"
    ]
   },
   "outputs": [
    {
     "data": {
      "text/plain": [
       "tensor([[[ 0,  1,  2,  3],\n",
       "         [ 4,  5,  6,  7],\n",
       "         [ 8,  9, 10, 11]],\n",
       "\n",
       "        [[12, 13, 14, 15],\n",
       "         [16, 17, 18, 19],\n",
       "         [20, 21, 22, 23]]])"
      ]
     },
     "execution_count": 9,
     "metadata": {},
     "output_type": "execute_result"
    }
   ],
   "source": [
    "torch.arange(24).reshape(2, 3, 4)"
   ]
  },
  {
   "cell_type": "code",
   "execution_count": 10,
   "id": "719a0c46",
   "metadata": {
    "execution": {
     "iopub.execute_input": "2022-07-13T08:12:04.742521Z",
     "iopub.status.busy": "2022-07-13T08:12:04.741993Z",
     "iopub.status.idle": "2022-07-13T08:12:04.749534Z",
     "shell.execute_reply": "2022-07-13T08:12:04.748741Z"
    },
    "origin_pos": 39,
    "tab": [
     "pytorch"
    ]
   },
   "outputs": [
    {
     "data": {
      "text/plain": [
       "(tensor([[0., 1., 2.],\n",
       "         [3., 4., 5.]]),\n",
       " tensor([[ 0.,  2.,  4.],\n",
       "         [ 6.,  8., 10.]]))"
      ]
     },
     "execution_count": 10,
     "metadata": {},
     "output_type": "execute_result"
    }
   ],
   "source": [
    "A = torch.arange(6, dtype=torch.float32).reshape(2, 3)\n",
    "B = A.clone()\n",
    "A, A + B"
   ]
  },
  {
   "cell_type": "markdown",
   "id": "22f915f0",
   "metadata": {
    "slideshow": {
     "slide_type": "slide"
    }
   },
   "source": [
    "Elementwise product of two matrices\n",
    "is called their *Hadamard product*"
   ]
  },
  {
   "cell_type": "code",
   "execution_count": 11,
   "id": "b812fdda",
   "metadata": {
    "execution": {
     "iopub.execute_input": "2022-07-13T08:12:04.753857Z",
     "iopub.status.busy": "2022-07-13T08:12:04.753419Z",
     "iopub.status.idle": "2022-07-13T08:12:04.759631Z",
     "shell.execute_reply": "2022-07-13T08:12:04.758811Z"
    },
    "origin_pos": 43,
    "tab": [
     "pytorch"
    ]
   },
   "outputs": [
    {
     "data": {
      "text/plain": [
       "tensor([[ 0.,  1.,  4.],\n",
       "        [ 9., 16., 25.]])"
      ]
     },
     "execution_count": 11,
     "metadata": {},
     "output_type": "execute_result"
    }
   ],
   "source": [
    "A * B"
   ]
  },
  {
   "cell_type": "markdown",
   "id": "fe714fb6",
   "metadata": {
    "slideshow": {
     "slide_type": "slide"
    }
   },
   "source": [
    "Adding or multiplying a scalar and a tensor"
   ]
  },
  {
   "cell_type": "code",
   "execution_count": 12,
   "id": "a2f80c7b",
   "metadata": {
    "execution": {
     "iopub.execute_input": "2022-07-13T08:12:04.764150Z",
     "iopub.status.busy": "2022-07-13T08:12:04.763728Z",
     "iopub.status.idle": "2022-07-13T08:12:04.771867Z",
     "shell.execute_reply": "2022-07-13T08:12:04.770943Z"
    },
    "origin_pos": 47,
    "tab": [
     "pytorch"
    ]
   },
   "outputs": [
    {
     "data": {
      "text/plain": [
       "(tensor([[[ 2,  3,  4,  5],\n",
       "          [ 6,  7,  8,  9],\n",
       "          [10, 11, 12, 13]],\n",
       " \n",
       "         [[14, 15, 16, 17],\n",
       "          [18, 19, 20, 21],\n",
       "          [22, 23, 24, 25]]]),\n",
       " torch.Size([2, 3, 4]))"
      ]
     },
     "execution_count": 12,
     "metadata": {},
     "output_type": "execute_result"
    }
   ],
   "source": [
    "a = 2\n",
    "X = torch.arange(24).reshape(2, 3, 4)\n",
    "a + X, (a * X).shape"
   ]
  },
  {
   "cell_type": "markdown",
   "id": "99d5cbeb",
   "metadata": {
    "slideshow": {
     "slide_type": "slide"
    }
   },
   "source": [
    "The sum of a tensor's elements"
   ]
  },
  {
   "cell_type": "code",
   "execution_count": 13,
   "id": "4ab81805",
   "metadata": {
    "execution": {
     "iopub.execute_input": "2022-07-13T08:12:04.776671Z",
     "iopub.status.busy": "2022-07-13T08:12:04.775977Z",
     "iopub.status.idle": "2022-07-13T08:12:04.782805Z",
     "shell.execute_reply": "2022-07-13T08:12:04.782022Z"
    },
    "origin_pos": 51,
    "tab": [
     "pytorch"
    ]
   },
   "outputs": [
    {
     "data": {
      "text/plain": [
       "(tensor([0., 1., 2.]), tensor(3.))"
      ]
     },
     "execution_count": 13,
     "metadata": {},
     "output_type": "execute_result"
    }
   ],
   "source": [
    "x = torch.arange(3, dtype=torch.float32)\n",
    "x, x.sum()"
   ]
  },
  {
   "cell_type": "markdown",
   "id": "faa5a332",
   "metadata": {
    "slideshow": {
     "slide_type": "slide"
    }
   },
   "source": [
    "Sums over the elements of tensors of arbitrary shape"
   ]
  },
  {
   "cell_type": "code",
   "execution_count": 14,
   "id": "1263b2e4",
   "metadata": {
    "execution": {
     "iopub.execute_input": "2022-07-13T08:12:04.787771Z",
     "iopub.status.busy": "2022-07-13T08:12:04.787161Z",
     "iopub.status.idle": "2022-07-13T08:12:04.793599Z",
     "shell.execute_reply": "2022-07-13T08:12:04.792679Z"
    },
    "origin_pos": 55,
    "tab": [
     "pytorch"
    ]
   },
   "outputs": [
    {
     "data": {
      "text/plain": [
       "(torch.Size([2, 3]), tensor(15.))"
      ]
     },
     "execution_count": 14,
     "metadata": {},
     "output_type": "execute_result"
    }
   ],
   "source": [
    "A.shape, A.sum()"
   ]
  },
  {
   "cell_type": "markdown",
   "id": "75cb5384",
   "metadata": {
    "slideshow": {
     "slide_type": "slide"
    }
   },
   "source": [
    "Specify the axes \n",
    "along which the tensor should be reduced"
   ]
  },
  {
   "cell_type": "code",
   "execution_count": 15,
   "id": "e3dd07d1",
   "metadata": {
    "execution": {
     "iopub.execute_input": "2022-07-13T08:12:04.798670Z",
     "iopub.status.busy": "2022-07-13T08:12:04.797852Z",
     "iopub.status.idle": "2022-07-13T08:12:04.804278Z",
     "shell.execute_reply": "2022-07-13T08:12:04.803073Z"
    },
    "origin_pos": 59,
    "tab": [
     "pytorch"
    ]
   },
   "outputs": [
    {
     "data": {
      "text/plain": [
       "(torch.Size([2, 3]), torch.Size([3]))"
      ]
     },
     "execution_count": 15,
     "metadata": {},
     "output_type": "execute_result"
    }
   ],
   "source": [
    "A.shape, A.sum(axis=0).shape"
   ]
  },
  {
   "cell_type": "code",
   "execution_count": 16,
   "id": "c7de0739",
   "metadata": {
    "execution": {
     "iopub.execute_input": "2022-07-13T08:12:04.810773Z",
     "iopub.status.busy": "2022-07-13T08:12:04.810176Z",
     "iopub.status.idle": "2022-07-13T08:12:04.815717Z",
     "shell.execute_reply": "2022-07-13T08:12:04.814752Z"
    },
    "origin_pos": 63,
    "tab": [
     "pytorch"
    ]
   },
   "outputs": [
    {
     "data": {
      "text/plain": [
       "(torch.Size([2, 3]), torch.Size([2]))"
      ]
     },
     "execution_count": 16,
     "metadata": {},
     "output_type": "execute_result"
    }
   ],
   "source": [
    "A.shape, A.sum(axis=1).shape"
   ]
  },
  {
   "cell_type": "code",
   "execution_count": 17,
   "id": "77b5dd89",
   "metadata": {
    "execution": {
     "iopub.execute_input": "2022-07-13T08:12:04.820771Z",
     "iopub.status.busy": "2022-07-13T08:12:04.820018Z",
     "iopub.status.idle": "2022-07-13T08:12:04.825909Z",
     "shell.execute_reply": "2022-07-13T08:12:04.825128Z"
    },
    "origin_pos": 67,
    "tab": [
     "pytorch"
    ]
   },
   "outputs": [
    {
     "data": {
      "text/plain": [
       "tensor(True)"
      ]
     },
     "execution_count": 17,
     "metadata": {},
     "output_type": "execute_result"
    }
   ],
   "source": [
    "A.sum(axis=[0, 1]) == A.sum()"
   ]
  },
  {
   "cell_type": "markdown",
   "id": "af5813e2",
   "metadata": {
    "slideshow": {
     "slide_type": "slide"
    }
   },
   "source": [
    "A related quantity is the *mean*, also called the *average*"
   ]
  },
  {
   "cell_type": "code",
   "execution_count": 18,
   "id": "66876be8",
   "metadata": {
    "execution": {
     "iopub.execute_input": "2022-07-13T08:12:04.830576Z",
     "iopub.status.busy": "2022-07-13T08:12:04.830055Z",
     "iopub.status.idle": "2022-07-13T08:12:04.836324Z",
     "shell.execute_reply": "2022-07-13T08:12:04.835517Z"
    },
    "origin_pos": 71,
    "tab": [
     "pytorch"
    ]
   },
   "outputs": [
    {
     "data": {
      "text/plain": [
       "(tensor(2.5000), tensor(2.5000))"
      ]
     },
     "execution_count": 18,
     "metadata": {},
     "output_type": "execute_result"
    }
   ],
   "source": [
    "A.mean(), A.sum() / A.numel()"
   ]
  },
  {
   "cell_type": "code",
   "execution_count": 19,
   "id": "91d8c3de",
   "metadata": {
    "execution": {
     "iopub.execute_input": "2022-07-13T08:12:04.841906Z",
     "iopub.status.busy": "2022-07-13T08:12:04.840839Z",
     "iopub.status.idle": "2022-07-13T08:12:04.847709Z",
     "shell.execute_reply": "2022-07-13T08:12:04.846816Z"
    },
    "origin_pos": 75,
    "tab": [
     "pytorch"
    ]
   },
   "outputs": [
    {
     "data": {
      "text/plain": [
       "(tensor([1.5000, 2.5000, 3.5000]), tensor([1.5000, 2.5000, 3.5000]))"
      ]
     },
     "execution_count": 19,
     "metadata": {},
     "output_type": "execute_result"
    }
   ],
   "source": [
    "A.mean(axis=0), A.sum(axis=0) / A.shape[0]"
   ]
  },
  {
   "cell_type": "markdown",
   "id": "6557704a",
   "metadata": {
    "slideshow": {
     "slide_type": "slide"
    }
   },
   "source": [
    "Keep the number of axes unchanged"
   ]
  },
  {
   "cell_type": "code",
   "execution_count": 20,
   "id": "b985abf3",
   "metadata": {
    "execution": {
     "iopub.execute_input": "2022-07-13T08:12:04.852230Z",
     "iopub.status.busy": "2022-07-13T08:12:04.851702Z",
     "iopub.status.idle": "2022-07-13T08:12:04.857957Z",
     "shell.execute_reply": "2022-07-13T08:12:04.857130Z"
    },
    "origin_pos": 79,
    "tab": [
     "pytorch"
    ]
   },
   "outputs": [
    {
     "data": {
      "text/plain": [
       "(tensor([[ 3.],\n",
       "         [12.]]),\n",
       " torch.Size([2, 1]))"
      ]
     },
     "execution_count": 20,
     "metadata": {},
     "output_type": "execute_result"
    }
   ],
   "source": [
    "sum_A = A.sum(axis=1, keepdims=True)\n",
    "sum_A, sum_A.shape"
   ]
  },
  {
   "cell_type": "markdown",
   "id": "60c667db",
   "metadata": {
    "slideshow": {
     "slide_type": "-"
    }
   },
   "source": [
    "Divide `A` by `sum_A` with broadcasting"
   ]
  },
  {
   "cell_type": "code",
   "execution_count": 21,
   "id": "248464ee",
   "metadata": {
    "execution": {
     "iopub.execute_input": "2022-07-13T08:12:04.862683Z",
     "iopub.status.busy": "2022-07-13T08:12:04.862123Z",
     "iopub.status.idle": "2022-07-13T08:12:04.867952Z",
     "shell.execute_reply": "2022-07-13T08:12:04.867070Z"
    },
    "origin_pos": 83,
    "tab": [
     "pytorch"
    ]
   },
   "outputs": [
    {
     "data": {
      "text/plain": [
       "tensor([[0.0000, 0.3333, 0.6667],\n",
       "        [0.2500, 0.3333, 0.4167]])"
      ]
     },
     "execution_count": 21,
     "metadata": {},
     "output_type": "execute_result"
    }
   ],
   "source": [
    "A / sum_A"
   ]
  },
  {
   "cell_type": "markdown",
   "id": "9d3a89e8",
   "metadata": {
    "slideshow": {
     "slide_type": "slide"
    }
   },
   "source": [
    "The cumulative sum of elements of `A` along some axis"
   ]
  },
  {
   "cell_type": "code",
   "execution_count": 22,
   "id": "729e3d28",
   "metadata": {
    "execution": {
     "iopub.execute_input": "2022-07-13T08:12:04.872302Z",
     "iopub.status.busy": "2022-07-13T08:12:04.872031Z",
     "iopub.status.idle": "2022-07-13T08:12:04.879265Z",
     "shell.execute_reply": "2022-07-13T08:12:04.878214Z"
    },
    "origin_pos": 87,
    "tab": [
     "pytorch"
    ]
   },
   "outputs": [
    {
     "data": {
      "text/plain": [
       "tensor([[0., 1., 2.],\n",
       "        [3., 5., 7.]])"
      ]
     },
     "execution_count": 22,
     "metadata": {},
     "output_type": "execute_result"
    }
   ],
   "source": [
    "A.cumsum(axis=0)"
   ]
  },
  {
   "cell_type": "markdown",
   "id": "429c5355",
   "metadata": {
    "slideshow": {
     "slide_type": "slide"
    }
   },
   "source": [
    "The *dot product* of two vectors is a sum over the products of the elements at the same position"
   ]
  },
  {
   "cell_type": "code",
   "execution_count": 23,
   "id": "2f076afd",
   "metadata": {
    "execution": {
     "iopub.execute_input": "2022-07-13T08:12:04.883902Z",
     "iopub.status.busy": "2022-07-13T08:12:04.883353Z",
     "iopub.status.idle": "2022-07-13T08:12:04.890131Z",
     "shell.execute_reply": "2022-07-13T08:12:04.889318Z"
    },
    "origin_pos": 91,
    "tab": [
     "pytorch"
    ]
   },
   "outputs": [
    {
     "data": {
      "text/plain": [
       "(tensor([0., 1., 2.]), tensor([1., 1., 1.]), tensor(3.))"
      ]
     },
     "execution_count": 23,
     "metadata": {},
     "output_type": "execute_result"
    }
   ],
   "source": [
    "y = torch.ones(3, dtype = torch.float32)\n",
    "x, y, torch.dot(x, y)"
   ]
  },
  {
   "cell_type": "markdown",
   "id": "7e1dd7c3",
   "metadata": {
    "slideshow": {
     "slide_type": "-"
    }
   },
   "source": [
    "We can calculate the dot product of two vectors \n",
    "by performing an elementwise multiplication followed by a sum"
   ]
  },
  {
   "cell_type": "code",
   "execution_count": 24,
   "id": "b075c02b",
   "metadata": {
    "execution": {
     "iopub.execute_input": "2022-07-13T08:12:04.894937Z",
     "iopub.status.busy": "2022-07-13T08:12:04.894380Z",
     "iopub.status.idle": "2022-07-13T08:12:04.900150Z",
     "shell.execute_reply": "2022-07-13T08:12:04.899319Z"
    },
    "origin_pos": 95,
    "tab": [
     "pytorch"
    ]
   },
   "outputs": [
    {
     "data": {
      "text/plain": [
       "tensor(3.)"
      ]
     },
     "execution_count": 24,
     "metadata": {},
     "output_type": "execute_result"
    }
   ],
   "source": [
    "torch.sum(x * y)"
   ]
  },
  {
   "cell_type": "markdown",
   "id": "1c22ea58",
   "metadata": {
    "slideshow": {
     "slide_type": "slide"
    }
   },
   "source": [
    "The matrix-vector product $\\mathbf{A}\\mathbf{x}$\n",
    "is simply a column vector of length $m$,\n",
    "whose $i^\\mathrm{th}$ element is the dot product \n",
    "$\\mathbf{a}^\\top_i \\mathbf{x}$"
   ]
  },
  {
   "cell_type": "code",
   "execution_count": 25,
   "id": "cecd76ae",
   "metadata": {
    "execution": {
     "iopub.execute_input": "2022-07-13T08:12:04.904985Z",
     "iopub.status.busy": "2022-07-13T08:12:04.904449Z",
     "iopub.status.idle": "2022-07-13T08:12:04.910780Z",
     "shell.execute_reply": "2022-07-13T08:12:04.909998Z"
    },
    "origin_pos": 102,
    "tab": [
     "pytorch"
    ]
   },
   "outputs": [
    {
     "data": {
      "text/plain": [
       "(torch.Size([2, 3]), torch.Size([3]), tensor([ 5., 14.]), tensor([ 5., 14.]))"
      ]
     },
     "execution_count": 25,
     "metadata": {},
     "output_type": "execute_result"
    }
   ],
   "source": [
    "A.shape, x.shape, torch.mv(A, x), A@x"
   ]
  },
  {
   "cell_type": "markdown",
   "id": "57c83e9a",
   "metadata": {
    "slideshow": {
     "slide_type": "slide"
    }
   },
   "source": [
    "We can think of the matrix-matrix multiplication $\\mathbf{AB}$\n",
    "as performing $m$ matrix-vector products \n",
    "or $m \\times n$ dot products \n",
    "and stitching the results together \n",
    "to form an $n \\times m$ matrix"
   ]
  },
  {
   "cell_type": "code",
   "execution_count": 26,
   "id": "2e239222",
   "metadata": {
    "execution": {
     "iopub.execute_input": "2022-07-13T08:12:04.915464Z",
     "iopub.status.busy": "2022-07-13T08:12:04.914866Z",
     "iopub.status.idle": "2022-07-13T08:12:04.921545Z",
     "shell.execute_reply": "2022-07-13T08:12:04.920713Z"
    },
    "origin_pos": 106,
    "tab": [
     "pytorch"
    ]
   },
   "outputs": [
    {
     "data": {
      "text/plain": [
       "(tensor([[ 3.,  3.,  3.,  3.],\n",
       "         [12., 12., 12., 12.]]),\n",
       " tensor([[ 3.,  3.,  3.,  3.],\n",
       "         [12., 12., 12., 12.]]))"
      ]
     },
     "execution_count": 26,
     "metadata": {},
     "output_type": "execute_result"
    }
   ],
   "source": [
    "B = torch.ones(3, 4)\n",
    "torch.mm(A, B), A@B"
   ]
  },
  {
   "cell_type": "markdown",
   "id": "50f9c9d7",
   "metadata": {
    "slideshow": {
     "slide_type": "slide"
    }
   },
   "source": [
    "The $\\ell_2$ *norm*\n",
    "$$\\|\\mathbf{x}\\|_2 = \\sqrt{\\sum_{i=1}^n x_i^2}$$"
   ]
  },
  {
   "cell_type": "code",
   "execution_count": 27,
   "id": "c34226ec",
   "metadata": {
    "execution": {
     "iopub.execute_input": "2022-07-13T08:12:04.926054Z",
     "iopub.status.busy": "2022-07-13T08:12:04.925781Z",
     "iopub.status.idle": "2022-07-13T08:12:04.931946Z",
     "shell.execute_reply": "2022-07-13T08:12:04.931113Z"
    },
    "origin_pos": 110,
    "tab": [
     "pytorch"
    ]
   },
   "outputs": [
    {
     "data": {
      "text/plain": [
       "tensor(5.)"
      ]
     },
     "execution_count": 27,
     "metadata": {},
     "output_type": "execute_result"
    }
   ],
   "source": [
    "u = torch.tensor([3.0, -4.0])\n",
    "torch.norm(u)"
   ]
  },
  {
   "cell_type": "markdown",
   "id": "1de3397a",
   "metadata": {
    "slideshow": {
     "slide_type": "slide"
    }
   },
   "source": [
    "The $\\ell_1$ norm\n",
    "$$\\|\\mathbf{x}\\|_1 = \\sum_{i=1}^n \\left|x_i \\right|$$"
   ]
  },
  {
   "cell_type": "code",
   "execution_count": 28,
   "id": "1192fd69",
   "metadata": {
    "execution": {
     "iopub.execute_input": "2022-07-13T08:12:04.936579Z",
     "iopub.status.busy": "2022-07-13T08:12:04.936015Z",
     "iopub.status.idle": "2022-07-13T08:12:04.941660Z",
     "shell.execute_reply": "2022-07-13T08:12:04.940877Z"
    },
    "origin_pos": 114,
    "tab": [
     "pytorch"
    ]
   },
   "outputs": [
    {
     "data": {
      "text/plain": [
       "tensor(7.)"
      ]
     },
     "execution_count": 28,
     "metadata": {},
     "output_type": "execute_result"
    }
   ],
   "source": [
    "torch.abs(u).sum()"
   ]
  },
  {
   "cell_type": "markdown",
   "id": "66bdd42e",
   "metadata": {
    "slideshow": {
     "slide_type": "slide"
    }
   },
   "source": [
    "The *Frobenius norm*, \n",
    "which is much easier to compute\n",
    "$$\\|\\mathbf{X}\\|_F = \\sqrt{\\sum_{i=1}^m \\sum_{j=1}^n x_{ij}^2}$$"
   ]
  },
  {
   "cell_type": "code",
   "execution_count": 29,
   "id": "16e7bcfa",
   "metadata": {
    "execution": {
     "iopub.execute_input": "2022-07-13T08:12:04.946318Z",
     "iopub.status.busy": "2022-07-13T08:12:04.945740Z",
     "iopub.status.idle": "2022-07-13T08:12:04.951621Z",
     "shell.execute_reply": "2022-07-13T08:12:04.950795Z"
    },
    "origin_pos": 118,
    "tab": [
     "pytorch"
    ]
   },
   "outputs": [
    {
     "data": {
      "text/plain": [
       "tensor(6.)"
      ]
     },
     "execution_count": 29,
     "metadata": {},
     "output_type": "execute_result"
    }
   ],
   "source": [
    "torch.norm(torch.ones((4, 9)))"
   ]
  }
 ],
 "metadata": {
  "celltoolbar": "Slideshow",
  "language_info": {
   "name": "python"
  },
  "rise": {
   "autolaunch": true,
   "enable_chalkboard": true,
   "overlay": "<div class='my-top-right'><img height=80px src='http://d2l.ai/_static/logo-with-text.png'/></div><div class='my-top-left'></div>",
   "scroll": true
  }
 },
 "nbformat": 4,
 "nbformat_minor": 5
}