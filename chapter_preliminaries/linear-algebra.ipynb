{
 "cells": [
  {
   "cell_type": "markdown",
   "id": "3d62d38f",
   "metadata": {
    "slideshow": {
     "slide_type": "-"
    }
   },
   "source": [
    "# Linear Algebra\n",
    "\n",
    "Scalars are implemented as tensors \n",
    "that contain only one element"
   ]
  },
  {
   "cell_type": "code",
   "execution_count": 1,
   "id": "e5eda45c",
   "metadata": {
    "execution": {
     "iopub.execute_input": "2022-09-07T22:12:57.863698Z",
     "iopub.status.busy": "2022-09-07T22:12:57.862637Z",
     "iopub.status.idle": "2022-09-07T22:12:58.811939Z",
     "shell.execute_reply": "2022-09-07T22:12:58.811047Z"
    },
    "origin_pos": 3,
    "tab": [
     "pytorch"
    ]
   },
   "outputs": [
    {
     "data": {
      "text/plain": [
       "(tensor(5.), tensor(6.), tensor(1.5000), tensor(9.))"
      ]
     },
     "execution_count": 1,
     "metadata": {},
     "output_type": "execute_result"
    }
   ],
   "source": [
    "import torch\n",
    "\n",
    "x = torch.tensor(3.0)\n",
    "y = torch.tensor(2.0)\n",
    "\n",
    "x + y, x * y, x / y, x**y"
   ]
  },
  {
   "cell_type": "markdown",
   "id": "1ef1763f",
   "metadata": {
    "slideshow": {
     "slide_type": "slide"
    }
   },
   "source": [
    "You can think of vectors\n",
    "as fixed-length arrays of scalars"
   ]
  },
  {
   "cell_type": "code",
   "execution_count": 2,
   "id": "e5e60054",
   "metadata": {
    "execution": {
     "iopub.execute_input": "2022-09-07T22:12:58.816737Z",
     "iopub.status.busy": "2022-09-07T22:12:58.816199Z",
     "iopub.status.idle": "2022-09-07T22:12:58.823181Z",
     "shell.execute_reply": "2022-09-07T22:12:58.822058Z"
    },
    "origin_pos": 7,
    "tab": [
     "pytorch"
    ]
   },
   "outputs": [
    {
     "data": {
      "text/plain": [
       "tensor([0, 1, 2])"
      ]
     },
     "execution_count": 2,
     "metadata": {},
     "output_type": "execute_result"
    }
   ],
   "source": [
    "x = torch.arange(3)\n",
    "x"
   ]
  },
  {
   "cell_type": "markdown",
   "id": "f16796fc",
   "metadata": {
    "slideshow": {
     "slide_type": "slide"
    }
   },
   "source": [
    "We access a tensor's elements via indexing"
   ]
  },
  {
   "cell_type": "code",
   "execution_count": 3,
   "id": "9ee3f681",
   "metadata": {
    "execution": {
     "iopub.execute_input": "2022-09-07T22:12:58.828248Z",
     "iopub.status.busy": "2022-09-07T22:12:58.827512Z",
     "iopub.status.idle": "2022-09-07T22:12:58.834571Z",
     "shell.execute_reply": "2022-09-07T22:12:58.833800Z"
    },
    "origin_pos": 11,
    "tab": [
     "pytorch"
    ]
   },
   "outputs": [
    {
     "data": {
      "text/plain": [
       "tensor(2)"
      ]
     },
     "execution_count": 3,
     "metadata": {},
     "output_type": "execute_result"
    }
   ],
   "source": [
    "x[2]"
   ]
  },
  {
   "cell_type": "markdown",
   "id": "793a36c0",
   "metadata": {
    "slideshow": {
     "slide_type": "slide"
    }
   },
   "source": [
    "In code, this corresponds to the tensor's length"
   ]
  },
  {
   "cell_type": "code",
   "execution_count": 4,
   "id": "0e5a91e1",
   "metadata": {
    "execution": {
     "iopub.execute_input": "2022-09-07T22:12:58.838133Z",
     "iopub.status.busy": "2022-09-07T22:12:58.837823Z",
     "iopub.status.idle": "2022-09-07T22:12:58.843389Z",
     "shell.execute_reply": "2022-09-07T22:12:58.842370Z"
    },
    "origin_pos": 15,
    "tab": [
     "pytorch"
    ]
   },
   "outputs": [
    {
     "data": {
      "text/plain": [
       "3"
      ]
     },
     "execution_count": 4,
     "metadata": {},
     "output_type": "execute_result"
    }
   ],
   "source": [
    "len(x)"
   ]
  },
  {
   "cell_type": "markdown",
   "id": "81100a22",
   "metadata": {
    "slideshow": {
     "slide_type": "-"
    }
   },
   "source": [
    "Tensors with just one axis have shapes with just one element"
   ]
  },
  {
   "cell_type": "code",
   "execution_count": 5,
   "id": "c5aece43",
   "metadata": {
    "execution": {
     "iopub.execute_input": "2022-09-07T22:12:58.847369Z",
     "iopub.status.busy": "2022-09-07T22:12:58.846805Z",
     "iopub.status.idle": "2022-09-07T22:12:58.851719Z",
     "shell.execute_reply": "2022-09-07T22:12:58.850992Z"
    },
    "origin_pos": 19,
    "tab": [
     "pytorch"
    ]
   },
   "outputs": [
    {
     "data": {
      "text/plain": [
       "torch.Size([3])"
      ]
     },
     "execution_count": 5,
     "metadata": {},
     "output_type": "execute_result"
    }
   ],
   "source": [
    "x.shape"
   ]
  },
  {
   "cell_type": "markdown",
   "id": "5d3b73a9",
   "metadata": {
    "slideshow": {
     "slide_type": "slide"
    }
   },
   "source": [
    "We can convert any appropriately sized $m \\times n$ tensor \n",
    "into an $m \\times n$ matrix"
   ]
  },
  {
   "cell_type": "code",
   "execution_count": 6,
   "id": "8c40e996",
   "metadata": {
    "execution": {
     "iopub.execute_input": "2022-09-07T22:12:58.855117Z",
     "iopub.status.busy": "2022-09-07T22:12:58.854586Z",
     "iopub.status.idle": "2022-09-07T22:12:58.860819Z",
     "shell.execute_reply": "2022-09-07T22:12:58.860027Z"
    },
    "origin_pos": 23,
    "tab": [
     "pytorch"
    ]
   },
   "outputs": [
    {
     "data": {
      "text/plain": [
       "tensor([[0, 1],\n",
       "        [2, 3],\n",
       "        [4, 5]])"
      ]
     },
     "execution_count": 6,
     "metadata": {},
     "output_type": "execute_result"
    }
   ],
   "source": [
    "A = torch.arange(6).reshape(3, 2)\n",
    "A"
   ]
  },
  {
   "cell_type": "markdown",
   "id": "200c939c",
   "metadata": {
    "slideshow": {
     "slide_type": "-"
    }
   },
   "source": [
    "Matrix's transpose"
   ]
  },
  {
   "cell_type": "code",
   "execution_count": 7,
   "id": "f6e244f6",
   "metadata": {
    "execution": {
     "iopub.execute_input": "2022-09-07T22:12:58.864342Z",
     "iopub.status.busy": "2022-09-07T22:12:58.863805Z",
     "iopub.status.idle": "2022-09-07T22:12:58.868916Z",
     "shell.execute_reply": "2022-09-07T22:12:58.868195Z"
    },
    "origin_pos": 27,
    "tab": [
     "pytorch"
    ]
   },
   "outputs": [
    {
     "data": {
      "text/plain": [
       "tensor([[0, 2, 4],\n",
       "        [1, 3, 5]])"
      ]
     },
     "execution_count": 7,
     "metadata": {},
     "output_type": "execute_result"
    }
   ],
   "source": [
    "A.T"
   ]
  },
  {
   "cell_type": "markdown",
   "id": "1b599f8e",
   "metadata": {
    "slideshow": {
     "slide_type": "slide"
    }
   },
   "source": [
    "Symmetric matrices are the subset of square matrices\n",
    "that are equal to their own transposes:\n",
    "$\\mathbf{A} = \\mathbf{A}^\\top$"
   ]
  },
  {
   "cell_type": "code",
   "execution_count": 8,
   "id": "d98e3860",
   "metadata": {
    "execution": {
     "iopub.execute_input": "2022-09-07T22:12:58.872425Z",
     "iopub.status.busy": "2022-09-07T22:12:58.871889Z",
     "iopub.status.idle": "2022-09-07T22:12:58.880134Z",
     "shell.execute_reply": "2022-09-07T22:12:58.879024Z"
    },
    "origin_pos": 31,
    "tab": [
     "pytorch"
    ]
   },
   "outputs": [
    {
     "data": {
      "text/plain": [
       "tensor([[True, True, True],\n",
       "        [True, True, True],\n",
       "        [True, True, True]])"
      ]
     },
     "execution_count": 8,
     "metadata": {},
     "output_type": "execute_result"
    }
   ],
   "source": [
    "A = torch.tensor([[1, 2, 3], [2, 0, 4], [3, 4, 5]])\n",
    "A == A.T"
   ]
  },
  {
   "cell_type": "markdown",
   "id": "d5dfb137",
   "metadata": {
    "slideshow": {
     "slide_type": "slide"
    }
   },
   "source": [
    "Tensors\n",
    "give us a generic way to describe \n",
    "extensions to $n^{\\mathrm{th}}$-order arrays"
   ]
  },
  {
   "cell_type": "code",
   "execution_count": 9,
   "id": "751d35f8",
   "metadata": {
    "execution": {
     "iopub.execute_input": "2022-09-07T22:12:58.884624Z",
     "iopub.status.busy": "2022-09-07T22:12:58.884260Z",
     "iopub.status.idle": "2022-09-07T22:12:58.891314Z",
     "shell.execute_reply": "2022-09-07T22:12:58.890318Z"
    },
    "origin_pos": 35,
    "tab": [
     "pytorch"
    ]
   },
   "outputs": [
    {
     "data": {
      "text/plain": [
       "tensor([[[ 0,  1,  2,  3],\n",
       "         [ 4,  5,  6,  7],\n",
       "         [ 8,  9, 10, 11]],\n",
       "\n",
       "        [[12, 13, 14, 15],\n",
       "         [16, 17, 18, 19],\n",
       "         [20, 21, 22, 23]]])"
      ]
     },
     "execution_count": 9,
     "metadata": {},
     "output_type": "execute_result"
    }
   ],
   "source": [
    "torch.arange(24).reshape(2, 3, 4)"
   ]
  },
  {
   "cell_type": "code",
   "execution_count": 10,
   "id": "5d095800",
   "metadata": {
    "execution": {
     "iopub.execute_input": "2022-09-07T22:12:58.895102Z",
     "iopub.status.busy": "2022-09-07T22:12:58.894238Z",
     "iopub.status.idle": "2022-09-07T22:12:58.902241Z",
     "shell.execute_reply": "2022-09-07T22:12:58.901494Z"
    },
    "origin_pos": 39,
    "tab": [
     "pytorch"
    ]
   },
   "outputs": [
    {
     "data": {
      "text/plain": [
       "(tensor([[0., 1., 2.],\n",
       "         [3., 4., 5.]]),\n",
       " tensor([[ 0.,  2.,  4.],\n",
       "         [ 6.,  8., 10.]]))"
      ]
     },
     "execution_count": 10,
     "metadata": {},
     "output_type": "execute_result"
    }
   ],
   "source": [
    "A = torch.arange(6, dtype=torch.float32).reshape(2, 3)\n",
    "B = A.clone()\n",
    "A, A + B"
   ]
  },
  {
   "cell_type": "markdown",
   "id": "c41eaabe",
   "metadata": {
    "slideshow": {
     "slide_type": "slide"
    }
   },
   "source": [
    "Elementwise product of two matrices\n",
    "is called their *Hadamard product*"
   ]
  },
  {
   "cell_type": "code",
   "execution_count": 11,
   "id": "6799f8c4",
   "metadata": {
    "execution": {
     "iopub.execute_input": "2022-09-07T22:12:58.906908Z",
     "iopub.status.busy": "2022-09-07T22:12:58.906338Z",
     "iopub.status.idle": "2022-09-07T22:12:58.911715Z",
     "shell.execute_reply": "2022-09-07T22:12:58.910980Z"
    },
    "origin_pos": 43,
    "tab": [
     "pytorch"
    ]
   },
   "outputs": [
    {
     "data": {
      "text/plain": [
       "tensor([[ 0.,  1.,  4.],\n",
       "        [ 9., 16., 25.]])"
      ]
     },
     "execution_count": 11,
     "metadata": {},
     "output_type": "execute_result"
    }
   ],
   "source": [
    "A * B"
   ]
  },
  {
   "cell_type": "markdown",
   "id": "51b55852",
   "metadata": {
    "slideshow": {
     "slide_type": "slide"
    }
   },
   "source": [
    "Adding or multiplying a scalar and a tensor"
   ]
  },
  {
   "cell_type": "code",
   "execution_count": 12,
   "id": "630442ca",
   "metadata": {
    "execution": {
     "iopub.execute_input": "2022-09-07T22:12:58.915348Z",
     "iopub.status.busy": "2022-09-07T22:12:58.914566Z",
     "iopub.status.idle": "2022-09-07T22:12:58.920905Z",
     "shell.execute_reply": "2022-09-07T22:12:58.920059Z"
    },
    "origin_pos": 47,
    "tab": [
     "pytorch"
    ]
   },
   "outputs": [
    {
     "data": {
      "text/plain": [
       "(tensor([[[ 2,  3,  4,  5],\n",
       "          [ 6,  7,  8,  9],\n",
       "          [10, 11, 12, 13]],\n",
       " \n",
       "         [[14, 15, 16, 17],\n",
       "          [18, 19, 20, 21],\n",
       "          [22, 23, 24, 25]]]),\n",
       " torch.Size([2, 3, 4]))"
      ]
     },
     "execution_count": 12,
     "metadata": {},
     "output_type": "execute_result"
    }
   ],
   "source": [
    "a = 2\n",
    "X = torch.arange(24).reshape(2, 3, 4)\n",
    "a + X, (a * X).shape"
   ]
  },
  {
   "cell_type": "markdown",
   "id": "fc3d99be",
   "metadata": {
    "slideshow": {
     "slide_type": "slide"
    }
   },
   "source": [
    "The sum of a tensor's elements"
   ]
  },
  {
   "cell_type": "code",
   "execution_count": 13,
   "id": "ae2330bf",
   "metadata": {
    "execution": {
     "iopub.execute_input": "2022-09-07T22:12:58.925815Z",
     "iopub.status.busy": "2022-09-07T22:12:58.925161Z",
     "iopub.status.idle": "2022-09-07T22:12:58.933503Z",
     "shell.execute_reply": "2022-09-07T22:12:58.932514Z"
    },
    "origin_pos": 51,
    "tab": [
     "pytorch"
    ]
   },
   "outputs": [
    {
     "data": {
      "text/plain": [
       "(tensor([0., 1., 2.]), tensor(3.))"
      ]
     },
     "execution_count": 13,
     "metadata": {},
     "output_type": "execute_result"
    }
   ],
   "source": [
    "x = torch.arange(3, dtype=torch.float32)\n",
    "x, x.sum()"
   ]
  },
  {
   "cell_type": "markdown",
   "id": "2afe6360",
   "metadata": {
    "slideshow": {
     "slide_type": "slide"
    }
   },
   "source": [
    "Sums over the elements of tensors of arbitrary shape"
   ]
  },
  {
   "cell_type": "code",
   "execution_count": 14,
   "id": "a32d1e3a",
   "metadata": {
    "execution": {
     "iopub.execute_input": "2022-09-07T22:12:58.938267Z",
     "iopub.status.busy": "2022-09-07T22:12:58.937750Z",
     "iopub.status.idle": "2022-09-07T22:12:58.943632Z",
     "shell.execute_reply": "2022-09-07T22:12:58.942620Z"
    },
    "origin_pos": 55,
    "tab": [
     "pytorch"
    ]
   },
   "outputs": [
    {
     "data": {
      "text/plain": [
       "(torch.Size([2, 3]), tensor(15.))"
      ]
     },
     "execution_count": 14,
     "metadata": {},
     "output_type": "execute_result"
    }
   ],
   "source": [
    "A.shape, A.sum()"
   ]
  },
  {
   "cell_type": "markdown",
   "id": "33695b53",
   "metadata": {
    "slideshow": {
     "slide_type": "slide"
    }
   },
   "source": [
    "Specify the axes \n",
    "along which the tensor should be reduced"
   ]
  },
  {
   "cell_type": "code",
   "execution_count": 15,
   "id": "6f31f157",
   "metadata": {
    "execution": {
     "iopub.execute_input": "2022-09-07T22:12:58.947115Z",
     "iopub.status.busy": "2022-09-07T22:12:58.946544Z",
     "iopub.status.idle": "2022-09-07T22:12:58.952298Z",
     "shell.execute_reply": "2022-09-07T22:12:58.951504Z"
    },
    "origin_pos": 59,
    "tab": [
     "pytorch"
    ]
   },
   "outputs": [
    {
     "data": {
      "text/plain": [
       "(torch.Size([2, 3]), torch.Size([3]))"
      ]
     },
     "execution_count": 15,
     "metadata": {},
     "output_type": "execute_result"
    }
   ],
   "source": [
    "A.shape, A.sum(axis=0).shape"
   ]
  },
  {
   "cell_type": "code",
   "execution_count": 16,
   "id": "b45a03d9",
   "metadata": {
    "execution": {
     "iopub.execute_input": "2022-09-07T22:12:58.955742Z",
     "iopub.status.busy": "2022-09-07T22:12:58.955201Z",
     "iopub.status.idle": "2022-09-07T22:12:58.960319Z",
     "shell.execute_reply": "2022-09-07T22:12:58.959509Z"
    },
    "origin_pos": 63,
    "tab": [
     "pytorch"
    ]
   },
   "outputs": [
    {
     "data": {
      "text/plain": [
       "(torch.Size([2, 3]), torch.Size([2]))"
      ]
     },
     "execution_count": 16,
     "metadata": {},
     "output_type": "execute_result"
    }
   ],
   "source": [
    "A.shape, A.sum(axis=1).shape"
   ]
  },
  {
   "cell_type": "code",
   "execution_count": 17,
   "id": "cf50b4cf",
   "metadata": {
    "execution": {
     "iopub.execute_input": "2022-09-07T22:12:58.963716Z",
     "iopub.status.busy": "2022-09-07T22:12:58.963180Z",
     "iopub.status.idle": "2022-09-07T22:12:58.969210Z",
     "shell.execute_reply": "2022-09-07T22:12:58.968160Z"
    },
    "origin_pos": 67,
    "tab": [
     "pytorch"
    ]
   },
   "outputs": [
    {
     "data": {
      "text/plain": [
       "tensor(True)"
      ]
     },
     "execution_count": 17,
     "metadata": {},
     "output_type": "execute_result"
    }
   ],
   "source": [
    "A.sum(axis=[0, 1]) == A.sum()"
   ]
  },
  {
   "cell_type": "markdown",
   "id": "c0b6d503",
   "metadata": {
    "slideshow": {
     "slide_type": "slide"
    }
   },
   "source": [
    "A related quantity is the *mean*, also called the *average*"
   ]
  },
  {
   "cell_type": "code",
   "execution_count": 18,
   "id": "23a56dcc",
   "metadata": {
    "execution": {
     "iopub.execute_input": "2022-09-07T22:12:58.973069Z",
     "iopub.status.busy": "2022-09-07T22:12:58.972274Z",
     "iopub.status.idle": "2022-09-07T22:12:58.980174Z",
     "shell.execute_reply": "2022-09-07T22:12:58.979052Z"
    },
    "origin_pos": 71,
    "tab": [
     "pytorch"
    ]
   },
   "outputs": [
    {
     "data": {
      "text/plain": [
       "(tensor(2.5000), tensor(2.5000))"
      ]
     },
     "execution_count": 18,
     "metadata": {},
     "output_type": "execute_result"
    }
   ],
   "source": [
    "A.mean(), A.sum() / A.numel()"
   ]
  },
  {
   "cell_type": "code",
   "execution_count": 19,
   "id": "81a90e35",
   "metadata": {
    "execution": {
     "iopub.execute_input": "2022-09-07T22:12:58.985030Z",
     "iopub.status.busy": "2022-09-07T22:12:58.984343Z",
     "iopub.status.idle": "2022-09-07T22:12:58.992183Z",
     "shell.execute_reply": "2022-09-07T22:12:58.991105Z"
    },
    "origin_pos": 75,
    "tab": [
     "pytorch"
    ]
   },
   "outputs": [
    {
     "data": {
      "text/plain": [
       "(tensor([1.5000, 2.5000, 3.5000]), tensor([1.5000, 2.5000, 3.5000]))"
      ]
     },
     "execution_count": 19,
     "metadata": {},
     "output_type": "execute_result"
    }
   ],
   "source": [
    "A.mean(axis=0), A.sum(axis=0) / A.shape[0]"
   ]
  },
  {
   "cell_type": "markdown",
   "id": "506b733e",
   "metadata": {
    "slideshow": {
     "slide_type": "slide"
    }
   },
   "source": [
    "Keep the number of axes unchanged"
   ]
  },
  {
   "cell_type": "code",
   "execution_count": 20,
   "id": "70335e34",
   "metadata": {
    "execution": {
     "iopub.execute_input": "2022-09-07T22:12:58.996719Z",
     "iopub.status.busy": "2022-09-07T22:12:58.996167Z",
     "iopub.status.idle": "2022-09-07T22:12:59.001937Z",
     "shell.execute_reply": "2022-09-07T22:12:59.001234Z"
    },
    "origin_pos": 79,
    "tab": [
     "pytorch"
    ]
   },
   "outputs": [
    {
     "data": {
      "text/plain": [
       "(tensor([[ 3.],\n",
       "         [12.]]),\n",
       " torch.Size([2, 1]))"
      ]
     },
     "execution_count": 20,
     "metadata": {},
     "output_type": "execute_result"
    }
   ],
   "source": [
    "sum_A = A.sum(axis=1, keepdims=True)\n",
    "sum_A, sum_A.shape"
   ]
  },
  {
   "cell_type": "markdown",
   "id": "dbb41219",
   "metadata": {
    "slideshow": {
     "slide_type": "-"
    }
   },
   "source": [
    "Divide `A` by `sum_A` with broadcasting"
   ]
  },
  {
   "cell_type": "code",
   "execution_count": 21,
   "id": "59e54ce1",
   "metadata": {
    "execution": {
     "iopub.execute_input": "2022-09-07T22:12:59.005346Z",
     "iopub.status.busy": "2022-09-07T22:12:59.004804Z",
     "iopub.status.idle": "2022-09-07T22:12:59.010301Z",
     "shell.execute_reply": "2022-09-07T22:12:59.009585Z"
    },
    "origin_pos": 83,
    "tab": [
     "pytorch"
    ]
   },
   "outputs": [
    {
     "data": {
      "text/plain": [
       "tensor([[0.0000, 0.3333, 0.6667],\n",
       "        [0.2500, 0.3333, 0.4167]])"
      ]
     },
     "execution_count": 21,
     "metadata": {},
     "output_type": "execute_result"
    }
   ],
   "source": [
    "A / sum_A"
   ]
  },
  {
   "cell_type": "markdown",
   "id": "b79dda29",
   "metadata": {
    "slideshow": {
     "slide_type": "slide"
    }
   },
   "source": [
    "The cumulative sum of elements of `A` along some axis"
   ]
  },
  {
   "cell_type": "code",
   "execution_count": 22,
   "id": "2960fe54",
   "metadata": {
    "execution": {
     "iopub.execute_input": "2022-09-07T22:12:59.013416Z",
     "iopub.status.busy": "2022-09-07T22:12:59.013150Z",
     "iopub.status.idle": "2022-09-07T22:12:59.019169Z",
     "shell.execute_reply": "2022-09-07T22:12:59.018338Z"
    },
    "origin_pos": 87,
    "tab": [
     "pytorch"
    ]
   },
   "outputs": [
    {
     "data": {
      "text/plain": [
       "tensor([[0., 1., 2.],\n",
       "        [3., 5., 7.]])"
      ]
     },
     "execution_count": 22,
     "metadata": {},
     "output_type": "execute_result"
    }
   ],
   "source": [
    "A.cumsum(axis=0)"
   ]
  },
  {
   "cell_type": "markdown",
   "id": "1c008674",
   "metadata": {
    "slideshow": {
     "slide_type": "slide"
    }
   },
   "source": [
    "The *dot product* of two vectors is a sum over the products of the elements at the same position"
   ]
  },
  {
   "cell_type": "code",
   "execution_count": 23,
   "id": "748fe14b",
   "metadata": {
    "execution": {
     "iopub.execute_input": "2022-09-07T22:12:59.022985Z",
     "iopub.status.busy": "2022-09-07T22:12:59.022192Z",
     "iopub.status.idle": "2022-09-07T22:12:59.031084Z",
     "shell.execute_reply": "2022-09-07T22:12:59.029977Z"
    },
    "origin_pos": 91,
    "tab": [
     "pytorch"
    ]
   },
   "outputs": [
    {
     "data": {
      "text/plain": [
       "(tensor([0., 1., 2.]), tensor([1., 1., 1.]), tensor(3.))"
      ]
     },
     "execution_count": 23,
     "metadata": {},
     "output_type": "execute_result"
    }
   ],
   "source": [
    "y = torch.ones(3, dtype = torch.float32)\n",
    "x, y, torch.dot(x, y)"
   ]
  },
  {
   "cell_type": "markdown",
   "id": "c8b580c8",
   "metadata": {
    "slideshow": {
     "slide_type": "-"
    }
   },
   "source": [
    "We can calculate the dot product of two vectors \n",
    "by performing an elementwise multiplication followed by a sum"
   ]
  },
  {
   "cell_type": "code",
   "execution_count": 24,
   "id": "13851a23",
   "metadata": {
    "execution": {
     "iopub.execute_input": "2022-09-07T22:12:59.035377Z",
     "iopub.status.busy": "2022-09-07T22:12:59.034571Z",
     "iopub.status.idle": "2022-09-07T22:12:59.042553Z",
     "shell.execute_reply": "2022-09-07T22:12:59.041570Z"
    },
    "origin_pos": 95,
    "tab": [
     "pytorch"
    ]
   },
   "outputs": [
    {
     "data": {
      "text/plain": [
       "tensor(3.)"
      ]
     },
     "execution_count": 24,
     "metadata": {},
     "output_type": "execute_result"
    }
   ],
   "source": [
    "torch.sum(x * y)"
   ]
  },
  {
   "cell_type": "markdown",
   "id": "c512be79",
   "metadata": {
    "slideshow": {
     "slide_type": "slide"
    }
   },
   "source": [
    "The matrix-vector product $\\mathbf{A}\\mathbf{x}$\n",
    "is simply a column vector of length $m$,\n",
    "whose $i^\\mathrm{th}$ element is the dot product \n",
    "$\\mathbf{a}^\\top_i \\mathbf{x}$"
   ]
  },
  {
   "cell_type": "code",
   "execution_count": 25,
   "id": "ba7b5299",
   "metadata": {
    "execution": {
     "iopub.execute_input": "2022-09-07T22:12:59.046978Z",
     "iopub.status.busy": "2022-09-07T22:12:59.046201Z",
     "iopub.status.idle": "2022-09-07T22:12:59.055498Z",
     "shell.execute_reply": "2022-09-07T22:12:59.054014Z"
    },
    "origin_pos": 102,
    "tab": [
     "pytorch"
    ]
   },
   "outputs": [
    {
     "data": {
      "text/plain": [
       "(torch.Size([2, 3]), torch.Size([3]), tensor([ 5., 14.]), tensor([ 5., 14.]))"
      ]
     },
     "execution_count": 25,
     "metadata": {},
     "output_type": "execute_result"
    }
   ],
   "source": [
    "A.shape, x.shape, torch.mv(A, x), A@x"
   ]
  },
  {
   "cell_type": "markdown",
   "id": "5f3fcb8d",
   "metadata": {
    "slideshow": {
     "slide_type": "slide"
    }
   },
   "source": [
    "We can think of the matrix-matrix multiplication $\\mathbf{AB}$\n",
    "as performing $m$ matrix-vector products \n",
    "or $m \\times n$ dot products \n",
    "and stitching the results together \n",
    "to form an $n \\times m$ matrix"
   ]
  },
  {
   "cell_type": "code",
   "execution_count": 26,
   "id": "2d9b01ca",
   "metadata": {
    "execution": {
     "iopub.execute_input": "2022-09-07T22:12:59.067374Z",
     "iopub.status.busy": "2022-09-07T22:12:59.066008Z",
     "iopub.status.idle": "2022-09-07T22:12:59.076711Z",
     "shell.execute_reply": "2022-09-07T22:12:59.075349Z"
    },
    "origin_pos": 106,
    "tab": [
     "pytorch"
    ]
   },
   "outputs": [
    {
     "data": {
      "text/plain": [
       "(tensor([[ 3.,  3.,  3.,  3.],\n",
       "         [12., 12., 12., 12.]]),\n",
       " tensor([[ 3.,  3.,  3.,  3.],\n",
       "         [12., 12., 12., 12.]]))"
      ]
     },
     "execution_count": 26,
     "metadata": {},
     "output_type": "execute_result"
    }
   ],
   "source": [
    "B = torch.ones(3, 4)\n",
    "torch.mm(A, B), A@B"
   ]
  },
  {
   "cell_type": "markdown",
   "id": "976acdcd",
   "metadata": {
    "slideshow": {
     "slide_type": "slide"
    }
   },
   "source": [
    "The $\\ell_2$ *norm*\n",
    "$$\\|\\mathbf{x}\\|_2 = \\sqrt{\\sum_{i=1}^n x_i^2}$$"
   ]
  },
  {
   "cell_type": "code",
   "execution_count": 27,
   "id": "de9cfe20",
   "metadata": {
    "execution": {
     "iopub.execute_input": "2022-09-07T22:12:59.083276Z",
     "iopub.status.busy": "2022-09-07T22:12:59.082864Z",
     "iopub.status.idle": "2022-09-07T22:12:59.091857Z",
     "shell.execute_reply": "2022-09-07T22:12:59.090609Z"
    },
    "origin_pos": 110,
    "tab": [
     "pytorch"
    ]
   },
   "outputs": [
    {
     "data": {
      "text/plain": [
       "tensor(5.)"
      ]
     },
     "execution_count": 27,
     "metadata": {},
     "output_type": "execute_result"
    }
   ],
   "source": [
    "u = torch.tensor([3.0, -4.0])\n",
    "torch.norm(u)"
   ]
  },
  {
   "cell_type": "markdown",
   "id": "39712617",
   "metadata": {
    "slideshow": {
     "slide_type": "slide"
    }
   },
   "source": [
    "The $\\ell_1$ norm\n",
    "$$\\|\\mathbf{x}\\|_1 = \\sum_{i=1}^n \\left|x_i \\right|$$"
   ]
  },
  {
   "cell_type": "code",
   "execution_count": 28,
   "id": "43bfdb4a",
   "metadata": {
    "execution": {
     "iopub.execute_input": "2022-09-07T22:12:59.102204Z",
     "iopub.status.busy": "2022-09-07T22:12:59.101157Z",
     "iopub.status.idle": "2022-09-07T22:12:59.109117Z",
     "shell.execute_reply": "2022-09-07T22:12:59.108077Z"
    },
    "origin_pos": 114,
    "tab": [
     "pytorch"
    ]
   },
   "outputs": [
    {
     "data": {
      "text/plain": [
       "tensor(7.)"
      ]
     },
     "execution_count": 28,
     "metadata": {},
     "output_type": "execute_result"
    }
   ],
   "source": [
    "torch.abs(u).sum()"
   ]
  },
  {
   "cell_type": "markdown",
   "id": "4b1a00be",
   "metadata": {
    "slideshow": {
     "slide_type": "slide"
    }
   },
   "source": [
    "The *Frobenius norm*, \n",
    "which is much easier to compute\n",
    "$$\\|\\mathbf{X}\\|_F = \\sqrt{\\sum_{i=1}^m \\sum_{j=1}^n x_{ij}^2}$$"
   ]
  },
  {
   "cell_type": "code",
   "execution_count": 29,
   "id": "cac8a127",
   "metadata": {
    "execution": {
     "iopub.execute_input": "2022-09-07T22:12:59.115692Z",
     "iopub.status.busy": "2022-09-07T22:12:59.114835Z",
     "iopub.status.idle": "2022-09-07T22:12:59.123004Z",
     "shell.execute_reply": "2022-09-07T22:12:59.121916Z"
    },
    "origin_pos": 118,
    "tab": [
     "pytorch"
    ]
   },
   "outputs": [
    {
     "data": {
      "text/plain": [
       "tensor(6.)"
      ]
     },
     "execution_count": 29,
     "metadata": {},
     "output_type": "execute_result"
    }
   ],
   "source": [
    "torch.norm(torch.ones((4, 9)))"
   ]
  }
 ],
 "metadata": {
  "celltoolbar": "Slideshow",
  "language_info": {
   "name": "python"
  },
  "rise": {
   "autolaunch": true,
   "enable_chalkboard": true,
   "overlay": "<div class='my-top-right'><img height=80px src='http://d2l.ai/_static/logo-with-text.png'/></div><div class='my-top-left'></div>",
   "scroll": true
  }
 },
 "nbformat": 4,
 "nbformat_minor": 5
}