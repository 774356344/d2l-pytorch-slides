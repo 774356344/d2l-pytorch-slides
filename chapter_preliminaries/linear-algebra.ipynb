{
 "cells": [
  {
   "cell_type": "markdown",
   "id": "7b56b798",
   "metadata": {
    "slideshow": {
     "slide_type": "-"
    }
   },
   "source": [
    "# Linear Algebra\n",
    "\n",
    "Scalars are implemented as tensors \n",
    "that contain only one element"
   ]
  },
  {
   "cell_type": "code",
   "execution_count": 1,
   "id": "09bec19a",
   "metadata": {
    "execution": {
     "iopub.execute_input": "2022-07-13T07:57:17.762778Z",
     "iopub.status.busy": "2022-07-13T07:57:17.762089Z",
     "iopub.status.idle": "2022-07-13T07:57:18.709166Z",
     "shell.execute_reply": "2022-07-13T07:57:18.707984Z"
    },
    "origin_pos": 3,
    "tab": [
     "pytorch"
    ]
   },
   "outputs": [
    {
     "data": {
      "text/plain": [
       "(tensor(5.), tensor(6.), tensor(1.5000), tensor(9.))"
      ]
     },
     "execution_count": 1,
     "metadata": {},
     "output_type": "execute_result"
    }
   ],
   "source": [
    "import torch\n",
    "\n",
    "x = torch.tensor(3.0)\n",
    "y = torch.tensor(2.0)\n",
    "\n",
    "x + y, x * y, x / y, x**y"
   ]
  },
  {
   "cell_type": "markdown",
   "id": "941b0f49",
   "metadata": {
    "slideshow": {
     "slide_type": "slide"
    }
   },
   "source": [
    "You can think of vectors\n",
    "as fixed-length arrays of scalars"
   ]
  },
  {
   "cell_type": "code",
   "execution_count": 2,
   "id": "2417a6ef",
   "metadata": {
    "execution": {
     "iopub.execute_input": "2022-07-13T07:57:18.715251Z",
     "iopub.status.busy": "2022-07-13T07:57:18.714313Z",
     "iopub.status.idle": "2022-07-13T07:57:18.723414Z",
     "shell.execute_reply": "2022-07-13T07:57:18.722290Z"
    },
    "origin_pos": 7,
    "tab": [
     "pytorch"
    ]
   },
   "outputs": [
    {
     "data": {
      "text/plain": [
       "tensor([0, 1, 2])"
      ]
     },
     "execution_count": 2,
     "metadata": {},
     "output_type": "execute_result"
    }
   ],
   "source": [
    "x = torch.arange(3)\n",
    "x"
   ]
  },
  {
   "cell_type": "markdown",
   "id": "758d6331",
   "metadata": {
    "slideshow": {
     "slide_type": "slide"
    }
   },
   "source": [
    "We access a tensor's elements via indexing"
   ]
  },
  {
   "cell_type": "code",
   "execution_count": 3,
   "id": "6b348759",
   "metadata": {
    "execution": {
     "iopub.execute_input": "2022-07-13T07:57:18.727661Z",
     "iopub.status.busy": "2022-07-13T07:57:18.727000Z",
     "iopub.status.idle": "2022-07-13T07:57:18.734668Z",
     "shell.execute_reply": "2022-07-13T07:57:18.733631Z"
    },
    "origin_pos": 11,
    "tab": [
     "pytorch"
    ]
   },
   "outputs": [
    {
     "data": {
      "text/plain": [
       "tensor(2)"
      ]
     },
     "execution_count": 3,
     "metadata": {},
     "output_type": "execute_result"
    }
   ],
   "source": [
    "x[2]"
   ]
  },
  {
   "cell_type": "markdown",
   "id": "6c7c579b",
   "metadata": {
    "slideshow": {
     "slide_type": "slide"
    }
   },
   "source": [
    "In code, this corresponds to the tensor's length"
   ]
  },
  {
   "cell_type": "code",
   "execution_count": 4,
   "id": "771de672",
   "metadata": {
    "execution": {
     "iopub.execute_input": "2022-07-13T07:57:18.738922Z",
     "iopub.status.busy": "2022-07-13T07:57:18.738243Z",
     "iopub.status.idle": "2022-07-13T07:57:18.744900Z",
     "shell.execute_reply": "2022-07-13T07:57:18.743863Z"
    },
    "origin_pos": 15,
    "tab": [
     "pytorch"
    ]
   },
   "outputs": [
    {
     "data": {
      "text/plain": [
       "3"
      ]
     },
     "execution_count": 4,
     "metadata": {},
     "output_type": "execute_result"
    }
   ],
   "source": [
    "len(x)"
   ]
  },
  {
   "cell_type": "markdown",
   "id": "720908d0",
   "metadata": {
    "slideshow": {
     "slide_type": "-"
    }
   },
   "source": [
    "Tensors with just one axis have shapes with just one element"
   ]
  },
  {
   "cell_type": "code",
   "execution_count": 5,
   "id": "7754aa50",
   "metadata": {
    "execution": {
     "iopub.execute_input": "2022-07-13T07:57:18.748918Z",
     "iopub.status.busy": "2022-07-13T07:57:18.748252Z",
     "iopub.status.idle": "2022-07-13T07:57:18.754812Z",
     "shell.execute_reply": "2022-07-13T07:57:18.753800Z"
    },
    "origin_pos": 19,
    "tab": [
     "pytorch"
    ]
   },
   "outputs": [
    {
     "data": {
      "text/plain": [
       "torch.Size([3])"
      ]
     },
     "execution_count": 5,
     "metadata": {},
     "output_type": "execute_result"
    }
   ],
   "source": [
    "x.shape"
   ]
  },
  {
   "cell_type": "markdown",
   "id": "5180b862",
   "metadata": {
    "slideshow": {
     "slide_type": "slide"
    }
   },
   "source": [
    "We can convert any appropriately size $m \\times n$ tensor \n",
    "into an $m \\times n$ matrix"
   ]
  },
  {
   "cell_type": "code",
   "execution_count": 6,
   "id": "330e4423",
   "metadata": {
    "execution": {
     "iopub.execute_input": "2022-07-13T07:57:18.758735Z",
     "iopub.status.busy": "2022-07-13T07:57:18.758091Z",
     "iopub.status.idle": "2022-07-13T07:57:18.763942Z",
     "shell.execute_reply": "2022-07-13T07:57:18.763028Z"
    },
    "origin_pos": 23,
    "tab": [
     "pytorch"
    ]
   },
   "outputs": [
    {
     "data": {
      "text/plain": [
       "tensor([[0, 1],\n",
       "        [2, 3],\n",
       "        [4, 5]])"
      ]
     },
     "execution_count": 6,
     "metadata": {},
     "output_type": "execute_result"
    }
   ],
   "source": [
    "A = torch.arange(6).reshape(3, 2)\n",
    "A"
   ]
  },
  {
   "cell_type": "markdown",
   "id": "c2e0bddc",
   "metadata": {
    "slideshow": {
     "slide_type": "-"
    }
   },
   "source": [
    "Matrix's transpose"
   ]
  },
  {
   "cell_type": "code",
   "execution_count": 7,
   "id": "80b1ecbc",
   "metadata": {
    "execution": {
     "iopub.execute_input": "2022-07-13T07:57:18.768035Z",
     "iopub.status.busy": "2022-07-13T07:57:18.767037Z",
     "iopub.status.idle": "2022-07-13T07:57:18.775411Z",
     "shell.execute_reply": "2022-07-13T07:57:18.774069Z"
    },
    "origin_pos": 27,
    "tab": [
     "pytorch"
    ]
   },
   "outputs": [
    {
     "data": {
      "text/plain": [
       "tensor([[0, 2, 4],\n",
       "        [1, 3, 5]])"
      ]
     },
     "execution_count": 7,
     "metadata": {},
     "output_type": "execute_result"
    }
   ],
   "source": [
    "A.T"
   ]
  },
  {
   "cell_type": "markdown",
   "id": "b4d43cd2",
   "metadata": {
    "slideshow": {
     "slide_type": "slide"
    }
   },
   "source": [
    "Symmetric matrices are the subset of square matrices\n",
    "that are equal to their own transposes:\n",
    "$\\mathbf{A} = \\mathbf{A}^\\top$"
   ]
  },
  {
   "cell_type": "code",
   "execution_count": 8,
   "id": "9e7cd6dd",
   "metadata": {
    "execution": {
     "iopub.execute_input": "2022-07-13T07:57:18.780913Z",
     "iopub.status.busy": "2022-07-13T07:57:18.780038Z",
     "iopub.status.idle": "2022-07-13T07:57:18.789040Z",
     "shell.execute_reply": "2022-07-13T07:57:18.787983Z"
    },
    "origin_pos": 31,
    "tab": [
     "pytorch"
    ]
   },
   "outputs": [
    {
     "data": {
      "text/plain": [
       "tensor([[True, True, True],\n",
       "        [True, True, True],\n",
       "        [True, True, True]])"
      ]
     },
     "execution_count": 8,
     "metadata": {},
     "output_type": "execute_result"
    }
   ],
   "source": [
    "A = torch.tensor([[1, 2, 3], [2, 0, 4], [3, 4, 5]])\n",
    "A == A.T"
   ]
  },
  {
   "cell_type": "markdown",
   "id": "6cef2518",
   "metadata": {
    "slideshow": {
     "slide_type": "slide"
    }
   },
   "source": [
    "Tensors\n",
    "give us a generic way to describe \n",
    "extensions to $n^{\\mathrm{th}}$-order arrays"
   ]
  },
  {
   "cell_type": "code",
   "execution_count": 9,
   "id": "96b3d901",
   "metadata": {
    "execution": {
     "iopub.execute_input": "2022-07-13T07:57:18.793590Z",
     "iopub.status.busy": "2022-07-13T07:57:18.792758Z",
     "iopub.status.idle": "2022-07-13T07:57:18.801050Z",
     "shell.execute_reply": "2022-07-13T07:57:18.799985Z"
    },
    "origin_pos": 35,
    "tab": [
     "pytorch"
    ]
   },
   "outputs": [
    {
     "data": {
      "text/plain": [
       "tensor([[[ 0,  1,  2,  3],\n",
       "         [ 4,  5,  6,  7],\n",
       "         [ 8,  9, 10, 11]],\n",
       "\n",
       "        [[12, 13, 14, 15],\n",
       "         [16, 17, 18, 19],\n",
       "         [20, 21, 22, 23]]])"
      ]
     },
     "execution_count": 9,
     "metadata": {},
     "output_type": "execute_result"
    }
   ],
   "source": [
    "torch.arange(24).reshape(2, 3, 4)"
   ]
  },
  {
   "cell_type": "code",
   "execution_count": 10,
   "id": "1c9f3ba4",
   "metadata": {
    "execution": {
     "iopub.execute_input": "2022-07-13T07:57:18.805436Z",
     "iopub.status.busy": "2022-07-13T07:57:18.804692Z",
     "iopub.status.idle": "2022-07-13T07:57:18.814518Z",
     "shell.execute_reply": "2022-07-13T07:57:18.813467Z"
    },
    "origin_pos": 39,
    "tab": [
     "pytorch"
    ]
   },
   "outputs": [
    {
     "data": {
      "text/plain": [
       "(tensor([[0., 1., 2.],\n",
       "         [3., 4., 5.]]),\n",
       " tensor([[ 0.,  2.,  4.],\n",
       "         [ 6.,  8., 10.]]))"
      ]
     },
     "execution_count": 10,
     "metadata": {},
     "output_type": "execute_result"
    }
   ],
   "source": [
    "A = torch.arange(6, dtype=torch.float32).reshape(2, 3)\n",
    "B = A.clone()\n",
    "A, A + B"
   ]
  },
  {
   "cell_type": "markdown",
   "id": "b3c6a6e9",
   "metadata": {
    "slideshow": {
     "slide_type": "slide"
    }
   },
   "source": [
    "Elementwise product of two matrices\n",
    "is called their *Hadamard product*"
   ]
  },
  {
   "cell_type": "code",
   "execution_count": 11,
   "id": "6c031de5",
   "metadata": {
    "execution": {
     "iopub.execute_input": "2022-07-13T07:57:18.818849Z",
     "iopub.status.busy": "2022-07-13T07:57:18.817946Z",
     "iopub.status.idle": "2022-07-13T07:57:18.824738Z",
     "shell.execute_reply": "2022-07-13T07:57:18.823653Z"
    },
    "origin_pos": 43,
    "tab": [
     "pytorch"
    ]
   },
   "outputs": [
    {
     "data": {
      "text/plain": [
       "tensor([[ 0.,  1.,  4.],\n",
       "        [ 9., 16., 25.]])"
      ]
     },
     "execution_count": 11,
     "metadata": {},
     "output_type": "execute_result"
    }
   ],
   "source": [
    "A * B"
   ]
  },
  {
   "cell_type": "markdown",
   "id": "d47a1f4c",
   "metadata": {
    "slideshow": {
     "slide_type": "slide"
    }
   },
   "source": [
    "Adding or multiplying a scalar and a tensor"
   ]
  },
  {
   "cell_type": "code",
   "execution_count": 12,
   "id": "2ad66ddc",
   "metadata": {
    "execution": {
     "iopub.execute_input": "2022-07-13T07:57:18.829304Z",
     "iopub.status.busy": "2022-07-13T07:57:18.828922Z",
     "iopub.status.idle": "2022-07-13T07:57:18.837726Z",
     "shell.execute_reply": "2022-07-13T07:57:18.836910Z"
    },
    "origin_pos": 47,
    "tab": [
     "pytorch"
    ]
   },
   "outputs": [
    {
     "data": {
      "text/plain": [
       "(tensor([[[ 2,  3,  4,  5],\n",
       "          [ 6,  7,  8,  9],\n",
       "          [10, 11, 12, 13]],\n",
       " \n",
       "         [[14, 15, 16, 17],\n",
       "          [18, 19, 20, 21],\n",
       "          [22, 23, 24, 25]]]),\n",
       " torch.Size([2, 3, 4]))"
      ]
     },
     "execution_count": 12,
     "metadata": {},
     "output_type": "execute_result"
    }
   ],
   "source": [
    "a = 2\n",
    "X = torch.arange(24).reshape(2, 3, 4)\n",
    "a + X, (a * X).shape"
   ]
  },
  {
   "cell_type": "markdown",
   "id": "6578c5bb",
   "metadata": {
    "slideshow": {
     "slide_type": "slide"
    }
   },
   "source": [
    "The sum of a tensor's elements"
   ]
  },
  {
   "cell_type": "code",
   "execution_count": 13,
   "id": "71b7b165",
   "metadata": {
    "execution": {
     "iopub.execute_input": "2022-07-13T07:57:18.841036Z",
     "iopub.status.busy": "2022-07-13T07:57:18.840760Z",
     "iopub.status.idle": "2022-07-13T07:57:18.847350Z",
     "shell.execute_reply": "2022-07-13T07:57:18.846480Z"
    },
    "origin_pos": 51,
    "tab": [
     "pytorch"
    ]
   },
   "outputs": [
    {
     "data": {
      "text/plain": [
       "(tensor([0., 1., 2.]), tensor(3.))"
      ]
     },
     "execution_count": 13,
     "metadata": {},
     "output_type": "execute_result"
    }
   ],
   "source": [
    "x = torch.arange(3, dtype=torch.float32)\n",
    "x, x.sum()"
   ]
  },
  {
   "cell_type": "markdown",
   "id": "24a592cd",
   "metadata": {
    "slideshow": {
     "slide_type": "slide"
    }
   },
   "source": [
    "Sums over the elements of tensors of arbitrary shape"
   ]
  },
  {
   "cell_type": "code",
   "execution_count": 14,
   "id": "b1eb856d",
   "metadata": {
    "execution": {
     "iopub.execute_input": "2022-07-13T07:57:18.850760Z",
     "iopub.status.busy": "2022-07-13T07:57:18.850227Z",
     "iopub.status.idle": "2022-07-13T07:57:18.855840Z",
     "shell.execute_reply": "2022-07-13T07:57:18.854998Z"
    },
    "origin_pos": 55,
    "tab": [
     "pytorch"
    ]
   },
   "outputs": [
    {
     "data": {
      "text/plain": [
       "(torch.Size([2, 3]), tensor(15.))"
      ]
     },
     "execution_count": 14,
     "metadata": {},
     "output_type": "execute_result"
    }
   ],
   "source": [
    "A.shape, A.sum()"
   ]
  },
  {
   "cell_type": "markdown",
   "id": "087905c3",
   "metadata": {
    "slideshow": {
     "slide_type": "slide"
    }
   },
   "source": [
    "Specify the axes \n",
    "along which the tensor should be reduced"
   ]
  },
  {
   "cell_type": "code",
   "execution_count": 15,
   "id": "6e705c1a",
   "metadata": {
    "execution": {
     "iopub.execute_input": "2022-07-13T07:57:18.859146Z",
     "iopub.status.busy": "2022-07-13T07:57:18.858682Z",
     "iopub.status.idle": "2022-07-13T07:57:18.864305Z",
     "shell.execute_reply": "2022-07-13T07:57:18.863403Z"
    },
    "origin_pos": 59,
    "tab": [
     "pytorch"
    ]
   },
   "outputs": [
    {
     "data": {
      "text/plain": [
       "(torch.Size([2, 3]), torch.Size([3]))"
      ]
     },
     "execution_count": 15,
     "metadata": {},
     "output_type": "execute_result"
    }
   ],
   "source": [
    "A.shape, A.sum(axis=0).shape"
   ]
  },
  {
   "cell_type": "code",
   "execution_count": 16,
   "id": "0318de14",
   "metadata": {
    "execution": {
     "iopub.execute_input": "2022-07-13T07:57:18.868503Z",
     "iopub.status.busy": "2022-07-13T07:57:18.867972Z",
     "iopub.status.idle": "2022-07-13T07:57:18.875026Z",
     "shell.execute_reply": "2022-07-13T07:57:18.873891Z"
    },
    "origin_pos": 63,
    "tab": [
     "pytorch"
    ]
   },
   "outputs": [
    {
     "data": {
      "text/plain": [
       "(torch.Size([2, 3]), torch.Size([2]))"
      ]
     },
     "execution_count": 16,
     "metadata": {},
     "output_type": "execute_result"
    }
   ],
   "source": [
    "A.shape, A.sum(axis=1).shape"
   ]
  },
  {
   "cell_type": "code",
   "execution_count": 17,
   "id": "aa460043",
   "metadata": {
    "execution": {
     "iopub.execute_input": "2022-07-13T07:57:18.880291Z",
     "iopub.status.busy": "2022-07-13T07:57:18.879932Z",
     "iopub.status.idle": "2022-07-13T07:57:18.887568Z",
     "shell.execute_reply": "2022-07-13T07:57:18.886488Z"
    },
    "origin_pos": 67,
    "tab": [
     "pytorch"
    ]
   },
   "outputs": [
    {
     "data": {
      "text/plain": [
       "tensor(True)"
      ]
     },
     "execution_count": 17,
     "metadata": {},
     "output_type": "execute_result"
    }
   ],
   "source": [
    "A.sum(axis=[0, 1]) == A.sum()"
   ]
  },
  {
   "cell_type": "markdown",
   "id": "d85d930e",
   "metadata": {
    "slideshow": {
     "slide_type": "slide"
    }
   },
   "source": [
    "A related quantity is the *mean*, also called the *average*"
   ]
  },
  {
   "cell_type": "code",
   "execution_count": 18,
   "id": "4bfefee1",
   "metadata": {
    "execution": {
     "iopub.execute_input": "2022-07-13T07:57:18.891562Z",
     "iopub.status.busy": "2022-07-13T07:57:18.890801Z",
     "iopub.status.idle": "2022-07-13T07:57:18.897626Z",
     "shell.execute_reply": "2022-07-13T07:57:18.896576Z"
    },
    "origin_pos": 71,
    "tab": [
     "pytorch"
    ]
   },
   "outputs": [
    {
     "data": {
      "text/plain": [
       "(tensor(2.5000), tensor(2.5000))"
      ]
     },
     "execution_count": 18,
     "metadata": {},
     "output_type": "execute_result"
    }
   ],
   "source": [
    "A.mean(), A.sum() / A.numel()"
   ]
  },
  {
   "cell_type": "code",
   "execution_count": 19,
   "id": "9d3b0e21",
   "metadata": {
    "execution": {
     "iopub.execute_input": "2022-07-13T07:57:18.902296Z",
     "iopub.status.busy": "2022-07-13T07:57:18.901637Z",
     "iopub.status.idle": "2022-07-13T07:57:18.908137Z",
     "shell.execute_reply": "2022-07-13T07:57:18.907312Z"
    },
    "origin_pos": 75,
    "tab": [
     "pytorch"
    ]
   },
   "outputs": [
    {
     "data": {
      "text/plain": [
       "(tensor([1.5000, 2.5000, 3.5000]), tensor([1.5000, 2.5000, 3.5000]))"
      ]
     },
     "execution_count": 19,
     "metadata": {},
     "output_type": "execute_result"
    }
   ],
   "source": [
    "A.mean(axis=0), A.sum(axis=0) / A.shape[0]"
   ]
  },
  {
   "cell_type": "markdown",
   "id": "c57209ad",
   "metadata": {
    "slideshow": {
     "slide_type": "slide"
    }
   },
   "source": [
    "Keep the number of axes unchanged"
   ]
  },
  {
   "cell_type": "code",
   "execution_count": 20,
   "id": "0c48caca",
   "metadata": {
    "execution": {
     "iopub.execute_input": "2022-07-13T07:57:18.911827Z",
     "iopub.status.busy": "2022-07-13T07:57:18.911015Z",
     "iopub.status.idle": "2022-07-13T07:57:18.918244Z",
     "shell.execute_reply": "2022-07-13T07:57:18.917166Z"
    },
    "origin_pos": 79,
    "tab": [
     "pytorch"
    ]
   },
   "outputs": [
    {
     "data": {
      "text/plain": [
       "(tensor([[ 3.],\n",
       "         [12.]]),\n",
       " torch.Size([2, 1]))"
      ]
     },
     "execution_count": 20,
     "metadata": {},
     "output_type": "execute_result"
    }
   ],
   "source": [
    "sum_A = A.sum(axis=1, keepdims=True)\n",
    "sum_A, sum_A.shape"
   ]
  },
  {
   "cell_type": "markdown",
   "id": "be17e342",
   "metadata": {
    "slideshow": {
     "slide_type": "-"
    }
   },
   "source": [
    "Divide `A` by `sum_A` with broadcasting"
   ]
  },
  {
   "cell_type": "code",
   "execution_count": 21,
   "id": "30162c5a",
   "metadata": {
    "execution": {
     "iopub.execute_input": "2022-07-13T07:57:18.923330Z",
     "iopub.status.busy": "2022-07-13T07:57:18.922560Z",
     "iopub.status.idle": "2022-07-13T07:57:18.931370Z",
     "shell.execute_reply": "2022-07-13T07:57:18.930018Z"
    },
    "origin_pos": 83,
    "tab": [
     "pytorch"
    ]
   },
   "outputs": [
    {
     "data": {
      "text/plain": [
       "tensor([[0.0000, 0.3333, 0.6667],\n",
       "        [0.2500, 0.3333, 0.4167]])"
      ]
     },
     "execution_count": 21,
     "metadata": {},
     "output_type": "execute_result"
    }
   ],
   "source": [
    "A / sum_A"
   ]
  },
  {
   "cell_type": "markdown",
   "id": "dead7620",
   "metadata": {
    "slideshow": {
     "slide_type": "slide"
    }
   },
   "source": [
    "The cumulative sum of elements of `A` along some axis"
   ]
  },
  {
   "cell_type": "code",
   "execution_count": 22,
   "id": "5eb0ef83",
   "metadata": {
    "execution": {
     "iopub.execute_input": "2022-07-13T07:57:18.936710Z",
     "iopub.status.busy": "2022-07-13T07:57:18.935936Z",
     "iopub.status.idle": "2022-07-13T07:57:18.943493Z",
     "shell.execute_reply": "2022-07-13T07:57:18.942583Z"
    },
    "origin_pos": 87,
    "tab": [
     "pytorch"
    ]
   },
   "outputs": [
    {
     "data": {
      "text/plain": [
       "tensor([[0., 1., 2.],\n",
       "        [3., 5., 7.]])"
      ]
     },
     "execution_count": 22,
     "metadata": {},
     "output_type": "execute_result"
    }
   ],
   "source": [
    "A.cumsum(axis=0)"
   ]
  },
  {
   "cell_type": "markdown",
   "id": "9066b627",
   "metadata": {
    "slideshow": {
     "slide_type": "slide"
    }
   },
   "source": [
    "The *dot product* of two vectors is a sum over the products of the elements at the same position"
   ]
  },
  {
   "cell_type": "code",
   "execution_count": 23,
   "id": "641f66f9",
   "metadata": {
    "execution": {
     "iopub.execute_input": "2022-07-13T07:57:18.947807Z",
     "iopub.status.busy": "2022-07-13T07:57:18.947025Z",
     "iopub.status.idle": "2022-07-13T07:57:18.956707Z",
     "shell.execute_reply": "2022-07-13T07:57:18.955626Z"
    },
    "origin_pos": 91,
    "tab": [
     "pytorch"
    ]
   },
   "outputs": [
    {
     "data": {
      "text/plain": [
       "(tensor([0., 1., 2.]), tensor([1., 1., 1.]), tensor(3.))"
      ]
     },
     "execution_count": 23,
     "metadata": {},
     "output_type": "execute_result"
    }
   ],
   "source": [
    "y = torch.ones(3, dtype = torch.float32)\n",
    "x, y, torch.dot(x, y)"
   ]
  },
  {
   "cell_type": "markdown",
   "id": "b0ba51fb",
   "metadata": {
    "slideshow": {
     "slide_type": "-"
    }
   },
   "source": [
    "We can calculate the dot product of two vectors \n",
    "by performing an elementwise multiplication followed by a sum"
   ]
  },
  {
   "cell_type": "code",
   "execution_count": 24,
   "id": "218cc37c",
   "metadata": {
    "execution": {
     "iopub.execute_input": "2022-07-13T07:57:18.960980Z",
     "iopub.status.busy": "2022-07-13T07:57:18.960161Z",
     "iopub.status.idle": "2022-07-13T07:57:18.967031Z",
     "shell.execute_reply": "2022-07-13T07:57:18.965943Z"
    },
    "origin_pos": 95,
    "tab": [
     "pytorch"
    ]
   },
   "outputs": [
    {
     "data": {
      "text/plain": [
       "tensor(3.)"
      ]
     },
     "execution_count": 24,
     "metadata": {},
     "output_type": "execute_result"
    }
   ],
   "source": [
    "torch.sum(x * y)"
   ]
  },
  {
   "cell_type": "markdown",
   "id": "58a4793f",
   "metadata": {
    "slideshow": {
     "slide_type": "slide"
    }
   },
   "source": [
    "The matrix-vector product $\\mathbf{A}\\mathbf{x}$\n",
    "is simply a column vector of length $m$,\n",
    "whose $i^\\mathrm{th}$ element is the dot product \n",
    "$\\mathbf{a}^\\top_i \\mathbf{x}$"
   ]
  },
  {
   "cell_type": "code",
   "execution_count": 25,
   "id": "ddb97b65",
   "metadata": {
    "execution": {
     "iopub.execute_input": "2022-07-13T07:57:18.971924Z",
     "iopub.status.busy": "2022-07-13T07:57:18.971011Z",
     "iopub.status.idle": "2022-07-13T07:57:18.980763Z",
     "shell.execute_reply": "2022-07-13T07:57:18.979553Z"
    },
    "origin_pos": 102,
    "tab": [
     "pytorch"
    ]
   },
   "outputs": [
    {
     "data": {
      "text/plain": [
       "(torch.Size([2, 3]), torch.Size([3]), tensor([ 5., 14.]), tensor([ 5., 14.]))"
      ]
     },
     "execution_count": 25,
     "metadata": {},
     "output_type": "execute_result"
    }
   ],
   "source": [
    "A.shape, x.shape, torch.mv(A, x), A@x"
   ]
  },
  {
   "cell_type": "markdown",
   "id": "cd2f76fa",
   "metadata": {
    "slideshow": {
     "slide_type": "slide"
    }
   },
   "source": [
    "We can think of the matrix-matrix multiplication $\\mathbf{AB}$\n",
    "as performing $m$ matrix-vector products \n",
    "or $m \\times n$ dot products \n",
    "and stitching the results together \n",
    "to form an $n \\times m$ matrix"
   ]
  },
  {
   "cell_type": "code",
   "execution_count": 26,
   "id": "18629a0f",
   "metadata": {
    "execution": {
     "iopub.execute_input": "2022-07-13T07:57:18.985938Z",
     "iopub.status.busy": "2022-07-13T07:57:18.984831Z",
     "iopub.status.idle": "2022-07-13T07:57:18.996286Z",
     "shell.execute_reply": "2022-07-13T07:57:18.994908Z"
    },
    "origin_pos": 106,
    "tab": [
     "pytorch"
    ]
   },
   "outputs": [
    {
     "data": {
      "text/plain": [
       "(tensor([[ 3.,  3.,  3.,  3.],\n",
       "         [12., 12., 12., 12.]]),\n",
       " tensor([[ 3.,  3.,  3.,  3.],\n",
       "         [12., 12., 12., 12.]]))"
      ]
     },
     "execution_count": 26,
     "metadata": {},
     "output_type": "execute_result"
    }
   ],
   "source": [
    "B = torch.ones(3, 4)\n",
    "torch.mm(A, B), A@B"
   ]
  },
  {
   "cell_type": "markdown",
   "id": "67d23875",
   "metadata": {
    "slideshow": {
     "slide_type": "slide"
    }
   },
   "source": [
    "The $\\ell_2$ *norm*\n",
    "$$\\|\\mathbf{x}\\|_2 = \\sqrt{\\sum_{i=1}^n x_i^2}$$"
   ]
  },
  {
   "cell_type": "code",
   "execution_count": 27,
   "id": "d7a265b6",
   "metadata": {
    "execution": {
     "iopub.execute_input": "2022-07-13T07:57:19.000989Z",
     "iopub.status.busy": "2022-07-13T07:57:19.000127Z",
     "iopub.status.idle": "2022-07-13T07:57:19.008834Z",
     "shell.execute_reply": "2022-07-13T07:57:19.007506Z"
    },
    "origin_pos": 110,
    "tab": [
     "pytorch"
    ]
   },
   "outputs": [
    {
     "data": {
      "text/plain": [
       "tensor(5.)"
      ]
     },
     "execution_count": 27,
     "metadata": {},
     "output_type": "execute_result"
    }
   ],
   "source": [
    "u = torch.tensor([3.0, -4.0])\n",
    "torch.norm(u)"
   ]
  },
  {
   "cell_type": "markdown",
   "id": "3fbfdb50",
   "metadata": {
    "slideshow": {
     "slide_type": "slide"
    }
   },
   "source": [
    "The $\\ell_1$ norm\n",
    "$$\\|\\mathbf{x}\\|_1 = \\sum_{i=1}^n \\left|x_i \\right|$$"
   ]
  },
  {
   "cell_type": "code",
   "execution_count": 28,
   "id": "c6f7560e",
   "metadata": {
    "execution": {
     "iopub.execute_input": "2022-07-13T07:57:19.014232Z",
     "iopub.status.busy": "2022-07-13T07:57:19.013330Z",
     "iopub.status.idle": "2022-07-13T07:57:19.022175Z",
     "shell.execute_reply": "2022-07-13T07:57:19.021006Z"
    },
    "origin_pos": 114,
    "tab": [
     "pytorch"
    ]
   },
   "outputs": [
    {
     "data": {
      "text/plain": [
       "tensor(7.)"
      ]
     },
     "execution_count": 28,
     "metadata": {},
     "output_type": "execute_result"
    }
   ],
   "source": [
    "torch.abs(u).sum()"
   ]
  },
  {
   "cell_type": "markdown",
   "id": "437f5e24",
   "metadata": {
    "slideshow": {
     "slide_type": "slide"
    }
   },
   "source": [
    "The *Frobenius norm*, \n",
    "which is much easier to compute\n",
    "$$\\|\\mathbf{X}\\|_F = \\sqrt{\\sum_{i=1}^m \\sum_{j=1}^n x_{ij}^2}$$"
   ]
  },
  {
   "cell_type": "code",
   "execution_count": 29,
   "id": "f0e11f92",
   "metadata": {
    "execution": {
     "iopub.execute_input": "2022-07-13T07:57:19.027183Z",
     "iopub.status.busy": "2022-07-13T07:57:19.026495Z",
     "iopub.status.idle": "2022-07-13T07:57:19.033429Z",
     "shell.execute_reply": "2022-07-13T07:57:19.032441Z"
    },
    "origin_pos": 118,
    "tab": [
     "pytorch"
    ]
   },
   "outputs": [
    {
     "data": {
      "text/plain": [
       "tensor(6.)"
      ]
     },
     "execution_count": 29,
     "metadata": {},
     "output_type": "execute_result"
    }
   ],
   "source": [
    "torch.norm(torch.ones((4, 9)))"
   ]
  }
 ],
 "metadata": {
  "celltoolbar": "Slideshow",
  "language_info": {
   "name": "python"
  },
  "rise": {
   "autolaunch": true,
   "enable_chalkboard": true,
   "overlay": "<div class='my-top-right'><img height=80px src='http://d2l.ai/_static/logo-with-text.png'/></div><div class='my-top-left'></div>",
   "scroll": true
  }
 },
 "nbformat": 4,
 "nbformat_minor": 5
}