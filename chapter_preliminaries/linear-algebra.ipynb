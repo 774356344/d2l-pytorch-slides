{
 "cells": [
  {
   "cell_type": "markdown",
   "id": "4bf2471c",
   "metadata": {
    "slideshow": {
     "slide_type": "-"
    }
   },
   "source": [
    "# Linear Algebra\n",
    "\n",
    "Scalars are implemented as tensors \n",
    "that contain only one element"
   ]
  },
  {
   "cell_type": "code",
   "execution_count": 1,
   "id": "7009f0a1",
   "metadata": {
    "execution": {
     "iopub.execute_input": "2022-08-19T17:12:44.057723Z",
     "iopub.status.busy": "2022-08-19T17:12:44.057353Z",
     "iopub.status.idle": "2022-08-19T17:12:44.878166Z",
     "shell.execute_reply": "2022-08-19T17:12:44.877354Z"
    },
    "origin_pos": 3,
    "tab": [
     "pytorch"
    ]
   },
   "outputs": [
    {
     "data": {
      "text/plain": [
       "(tensor(5.), tensor(6.), tensor(1.5000), tensor(9.))"
      ]
     },
     "execution_count": 1,
     "metadata": {},
     "output_type": "execute_result"
    }
   ],
   "source": [
    "import torch\n",
    "\n",
    "x = torch.tensor(3.0)\n",
    "y = torch.tensor(2.0)\n",
    "\n",
    "x + y, x * y, x / y, x**y"
   ]
  },
  {
   "cell_type": "markdown",
   "id": "355c8b5d",
   "metadata": {
    "slideshow": {
     "slide_type": "slide"
    }
   },
   "source": [
    "You can think of vectors\n",
    "as fixed-length arrays of scalars"
   ]
  },
  {
   "cell_type": "code",
   "execution_count": 2,
   "id": "b12b6ede",
   "metadata": {
    "execution": {
     "iopub.execute_input": "2022-08-19T17:12:44.882108Z",
     "iopub.status.busy": "2022-08-19T17:12:44.881571Z",
     "iopub.status.idle": "2022-08-19T17:12:44.887264Z",
     "shell.execute_reply": "2022-08-19T17:12:44.886484Z"
    },
    "origin_pos": 7,
    "tab": [
     "pytorch"
    ]
   },
   "outputs": [
    {
     "data": {
      "text/plain": [
       "tensor([0, 1, 2])"
      ]
     },
     "execution_count": 2,
     "metadata": {},
     "output_type": "execute_result"
    }
   ],
   "source": [
    "x = torch.arange(3)\n",
    "x"
   ]
  },
  {
   "cell_type": "markdown",
   "id": "49fa5672",
   "metadata": {
    "slideshow": {
     "slide_type": "slide"
    }
   },
   "source": [
    "We access a tensor's elements via indexing"
   ]
  },
  {
   "cell_type": "code",
   "execution_count": 3,
   "id": "53d256a7",
   "metadata": {
    "execution": {
     "iopub.execute_input": "2022-08-19T17:12:44.890648Z",
     "iopub.status.busy": "2022-08-19T17:12:44.890231Z",
     "iopub.status.idle": "2022-08-19T17:12:44.895578Z",
     "shell.execute_reply": "2022-08-19T17:12:44.894817Z"
    },
    "origin_pos": 11,
    "tab": [
     "pytorch"
    ]
   },
   "outputs": [
    {
     "data": {
      "text/plain": [
       "tensor(2)"
      ]
     },
     "execution_count": 3,
     "metadata": {},
     "output_type": "execute_result"
    }
   ],
   "source": [
    "x[2]"
   ]
  },
  {
   "cell_type": "markdown",
   "id": "1a05f542",
   "metadata": {
    "slideshow": {
     "slide_type": "slide"
    }
   },
   "source": [
    "In code, this corresponds to the tensor's length"
   ]
  },
  {
   "cell_type": "code",
   "execution_count": 4,
   "id": "960e036d",
   "metadata": {
    "execution": {
     "iopub.execute_input": "2022-08-19T17:12:44.899099Z",
     "iopub.status.busy": "2022-08-19T17:12:44.898560Z",
     "iopub.status.idle": "2022-08-19T17:12:44.903442Z",
     "shell.execute_reply": "2022-08-19T17:12:44.902647Z"
    },
    "origin_pos": 15,
    "tab": [
     "pytorch"
    ]
   },
   "outputs": [
    {
     "data": {
      "text/plain": [
       "3"
      ]
     },
     "execution_count": 4,
     "metadata": {},
     "output_type": "execute_result"
    }
   ],
   "source": [
    "len(x)"
   ]
  },
  {
   "cell_type": "markdown",
   "id": "a4505fa2",
   "metadata": {
    "slideshow": {
     "slide_type": "-"
    }
   },
   "source": [
    "Tensors with just one axis have shapes with just one element"
   ]
  },
  {
   "cell_type": "code",
   "execution_count": 5,
   "id": "ad5366c2",
   "metadata": {
    "execution": {
     "iopub.execute_input": "2022-08-19T17:12:44.907091Z",
     "iopub.status.busy": "2022-08-19T17:12:44.906447Z",
     "iopub.status.idle": "2022-08-19T17:12:44.911341Z",
     "shell.execute_reply": "2022-08-19T17:12:44.910559Z"
    },
    "origin_pos": 19,
    "tab": [
     "pytorch"
    ]
   },
   "outputs": [
    {
     "data": {
      "text/plain": [
       "torch.Size([3])"
      ]
     },
     "execution_count": 5,
     "metadata": {},
     "output_type": "execute_result"
    }
   ],
   "source": [
    "x.shape"
   ]
  },
  {
   "cell_type": "markdown",
   "id": "cd6a6ad5",
   "metadata": {
    "slideshow": {
     "slide_type": "slide"
    }
   },
   "source": [
    "We can convert any appropriately size $m \\times n$ tensor \n",
    "into an $m \\times n$ matrix"
   ]
  },
  {
   "cell_type": "code",
   "execution_count": 6,
   "id": "97e8ee5b",
   "metadata": {
    "execution": {
     "iopub.execute_input": "2022-08-19T17:12:44.914921Z",
     "iopub.status.busy": "2022-08-19T17:12:44.914273Z",
     "iopub.status.idle": "2022-08-19T17:12:44.919742Z",
     "shell.execute_reply": "2022-08-19T17:12:44.918979Z"
    },
    "origin_pos": 23,
    "tab": [
     "pytorch"
    ]
   },
   "outputs": [
    {
     "data": {
      "text/plain": [
       "tensor([[0, 1],\n",
       "        [2, 3],\n",
       "        [4, 5]])"
      ]
     },
     "execution_count": 6,
     "metadata": {},
     "output_type": "execute_result"
    }
   ],
   "source": [
    "A = torch.arange(6).reshape(3, 2)\n",
    "A"
   ]
  },
  {
   "cell_type": "markdown",
   "id": "576782af",
   "metadata": {
    "slideshow": {
     "slide_type": "-"
    }
   },
   "source": [
    "Matrix's transpose"
   ]
  },
  {
   "cell_type": "code",
   "execution_count": 7,
   "id": "64409804",
   "metadata": {
    "execution": {
     "iopub.execute_input": "2022-08-19T17:12:44.923396Z",
     "iopub.status.busy": "2022-08-19T17:12:44.922800Z",
     "iopub.status.idle": "2022-08-19T17:12:44.927998Z",
     "shell.execute_reply": "2022-08-19T17:12:44.927247Z"
    },
    "origin_pos": 27,
    "tab": [
     "pytorch"
    ]
   },
   "outputs": [
    {
     "data": {
      "text/plain": [
       "tensor([[0, 2, 4],\n",
       "        [1, 3, 5]])"
      ]
     },
     "execution_count": 7,
     "metadata": {},
     "output_type": "execute_result"
    }
   ],
   "source": [
    "A.T"
   ]
  },
  {
   "cell_type": "markdown",
   "id": "bc14a60e",
   "metadata": {
    "slideshow": {
     "slide_type": "slide"
    }
   },
   "source": [
    "Symmetric matrices are the subset of square matrices\n",
    "that are equal to their own transposes:\n",
    "$\\mathbf{A} = \\mathbf{A}^\\top$"
   ]
  },
  {
   "cell_type": "code",
   "execution_count": 8,
   "id": "99d4083a",
   "metadata": {
    "execution": {
     "iopub.execute_input": "2022-08-19T17:12:44.931599Z",
     "iopub.status.busy": "2022-08-19T17:12:44.930967Z",
     "iopub.status.idle": "2022-08-19T17:12:44.936822Z",
     "shell.execute_reply": "2022-08-19T17:12:44.936070Z"
    },
    "origin_pos": 31,
    "tab": [
     "pytorch"
    ]
   },
   "outputs": [
    {
     "data": {
      "text/plain": [
       "tensor([[True, True, True],\n",
       "        [True, True, True],\n",
       "        [True, True, True]])"
      ]
     },
     "execution_count": 8,
     "metadata": {},
     "output_type": "execute_result"
    }
   ],
   "source": [
    "A = torch.tensor([[1, 2, 3], [2, 0, 4], [3, 4, 5]])\n",
    "A == A.T"
   ]
  },
  {
   "cell_type": "markdown",
   "id": "55c4bc8d",
   "metadata": {
    "slideshow": {
     "slide_type": "slide"
    }
   },
   "source": [
    "Tensors\n",
    "give us a generic way to describe \n",
    "extensions to $n^{\\mathrm{th}}$-order arrays"
   ]
  },
  {
   "cell_type": "code",
   "execution_count": 9,
   "id": "64c80191",
   "metadata": {
    "execution": {
     "iopub.execute_input": "2022-08-19T17:12:44.940400Z",
     "iopub.status.busy": "2022-08-19T17:12:44.939775Z",
     "iopub.status.idle": "2022-08-19T17:12:44.945407Z",
     "shell.execute_reply": "2022-08-19T17:12:44.944644Z"
    },
    "origin_pos": 35,
    "tab": [
     "pytorch"
    ]
   },
   "outputs": [
    {
     "data": {
      "text/plain": [
       "tensor([[[ 0,  1,  2,  3],\n",
       "         [ 4,  5,  6,  7],\n",
       "         [ 8,  9, 10, 11]],\n",
       "\n",
       "        [[12, 13, 14, 15],\n",
       "         [16, 17, 18, 19],\n",
       "         [20, 21, 22, 23]]])"
      ]
     },
     "execution_count": 9,
     "metadata": {},
     "output_type": "execute_result"
    }
   ],
   "source": [
    "torch.arange(24).reshape(2, 3, 4)"
   ]
  },
  {
   "cell_type": "code",
   "execution_count": 10,
   "id": "5c69ec3e",
   "metadata": {
    "execution": {
     "iopub.execute_input": "2022-08-19T17:12:44.949027Z",
     "iopub.status.busy": "2022-08-19T17:12:44.948429Z",
     "iopub.status.idle": "2022-08-19T17:12:44.955015Z",
     "shell.execute_reply": "2022-08-19T17:12:44.954224Z"
    },
    "origin_pos": 39,
    "tab": [
     "pytorch"
    ]
   },
   "outputs": [
    {
     "data": {
      "text/plain": [
       "(tensor([[0., 1., 2.],\n",
       "         [3., 4., 5.]]),\n",
       " tensor([[ 0.,  2.,  4.],\n",
       "         [ 6.,  8., 10.]]))"
      ]
     },
     "execution_count": 10,
     "metadata": {},
     "output_type": "execute_result"
    }
   ],
   "source": [
    "A = torch.arange(6, dtype=torch.float32).reshape(2, 3)\n",
    "B = A.clone()\n",
    "A, A + B"
   ]
  },
  {
   "cell_type": "markdown",
   "id": "48c05e96",
   "metadata": {
    "slideshow": {
     "slide_type": "slide"
    }
   },
   "source": [
    "Elementwise product of two matrices\n",
    "is called their *Hadamard product*"
   ]
  },
  {
   "cell_type": "code",
   "execution_count": 11,
   "id": "2fa5c4ae",
   "metadata": {
    "execution": {
     "iopub.execute_input": "2022-08-19T17:12:44.958634Z",
     "iopub.status.busy": "2022-08-19T17:12:44.957942Z",
     "iopub.status.idle": "2022-08-19T17:12:44.965781Z",
     "shell.execute_reply": "2022-08-19T17:12:44.964514Z"
    },
    "origin_pos": 43,
    "tab": [
     "pytorch"
    ]
   },
   "outputs": [
    {
     "data": {
      "text/plain": [
       "tensor([[ 0.,  1.,  4.],\n",
       "        [ 9., 16., 25.]])"
      ]
     },
     "execution_count": 11,
     "metadata": {},
     "output_type": "execute_result"
    }
   ],
   "source": [
    "A * B"
   ]
  },
  {
   "cell_type": "markdown",
   "id": "0089156d",
   "metadata": {
    "slideshow": {
     "slide_type": "slide"
    }
   },
   "source": [
    "Adding or multiplying a scalar and a tensor"
   ]
  },
  {
   "cell_type": "code",
   "execution_count": 12,
   "id": "ecec2d73",
   "metadata": {
    "execution": {
     "iopub.execute_input": "2022-08-19T17:12:44.969704Z",
     "iopub.status.busy": "2022-08-19T17:12:44.969320Z",
     "iopub.status.idle": "2022-08-19T17:12:44.979164Z",
     "shell.execute_reply": "2022-08-19T17:12:44.977830Z"
    },
    "origin_pos": 47,
    "tab": [
     "pytorch"
    ]
   },
   "outputs": [
    {
     "data": {
      "text/plain": [
       "(tensor([[[ 2,  3,  4,  5],\n",
       "          [ 6,  7,  8,  9],\n",
       "          [10, 11, 12, 13]],\n",
       " \n",
       "         [[14, 15, 16, 17],\n",
       "          [18, 19, 20, 21],\n",
       "          [22, 23, 24, 25]]]),\n",
       " torch.Size([2, 3, 4]))"
      ]
     },
     "execution_count": 12,
     "metadata": {},
     "output_type": "execute_result"
    }
   ],
   "source": [
    "a = 2\n",
    "X = torch.arange(24).reshape(2, 3, 4)\n",
    "a + X, (a * X).shape"
   ]
  },
  {
   "cell_type": "markdown",
   "id": "712b1211",
   "metadata": {
    "slideshow": {
     "slide_type": "slide"
    }
   },
   "source": [
    "The sum of a tensor's elements"
   ]
  },
  {
   "cell_type": "code",
   "execution_count": 13,
   "id": "12fcf31f",
   "metadata": {
    "execution": {
     "iopub.execute_input": "2022-08-19T17:12:44.984284Z",
     "iopub.status.busy": "2022-08-19T17:12:44.983961Z",
     "iopub.status.idle": "2022-08-19T17:12:44.990941Z",
     "shell.execute_reply": "2022-08-19T17:12:44.990104Z"
    },
    "origin_pos": 51,
    "tab": [
     "pytorch"
    ]
   },
   "outputs": [
    {
     "data": {
      "text/plain": [
       "(tensor([0., 1., 2.]), tensor(3.))"
      ]
     },
     "execution_count": 13,
     "metadata": {},
     "output_type": "execute_result"
    }
   ],
   "source": [
    "x = torch.arange(3, dtype=torch.float32)\n",
    "x, x.sum()"
   ]
  },
  {
   "cell_type": "markdown",
   "id": "3af333bd",
   "metadata": {
    "slideshow": {
     "slide_type": "slide"
    }
   },
   "source": [
    "Sums over the elements of tensors of arbitrary shape"
   ]
  },
  {
   "cell_type": "code",
   "execution_count": 14,
   "id": "c2b9dc71",
   "metadata": {
    "execution": {
     "iopub.execute_input": "2022-08-19T17:12:44.997072Z",
     "iopub.status.busy": "2022-08-19T17:12:44.995819Z",
     "iopub.status.idle": "2022-08-19T17:12:45.004564Z",
     "shell.execute_reply": "2022-08-19T17:12:45.003731Z"
    },
    "origin_pos": 55,
    "tab": [
     "pytorch"
    ]
   },
   "outputs": [
    {
     "data": {
      "text/plain": [
       "(torch.Size([2, 3]), tensor(15.))"
      ]
     },
     "execution_count": 14,
     "metadata": {},
     "output_type": "execute_result"
    }
   ],
   "source": [
    "A.shape, A.sum()"
   ]
  },
  {
   "cell_type": "markdown",
   "id": "c85cadf3",
   "metadata": {
    "slideshow": {
     "slide_type": "slide"
    }
   },
   "source": [
    "Specify the axes \n",
    "along which the tensor should be reduced"
   ]
  },
  {
   "cell_type": "code",
   "execution_count": 15,
   "id": "4a2ed447",
   "metadata": {
    "execution": {
     "iopub.execute_input": "2022-08-19T17:12:45.009681Z",
     "iopub.status.busy": "2022-08-19T17:12:45.008965Z",
     "iopub.status.idle": "2022-08-19T17:12:45.015545Z",
     "shell.execute_reply": "2022-08-19T17:12:45.014400Z"
    },
    "origin_pos": 59,
    "tab": [
     "pytorch"
    ]
   },
   "outputs": [
    {
     "data": {
      "text/plain": [
       "(torch.Size([2, 3]), torch.Size([3]))"
      ]
     },
     "execution_count": 15,
     "metadata": {},
     "output_type": "execute_result"
    }
   ],
   "source": [
    "A.shape, A.sum(axis=0).shape"
   ]
  },
  {
   "cell_type": "code",
   "execution_count": 16,
   "id": "b3ae759e",
   "metadata": {
    "execution": {
     "iopub.execute_input": "2022-08-19T17:12:45.021903Z",
     "iopub.status.busy": "2022-08-19T17:12:45.020851Z",
     "iopub.status.idle": "2022-08-19T17:12:45.027973Z",
     "shell.execute_reply": "2022-08-19T17:12:45.027155Z"
    },
    "origin_pos": 63,
    "tab": [
     "pytorch"
    ]
   },
   "outputs": [
    {
     "data": {
      "text/plain": [
       "(torch.Size([2, 3]), torch.Size([2]))"
      ]
     },
     "execution_count": 16,
     "metadata": {},
     "output_type": "execute_result"
    }
   ],
   "source": [
    "A.shape, A.sum(axis=1).shape"
   ]
  },
  {
   "cell_type": "code",
   "execution_count": 17,
   "id": "47e3a7fb",
   "metadata": {
    "execution": {
     "iopub.execute_input": "2022-08-19T17:12:45.032810Z",
     "iopub.status.busy": "2022-08-19T17:12:45.032219Z",
     "iopub.status.idle": "2022-08-19T17:12:45.039808Z",
     "shell.execute_reply": "2022-08-19T17:12:45.038742Z"
    },
    "origin_pos": 67,
    "tab": [
     "pytorch"
    ]
   },
   "outputs": [
    {
     "data": {
      "text/plain": [
       "tensor(True)"
      ]
     },
     "execution_count": 17,
     "metadata": {},
     "output_type": "execute_result"
    }
   ],
   "source": [
    "A.sum(axis=[0, 1]) == A.sum()"
   ]
  },
  {
   "cell_type": "markdown",
   "id": "4d697f1c",
   "metadata": {
    "slideshow": {
     "slide_type": "slide"
    }
   },
   "source": [
    "A related quantity is the *mean*, also called the *average*"
   ]
  },
  {
   "cell_type": "code",
   "execution_count": 18,
   "id": "1293a5ac",
   "metadata": {
    "execution": {
     "iopub.execute_input": "2022-08-19T17:12:45.045401Z",
     "iopub.status.busy": "2022-08-19T17:12:45.044655Z",
     "iopub.status.idle": "2022-08-19T17:12:45.051741Z",
     "shell.execute_reply": "2022-08-19T17:12:45.050597Z"
    },
    "origin_pos": 71,
    "tab": [
     "pytorch"
    ]
   },
   "outputs": [
    {
     "data": {
      "text/plain": [
       "(tensor(2.5000), tensor(2.5000))"
      ]
     },
     "execution_count": 18,
     "metadata": {},
     "output_type": "execute_result"
    }
   ],
   "source": [
    "A.mean(), A.sum() / A.numel()"
   ]
  },
  {
   "cell_type": "code",
   "execution_count": 19,
   "id": "b96c4f64",
   "metadata": {
    "execution": {
     "iopub.execute_input": "2022-08-19T17:12:45.057589Z",
     "iopub.status.busy": "2022-08-19T17:12:45.056557Z",
     "iopub.status.idle": "2022-08-19T17:12:45.066447Z",
     "shell.execute_reply": "2022-08-19T17:12:45.065404Z"
    },
    "origin_pos": 75,
    "tab": [
     "pytorch"
    ]
   },
   "outputs": [
    {
     "data": {
      "text/plain": [
       "(tensor([1.5000, 2.5000, 3.5000]), tensor([1.5000, 2.5000, 3.5000]))"
      ]
     },
     "execution_count": 19,
     "metadata": {},
     "output_type": "execute_result"
    }
   ],
   "source": [
    "A.mean(axis=0), A.sum(axis=0) / A.shape[0]"
   ]
  },
  {
   "cell_type": "markdown",
   "id": "f7c48b1b",
   "metadata": {
    "slideshow": {
     "slide_type": "slide"
    }
   },
   "source": [
    "Keep the number of axes unchanged"
   ]
  },
  {
   "cell_type": "code",
   "execution_count": 20,
   "id": "083a2e30",
   "metadata": {
    "execution": {
     "iopub.execute_input": "2022-08-19T17:12:45.071532Z",
     "iopub.status.busy": "2022-08-19T17:12:45.070749Z",
     "iopub.status.idle": "2022-08-19T17:12:45.080301Z",
     "shell.execute_reply": "2022-08-19T17:12:45.079000Z"
    },
    "origin_pos": 79,
    "tab": [
     "pytorch"
    ]
   },
   "outputs": [
    {
     "data": {
      "text/plain": [
       "(tensor([[ 3.],\n",
       "         [12.]]),\n",
       " torch.Size([2, 1]))"
      ]
     },
     "execution_count": 20,
     "metadata": {},
     "output_type": "execute_result"
    }
   ],
   "source": [
    "sum_A = A.sum(axis=1, keepdims=True)\n",
    "sum_A, sum_A.shape"
   ]
  },
  {
   "cell_type": "markdown",
   "id": "b8c80158",
   "metadata": {
    "slideshow": {
     "slide_type": "-"
    }
   },
   "source": [
    "Divide `A` by `sum_A` with broadcasting"
   ]
  },
  {
   "cell_type": "code",
   "execution_count": 21,
   "id": "1da7ce27",
   "metadata": {
    "execution": {
     "iopub.execute_input": "2022-08-19T17:12:45.085259Z",
     "iopub.status.busy": "2022-08-19T17:12:45.084744Z",
     "iopub.status.idle": "2022-08-19T17:12:45.092108Z",
     "shell.execute_reply": "2022-08-19T17:12:45.090819Z"
    },
    "origin_pos": 83,
    "tab": [
     "pytorch"
    ]
   },
   "outputs": [
    {
     "data": {
      "text/plain": [
       "tensor([[0.0000, 0.3333, 0.6667],\n",
       "        [0.2500, 0.3333, 0.4167]])"
      ]
     },
     "execution_count": 21,
     "metadata": {},
     "output_type": "execute_result"
    }
   ],
   "source": [
    "A / sum_A"
   ]
  },
  {
   "cell_type": "markdown",
   "id": "380b52f7",
   "metadata": {
    "slideshow": {
     "slide_type": "slide"
    }
   },
   "source": [
    "The cumulative sum of elements of `A` along some axis"
   ]
  },
  {
   "cell_type": "code",
   "execution_count": 22,
   "id": "4459c9a4",
   "metadata": {
    "execution": {
     "iopub.execute_input": "2022-08-19T17:12:45.097917Z",
     "iopub.status.busy": "2022-08-19T17:12:45.097051Z",
     "iopub.status.idle": "2022-08-19T17:12:45.105026Z",
     "shell.execute_reply": "2022-08-19T17:12:45.104091Z"
    },
    "origin_pos": 87,
    "tab": [
     "pytorch"
    ]
   },
   "outputs": [
    {
     "data": {
      "text/plain": [
       "tensor([[0., 1., 2.],\n",
       "        [3., 5., 7.]])"
      ]
     },
     "execution_count": 22,
     "metadata": {},
     "output_type": "execute_result"
    }
   ],
   "source": [
    "A.cumsum(axis=0)"
   ]
  },
  {
   "cell_type": "markdown",
   "id": "d7a6a386",
   "metadata": {
    "slideshow": {
     "slide_type": "slide"
    }
   },
   "source": [
    "The *dot product* of two vectors is a sum over the products of the elements at the same position"
   ]
  },
  {
   "cell_type": "code",
   "execution_count": 23,
   "id": "5b998252",
   "metadata": {
    "execution": {
     "iopub.execute_input": "2022-08-19T17:12:45.109683Z",
     "iopub.status.busy": "2022-08-19T17:12:45.109340Z",
     "iopub.status.idle": "2022-08-19T17:12:45.117630Z",
     "shell.execute_reply": "2022-08-19T17:12:45.116775Z"
    },
    "origin_pos": 91,
    "tab": [
     "pytorch"
    ]
   },
   "outputs": [
    {
     "data": {
      "text/plain": [
       "(tensor([0., 1., 2.]), tensor([1., 1., 1.]), tensor(3.))"
      ]
     },
     "execution_count": 23,
     "metadata": {},
     "output_type": "execute_result"
    }
   ],
   "source": [
    "y = torch.ones(3, dtype = torch.float32)\n",
    "x, y, torch.dot(x, y)"
   ]
  },
  {
   "cell_type": "markdown",
   "id": "f72bef18",
   "metadata": {
    "slideshow": {
     "slide_type": "-"
    }
   },
   "source": [
    "We can calculate the dot product of two vectors \n",
    "by performing an elementwise multiplication followed by a sum"
   ]
  },
  {
   "cell_type": "code",
   "execution_count": 24,
   "id": "c00b9891",
   "metadata": {
    "execution": {
     "iopub.execute_input": "2022-08-19T17:12:45.127844Z",
     "iopub.status.busy": "2022-08-19T17:12:45.126569Z",
     "iopub.status.idle": "2022-08-19T17:12:45.136868Z",
     "shell.execute_reply": "2022-08-19T17:12:45.135539Z"
    },
    "origin_pos": 95,
    "tab": [
     "pytorch"
    ]
   },
   "outputs": [
    {
     "data": {
      "text/plain": [
       "tensor(3.)"
      ]
     },
     "execution_count": 24,
     "metadata": {},
     "output_type": "execute_result"
    }
   ],
   "source": [
    "torch.sum(x * y)"
   ]
  },
  {
   "cell_type": "markdown",
   "id": "bfec1965",
   "metadata": {
    "slideshow": {
     "slide_type": "slide"
    }
   },
   "source": [
    "The matrix-vector product $\\mathbf{A}\\mathbf{x}$\n",
    "is simply a column vector of length $m$,\n",
    "whose $i^\\mathrm{th}$ element is the dot product \n",
    "$\\mathbf{a}^\\top_i \\mathbf{x}$"
   ]
  },
  {
   "cell_type": "code",
   "execution_count": 25,
   "id": "b72f4826",
   "metadata": {
    "execution": {
     "iopub.execute_input": "2022-08-19T17:12:45.143738Z",
     "iopub.status.busy": "2022-08-19T17:12:45.142794Z",
     "iopub.status.idle": "2022-08-19T17:12:45.152711Z",
     "shell.execute_reply": "2022-08-19T17:12:45.151539Z"
    },
    "origin_pos": 102,
    "tab": [
     "pytorch"
    ]
   },
   "outputs": [
    {
     "data": {
      "text/plain": [
       "(torch.Size([2, 3]), torch.Size([3]), tensor([ 5., 14.]), tensor([ 5., 14.]))"
      ]
     },
     "execution_count": 25,
     "metadata": {},
     "output_type": "execute_result"
    }
   ],
   "source": [
    "A.shape, x.shape, torch.mv(A, x), A@x"
   ]
  },
  {
   "cell_type": "markdown",
   "id": "223fca7a",
   "metadata": {
    "slideshow": {
     "slide_type": "slide"
    }
   },
   "source": [
    "We can think of the matrix-matrix multiplication $\\mathbf{AB}$\n",
    "as performing $m$ matrix-vector products \n",
    "or $m \\times n$ dot products \n",
    "and stitching the results together \n",
    "to form an $n \\times m$ matrix"
   ]
  },
  {
   "cell_type": "code",
   "execution_count": 26,
   "id": "01a59c39",
   "metadata": {
    "execution": {
     "iopub.execute_input": "2022-08-19T17:12:45.158129Z",
     "iopub.status.busy": "2022-08-19T17:12:45.157389Z",
     "iopub.status.idle": "2022-08-19T17:12:45.168585Z",
     "shell.execute_reply": "2022-08-19T17:12:45.167298Z"
    },
    "origin_pos": 106,
    "tab": [
     "pytorch"
    ]
   },
   "outputs": [
    {
     "data": {
      "text/plain": [
       "(tensor([[ 3.,  3.,  3.,  3.],\n",
       "         [12., 12., 12., 12.]]),\n",
       " tensor([[ 3.,  3.,  3.,  3.],\n",
       "         [12., 12., 12., 12.]]))"
      ]
     },
     "execution_count": 26,
     "metadata": {},
     "output_type": "execute_result"
    }
   ],
   "source": [
    "B = torch.ones(3, 4)\n",
    "torch.mm(A, B), A@B"
   ]
  },
  {
   "cell_type": "markdown",
   "id": "15018b8d",
   "metadata": {
    "slideshow": {
     "slide_type": "slide"
    }
   },
   "source": [
    "The $\\ell_2$ *norm*\n",
    "$$\\|\\mathbf{x}\\|_2 = \\sqrt{\\sum_{i=1}^n x_i^2}$$"
   ]
  },
  {
   "cell_type": "code",
   "execution_count": 27,
   "id": "380f30e2",
   "metadata": {
    "execution": {
     "iopub.execute_input": "2022-08-19T17:12:45.174370Z",
     "iopub.status.busy": "2022-08-19T17:12:45.173940Z",
     "iopub.status.idle": "2022-08-19T17:12:45.180766Z",
     "shell.execute_reply": "2022-08-19T17:12:45.179971Z"
    },
    "origin_pos": 110,
    "tab": [
     "pytorch"
    ]
   },
   "outputs": [
    {
     "data": {
      "text/plain": [
       "tensor(5.)"
      ]
     },
     "execution_count": 27,
     "metadata": {},
     "output_type": "execute_result"
    }
   ],
   "source": [
    "u = torch.tensor([3.0, -4.0])\n",
    "torch.norm(u)"
   ]
  },
  {
   "cell_type": "markdown",
   "id": "5f60dbd1",
   "metadata": {
    "slideshow": {
     "slide_type": "slide"
    }
   },
   "source": [
    "The $\\ell_1$ norm\n",
    "$$\\|\\mathbf{x}\\|_1 = \\sum_{i=1}^n \\left|x_i \\right|$$"
   ]
  },
  {
   "cell_type": "code",
   "execution_count": 28,
   "id": "b9d580d5",
   "metadata": {
    "execution": {
     "iopub.execute_input": "2022-08-19T17:12:45.185652Z",
     "iopub.status.busy": "2022-08-19T17:12:45.185155Z",
     "iopub.status.idle": "2022-08-19T17:12:45.192085Z",
     "shell.execute_reply": "2022-08-19T17:12:45.191127Z"
    },
    "origin_pos": 114,
    "tab": [
     "pytorch"
    ]
   },
   "outputs": [
    {
     "data": {
      "text/plain": [
       "tensor(7.)"
      ]
     },
     "execution_count": 28,
     "metadata": {},
     "output_type": "execute_result"
    }
   ],
   "source": [
    "torch.abs(u).sum()"
   ]
  },
  {
   "cell_type": "markdown",
   "id": "bc2d16a1",
   "metadata": {
    "slideshow": {
     "slide_type": "slide"
    }
   },
   "source": [
    "The *Frobenius norm*, \n",
    "which is much easier to compute\n",
    "$$\\|\\mathbf{X}\\|_F = \\sqrt{\\sum_{i=1}^m \\sum_{j=1}^n x_{ij}^2}$$"
   ]
  },
  {
   "cell_type": "code",
   "execution_count": 29,
   "id": "79b5af9b",
   "metadata": {
    "execution": {
     "iopub.execute_input": "2022-08-19T17:12:45.196370Z",
     "iopub.status.busy": "2022-08-19T17:12:45.195580Z",
     "iopub.status.idle": "2022-08-19T17:12:45.202704Z",
     "shell.execute_reply": "2022-08-19T17:12:45.201708Z"
    },
    "origin_pos": 118,
    "tab": [
     "pytorch"
    ]
   },
   "outputs": [
    {
     "data": {
      "text/plain": [
       "tensor(6.)"
      ]
     },
     "execution_count": 29,
     "metadata": {},
     "output_type": "execute_result"
    }
   ],
   "source": [
    "torch.norm(torch.ones((4, 9)))"
   ]
  }
 ],
 "metadata": {
  "celltoolbar": "Slideshow",
  "language_info": {
   "name": "python"
  },
  "rise": {
   "autolaunch": true,
   "enable_chalkboard": true,
   "overlay": "<div class='my-top-right'><img height=80px src='http://d2l.ai/_static/logo-with-text.png'/></div><div class='my-top-left'></div>",
   "scroll": true
  }
 },
 "nbformat": 4,
 "nbformat_minor": 5
}