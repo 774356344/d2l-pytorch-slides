{
 "cells": [
  {
   "cell_type": "markdown",
   "id": "0082ff06",
   "metadata": {
    "slideshow": {
     "slide_type": "-"
    }
   },
   "source": [
    "# Linear Algebra\n",
    "\n",
    "Scalars are implemented as tensors \n",
    "that contain only one element"
   ]
  },
  {
   "cell_type": "code",
   "execution_count": 1,
   "id": "ab621c9d",
   "metadata": {
    "execution": {
     "iopub.execute_input": "2022-08-29T07:27:59.730105Z",
     "iopub.status.busy": "2022-08-29T07:27:59.729260Z",
     "iopub.status.idle": "2022-08-29T07:28:00.872935Z",
     "shell.execute_reply": "2022-08-29T07:28:00.872033Z"
    },
    "origin_pos": 3,
    "tab": [
     "pytorch"
    ]
   },
   "outputs": [
    {
     "data": {
      "text/plain": [
       "(tensor(5.), tensor(6.), tensor(1.5000), tensor(9.))"
      ]
     },
     "execution_count": 1,
     "metadata": {},
     "output_type": "execute_result"
    }
   ],
   "source": [
    "import torch\n",
    "\n",
    "x = torch.tensor(3.0)\n",
    "y = torch.tensor(2.0)\n",
    "\n",
    "x + y, x * y, x / y, x**y"
   ]
  },
  {
   "cell_type": "markdown",
   "id": "61d43be8",
   "metadata": {
    "slideshow": {
     "slide_type": "slide"
    }
   },
   "source": [
    "You can think of vectors\n",
    "as fixed-length arrays of scalars"
   ]
  },
  {
   "cell_type": "code",
   "execution_count": 2,
   "id": "a1edaf45",
   "metadata": {
    "execution": {
     "iopub.execute_input": "2022-08-29T07:28:00.877141Z",
     "iopub.status.busy": "2022-08-29T07:28:00.876479Z",
     "iopub.status.idle": "2022-08-29T07:28:00.883174Z",
     "shell.execute_reply": "2022-08-29T07:28:00.882283Z"
    },
    "origin_pos": 7,
    "tab": [
     "pytorch"
    ]
   },
   "outputs": [
    {
     "data": {
      "text/plain": [
       "tensor([0, 1, 2])"
      ]
     },
     "execution_count": 2,
     "metadata": {},
     "output_type": "execute_result"
    }
   ],
   "source": [
    "x = torch.arange(3)\n",
    "x"
   ]
  },
  {
   "cell_type": "markdown",
   "id": "d90405ea",
   "metadata": {
    "slideshow": {
     "slide_type": "slide"
    }
   },
   "source": [
    "We access a tensor's elements via indexing"
   ]
  },
  {
   "cell_type": "code",
   "execution_count": 3,
   "id": "772cc4c1",
   "metadata": {
    "execution": {
     "iopub.execute_input": "2022-08-29T07:28:00.886884Z",
     "iopub.status.busy": "2022-08-29T07:28:00.886297Z",
     "iopub.status.idle": "2022-08-29T07:28:00.892655Z",
     "shell.execute_reply": "2022-08-29T07:28:00.891819Z"
    },
    "origin_pos": 11,
    "tab": [
     "pytorch"
    ]
   },
   "outputs": [
    {
     "data": {
      "text/plain": [
       "tensor(2)"
      ]
     },
     "execution_count": 3,
     "metadata": {},
     "output_type": "execute_result"
    }
   ],
   "source": [
    "x[2]"
   ]
  },
  {
   "cell_type": "markdown",
   "id": "b54cf898",
   "metadata": {
    "slideshow": {
     "slide_type": "slide"
    }
   },
   "source": [
    "In code, this corresponds to the tensor's length"
   ]
  },
  {
   "cell_type": "code",
   "execution_count": 4,
   "id": "36083aa2",
   "metadata": {
    "execution": {
     "iopub.execute_input": "2022-08-29T07:28:00.896423Z",
     "iopub.status.busy": "2022-08-29T07:28:00.895863Z",
     "iopub.status.idle": "2022-08-29T07:28:00.901696Z",
     "shell.execute_reply": "2022-08-29T07:28:00.900870Z"
    },
    "origin_pos": 15,
    "tab": [
     "pytorch"
    ]
   },
   "outputs": [
    {
     "data": {
      "text/plain": [
       "3"
      ]
     },
     "execution_count": 4,
     "metadata": {},
     "output_type": "execute_result"
    }
   ],
   "source": [
    "len(x)"
   ]
  },
  {
   "cell_type": "markdown",
   "id": "4eed3372",
   "metadata": {
    "slideshow": {
     "slide_type": "-"
    }
   },
   "source": [
    "Tensors with just one axis have shapes with just one element"
   ]
  },
  {
   "cell_type": "code",
   "execution_count": 5,
   "id": "d1ffa615",
   "metadata": {
    "execution": {
     "iopub.execute_input": "2022-08-29T07:28:00.905370Z",
     "iopub.status.busy": "2022-08-29T07:28:00.904822Z",
     "iopub.status.idle": "2022-08-29T07:28:00.910648Z",
     "shell.execute_reply": "2022-08-29T07:28:00.909826Z"
    },
    "origin_pos": 19,
    "tab": [
     "pytorch"
    ]
   },
   "outputs": [
    {
     "data": {
      "text/plain": [
       "torch.Size([3])"
      ]
     },
     "execution_count": 5,
     "metadata": {},
     "output_type": "execute_result"
    }
   ],
   "source": [
    "x.shape"
   ]
  },
  {
   "cell_type": "markdown",
   "id": "a69e02af",
   "metadata": {
    "slideshow": {
     "slide_type": "slide"
    }
   },
   "source": [
    "We can convert any appropriately sized $m \\times n$ tensor \n",
    "into an $m \\times n$ matrix"
   ]
  },
  {
   "cell_type": "code",
   "execution_count": 6,
   "id": "2d919d24",
   "metadata": {
    "execution": {
     "iopub.execute_input": "2022-08-29T07:28:00.914221Z",
     "iopub.status.busy": "2022-08-29T07:28:00.913700Z",
     "iopub.status.idle": "2022-08-29T07:28:00.920017Z",
     "shell.execute_reply": "2022-08-29T07:28:00.919195Z"
    },
    "origin_pos": 23,
    "tab": [
     "pytorch"
    ]
   },
   "outputs": [
    {
     "data": {
      "text/plain": [
       "tensor([[0, 1],\n",
       "        [2, 3],\n",
       "        [4, 5]])"
      ]
     },
     "execution_count": 6,
     "metadata": {},
     "output_type": "execute_result"
    }
   ],
   "source": [
    "A = torch.arange(6).reshape(3, 2)\n",
    "A"
   ]
  },
  {
   "cell_type": "markdown",
   "id": "c6fa7f96",
   "metadata": {
    "slideshow": {
     "slide_type": "-"
    }
   },
   "source": [
    "Matrix's transpose"
   ]
  },
  {
   "cell_type": "code",
   "execution_count": 7,
   "id": "bf2061b2",
   "metadata": {
    "execution": {
     "iopub.execute_input": "2022-08-29T07:28:00.923567Z",
     "iopub.status.busy": "2022-08-29T07:28:00.923040Z",
     "iopub.status.idle": "2022-08-29T07:28:00.929326Z",
     "shell.execute_reply": "2022-08-29T07:28:00.928466Z"
    },
    "origin_pos": 27,
    "tab": [
     "pytorch"
    ]
   },
   "outputs": [
    {
     "data": {
      "text/plain": [
       "tensor([[0, 2, 4],\n",
       "        [1, 3, 5]])"
      ]
     },
     "execution_count": 7,
     "metadata": {},
     "output_type": "execute_result"
    }
   ],
   "source": [
    "A.T"
   ]
  },
  {
   "cell_type": "markdown",
   "id": "43ae96d0",
   "metadata": {
    "slideshow": {
     "slide_type": "slide"
    }
   },
   "source": [
    "Symmetric matrices are the subset of square matrices\n",
    "that are equal to their own transposes:\n",
    "$\\mathbf{A} = \\mathbf{A}^\\top$"
   ]
  },
  {
   "cell_type": "code",
   "execution_count": 8,
   "id": "2c761d8f",
   "metadata": {
    "execution": {
     "iopub.execute_input": "2022-08-29T07:28:00.932949Z",
     "iopub.status.busy": "2022-08-29T07:28:00.932654Z",
     "iopub.status.idle": "2022-08-29T07:28:00.940206Z",
     "shell.execute_reply": "2022-08-29T07:28:00.939209Z"
    },
    "origin_pos": 31,
    "tab": [
     "pytorch"
    ]
   },
   "outputs": [
    {
     "data": {
      "text/plain": [
       "tensor([[True, True, True],\n",
       "        [True, True, True],\n",
       "        [True, True, True]])"
      ]
     },
     "execution_count": 8,
     "metadata": {},
     "output_type": "execute_result"
    }
   ],
   "source": [
    "A = torch.tensor([[1, 2, 3], [2, 0, 4], [3, 4, 5]])\n",
    "A == A.T"
   ]
  },
  {
   "cell_type": "markdown",
   "id": "7fd4ef34",
   "metadata": {
    "slideshow": {
     "slide_type": "slide"
    }
   },
   "source": [
    "Tensors\n",
    "give us a generic way to describe \n",
    "extensions to $n^{\\mathrm{th}}$-order arrays"
   ]
  },
  {
   "cell_type": "code",
   "execution_count": 9,
   "id": "15bfb48c",
   "metadata": {
    "execution": {
     "iopub.execute_input": "2022-08-29T07:28:00.943661Z",
     "iopub.status.busy": "2022-08-29T07:28:00.943370Z",
     "iopub.status.idle": "2022-08-29T07:28:00.950234Z",
     "shell.execute_reply": "2022-08-29T07:28:00.949388Z"
    },
    "origin_pos": 35,
    "tab": [
     "pytorch"
    ]
   },
   "outputs": [
    {
     "data": {
      "text/plain": [
       "tensor([[[ 0,  1,  2,  3],\n",
       "         [ 4,  5,  6,  7],\n",
       "         [ 8,  9, 10, 11]],\n",
       "\n",
       "        [[12, 13, 14, 15],\n",
       "         [16, 17, 18, 19],\n",
       "         [20, 21, 22, 23]]])"
      ]
     },
     "execution_count": 9,
     "metadata": {},
     "output_type": "execute_result"
    }
   ],
   "source": [
    "torch.arange(24).reshape(2, 3, 4)"
   ]
  },
  {
   "cell_type": "code",
   "execution_count": 10,
   "id": "592d218e",
   "metadata": {
    "execution": {
     "iopub.execute_input": "2022-08-29T07:28:00.953657Z",
     "iopub.status.busy": "2022-08-29T07:28:00.953367Z",
     "iopub.status.idle": "2022-08-29T07:28:00.961524Z",
     "shell.execute_reply": "2022-08-29T07:28:00.960667Z"
    },
    "origin_pos": 39,
    "tab": [
     "pytorch"
    ]
   },
   "outputs": [
    {
     "data": {
      "text/plain": [
       "(tensor([[0., 1., 2.],\n",
       "         [3., 4., 5.]]),\n",
       " tensor([[ 0.,  2.,  4.],\n",
       "         [ 6.,  8., 10.]]))"
      ]
     },
     "execution_count": 10,
     "metadata": {},
     "output_type": "execute_result"
    }
   ],
   "source": [
    "A = torch.arange(6, dtype=torch.float32).reshape(2, 3)\n",
    "B = A.clone()\n",
    "A, A + B"
   ]
  },
  {
   "cell_type": "markdown",
   "id": "d6f48e86",
   "metadata": {
    "slideshow": {
     "slide_type": "slide"
    }
   },
   "source": [
    "Elementwise product of two matrices\n",
    "is called their *Hadamard product*"
   ]
  },
  {
   "cell_type": "code",
   "execution_count": 11,
   "id": "5ed96803",
   "metadata": {
    "execution": {
     "iopub.execute_input": "2022-08-29T07:28:00.965056Z",
     "iopub.status.busy": "2022-08-29T07:28:00.964760Z",
     "iopub.status.idle": "2022-08-29T07:28:00.971321Z",
     "shell.execute_reply": "2022-08-29T07:28:00.970457Z"
    },
    "origin_pos": 43,
    "tab": [
     "pytorch"
    ]
   },
   "outputs": [
    {
     "data": {
      "text/plain": [
       "tensor([[ 0.,  1.,  4.],\n",
       "        [ 9., 16., 25.]])"
      ]
     },
     "execution_count": 11,
     "metadata": {},
     "output_type": "execute_result"
    }
   ],
   "source": [
    "A * B"
   ]
  },
  {
   "cell_type": "markdown",
   "id": "de559085",
   "metadata": {
    "slideshow": {
     "slide_type": "slide"
    }
   },
   "source": [
    "Adding or multiplying a scalar and a tensor"
   ]
  },
  {
   "cell_type": "code",
   "execution_count": 12,
   "id": "a86e051e",
   "metadata": {
    "execution": {
     "iopub.execute_input": "2022-08-29T07:28:00.975220Z",
     "iopub.status.busy": "2022-08-29T07:28:00.974641Z",
     "iopub.status.idle": "2022-08-29T07:28:00.981632Z",
     "shell.execute_reply": "2022-08-29T07:28:00.980775Z"
    },
    "origin_pos": 47,
    "tab": [
     "pytorch"
    ]
   },
   "outputs": [
    {
     "data": {
      "text/plain": [
       "(tensor([[[ 2,  3,  4,  5],\n",
       "          [ 6,  7,  8,  9],\n",
       "          [10, 11, 12, 13]],\n",
       " \n",
       "         [[14, 15, 16, 17],\n",
       "          [18, 19, 20, 21],\n",
       "          [22, 23, 24, 25]]]),\n",
       " torch.Size([2, 3, 4]))"
      ]
     },
     "execution_count": 12,
     "metadata": {},
     "output_type": "execute_result"
    }
   ],
   "source": [
    "a = 2\n",
    "X = torch.arange(24).reshape(2, 3, 4)\n",
    "a + X, (a * X).shape"
   ]
  },
  {
   "cell_type": "markdown",
   "id": "444c41d6",
   "metadata": {
    "slideshow": {
     "slide_type": "slide"
    }
   },
   "source": [
    "The sum of a tensor's elements"
   ]
  },
  {
   "cell_type": "code",
   "execution_count": 13,
   "id": "69ad5557",
   "metadata": {
    "execution": {
     "iopub.execute_input": "2022-08-29T07:28:00.985361Z",
     "iopub.status.busy": "2022-08-29T07:28:00.985011Z",
     "iopub.status.idle": "2022-08-29T07:28:00.993297Z",
     "shell.execute_reply": "2022-08-29T07:28:00.992255Z"
    },
    "origin_pos": 51,
    "tab": [
     "pytorch"
    ]
   },
   "outputs": [
    {
     "data": {
      "text/plain": [
       "(tensor([0., 1., 2.]), tensor(3.))"
      ]
     },
     "execution_count": 13,
     "metadata": {},
     "output_type": "execute_result"
    }
   ],
   "source": [
    "x = torch.arange(3, dtype=torch.float32)\n",
    "x, x.sum()"
   ]
  },
  {
   "cell_type": "markdown",
   "id": "0f3b6e5c",
   "metadata": {
    "slideshow": {
     "slide_type": "slide"
    }
   },
   "source": [
    "Sums over the elements of tensors of arbitrary shape"
   ]
  },
  {
   "cell_type": "code",
   "execution_count": 14,
   "id": "7ac3ba87",
   "metadata": {
    "execution": {
     "iopub.execute_input": "2022-08-29T07:28:00.997751Z",
     "iopub.status.busy": "2022-08-29T07:28:00.997348Z",
     "iopub.status.idle": "2022-08-29T07:28:01.005342Z",
     "shell.execute_reply": "2022-08-29T07:28:01.004277Z"
    },
    "origin_pos": 55,
    "tab": [
     "pytorch"
    ]
   },
   "outputs": [
    {
     "data": {
      "text/plain": [
       "(torch.Size([2, 3]), tensor(15.))"
      ]
     },
     "execution_count": 14,
     "metadata": {},
     "output_type": "execute_result"
    }
   ],
   "source": [
    "A.shape, A.sum()"
   ]
  },
  {
   "cell_type": "markdown",
   "id": "c7105683",
   "metadata": {
    "slideshow": {
     "slide_type": "slide"
    }
   },
   "source": [
    "Specify the axes \n",
    "along which the tensor should be reduced"
   ]
  },
  {
   "cell_type": "code",
   "execution_count": 15,
   "id": "28c8ca41",
   "metadata": {
    "execution": {
     "iopub.execute_input": "2022-08-29T07:28:01.009722Z",
     "iopub.status.busy": "2022-08-29T07:28:01.008902Z",
     "iopub.status.idle": "2022-08-29T07:28:01.018639Z",
     "shell.execute_reply": "2022-08-29T07:28:01.017700Z"
    },
    "origin_pos": 59,
    "tab": [
     "pytorch"
    ]
   },
   "outputs": [
    {
     "data": {
      "text/plain": [
       "(torch.Size([2, 3]), torch.Size([3]))"
      ]
     },
     "execution_count": 15,
     "metadata": {},
     "output_type": "execute_result"
    }
   ],
   "source": [
    "A.shape, A.sum(axis=0).shape"
   ]
  },
  {
   "cell_type": "code",
   "execution_count": 16,
   "id": "cbfe98bd",
   "metadata": {
    "execution": {
     "iopub.execute_input": "2022-08-29T07:28:01.023318Z",
     "iopub.status.busy": "2022-08-29T07:28:01.022481Z",
     "iopub.status.idle": "2022-08-29T07:28:01.030743Z",
     "shell.execute_reply": "2022-08-29T07:28:01.029402Z"
    },
    "origin_pos": 63,
    "tab": [
     "pytorch"
    ]
   },
   "outputs": [
    {
     "data": {
      "text/plain": [
       "(torch.Size([2, 3]), torch.Size([2]))"
      ]
     },
     "execution_count": 16,
     "metadata": {},
     "output_type": "execute_result"
    }
   ],
   "source": [
    "A.shape, A.sum(axis=1).shape"
   ]
  },
  {
   "cell_type": "code",
   "execution_count": 17,
   "id": "5e20b227",
   "metadata": {
    "execution": {
     "iopub.execute_input": "2022-08-29T07:28:01.035069Z",
     "iopub.status.busy": "2022-08-29T07:28:01.034530Z",
     "iopub.status.idle": "2022-08-29T07:28:01.042359Z",
     "shell.execute_reply": "2022-08-29T07:28:01.041133Z"
    },
    "origin_pos": 67,
    "tab": [
     "pytorch"
    ]
   },
   "outputs": [
    {
     "data": {
      "text/plain": [
       "tensor(True)"
      ]
     },
     "execution_count": 17,
     "metadata": {},
     "output_type": "execute_result"
    }
   ],
   "source": [
    "A.sum(axis=[0, 1]) == A.sum()"
   ]
  },
  {
   "cell_type": "markdown",
   "id": "1e7b9d08",
   "metadata": {
    "slideshow": {
     "slide_type": "slide"
    }
   },
   "source": [
    "A related quantity is the *mean*, also called the *average*"
   ]
  },
  {
   "cell_type": "code",
   "execution_count": 18,
   "id": "311b582a",
   "metadata": {
    "execution": {
     "iopub.execute_input": "2022-08-29T07:28:01.047032Z",
     "iopub.status.busy": "2022-08-29T07:28:01.046375Z",
     "iopub.status.idle": "2022-08-29T07:28:01.059054Z",
     "shell.execute_reply": "2022-08-29T07:28:01.057954Z"
    },
    "origin_pos": 71,
    "tab": [
     "pytorch"
    ]
   },
   "outputs": [
    {
     "data": {
      "text/plain": [
       "(tensor(2.5000), tensor(2.5000))"
      ]
     },
     "execution_count": 18,
     "metadata": {},
     "output_type": "execute_result"
    }
   ],
   "source": [
    "A.mean(), A.sum() / A.numel()"
   ]
  },
  {
   "cell_type": "code",
   "execution_count": 19,
   "id": "e28b8f70",
   "metadata": {
    "execution": {
     "iopub.execute_input": "2022-08-29T07:28:01.063396Z",
     "iopub.status.busy": "2022-08-29T07:28:01.063004Z",
     "iopub.status.idle": "2022-08-29T07:28:01.072026Z",
     "shell.execute_reply": "2022-08-29T07:28:01.070677Z"
    },
    "origin_pos": 75,
    "tab": [
     "pytorch"
    ]
   },
   "outputs": [
    {
     "data": {
      "text/plain": [
       "(tensor([1.5000, 2.5000, 3.5000]), tensor([1.5000, 2.5000, 3.5000]))"
      ]
     },
     "execution_count": 19,
     "metadata": {},
     "output_type": "execute_result"
    }
   ],
   "source": [
    "A.mean(axis=0), A.sum(axis=0) / A.shape[0]"
   ]
  },
  {
   "cell_type": "markdown",
   "id": "abf660f9",
   "metadata": {
    "slideshow": {
     "slide_type": "slide"
    }
   },
   "source": [
    "Keep the number of axes unchanged"
   ]
  },
  {
   "cell_type": "code",
   "execution_count": 20,
   "id": "0a15de54",
   "metadata": {
    "execution": {
     "iopub.execute_input": "2022-08-29T07:28:01.079545Z",
     "iopub.status.busy": "2022-08-29T07:28:01.079133Z",
     "iopub.status.idle": "2022-08-29T07:28:01.087569Z",
     "shell.execute_reply": "2022-08-29T07:28:01.086543Z"
    },
    "origin_pos": 79,
    "tab": [
     "pytorch"
    ]
   },
   "outputs": [
    {
     "data": {
      "text/plain": [
       "(tensor([[ 3.],\n",
       "         [12.]]),\n",
       " torch.Size([2, 1]))"
      ]
     },
     "execution_count": 20,
     "metadata": {},
     "output_type": "execute_result"
    }
   ],
   "source": [
    "sum_A = A.sum(axis=1, keepdims=True)\n",
    "sum_A, sum_A.shape"
   ]
  },
  {
   "cell_type": "markdown",
   "id": "ece8ba23",
   "metadata": {
    "slideshow": {
     "slide_type": "-"
    }
   },
   "source": [
    "Divide `A` by `sum_A` with broadcasting"
   ]
  },
  {
   "cell_type": "code",
   "execution_count": 21,
   "id": "76900929",
   "metadata": {
    "execution": {
     "iopub.execute_input": "2022-08-29T07:28:01.094785Z",
     "iopub.status.busy": "2022-08-29T07:28:01.094411Z",
     "iopub.status.idle": "2022-08-29T07:28:01.101763Z",
     "shell.execute_reply": "2022-08-29T07:28:01.100743Z"
    },
    "origin_pos": 83,
    "tab": [
     "pytorch"
    ]
   },
   "outputs": [
    {
     "data": {
      "text/plain": [
       "tensor([[0.0000, 0.3333, 0.6667],\n",
       "        [0.2500, 0.3333, 0.4167]])"
      ]
     },
     "execution_count": 21,
     "metadata": {},
     "output_type": "execute_result"
    }
   ],
   "source": [
    "A / sum_A"
   ]
  },
  {
   "cell_type": "markdown",
   "id": "0bc0f5f0",
   "metadata": {
    "slideshow": {
     "slide_type": "slide"
    }
   },
   "source": [
    "The cumulative sum of elements of `A` along some axis"
   ]
  },
  {
   "cell_type": "code",
   "execution_count": 22,
   "id": "99ba39f4",
   "metadata": {
    "execution": {
     "iopub.execute_input": "2022-08-29T07:28:01.105379Z",
     "iopub.status.busy": "2022-08-29T07:28:01.104851Z",
     "iopub.status.idle": "2022-08-29T07:28:01.110888Z",
     "shell.execute_reply": "2022-08-29T07:28:01.110035Z"
    },
    "origin_pos": 87,
    "tab": [
     "pytorch"
    ]
   },
   "outputs": [
    {
     "data": {
      "text/plain": [
       "tensor([[0., 1., 2.],\n",
       "        [3., 5., 7.]])"
      ]
     },
     "execution_count": 22,
     "metadata": {},
     "output_type": "execute_result"
    }
   ],
   "source": [
    "A.cumsum(axis=0)"
   ]
  },
  {
   "cell_type": "markdown",
   "id": "a6d020c7",
   "metadata": {
    "slideshow": {
     "slide_type": "slide"
    }
   },
   "source": [
    "The *dot product* of two vectors is a sum over the products of the elements at the same position"
   ]
  },
  {
   "cell_type": "code",
   "execution_count": 23,
   "id": "782008f6",
   "metadata": {
    "execution": {
     "iopub.execute_input": "2022-08-29T07:28:01.114438Z",
     "iopub.status.busy": "2022-08-29T07:28:01.113913Z",
     "iopub.status.idle": "2022-08-29T07:28:01.120831Z",
     "shell.execute_reply": "2022-08-29T07:28:01.120029Z"
    },
    "origin_pos": 91,
    "tab": [
     "pytorch"
    ]
   },
   "outputs": [
    {
     "data": {
      "text/plain": [
       "(tensor([0., 1., 2.]), tensor([1., 1., 1.]), tensor(3.))"
      ]
     },
     "execution_count": 23,
     "metadata": {},
     "output_type": "execute_result"
    }
   ],
   "source": [
    "y = torch.ones(3, dtype = torch.float32)\n",
    "x, y, torch.dot(x, y)"
   ]
  },
  {
   "cell_type": "markdown",
   "id": "790579aa",
   "metadata": {
    "slideshow": {
     "slide_type": "-"
    }
   },
   "source": [
    "We can calculate the dot product of two vectors \n",
    "by performing an elementwise multiplication followed by a sum"
   ]
  },
  {
   "cell_type": "code",
   "execution_count": 24,
   "id": "aebf27e6",
   "metadata": {
    "execution": {
     "iopub.execute_input": "2022-08-29T07:28:01.124410Z",
     "iopub.status.busy": "2022-08-29T07:28:01.123857Z",
     "iopub.status.idle": "2022-08-29T07:28:01.130544Z",
     "shell.execute_reply": "2022-08-29T07:28:01.129596Z"
    },
    "origin_pos": 95,
    "tab": [
     "pytorch"
    ]
   },
   "outputs": [
    {
     "data": {
      "text/plain": [
       "tensor(3.)"
      ]
     },
     "execution_count": 24,
     "metadata": {},
     "output_type": "execute_result"
    }
   ],
   "source": [
    "torch.sum(x * y)"
   ]
  },
  {
   "cell_type": "markdown",
   "id": "d0c214ba",
   "metadata": {
    "slideshow": {
     "slide_type": "slide"
    }
   },
   "source": [
    "The matrix-vector product $\\mathbf{A}\\mathbf{x}$\n",
    "is simply a column vector of length $m$,\n",
    "whose $i^\\mathrm{th}$ element is the dot product \n",
    "$\\mathbf{a}^\\top_i \\mathbf{x}$"
   ]
  },
  {
   "cell_type": "code",
   "execution_count": 25,
   "id": "d12f1495",
   "metadata": {
    "execution": {
     "iopub.execute_input": "2022-08-29T07:28:01.135379Z",
     "iopub.status.busy": "2022-08-29T07:28:01.135012Z",
     "iopub.status.idle": "2022-08-29T07:28:01.144853Z",
     "shell.execute_reply": "2022-08-29T07:28:01.143872Z"
    },
    "origin_pos": 102,
    "tab": [
     "pytorch"
    ]
   },
   "outputs": [
    {
     "data": {
      "text/plain": [
       "(torch.Size([2, 3]), torch.Size([3]), tensor([ 5., 14.]), tensor([ 5., 14.]))"
      ]
     },
     "execution_count": 25,
     "metadata": {},
     "output_type": "execute_result"
    }
   ],
   "source": [
    "A.shape, x.shape, torch.mv(A, x), A@x"
   ]
  },
  {
   "cell_type": "markdown",
   "id": "0c6c0192",
   "metadata": {
    "slideshow": {
     "slide_type": "slide"
    }
   },
   "source": [
    "We can think of the matrix-matrix multiplication $\\mathbf{AB}$\n",
    "as performing $m$ matrix-vector products \n",
    "or $m \\times n$ dot products \n",
    "and stitching the results together \n",
    "to form an $n \\times m$ matrix"
   ]
  },
  {
   "cell_type": "code",
   "execution_count": 26,
   "id": "af754112",
   "metadata": {
    "execution": {
     "iopub.execute_input": "2022-08-29T07:28:01.149372Z",
     "iopub.status.busy": "2022-08-29T07:28:01.149074Z",
     "iopub.status.idle": "2022-08-29T07:28:01.159826Z",
     "shell.execute_reply": "2022-08-29T07:28:01.158737Z"
    },
    "origin_pos": 106,
    "tab": [
     "pytorch"
    ]
   },
   "outputs": [
    {
     "data": {
      "text/plain": [
       "(tensor([[ 3.,  3.,  3.,  3.],\n",
       "         [12., 12., 12., 12.]]),\n",
       " tensor([[ 3.,  3.,  3.,  3.],\n",
       "         [12., 12., 12., 12.]]))"
      ]
     },
     "execution_count": 26,
     "metadata": {},
     "output_type": "execute_result"
    }
   ],
   "source": [
    "B = torch.ones(3, 4)\n",
    "torch.mm(A, B), A@B"
   ]
  },
  {
   "cell_type": "markdown",
   "id": "5d156464",
   "metadata": {
    "slideshow": {
     "slide_type": "slide"
    }
   },
   "source": [
    "The $\\ell_2$ *norm*\n",
    "$$\\|\\mathbf{x}\\|_2 = \\sqrt{\\sum_{i=1}^n x_i^2}$$"
   ]
  },
  {
   "cell_type": "code",
   "execution_count": 27,
   "id": "d2f9c16b",
   "metadata": {
    "execution": {
     "iopub.execute_input": "2022-08-29T07:28:01.171029Z",
     "iopub.status.busy": "2022-08-29T07:28:01.164296Z",
     "iopub.status.idle": "2022-08-29T07:28:01.179290Z",
     "shell.execute_reply": "2022-08-29T07:28:01.177928Z"
    },
    "origin_pos": 110,
    "tab": [
     "pytorch"
    ]
   },
   "outputs": [
    {
     "data": {
      "text/plain": [
       "tensor(5.)"
      ]
     },
     "execution_count": 27,
     "metadata": {},
     "output_type": "execute_result"
    }
   ],
   "source": [
    "u = torch.tensor([3.0, -4.0])\n",
    "torch.norm(u)"
   ]
  },
  {
   "cell_type": "markdown",
   "id": "cbe9e104",
   "metadata": {
    "slideshow": {
     "slide_type": "slide"
    }
   },
   "source": [
    "The $\\ell_1$ norm\n",
    "$$\\|\\mathbf{x}\\|_1 = \\sum_{i=1}^n \\left|x_i \\right|$$"
   ]
  },
  {
   "cell_type": "code",
   "execution_count": 28,
   "id": "e6c3ee05",
   "metadata": {
    "execution": {
     "iopub.execute_input": "2022-08-29T07:28:01.184549Z",
     "iopub.status.busy": "2022-08-29T07:28:01.184232Z",
     "iopub.status.idle": "2022-08-29T07:28:01.192306Z",
     "shell.execute_reply": "2022-08-29T07:28:01.191050Z"
    },
    "origin_pos": 114,
    "tab": [
     "pytorch"
    ]
   },
   "outputs": [
    {
     "data": {
      "text/plain": [
       "tensor(7.)"
      ]
     },
     "execution_count": 28,
     "metadata": {},
     "output_type": "execute_result"
    }
   ],
   "source": [
    "torch.abs(u).sum()"
   ]
  },
  {
   "cell_type": "markdown",
   "id": "6660e2e9",
   "metadata": {
    "slideshow": {
     "slide_type": "slide"
    }
   },
   "source": [
    "The *Frobenius norm*, \n",
    "which is much easier to compute\n",
    "$$\\|\\mathbf{X}\\|_F = \\sqrt{\\sum_{i=1}^m \\sum_{j=1}^n x_{ij}^2}$$"
   ]
  },
  {
   "cell_type": "code",
   "execution_count": 29,
   "id": "04b31683",
   "metadata": {
    "execution": {
     "iopub.execute_input": "2022-08-29T07:28:01.200634Z",
     "iopub.status.busy": "2022-08-29T07:28:01.200216Z",
     "iopub.status.idle": "2022-08-29T07:28:01.209019Z",
     "shell.execute_reply": "2022-08-29T07:28:01.207791Z"
    },
    "origin_pos": 118,
    "tab": [
     "pytorch"
    ]
   },
   "outputs": [
    {
     "data": {
      "text/plain": [
       "tensor(6.)"
      ]
     },
     "execution_count": 29,
     "metadata": {},
     "output_type": "execute_result"
    }
   ],
   "source": [
    "torch.norm(torch.ones((4, 9)))"
   ]
  }
 ],
 "metadata": {
  "celltoolbar": "Slideshow",
  "language_info": {
   "name": "python"
  },
  "rise": {
   "autolaunch": true,
   "enable_chalkboard": true,
   "overlay": "<div class='my-top-right'><img height=80px src='http://d2l.ai/_static/logo-with-text.png'/></div><div class='my-top-left'></div>",
   "scroll": true
  }
 },
 "nbformat": 4,
 "nbformat_minor": 5
}