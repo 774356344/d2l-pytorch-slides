{
 "cells": [
  {
   "cell_type": "markdown",
   "id": "820e524d",
   "metadata": {
    "slideshow": {
     "slide_type": "-"
    }
   },
   "source": [
    "# Data Manipulation\n",
    "\n"
   ]
  },
  {
   "cell_type": "markdown",
   "id": "22fd8286",
   "metadata": {
    "slideshow": {
     "slide_type": "-"
    }
   },
   "source": [
    "To start, we import the PyTorch library.\n",
    "Note that the package name is `torch`"
   ]
  },
  {
   "cell_type": "code",
   "execution_count": 1,
   "id": "16d950a7",
   "metadata": {
    "execution": {
     "iopub.execute_input": "2022-07-13T08:08:18.420748Z",
     "iopub.status.busy": "2022-07-13T08:08:18.420184Z",
     "iopub.status.idle": "2022-07-13T08:08:19.233854Z",
     "shell.execute_reply": "2022-07-13T08:08:19.232931Z"
    },
    "origin_pos": 6,
    "tab": [
     "pytorch"
    ]
   },
   "outputs": [],
   "source": [
    "import torch"
   ]
  },
  {
   "cell_type": "markdown",
   "id": "ccaf2351",
   "metadata": {
    "slideshow": {
     "slide_type": "slide"
    }
   },
   "source": [
    "A tensor represents a (possibly multi-dimensional) array of numerical values"
   ]
  },
  {
   "cell_type": "code",
   "execution_count": 2,
   "id": "1ef352f2",
   "metadata": {
    "execution": {
     "iopub.execute_input": "2022-07-13T08:08:19.238106Z",
     "iopub.status.busy": "2022-07-13T08:08:19.237746Z",
     "iopub.status.idle": "2022-07-13T08:08:19.250830Z",
     "shell.execute_reply": "2022-07-13T08:08:19.250059Z"
    },
    "origin_pos": 13,
    "tab": [
     "pytorch"
    ]
   },
   "outputs": [
    {
     "data": {
      "text/plain": [
       "tensor([ 0.,  1.,  2.,  3.,  4.,  5.,  6.,  7.,  8.,  9., 10., 11.])"
      ]
     },
     "execution_count": 2,
     "metadata": {},
     "output_type": "execute_result"
    }
   ],
   "source": [
    "x = torch.arange(12, dtype=torch.float32)\n",
    "x"
   ]
  },
  {
   "cell_type": "code",
   "execution_count": 3,
   "id": "a01da7cf",
   "metadata": {
    "execution": {
     "iopub.execute_input": "2022-07-13T08:08:19.254160Z",
     "iopub.status.busy": "2022-07-13T08:08:19.253871Z",
     "iopub.status.idle": "2022-07-13T08:08:19.259018Z",
     "shell.execute_reply": "2022-07-13T08:08:19.258266Z"
    },
    "origin_pos": 19,
    "tab": [
     "pytorch"
    ]
   },
   "outputs": [
    {
     "data": {
      "text/plain": [
       "12"
      ]
     },
     "execution_count": 3,
     "metadata": {},
     "output_type": "execute_result"
    }
   ],
   "source": [
    "x.numel()"
   ]
  },
  {
   "cell_type": "markdown",
   "id": "017b2065",
   "metadata": {
    "slideshow": {
     "slide_type": "-"
    }
   },
   "source": [
    "We can access a tensor's *shape*"
   ]
  },
  {
   "cell_type": "code",
   "execution_count": 4,
   "id": "2ecc34f1",
   "metadata": {
    "execution": {
     "iopub.execute_input": "2022-07-13T08:08:19.262232Z",
     "iopub.status.busy": "2022-07-13T08:08:19.261947Z",
     "iopub.status.idle": "2022-07-13T08:08:19.267036Z",
     "shell.execute_reply": "2022-07-13T08:08:19.266276Z"
    },
    "origin_pos": 22,
    "tab": [
     "pytorch"
    ]
   },
   "outputs": [
    {
     "data": {
      "text/plain": [
       "torch.Size([12])"
      ]
     },
     "execution_count": 4,
     "metadata": {},
     "output_type": "execute_result"
    }
   ],
   "source": [
    "x.shape"
   ]
  },
  {
   "cell_type": "markdown",
   "id": "5b628393",
   "metadata": {
    "slideshow": {
     "slide_type": "slide"
    }
   },
   "source": [
    "Change the shape of a tensor\n",
    "without altering its size or values"
   ]
  },
  {
   "cell_type": "code",
   "execution_count": 5,
   "id": "70969cab",
   "metadata": {
    "execution": {
     "iopub.execute_input": "2022-07-13T08:08:19.270169Z",
     "iopub.status.busy": "2022-07-13T08:08:19.269883Z",
     "iopub.status.idle": "2022-07-13T08:08:19.276123Z",
     "shell.execute_reply": "2022-07-13T08:08:19.275318Z"
    },
    "origin_pos": 24,
    "tab": [
     "pytorch"
    ]
   },
   "outputs": [
    {
     "data": {
      "text/plain": [
       "tensor([[ 0.,  1.,  2.,  3.],\n",
       "        [ 4.,  5.,  6.,  7.],\n",
       "        [ 8.,  9., 10., 11.]])"
      ]
     },
     "execution_count": 5,
     "metadata": {},
     "output_type": "execute_result"
    }
   ],
   "source": [
    "X = x.reshape(3, 4)\n",
    "X"
   ]
  },
  {
   "cell_type": "markdown",
   "id": "6a9383f2",
   "metadata": {
    "slideshow": {
     "slide_type": "slide"
    }
   },
   "source": [
    "We can construct a tensor with all elements set to zero\n",
    "or one"
   ]
  },
  {
   "cell_type": "code",
   "execution_count": 6,
   "id": "cb5164e4",
   "metadata": {
    "execution": {
     "iopub.execute_input": "2022-07-13T08:08:19.279304Z",
     "iopub.status.busy": "2022-07-13T08:08:19.278994Z",
     "iopub.status.idle": "2022-07-13T08:08:19.285014Z",
     "shell.execute_reply": "2022-07-13T08:08:19.284216Z"
    },
    "origin_pos": 28,
    "tab": [
     "pytorch"
    ]
   },
   "outputs": [
    {
     "data": {
      "text/plain": [
       "tensor([[[0., 0., 0., 0.],\n",
       "         [0., 0., 0., 0.],\n",
       "         [0., 0., 0., 0.]],\n",
       "\n",
       "        [[0., 0., 0., 0.],\n",
       "         [0., 0., 0., 0.],\n",
       "         [0., 0., 0., 0.]]])"
      ]
     },
     "execution_count": 6,
     "metadata": {},
     "output_type": "execute_result"
    }
   ],
   "source": [
    "torch.zeros((2, 3, 4))"
   ]
  },
  {
   "cell_type": "code",
   "execution_count": 7,
   "id": "0efaa6b2",
   "metadata": {
    "execution": {
     "iopub.execute_input": "2022-07-13T08:08:19.288159Z",
     "iopub.status.busy": "2022-07-13T08:08:19.287875Z",
     "iopub.status.idle": "2022-07-13T08:08:19.294211Z",
     "shell.execute_reply": "2022-07-13T08:08:19.293447Z"
    },
    "origin_pos": 32,
    "tab": [
     "pytorch"
    ]
   },
   "outputs": [
    {
     "data": {
      "text/plain": [
       "tensor([[[1., 1., 1., 1.],\n",
       "         [1., 1., 1., 1.],\n",
       "         [1., 1., 1., 1.]],\n",
       "\n",
       "        [[1., 1., 1., 1.],\n",
       "         [1., 1., 1., 1.],\n",
       "         [1., 1., 1., 1.]]])"
      ]
     },
     "execution_count": 7,
     "metadata": {},
     "output_type": "execute_result"
    }
   ],
   "source": [
    "torch.ones((2, 3, 4))"
   ]
  },
  {
   "cell_type": "markdown",
   "id": "b1d583d7",
   "metadata": {
    "slideshow": {
     "slide_type": "slide"
    }
   },
   "source": [
    "Sample each element randomly (and independently)"
   ]
  },
  {
   "cell_type": "code",
   "execution_count": 8,
   "id": "3064003f",
   "metadata": {
    "execution": {
     "iopub.execute_input": "2022-07-13T08:08:19.297495Z",
     "iopub.status.busy": "2022-07-13T08:08:19.297210Z",
     "iopub.status.idle": "2022-07-13T08:08:19.303296Z",
     "shell.execute_reply": "2022-07-13T08:08:19.302457Z"
    },
    "origin_pos": 36,
    "tab": [
     "pytorch"
    ]
   },
   "outputs": [
    {
     "data": {
      "text/plain": [
       "tensor([[-2.9653,  0.2525, -0.2086, -0.2206],\n",
       "        [-2.0800, -0.1977,  1.7399,  0.4036],\n",
       "        [-2.1461, -0.5422, -0.2841,  0.7678]])"
      ]
     },
     "execution_count": 8,
     "metadata": {},
     "output_type": "execute_result"
    }
   ],
   "source": [
    "torch.randn(3, 4)"
   ]
  },
  {
   "cell_type": "markdown",
   "id": "ccc6e6fb",
   "metadata": {
    "slideshow": {
     "slide_type": "slide"
    }
   },
   "source": [
    "Supplying the exact values for each element"
   ]
  },
  {
   "cell_type": "code",
   "execution_count": 9,
   "id": "00892fdb",
   "metadata": {
    "execution": {
     "iopub.execute_input": "2022-07-13T08:08:19.306816Z",
     "iopub.status.busy": "2022-07-13T08:08:19.306416Z",
     "iopub.status.idle": "2022-07-13T08:08:19.313183Z",
     "shell.execute_reply": "2022-07-13T08:08:19.312371Z"
    },
    "origin_pos": 40,
    "tab": [
     "pytorch"
    ]
   },
   "outputs": [
    {
     "data": {
      "text/plain": [
       "tensor([[2, 1, 4, 3],\n",
       "        [1, 2, 3, 4],\n",
       "        [4, 3, 2, 1]])"
      ]
     },
     "execution_count": 9,
     "metadata": {},
     "output_type": "execute_result"
    }
   ],
   "source": [
    "torch.tensor([[2, 1, 4, 3], [1, 2, 3, 4], [4, 3, 2, 1]])"
   ]
  },
  {
   "cell_type": "markdown",
   "id": "6974aec6",
   "metadata": {
    "slideshow": {
     "slide_type": "slide"
    }
   },
   "source": [
    "`[-1]` selects the last row and `[1:3]`\n",
    "selects the second and third rows"
   ]
  },
  {
   "cell_type": "code",
   "execution_count": 10,
   "id": "88eaf38f",
   "metadata": {
    "execution": {
     "iopub.execute_input": "2022-07-13T08:08:19.316456Z",
     "iopub.status.busy": "2022-07-13T08:08:19.316173Z",
     "iopub.status.idle": "2022-07-13T08:08:19.322647Z",
     "shell.execute_reply": "2022-07-13T08:08:19.321890Z"
    },
    "origin_pos": 43,
    "tab": [
     "pytorch"
    ]
   },
   "outputs": [
    {
     "data": {
      "text/plain": [
       "(tensor([ 8.,  9., 10., 11.]),\n",
       " tensor([[ 4.,  5.,  6.,  7.],\n",
       "         [ 8.,  9., 10., 11.]]))"
      ]
     },
     "execution_count": 10,
     "metadata": {},
     "output_type": "execute_result"
    }
   ],
   "source": [
    "X[-1], X[1:3]"
   ]
  },
  {
   "cell_type": "markdown",
   "id": "1a9d11b2",
   "metadata": {
    "slideshow": {
     "slide_type": "-"
    }
   },
   "source": [
    "We can also write elements of a matrix by specifying indices"
   ]
  },
  {
   "cell_type": "code",
   "execution_count": 11,
   "id": "29408263",
   "metadata": {
    "execution": {
     "iopub.execute_input": "2022-07-13T08:08:19.325885Z",
     "iopub.status.busy": "2022-07-13T08:08:19.325601Z",
     "iopub.status.idle": "2022-07-13T08:08:19.331689Z",
     "shell.execute_reply": "2022-07-13T08:08:19.330876Z"
    },
    "origin_pos": 46,
    "tab": [
     "pytorch"
    ]
   },
   "outputs": [
    {
     "data": {
      "text/plain": [
       "tensor([[ 0.,  1.,  2.,  3.],\n",
       "        [ 4.,  5., 17.,  7.],\n",
       "        [ 8.,  9., 10., 11.]])"
      ]
     },
     "execution_count": 11,
     "metadata": {},
     "output_type": "execute_result"
    }
   ],
   "source": [
    "X[1, 2] = 17\n",
    "X"
   ]
  },
  {
   "cell_type": "markdown",
   "id": "d8c3a2f7",
   "metadata": {
    "slideshow": {
     "slide_type": "slide"
    }
   },
   "source": [
    "To assign multiple elements the same value,\n",
    "we apply the indexing on the left-hand side \n",
    "of the assignment operation"
   ]
  },
  {
   "cell_type": "code",
   "execution_count": 12,
   "id": "fb7112a3",
   "metadata": {
    "execution": {
     "iopub.execute_input": "2022-07-13T08:08:19.334887Z",
     "iopub.status.busy": "2022-07-13T08:08:19.334600Z",
     "iopub.status.idle": "2022-07-13T08:08:19.340720Z",
     "shell.execute_reply": "2022-07-13T08:08:19.339920Z"
    },
    "origin_pos": 49,
    "tab": [
     "pytorch"
    ]
   },
   "outputs": [
    {
     "data": {
      "text/plain": [
       "tensor([[12., 12., 12., 12.],\n",
       "        [12., 12., 12., 12.],\n",
       "        [ 8.,  9., 10., 11.]])"
      ]
     },
     "execution_count": 12,
     "metadata": {},
     "output_type": "execute_result"
    }
   ],
   "source": [
    "X[:2, :] = 12\n",
    "X"
   ]
  },
  {
   "cell_type": "code",
   "execution_count": 13,
   "id": "8a56a076",
   "metadata": {
    "execution": {
     "iopub.execute_input": "2022-07-13T08:08:19.344156Z",
     "iopub.status.busy": "2022-07-13T08:08:19.343846Z",
     "iopub.status.idle": "2022-07-13T08:08:19.349823Z",
     "shell.execute_reply": "2022-07-13T08:08:19.349048Z"
    },
    "origin_pos": 53,
    "tab": [
     "pytorch"
    ]
   },
   "outputs": [
    {
     "data": {
      "text/plain": [
       "tensor([162754.7969, 162754.7969, 162754.7969, 162754.7969, 162754.7969,\n",
       "        162754.7969, 162754.7969, 162754.7969,   2980.9580,   8103.0840,\n",
       "         22026.4648,  59874.1406])"
      ]
     },
     "execution_count": 13,
     "metadata": {},
     "output_type": "execute_result"
    }
   ],
   "source": [
    "torch.exp(x)"
   ]
  },
  {
   "cell_type": "code",
   "execution_count": 14,
   "id": "b8d6ffac",
   "metadata": {
    "execution": {
     "iopub.execute_input": "2022-07-13T08:08:19.353028Z",
     "iopub.status.busy": "2022-07-13T08:08:19.352743Z",
     "iopub.status.idle": "2022-07-13T08:08:19.361094Z",
     "shell.execute_reply": "2022-07-13T08:08:19.360282Z"
    },
    "origin_pos": 57,
    "tab": [
     "pytorch"
    ]
   },
   "outputs": [
    {
     "data": {
      "text/plain": [
       "(tensor([ 3.,  4.,  6., 10.]),\n",
       " tensor([-1.,  0.,  2.,  6.]),\n",
       " tensor([ 2.,  4.,  8., 16.]),\n",
       " tensor([0.5000, 1.0000, 2.0000, 4.0000]),\n",
       " tensor([ 1.,  4., 16., 64.]))"
      ]
     },
     "execution_count": 14,
     "metadata": {},
     "output_type": "execute_result"
    }
   ],
   "source": [
    "x = torch.tensor([1.0, 2, 4, 8])\n",
    "y = torch.tensor([2, 2, 2, 2])\n",
    "x + y, x - y, x * y, x / y, x ** y"
   ]
  },
  {
   "cell_type": "markdown",
   "id": "3760774d",
   "metadata": {
    "slideshow": {
     "slide_type": "slide"
    }
   },
   "source": [
    "*concatenate* multiple tensors together"
   ]
  },
  {
   "cell_type": "code",
   "execution_count": 15,
   "id": "c1af1bd2",
   "metadata": {
    "execution": {
     "iopub.execute_input": "2022-07-13T08:08:19.364315Z",
     "iopub.status.busy": "2022-07-13T08:08:19.364027Z",
     "iopub.status.idle": "2022-07-13T08:08:19.372687Z",
     "shell.execute_reply": "2022-07-13T08:08:19.371897Z"
    },
    "origin_pos": 61,
    "tab": [
     "pytorch"
    ]
   },
   "outputs": [
    {
     "data": {
      "text/plain": [
       "(tensor([[ 0.,  1.,  2.,  3.],\n",
       "         [ 4.,  5.,  6.,  7.],\n",
       "         [ 8.,  9., 10., 11.],\n",
       "         [ 2.,  1.,  4.,  3.],\n",
       "         [ 1.,  2.,  3.,  4.],\n",
       "         [ 4.,  3.,  2.,  1.]]),\n",
       " tensor([[ 0.,  1.,  2.,  3.,  2.,  1.,  4.,  3.],\n",
       "         [ 4.,  5.,  6.,  7.,  1.,  2.,  3.,  4.],\n",
       "         [ 8.,  9., 10., 11.,  4.,  3.,  2.,  1.]]))"
      ]
     },
     "execution_count": 15,
     "metadata": {},
     "output_type": "execute_result"
    }
   ],
   "source": [
    "X = torch.arange(12, dtype=torch.float32).reshape((3,4))\n",
    "Y = torch.tensor([[2.0, 1, 4, 3], [1, 2, 3, 4], [4, 3, 2, 1]])\n",
    "torch.cat((X, Y), dim=0), torch.cat((X, Y), dim=1)"
   ]
  },
  {
   "cell_type": "markdown",
   "id": "43773354",
   "metadata": {
    "slideshow": {
     "slide_type": "slide"
    }
   },
   "source": [
    "Construct a binary tensor via *logical statements*"
   ]
  },
  {
   "cell_type": "code",
   "execution_count": 16,
   "id": "4deb1784",
   "metadata": {
    "execution": {
     "iopub.execute_input": "2022-07-13T08:08:19.376557Z",
     "iopub.status.busy": "2022-07-13T08:08:19.376273Z",
     "iopub.status.idle": "2022-07-13T08:08:19.381847Z",
     "shell.execute_reply": "2022-07-13T08:08:19.381083Z"
    },
    "origin_pos": 64,
    "tab": [
     "pytorch"
    ]
   },
   "outputs": [
    {
     "data": {
      "text/plain": [
       "tensor([[False,  True, False,  True],\n",
       "        [False, False, False, False],\n",
       "        [False, False, False, False]])"
      ]
     },
     "execution_count": 16,
     "metadata": {},
     "output_type": "execute_result"
    }
   ],
   "source": [
    "X == Y"
   ]
  },
  {
   "cell_type": "markdown",
   "id": "868b818f",
   "metadata": {
    "slideshow": {
     "slide_type": "slide"
    }
   },
   "source": [
    "Summing all the elements in the tensor"
   ]
  },
  {
   "cell_type": "code",
   "execution_count": 17,
   "id": "452b065a",
   "metadata": {
    "execution": {
     "iopub.execute_input": "2022-07-13T08:08:19.385093Z",
     "iopub.status.busy": "2022-07-13T08:08:19.384795Z",
     "iopub.status.idle": "2022-07-13T08:08:19.390510Z",
     "shell.execute_reply": "2022-07-13T08:08:19.389701Z"
    },
    "origin_pos": 66,
    "tab": [
     "pytorch"
    ]
   },
   "outputs": [
    {
     "data": {
      "text/plain": [
       "tensor(66.)"
      ]
     },
     "execution_count": 17,
     "metadata": {},
     "output_type": "execute_result"
    }
   ],
   "source": [
    "X.sum()"
   ]
  },
  {
   "cell_type": "markdown",
   "id": "8551fe2d",
   "metadata": {
    "slideshow": {
     "slide_type": "slide"
    }
   },
   "source": [
    "Perform elementwise binary operations\n",
    "by invoking the *broadcasting mechanism*"
   ]
  },
  {
   "cell_type": "code",
   "execution_count": 18,
   "id": "70967c83",
   "metadata": {
    "execution": {
     "iopub.execute_input": "2022-07-13T08:08:19.393795Z",
     "iopub.status.busy": "2022-07-13T08:08:19.393510Z",
     "iopub.status.idle": "2022-07-13T08:08:19.399928Z",
     "shell.execute_reply": "2022-07-13T08:08:19.399115Z"
    },
    "origin_pos": 70,
    "tab": [
     "pytorch"
    ]
   },
   "outputs": [
    {
     "data": {
      "text/plain": [
       "(tensor([[0],\n",
       "         [1],\n",
       "         [2]]),\n",
       " tensor([[0, 1]]))"
      ]
     },
     "execution_count": 18,
     "metadata": {},
     "output_type": "execute_result"
    }
   ],
   "source": [
    "a = torch.arange(3).reshape((3, 1))\n",
    "b = torch.arange(2).reshape((1, 2))\n",
    "a, b"
   ]
  },
  {
   "cell_type": "code",
   "execution_count": 19,
   "id": "36c42558",
   "metadata": {
    "execution": {
     "iopub.execute_input": "2022-07-13T08:08:19.403357Z",
     "iopub.status.busy": "2022-07-13T08:08:19.402966Z",
     "iopub.status.idle": "2022-07-13T08:08:19.408631Z",
     "shell.execute_reply": "2022-07-13T08:08:19.407855Z"
    },
    "origin_pos": 73,
    "tab": [
     "pytorch"
    ]
   },
   "outputs": [
    {
     "data": {
      "text/plain": [
       "tensor([[0, 1],\n",
       "        [1, 2],\n",
       "        [2, 3]])"
      ]
     },
     "execution_count": 19,
     "metadata": {},
     "output_type": "execute_result"
    }
   ],
   "source": [
    "a + b"
   ]
  },
  {
   "cell_type": "markdown",
   "id": "e7efd291",
   "metadata": {
    "slideshow": {
     "slide_type": "slide"
    }
   },
   "source": [
    "Running operations can cause new memory to be\n",
    "allocated to host results"
   ]
  },
  {
   "cell_type": "code",
   "execution_count": 20,
   "id": "da161167",
   "metadata": {
    "execution": {
     "iopub.execute_input": "2022-07-13T08:08:19.411797Z",
     "iopub.status.busy": "2022-07-13T08:08:19.411510Z",
     "iopub.status.idle": "2022-07-13T08:08:19.417102Z",
     "shell.execute_reply": "2022-07-13T08:08:19.416321Z"
    },
    "origin_pos": 75,
    "tab": [
     "pytorch"
    ]
   },
   "outputs": [
    {
     "data": {
      "text/plain": [
       "False"
      ]
     },
     "execution_count": 20,
     "metadata": {},
     "output_type": "execute_result"
    }
   ],
   "source": [
    "before = id(Y)\n",
    "Y = Y + X\n",
    "id(Y) == before"
   ]
  },
  {
   "cell_type": "markdown",
   "id": "36b48620",
   "metadata": {
    "slideshow": {
     "slide_type": "-"
    }
   },
   "source": [
    "Performing in-place operations"
   ]
  },
  {
   "cell_type": "code",
   "execution_count": 21,
   "id": "403f7a6e",
   "metadata": {
    "execution": {
     "iopub.execute_input": "2022-07-13T08:08:19.420550Z",
     "iopub.status.busy": "2022-07-13T08:08:19.420263Z",
     "iopub.status.idle": "2022-07-13T08:08:19.425558Z",
     "shell.execute_reply": "2022-07-13T08:08:19.424755Z"
    },
    "origin_pos": 80,
    "tab": [
     "pytorch"
    ]
   },
   "outputs": [
    {
     "name": "stdout",
     "output_type": "stream",
     "text": [
      "id(Z): 140568100168944\n",
      "id(Z): 140568100168944\n"
     ]
    }
   ],
   "source": [
    "Z = torch.zeros_like(Y)\n",
    "print('id(Z):', id(Z))\n",
    "Z[:] = X + Y\n",
    "print('id(Z):', id(Z))"
   ]
  },
  {
   "cell_type": "markdown",
   "id": "17e6fe03",
   "metadata": {
    "slideshow": {
     "slide_type": "slide"
    }
   },
   "source": [
    "If the value of `X` is not reused in subsequent computations,\n",
    "we can also use `X[:] = X + Y` or `X += Y`\n",
    "to reduce the memory overhead of the operation"
   ]
  },
  {
   "cell_type": "code",
   "execution_count": 22,
   "id": "e85e18f3",
   "metadata": {
    "execution": {
     "iopub.execute_input": "2022-07-13T08:08:19.428788Z",
     "iopub.status.busy": "2022-07-13T08:08:19.428502Z",
     "iopub.status.idle": "2022-07-13T08:08:19.434122Z",
     "shell.execute_reply": "2022-07-13T08:08:19.433330Z"
    },
    "origin_pos": 84,
    "tab": [
     "pytorch"
    ]
   },
   "outputs": [
    {
     "data": {
      "text/plain": [
       "True"
      ]
     },
     "execution_count": 22,
     "metadata": {},
     "output_type": "execute_result"
    }
   ],
   "source": [
    "before = id(X)\n",
    "X += Y\n",
    "id(X) == before"
   ]
  },
  {
   "cell_type": "markdown",
   "id": "45a95468",
   "metadata": {
    "slideshow": {
     "slide_type": "slide"
    }
   },
   "source": [
    "Converting to a NumPy tensor (`ndarray`)"
   ]
  },
  {
   "cell_type": "code",
   "execution_count": 23,
   "id": "4c27b3d2",
   "metadata": {
    "execution": {
     "iopub.execute_input": "2022-07-13T08:08:19.437385Z",
     "iopub.status.busy": "2022-07-13T08:08:19.437101Z",
     "iopub.status.idle": "2022-07-13T08:08:19.442718Z",
     "shell.execute_reply": "2022-07-13T08:08:19.441922Z"
    },
    "origin_pos": 90,
    "tab": [
     "pytorch"
    ]
   },
   "outputs": [
    {
     "data": {
      "text/plain": [
       "(numpy.ndarray, torch.Tensor)"
      ]
     },
     "execution_count": 23,
     "metadata": {},
     "output_type": "execute_result"
    }
   ],
   "source": [
    "A = X.numpy()\n",
    "B = torch.from_numpy(A)\n",
    "type(A), type(B)"
   ]
  },
  {
   "cell_type": "markdown",
   "id": "f8ea02b2",
   "metadata": {
    "slideshow": {
     "slide_type": "-"
    }
   },
   "source": [
    "Convert a size-1 tensor to a Python scalar"
   ]
  },
  {
   "cell_type": "code",
   "execution_count": 24,
   "id": "4fba9776",
   "metadata": {
    "execution": {
     "iopub.execute_input": "2022-07-13T08:08:19.445858Z",
     "iopub.status.busy": "2022-07-13T08:08:19.445573Z",
     "iopub.status.idle": "2022-07-13T08:08:19.451845Z",
     "shell.execute_reply": "2022-07-13T08:08:19.451029Z"
    },
    "origin_pos": 94,
    "tab": [
     "pytorch"
    ]
   },
   "outputs": [
    {
     "data": {
      "text/plain": [
       "(tensor([3.5000]), 3.5, 3.5, 3)"
      ]
     },
     "execution_count": 24,
     "metadata": {},
     "output_type": "execute_result"
    }
   ],
   "source": [
    "a = torch.tensor([3.5])\n",
    "a, a.item(), float(a), int(a)"
   ]
  }
 ],
 "metadata": {
  "celltoolbar": "Slideshow",
  "language_info": {
   "name": "python"
  },
  "rise": {
   "autolaunch": true,
   "enable_chalkboard": true,
   "overlay": "<div class='my-top-right'><img height=80px src='http://d2l.ai/_static/logo-with-text.png'/></div><div class='my-top-left'></div>",
   "scroll": true
  }
 },
 "nbformat": 4,
 "nbformat_minor": 5
}