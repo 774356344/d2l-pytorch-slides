{
 "cells": [
  {
   "cell_type": "markdown",
   "id": "2eedbb1b",
   "metadata": {
    "slideshow": {
     "slide_type": "-"
    }
   },
   "source": [
    "# Data Manipulation\n",
    "\n"
   ]
  },
  {
   "cell_type": "markdown",
   "id": "ee8b961f",
   "metadata": {
    "slideshow": {
     "slide_type": "-"
    }
   },
   "source": [
    "To start, we import the PyTorch library.\n",
    "Note that the package name is `torch`"
   ]
  },
  {
   "cell_type": "code",
   "execution_count": 1,
   "id": "8dc095d3",
   "metadata": {
    "execution": {
     "iopub.execute_input": "2022-09-07T22:06:49.255013Z",
     "iopub.status.busy": "2022-09-07T22:06:49.254302Z",
     "iopub.status.idle": "2022-09-07T22:06:50.276945Z",
     "shell.execute_reply": "2022-09-07T22:06:50.275729Z"
    },
    "origin_pos": 6,
    "tab": [
     "pytorch"
    ]
   },
   "outputs": [],
   "source": [
    "import torch"
   ]
  },
  {
   "cell_type": "markdown",
   "id": "b2e7f8fc",
   "metadata": {
    "slideshow": {
     "slide_type": "slide"
    }
   },
   "source": [
    "A tensor represents a (possibly multi-dimensional) array of numerical values"
   ]
  },
  {
   "cell_type": "code",
   "execution_count": 2,
   "id": "02b38032",
   "metadata": {
    "execution": {
     "iopub.execute_input": "2022-09-07T22:06:50.283274Z",
     "iopub.status.busy": "2022-09-07T22:06:50.282566Z",
     "iopub.status.idle": "2022-09-07T22:06:50.300683Z",
     "shell.execute_reply": "2022-09-07T22:06:50.299396Z"
    },
    "origin_pos": 13,
    "tab": [
     "pytorch"
    ]
   },
   "outputs": [
    {
     "data": {
      "text/plain": [
       "tensor([ 0.,  1.,  2.,  3.,  4.,  5.,  6.,  7.,  8.,  9., 10., 11.])"
      ]
     },
     "execution_count": 2,
     "metadata": {},
     "output_type": "execute_result"
    }
   ],
   "source": [
    "x = torch.arange(12, dtype=torch.float32)\n",
    "x"
   ]
  },
  {
   "cell_type": "code",
   "execution_count": 3,
   "id": "afc1cb28",
   "metadata": {
    "execution": {
     "iopub.execute_input": "2022-09-07T22:06:50.305362Z",
     "iopub.status.busy": "2022-09-07T22:06:50.304681Z",
     "iopub.status.idle": "2022-09-07T22:06:50.310310Z",
     "shell.execute_reply": "2022-09-07T22:06:50.309376Z"
    },
    "origin_pos": 19,
    "tab": [
     "pytorch"
    ]
   },
   "outputs": [
    {
     "data": {
      "text/plain": [
       "12"
      ]
     },
     "execution_count": 3,
     "metadata": {},
     "output_type": "execute_result"
    }
   ],
   "source": [
    "x.numel()"
   ]
  },
  {
   "cell_type": "markdown",
   "id": "72e396dc",
   "metadata": {
    "slideshow": {
     "slide_type": "-"
    }
   },
   "source": [
    "We can access a tensor's *shape*"
   ]
  },
  {
   "cell_type": "code",
   "execution_count": 4,
   "id": "72b5e455",
   "metadata": {
    "execution": {
     "iopub.execute_input": "2022-09-07T22:06:50.313846Z",
     "iopub.status.busy": "2022-09-07T22:06:50.313403Z",
     "iopub.status.idle": "2022-09-07T22:06:50.318674Z",
     "shell.execute_reply": "2022-09-07T22:06:50.317793Z"
    },
    "origin_pos": 22,
    "tab": [
     "pytorch"
    ]
   },
   "outputs": [
    {
     "data": {
      "text/plain": [
       "torch.Size([12])"
      ]
     },
     "execution_count": 4,
     "metadata": {},
     "output_type": "execute_result"
    }
   ],
   "source": [
    "x.shape"
   ]
  },
  {
   "cell_type": "markdown",
   "id": "771c2198",
   "metadata": {
    "slideshow": {
     "slide_type": "slide"
    }
   },
   "source": [
    "Change the shape of a tensor\n",
    "without altering its size or values"
   ]
  },
  {
   "cell_type": "code",
   "execution_count": 5,
   "id": "bfd847f0",
   "metadata": {
    "execution": {
     "iopub.execute_input": "2022-09-07T22:06:50.322491Z",
     "iopub.status.busy": "2022-09-07T22:06:50.321832Z",
     "iopub.status.idle": "2022-09-07T22:06:50.328491Z",
     "shell.execute_reply": "2022-09-07T22:06:50.327757Z"
    },
    "origin_pos": 24,
    "tab": [
     "pytorch"
    ]
   },
   "outputs": [
    {
     "data": {
      "text/plain": [
       "tensor([[ 0.,  1.,  2.,  3.],\n",
       "        [ 4.,  5.,  6.,  7.],\n",
       "        [ 8.,  9., 10., 11.]])"
      ]
     },
     "execution_count": 5,
     "metadata": {},
     "output_type": "execute_result"
    }
   ],
   "source": [
    "X = x.reshape(3, 4)\n",
    "X"
   ]
  },
  {
   "cell_type": "markdown",
   "id": "a69d8650",
   "metadata": {
    "slideshow": {
     "slide_type": "slide"
    }
   },
   "source": [
    "We can construct a tensor with all elements set to zero\n",
    "or one"
   ]
  },
  {
   "cell_type": "code",
   "execution_count": 6,
   "id": "025cf97b",
   "metadata": {
    "execution": {
     "iopub.execute_input": "2022-09-07T22:06:50.332426Z",
     "iopub.status.busy": "2022-09-07T22:06:50.331837Z",
     "iopub.status.idle": "2022-09-07T22:06:50.349646Z",
     "shell.execute_reply": "2022-09-07T22:06:50.346774Z"
    },
    "origin_pos": 28,
    "tab": [
     "pytorch"
    ]
   },
   "outputs": [
    {
     "data": {
      "text/plain": [
       "tensor([[[0., 0., 0., 0.],\n",
       "         [0., 0., 0., 0.],\n",
       "         [0., 0., 0., 0.]],\n",
       "\n",
       "        [[0., 0., 0., 0.],\n",
       "         [0., 0., 0., 0.],\n",
       "         [0., 0., 0., 0.]]])"
      ]
     },
     "execution_count": 6,
     "metadata": {},
     "output_type": "execute_result"
    }
   ],
   "source": [
    "torch.zeros((2, 3, 4))"
   ]
  },
  {
   "cell_type": "code",
   "execution_count": 7,
   "id": "c3768a41",
   "metadata": {
    "execution": {
     "iopub.execute_input": "2022-09-07T22:06:50.357307Z",
     "iopub.status.busy": "2022-09-07T22:06:50.356667Z",
     "iopub.status.idle": "2022-09-07T22:06:50.363293Z",
     "shell.execute_reply": "2022-09-07T22:06:50.362475Z"
    },
    "origin_pos": 32,
    "tab": [
     "pytorch"
    ]
   },
   "outputs": [
    {
     "data": {
      "text/plain": [
       "tensor([[[1., 1., 1., 1.],\n",
       "         [1., 1., 1., 1.],\n",
       "         [1., 1., 1., 1.]],\n",
       "\n",
       "        [[1., 1., 1., 1.],\n",
       "         [1., 1., 1., 1.],\n",
       "         [1., 1., 1., 1.]]])"
      ]
     },
     "execution_count": 7,
     "metadata": {},
     "output_type": "execute_result"
    }
   ],
   "source": [
    "torch.ones((2, 3, 4))"
   ]
  },
  {
   "cell_type": "markdown",
   "id": "64a44702",
   "metadata": {
    "slideshow": {
     "slide_type": "slide"
    }
   },
   "source": [
    "Sample each element randomly (and independently)"
   ]
  },
  {
   "cell_type": "code",
   "execution_count": 8,
   "id": "8fd6e781",
   "metadata": {
    "execution": {
     "iopub.execute_input": "2022-09-07T22:06:50.366923Z",
     "iopub.status.busy": "2022-09-07T22:06:50.366306Z",
     "iopub.status.idle": "2022-09-07T22:06:50.372113Z",
     "shell.execute_reply": "2022-09-07T22:06:50.371317Z"
    },
    "origin_pos": 36,
    "tab": [
     "pytorch"
    ]
   },
   "outputs": [
    {
     "data": {
      "text/plain": [
       "tensor([[-1.0874, -1.8886, -0.9243, -2.9333],\n",
       "        [-0.2017,  1.4670, -0.2427, -1.4127],\n",
       "        [-0.9634, -0.0654, -1.1506,  1.3733]])"
      ]
     },
     "execution_count": 8,
     "metadata": {},
     "output_type": "execute_result"
    }
   ],
   "source": [
    "torch.randn(3, 4)"
   ]
  },
  {
   "cell_type": "markdown",
   "id": "e28de9a1",
   "metadata": {
    "slideshow": {
     "slide_type": "slide"
    }
   },
   "source": [
    "Supplying the exact values for each element"
   ]
  },
  {
   "cell_type": "code",
   "execution_count": 9,
   "id": "8ee5bf8d",
   "metadata": {
    "execution": {
     "iopub.execute_input": "2022-09-07T22:06:50.375771Z",
     "iopub.status.busy": "2022-09-07T22:06:50.375201Z",
     "iopub.status.idle": "2022-09-07T22:06:50.381516Z",
     "shell.execute_reply": "2022-09-07T22:06:50.380469Z"
    },
    "origin_pos": 40,
    "tab": [
     "pytorch"
    ]
   },
   "outputs": [
    {
     "data": {
      "text/plain": [
       "tensor([[2, 1, 4, 3],\n",
       "        [1, 2, 3, 4],\n",
       "        [4, 3, 2, 1]])"
      ]
     },
     "execution_count": 9,
     "metadata": {},
     "output_type": "execute_result"
    }
   ],
   "source": [
    "torch.tensor([[2, 1, 4, 3], [1, 2, 3, 4], [4, 3, 2, 1]])"
   ]
  },
  {
   "cell_type": "markdown",
   "id": "3479b719",
   "metadata": {
    "slideshow": {
     "slide_type": "slide"
    }
   },
   "source": [
    "`[-1]` selects the last row and `[1:3]`\n",
    "selects the second and third rows"
   ]
  },
  {
   "cell_type": "code",
   "execution_count": 10,
   "id": "4a8f3496",
   "metadata": {
    "execution": {
     "iopub.execute_input": "2022-09-07T22:06:50.386172Z",
     "iopub.status.busy": "2022-09-07T22:06:50.385579Z",
     "iopub.status.idle": "2022-09-07T22:06:50.392629Z",
     "shell.execute_reply": "2022-09-07T22:06:50.391894Z"
    },
    "origin_pos": 43,
    "tab": [
     "pytorch"
    ]
   },
   "outputs": [
    {
     "data": {
      "text/plain": [
       "(tensor([ 8.,  9., 10., 11.]),\n",
       " tensor([[ 4.,  5.,  6.,  7.],\n",
       "         [ 8.,  9., 10., 11.]]))"
      ]
     },
     "execution_count": 10,
     "metadata": {},
     "output_type": "execute_result"
    }
   ],
   "source": [
    "X[-1], X[1:3]"
   ]
  },
  {
   "cell_type": "markdown",
   "id": "600b882e",
   "metadata": {
    "slideshow": {
     "slide_type": "-"
    }
   },
   "source": [
    "We can also write elements of a matrix by specifying indices"
   ]
  },
  {
   "cell_type": "code",
   "execution_count": 11,
   "id": "0726a74a",
   "metadata": {
    "execution": {
     "iopub.execute_input": "2022-09-07T22:06:50.396003Z",
     "iopub.status.busy": "2022-09-07T22:06:50.395461Z",
     "iopub.status.idle": "2022-09-07T22:06:50.401901Z",
     "shell.execute_reply": "2022-09-07T22:06:50.401141Z"
    },
    "origin_pos": 46,
    "tab": [
     "pytorch"
    ]
   },
   "outputs": [
    {
     "data": {
      "text/plain": [
       "tensor([[ 0.,  1.,  2.,  3.],\n",
       "        [ 4.,  5., 17.,  7.],\n",
       "        [ 8.,  9., 10., 11.]])"
      ]
     },
     "execution_count": 11,
     "metadata": {},
     "output_type": "execute_result"
    }
   ],
   "source": [
    "X[1, 2] = 17\n",
    "X"
   ]
  },
  {
   "cell_type": "markdown",
   "id": "d92f2a4d",
   "metadata": {
    "slideshow": {
     "slide_type": "slide"
    }
   },
   "source": [
    "To assign multiple elements the same value,\n",
    "we apply the indexing on the left-hand side \n",
    "of the assignment operation"
   ]
  },
  {
   "cell_type": "code",
   "execution_count": 12,
   "id": "0e43c329",
   "metadata": {
    "execution": {
     "iopub.execute_input": "2022-09-07T22:06:50.405513Z",
     "iopub.status.busy": "2022-09-07T22:06:50.405081Z",
     "iopub.status.idle": "2022-09-07T22:06:50.411495Z",
     "shell.execute_reply": "2022-09-07T22:06:50.410629Z"
    },
    "origin_pos": 49,
    "tab": [
     "pytorch"
    ]
   },
   "outputs": [
    {
     "data": {
      "text/plain": [
       "tensor([[12., 12., 12., 12.],\n",
       "        [12., 12., 12., 12.],\n",
       "        [ 8.,  9., 10., 11.]])"
      ]
     },
     "execution_count": 12,
     "metadata": {},
     "output_type": "execute_result"
    }
   ],
   "source": [
    "X[:2, :] = 12\n",
    "X"
   ]
  },
  {
   "cell_type": "code",
   "execution_count": 13,
   "id": "3c2a464d",
   "metadata": {
    "execution": {
     "iopub.execute_input": "2022-09-07T22:06:50.415088Z",
     "iopub.status.busy": "2022-09-07T22:06:50.414563Z",
     "iopub.status.idle": "2022-09-07T22:06:50.420890Z",
     "shell.execute_reply": "2022-09-07T22:06:50.420056Z"
    },
    "origin_pos": 53,
    "tab": [
     "pytorch"
    ]
   },
   "outputs": [
    {
     "data": {
      "text/plain": [
       "tensor([162754.7969, 162754.7969, 162754.7969, 162754.7969, 162754.7969,\n",
       "        162754.7969, 162754.7969, 162754.7969,   2980.9580,   8103.0840,\n",
       "         22026.4648,  59874.1406])"
      ]
     },
     "execution_count": 13,
     "metadata": {},
     "output_type": "execute_result"
    }
   ],
   "source": [
    "torch.exp(x)"
   ]
  },
  {
   "cell_type": "code",
   "execution_count": 14,
   "id": "88e3af90",
   "metadata": {
    "execution": {
     "iopub.execute_input": "2022-09-07T22:06:50.425794Z",
     "iopub.status.busy": "2022-09-07T22:06:50.425006Z",
     "iopub.status.idle": "2022-09-07T22:06:50.438164Z",
     "shell.execute_reply": "2022-09-07T22:06:50.436816Z"
    },
    "origin_pos": 57,
    "tab": [
     "pytorch"
    ]
   },
   "outputs": [
    {
     "data": {
      "text/plain": [
       "(tensor([ 3.,  4.,  6., 10.]),\n",
       " tensor([-1.,  0.,  2.,  6.]),\n",
       " tensor([ 2.,  4.,  8., 16.]),\n",
       " tensor([0.5000, 1.0000, 2.0000, 4.0000]),\n",
       " tensor([ 1.,  4., 16., 64.]))"
      ]
     },
     "execution_count": 14,
     "metadata": {},
     "output_type": "execute_result"
    }
   ],
   "source": [
    "x = torch.tensor([1.0, 2, 4, 8])\n",
    "y = torch.tensor([2, 2, 2, 2])\n",
    "x + y, x - y, x * y, x / y, x ** y"
   ]
  },
  {
   "cell_type": "markdown",
   "id": "13398bf4",
   "metadata": {
    "slideshow": {
     "slide_type": "slide"
    }
   },
   "source": [
    "*concatenate* multiple tensors together"
   ]
  },
  {
   "cell_type": "code",
   "execution_count": 15,
   "id": "5980f49f",
   "metadata": {
    "execution": {
     "iopub.execute_input": "2022-09-07T22:06:50.442205Z",
     "iopub.status.busy": "2022-09-07T22:06:50.441508Z",
     "iopub.status.idle": "2022-09-07T22:06:50.454700Z",
     "shell.execute_reply": "2022-09-07T22:06:50.453636Z"
    },
    "origin_pos": 61,
    "tab": [
     "pytorch"
    ]
   },
   "outputs": [
    {
     "data": {
      "text/plain": [
       "(tensor([[ 0.,  1.,  2.,  3.],\n",
       "         [ 4.,  5.,  6.,  7.],\n",
       "         [ 8.,  9., 10., 11.],\n",
       "         [ 2.,  1.,  4.,  3.],\n",
       "         [ 1.,  2.,  3.,  4.],\n",
       "         [ 4.,  3.,  2.,  1.]]),\n",
       " tensor([[ 0.,  1.,  2.,  3.,  2.,  1.,  4.,  3.],\n",
       "         [ 4.,  5.,  6.,  7.,  1.,  2.,  3.,  4.],\n",
       "         [ 8.,  9., 10., 11.,  4.,  3.,  2.,  1.]]))"
      ]
     },
     "execution_count": 15,
     "metadata": {},
     "output_type": "execute_result"
    }
   ],
   "source": [
    "X = torch.arange(12, dtype=torch.float32).reshape((3,4))\n",
    "Y = torch.tensor([[2.0, 1, 4, 3], [1, 2, 3, 4], [4, 3, 2, 1]])\n",
    "torch.cat((X, Y), dim=0), torch.cat((X, Y), dim=1)"
   ]
  },
  {
   "cell_type": "markdown",
   "id": "a5acd8bd",
   "metadata": {
    "slideshow": {
     "slide_type": "slide"
    }
   },
   "source": [
    "Construct a binary tensor via *logical statements*"
   ]
  },
  {
   "cell_type": "code",
   "execution_count": 16,
   "id": "b1f04884",
   "metadata": {
    "execution": {
     "iopub.execute_input": "2022-09-07T22:06:50.458952Z",
     "iopub.status.busy": "2022-09-07T22:06:50.458068Z",
     "iopub.status.idle": "2022-09-07T22:06:50.465318Z",
     "shell.execute_reply": "2022-09-07T22:06:50.464334Z"
    },
    "origin_pos": 64,
    "tab": [
     "pytorch"
    ]
   },
   "outputs": [
    {
     "data": {
      "text/plain": [
       "tensor([[False,  True, False,  True],\n",
       "        [False, False, False, False],\n",
       "        [False, False, False, False]])"
      ]
     },
     "execution_count": 16,
     "metadata": {},
     "output_type": "execute_result"
    }
   ],
   "source": [
    "X == Y"
   ]
  },
  {
   "cell_type": "markdown",
   "id": "7263587c",
   "metadata": {
    "slideshow": {
     "slide_type": "slide"
    }
   },
   "source": [
    "Summing all the elements in the tensor"
   ]
  },
  {
   "cell_type": "code",
   "execution_count": 17,
   "id": "af9f28fe",
   "metadata": {
    "execution": {
     "iopub.execute_input": "2022-09-07T22:06:50.470213Z",
     "iopub.status.busy": "2022-09-07T22:06:50.469373Z",
     "iopub.status.idle": "2022-09-07T22:06:50.477427Z",
     "shell.execute_reply": "2022-09-07T22:06:50.476264Z"
    },
    "origin_pos": 66,
    "tab": [
     "pytorch"
    ]
   },
   "outputs": [
    {
     "data": {
      "text/plain": [
       "tensor(66.)"
      ]
     },
     "execution_count": 17,
     "metadata": {},
     "output_type": "execute_result"
    }
   ],
   "source": [
    "X.sum()"
   ]
  },
  {
   "cell_type": "markdown",
   "id": "f3b6483f",
   "metadata": {
    "slideshow": {
     "slide_type": "slide"
    }
   },
   "source": [
    "Perform elementwise binary operations\n",
    "by invoking the *broadcasting mechanism*"
   ]
  },
  {
   "cell_type": "code",
   "execution_count": 18,
   "id": "25f870f9",
   "metadata": {
    "execution": {
     "iopub.execute_input": "2022-09-07T22:06:50.481852Z",
     "iopub.status.busy": "2022-09-07T22:06:50.481064Z",
     "iopub.status.idle": "2022-09-07T22:06:50.489634Z",
     "shell.execute_reply": "2022-09-07T22:06:50.488639Z"
    },
    "origin_pos": 70,
    "tab": [
     "pytorch"
    ]
   },
   "outputs": [
    {
     "data": {
      "text/plain": [
       "(tensor([[0],\n",
       "         [1],\n",
       "         [2]]),\n",
       " tensor([[0, 1]]))"
      ]
     },
     "execution_count": 18,
     "metadata": {},
     "output_type": "execute_result"
    }
   ],
   "source": [
    "a = torch.arange(3).reshape((3, 1))\n",
    "b = torch.arange(2).reshape((1, 2))\n",
    "a, b"
   ]
  },
  {
   "cell_type": "code",
   "execution_count": 19,
   "id": "99dc8f6e",
   "metadata": {
    "execution": {
     "iopub.execute_input": "2022-09-07T22:06:50.493847Z",
     "iopub.status.busy": "2022-09-07T22:06:50.493063Z",
     "iopub.status.idle": "2022-09-07T22:06:50.499965Z",
     "shell.execute_reply": "2022-09-07T22:06:50.498966Z"
    },
    "origin_pos": 73,
    "tab": [
     "pytorch"
    ]
   },
   "outputs": [
    {
     "data": {
      "text/plain": [
       "tensor([[0, 1],\n",
       "        [1, 2],\n",
       "        [2, 3]])"
      ]
     },
     "execution_count": 19,
     "metadata": {},
     "output_type": "execute_result"
    }
   ],
   "source": [
    "a + b"
   ]
  },
  {
   "cell_type": "markdown",
   "id": "b977a356",
   "metadata": {
    "slideshow": {
     "slide_type": "slide"
    }
   },
   "source": [
    "Running operations can cause new memory to be\n",
    "allocated to host results"
   ]
  },
  {
   "cell_type": "code",
   "execution_count": 20,
   "id": "53cec000",
   "metadata": {
    "execution": {
     "iopub.execute_input": "2022-09-07T22:06:50.504157Z",
     "iopub.status.busy": "2022-09-07T22:06:50.503368Z",
     "iopub.status.idle": "2022-09-07T22:06:50.510917Z",
     "shell.execute_reply": "2022-09-07T22:06:50.509746Z"
    },
    "origin_pos": 75,
    "tab": [
     "pytorch"
    ]
   },
   "outputs": [
    {
     "data": {
      "text/plain": [
       "False"
      ]
     },
     "execution_count": 20,
     "metadata": {},
     "output_type": "execute_result"
    }
   ],
   "source": [
    "before = id(Y)\n",
    "Y = Y + X\n",
    "id(Y) == before"
   ]
  },
  {
   "cell_type": "markdown",
   "id": "4e17625f",
   "metadata": {
    "slideshow": {
     "slide_type": "-"
    }
   },
   "source": [
    "Performing in-place operations"
   ]
  },
  {
   "cell_type": "code",
   "execution_count": 21,
   "id": "8b011a51",
   "metadata": {
    "execution": {
     "iopub.execute_input": "2022-09-07T22:06:50.515204Z",
     "iopub.status.busy": "2022-09-07T22:06:50.514402Z",
     "iopub.status.idle": "2022-09-07T22:06:50.521246Z",
     "shell.execute_reply": "2022-09-07T22:06:50.520204Z"
    },
    "origin_pos": 80,
    "tab": [
     "pytorch"
    ]
   },
   "outputs": [
    {
     "name": "stdout",
     "output_type": "stream",
     "text": [
      "id(Z): 139666234290960\n",
      "id(Z): 139666234290960\n"
     ]
    }
   ],
   "source": [
    "Z = torch.zeros_like(Y)\n",
    "print('id(Z):', id(Z))\n",
    "Z[:] = X + Y\n",
    "print('id(Z):', id(Z))"
   ]
  },
  {
   "cell_type": "markdown",
   "id": "4f821148",
   "metadata": {
    "slideshow": {
     "slide_type": "slide"
    }
   },
   "source": [
    "If the value of `X` is not reused in subsequent computations,\n",
    "we can also use `X[:] = X + Y` or `X += Y`\n",
    "to reduce the memory overhead of the operation"
   ]
  },
  {
   "cell_type": "code",
   "execution_count": 22,
   "id": "29020ae4",
   "metadata": {
    "execution": {
     "iopub.execute_input": "2022-09-07T22:06:50.525408Z",
     "iopub.status.busy": "2022-09-07T22:06:50.524608Z",
     "iopub.status.idle": "2022-09-07T22:06:50.531375Z",
     "shell.execute_reply": "2022-09-07T22:06:50.530591Z"
    },
    "origin_pos": 84,
    "tab": [
     "pytorch"
    ]
   },
   "outputs": [
    {
     "data": {
      "text/plain": [
       "True"
      ]
     },
     "execution_count": 22,
     "metadata": {},
     "output_type": "execute_result"
    }
   ],
   "source": [
    "before = id(X)\n",
    "X += Y\n",
    "id(X) == before"
   ]
  },
  {
   "cell_type": "markdown",
   "id": "13a585a0",
   "metadata": {
    "slideshow": {
     "slide_type": "slide"
    }
   },
   "source": [
    "Converting to a NumPy tensor (`ndarray`)"
   ]
  },
  {
   "cell_type": "code",
   "execution_count": 23,
   "id": "0f7205a2",
   "metadata": {
    "execution": {
     "iopub.execute_input": "2022-09-07T22:06:50.535330Z",
     "iopub.status.busy": "2022-09-07T22:06:50.535051Z",
     "iopub.status.idle": "2022-09-07T22:06:50.540519Z",
     "shell.execute_reply": "2022-09-07T22:06:50.539767Z"
    },
    "origin_pos": 90,
    "tab": [
     "pytorch"
    ]
   },
   "outputs": [
    {
     "data": {
      "text/plain": [
       "(numpy.ndarray, torch.Tensor)"
      ]
     },
     "execution_count": 23,
     "metadata": {},
     "output_type": "execute_result"
    }
   ],
   "source": [
    "A = X.numpy()\n",
    "B = torch.from_numpy(A)\n",
    "type(A), type(B)"
   ]
  },
  {
   "cell_type": "markdown",
   "id": "d6e73569",
   "metadata": {
    "slideshow": {
     "slide_type": "-"
    }
   },
   "source": [
    "Convert a size-1 tensor to a Python scalar"
   ]
  },
  {
   "cell_type": "code",
   "execution_count": 24,
   "id": "5fe80e14",
   "metadata": {
    "execution": {
     "iopub.execute_input": "2022-09-07T22:06:50.543614Z",
     "iopub.status.busy": "2022-09-07T22:06:50.543333Z",
     "iopub.status.idle": "2022-09-07T22:06:50.549677Z",
     "shell.execute_reply": "2022-09-07T22:06:50.548910Z"
    },
    "origin_pos": 94,
    "tab": [
     "pytorch"
    ]
   },
   "outputs": [
    {
     "data": {
      "text/plain": [
       "(tensor([3.5000]), 3.5, 3.5, 3)"
      ]
     },
     "execution_count": 24,
     "metadata": {},
     "output_type": "execute_result"
    }
   ],
   "source": [
    "a = torch.tensor([3.5])\n",
    "a, a.item(), float(a), int(a)"
   ]
  }
 ],
 "metadata": {
  "celltoolbar": "Slideshow",
  "language_info": {
   "name": "python"
  },
  "rise": {
   "autolaunch": true,
   "enable_chalkboard": true,
   "overlay": "<div class='my-top-right'><img height=80px src='http://d2l.ai/_static/logo-with-text.png'/></div><div class='my-top-left'></div>",
   "scroll": true
  }
 },
 "nbformat": 4,
 "nbformat_minor": 5
}