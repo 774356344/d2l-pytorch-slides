{
 "cells": [
  {
   "cell_type": "markdown",
   "id": "b8e8a6f5",
   "metadata": {
    "slideshow": {
     "slide_type": "-"
    }
   },
   "source": [
    "# Data Manipulation\n",
    "\n"
   ]
  },
  {
   "cell_type": "markdown",
   "id": "d5e11f11",
   "metadata": {
    "slideshow": {
     "slide_type": "-"
    }
   },
   "source": [
    "To start, we import the PyTorch library.\n",
    "Note that the package name is `torch`"
   ]
  },
  {
   "cell_type": "code",
   "execution_count": 1,
   "id": "891e0caa",
   "metadata": {
    "execution": {
     "iopub.execute_input": "2022-08-29T22:04:55.594252Z",
     "iopub.status.busy": "2022-08-29T22:04:55.593871Z",
     "iopub.status.idle": "2022-08-29T22:04:56.614319Z",
     "shell.execute_reply": "2022-08-29T22:04:56.613448Z"
    },
    "origin_pos": 6,
    "tab": [
     "pytorch"
    ]
   },
   "outputs": [],
   "source": [
    "import torch"
   ]
  },
  {
   "cell_type": "markdown",
   "id": "d26f8f16",
   "metadata": {
    "slideshow": {
     "slide_type": "slide"
    }
   },
   "source": [
    "A tensor represents a (possibly multi-dimensional) array of numerical values"
   ]
  },
  {
   "cell_type": "code",
   "execution_count": 2,
   "id": "72037b30",
   "metadata": {
    "execution": {
     "iopub.execute_input": "2022-08-29T22:04:56.618699Z",
     "iopub.status.busy": "2022-08-29T22:04:56.618133Z",
     "iopub.status.idle": "2022-08-29T22:04:56.631065Z",
     "shell.execute_reply": "2022-08-29T22:04:56.630290Z"
    },
    "origin_pos": 13,
    "tab": [
     "pytorch"
    ]
   },
   "outputs": [
    {
     "data": {
      "text/plain": [
       "tensor([ 0.,  1.,  2.,  3.,  4.,  5.,  6.,  7.,  8.,  9., 10., 11.])"
      ]
     },
     "execution_count": 2,
     "metadata": {},
     "output_type": "execute_result"
    }
   ],
   "source": [
    "x = torch.arange(12, dtype=torch.float32)\n",
    "x"
   ]
  },
  {
   "cell_type": "code",
   "execution_count": 3,
   "id": "19478e57",
   "metadata": {
    "execution": {
     "iopub.execute_input": "2022-08-29T22:04:56.634436Z",
     "iopub.status.busy": "2022-08-29T22:04:56.633976Z",
     "iopub.status.idle": "2022-08-29T22:04:56.638998Z",
     "shell.execute_reply": "2022-08-29T22:04:56.638252Z"
    },
    "origin_pos": 19,
    "tab": [
     "pytorch"
    ]
   },
   "outputs": [
    {
     "data": {
      "text/plain": [
       "12"
      ]
     },
     "execution_count": 3,
     "metadata": {},
     "output_type": "execute_result"
    }
   ],
   "source": [
    "x.numel()"
   ]
  },
  {
   "cell_type": "markdown",
   "id": "7a880334",
   "metadata": {
    "slideshow": {
     "slide_type": "-"
    }
   },
   "source": [
    "We can access a tensor's *shape*"
   ]
  },
  {
   "cell_type": "code",
   "execution_count": 4,
   "id": "40d479de",
   "metadata": {
    "execution": {
     "iopub.execute_input": "2022-08-29T22:04:56.642722Z",
     "iopub.status.busy": "2022-08-29T22:04:56.642117Z",
     "iopub.status.idle": "2022-08-29T22:04:56.647694Z",
     "shell.execute_reply": "2022-08-29T22:04:56.646953Z"
    },
    "origin_pos": 22,
    "tab": [
     "pytorch"
    ]
   },
   "outputs": [
    {
     "data": {
      "text/plain": [
       "torch.Size([12])"
      ]
     },
     "execution_count": 4,
     "metadata": {},
     "output_type": "execute_result"
    }
   ],
   "source": [
    "x.shape"
   ]
  },
  {
   "cell_type": "markdown",
   "id": "ede53160",
   "metadata": {
    "slideshow": {
     "slide_type": "slide"
    }
   },
   "source": [
    "Change the shape of a tensor\n",
    "without altering its size or values"
   ]
  },
  {
   "cell_type": "code",
   "execution_count": 5,
   "id": "02ab25ee",
   "metadata": {
    "execution": {
     "iopub.execute_input": "2022-08-29T22:04:56.651433Z",
     "iopub.status.busy": "2022-08-29T22:04:56.650863Z",
     "iopub.status.idle": "2022-08-29T22:04:56.657835Z",
     "shell.execute_reply": "2022-08-29T22:04:56.657064Z"
    },
    "origin_pos": 24,
    "tab": [
     "pytorch"
    ]
   },
   "outputs": [
    {
     "data": {
      "text/plain": [
       "tensor([[ 0.,  1.,  2.,  3.],\n",
       "        [ 4.,  5.,  6.,  7.],\n",
       "        [ 8.,  9., 10., 11.]])"
      ]
     },
     "execution_count": 5,
     "metadata": {},
     "output_type": "execute_result"
    }
   ],
   "source": [
    "X = x.reshape(3, 4)\n",
    "X"
   ]
  },
  {
   "cell_type": "markdown",
   "id": "99eecd04",
   "metadata": {
    "slideshow": {
     "slide_type": "slide"
    }
   },
   "source": [
    "We can construct a tensor with all elements set to zero\n",
    "or one"
   ]
  },
  {
   "cell_type": "code",
   "execution_count": 6,
   "id": "60aee8d0",
   "metadata": {
    "execution": {
     "iopub.execute_input": "2022-08-29T22:04:56.663007Z",
     "iopub.status.busy": "2022-08-29T22:04:56.662278Z",
     "iopub.status.idle": "2022-08-29T22:04:56.669210Z",
     "shell.execute_reply": "2022-08-29T22:04:56.668178Z"
    },
    "origin_pos": 28,
    "tab": [
     "pytorch"
    ]
   },
   "outputs": [
    {
     "data": {
      "text/plain": [
       "tensor([[[0., 0., 0., 0.],\n",
       "         [0., 0., 0., 0.],\n",
       "         [0., 0., 0., 0.]],\n",
       "\n",
       "        [[0., 0., 0., 0.],\n",
       "         [0., 0., 0., 0.],\n",
       "         [0., 0., 0., 0.]]])"
      ]
     },
     "execution_count": 6,
     "metadata": {},
     "output_type": "execute_result"
    }
   ],
   "source": [
    "torch.zeros((2, 3, 4))"
   ]
  },
  {
   "cell_type": "code",
   "execution_count": 7,
   "id": "ebb8ed3e",
   "metadata": {
    "execution": {
     "iopub.execute_input": "2022-08-29T22:04:56.674236Z",
     "iopub.status.busy": "2022-08-29T22:04:56.673665Z",
     "iopub.status.idle": "2022-08-29T22:04:56.680323Z",
     "shell.execute_reply": "2022-08-29T22:04:56.679563Z"
    },
    "origin_pos": 32,
    "tab": [
     "pytorch"
    ]
   },
   "outputs": [
    {
     "data": {
      "text/plain": [
       "tensor([[[1., 1., 1., 1.],\n",
       "         [1., 1., 1., 1.],\n",
       "         [1., 1., 1., 1.]],\n",
       "\n",
       "        [[1., 1., 1., 1.],\n",
       "         [1., 1., 1., 1.],\n",
       "         [1., 1., 1., 1.]]])"
      ]
     },
     "execution_count": 7,
     "metadata": {},
     "output_type": "execute_result"
    }
   ],
   "source": [
    "torch.ones((2, 3, 4))"
   ]
  },
  {
   "cell_type": "markdown",
   "id": "c998ef78",
   "metadata": {
    "slideshow": {
     "slide_type": "slide"
    }
   },
   "source": [
    "Sample each element randomly (and independently)"
   ]
  },
  {
   "cell_type": "code",
   "execution_count": 8,
   "id": "0ab59f32",
   "metadata": {
    "execution": {
     "iopub.execute_input": "2022-08-29T22:04:56.685204Z",
     "iopub.status.busy": "2022-08-29T22:04:56.684567Z",
     "iopub.status.idle": "2022-08-29T22:04:56.691432Z",
     "shell.execute_reply": "2022-08-29T22:04:56.690647Z"
    },
    "origin_pos": 36,
    "tab": [
     "pytorch"
    ]
   },
   "outputs": [
    {
     "data": {
      "text/plain": [
       "tensor([[-0.4904,  0.2125,  0.4031,  0.6552],\n",
       "        [-1.2754,  0.7766, -0.4459, -0.0172],\n",
       "        [ 2.1922,  0.6535, -2.2792,  2.3230]])"
      ]
     },
     "execution_count": 8,
     "metadata": {},
     "output_type": "execute_result"
    }
   ],
   "source": [
    "torch.randn(3, 4)"
   ]
  },
  {
   "cell_type": "markdown",
   "id": "1514f8b2",
   "metadata": {
    "slideshow": {
     "slide_type": "slide"
    }
   },
   "source": [
    "Supplying the exact values for each element"
   ]
  },
  {
   "cell_type": "code",
   "execution_count": 9,
   "id": "4e893a74",
   "metadata": {
    "execution": {
     "iopub.execute_input": "2022-08-29T22:04:56.695744Z",
     "iopub.status.busy": "2022-08-29T22:04:56.695197Z",
     "iopub.status.idle": "2022-08-29T22:04:56.702002Z",
     "shell.execute_reply": "2022-08-29T22:04:56.701059Z"
    },
    "origin_pos": 40,
    "tab": [
     "pytorch"
    ]
   },
   "outputs": [
    {
     "data": {
      "text/plain": [
       "tensor([[2, 1, 4, 3],\n",
       "        [1, 2, 3, 4],\n",
       "        [4, 3, 2, 1]])"
      ]
     },
     "execution_count": 9,
     "metadata": {},
     "output_type": "execute_result"
    }
   ],
   "source": [
    "torch.tensor([[2, 1, 4, 3], [1, 2, 3, 4], [4, 3, 2, 1]])"
   ]
  },
  {
   "cell_type": "markdown",
   "id": "14eed0d8",
   "metadata": {
    "slideshow": {
     "slide_type": "slide"
    }
   },
   "source": [
    "`[-1]` selects the last row and `[1:3]`\n",
    "selects the second and third rows"
   ]
  },
  {
   "cell_type": "code",
   "execution_count": 10,
   "id": "cb463de0",
   "metadata": {
    "execution": {
     "iopub.execute_input": "2022-08-29T22:04:56.706065Z",
     "iopub.status.busy": "2022-08-29T22:04:56.705226Z",
     "iopub.status.idle": "2022-08-29T22:04:56.712229Z",
     "shell.execute_reply": "2022-08-29T22:04:56.711378Z"
    },
    "origin_pos": 43,
    "tab": [
     "pytorch"
    ]
   },
   "outputs": [
    {
     "data": {
      "text/plain": [
       "(tensor([ 8.,  9., 10., 11.]),\n",
       " tensor([[ 4.,  5.,  6.,  7.],\n",
       "         [ 8.,  9., 10., 11.]]))"
      ]
     },
     "execution_count": 10,
     "metadata": {},
     "output_type": "execute_result"
    }
   ],
   "source": [
    "X[-1], X[1:3]"
   ]
  },
  {
   "cell_type": "markdown",
   "id": "0a94c085",
   "metadata": {
    "slideshow": {
     "slide_type": "-"
    }
   },
   "source": [
    "We can also write elements of a matrix by specifying indices"
   ]
  },
  {
   "cell_type": "code",
   "execution_count": 11,
   "id": "dba8801c",
   "metadata": {
    "execution": {
     "iopub.execute_input": "2022-08-29T22:04:56.715766Z",
     "iopub.status.busy": "2022-08-29T22:04:56.715243Z",
     "iopub.status.idle": "2022-08-29T22:04:56.721953Z",
     "shell.execute_reply": "2022-08-29T22:04:56.720936Z"
    },
    "origin_pos": 46,
    "tab": [
     "pytorch"
    ]
   },
   "outputs": [
    {
     "data": {
      "text/plain": [
       "tensor([[ 0.,  1.,  2.,  3.],\n",
       "        [ 4.,  5., 17.,  7.],\n",
       "        [ 8.,  9., 10., 11.]])"
      ]
     },
     "execution_count": 11,
     "metadata": {},
     "output_type": "execute_result"
    }
   ],
   "source": [
    "X[1, 2] = 17\n",
    "X"
   ]
  },
  {
   "cell_type": "markdown",
   "id": "d3c9deb0",
   "metadata": {
    "slideshow": {
     "slide_type": "slide"
    }
   },
   "source": [
    "To assign multiple elements the same value,\n",
    "we apply the indexing on the left-hand side \n",
    "of the assignment operation"
   ]
  },
  {
   "cell_type": "code",
   "execution_count": 12,
   "id": "cbaa8703",
   "metadata": {
    "execution": {
     "iopub.execute_input": "2022-08-29T22:04:56.725679Z",
     "iopub.status.busy": "2022-08-29T22:04:56.725057Z",
     "iopub.status.idle": "2022-08-29T22:04:56.731046Z",
     "shell.execute_reply": "2022-08-29T22:04:56.730086Z"
    },
    "origin_pos": 49,
    "tab": [
     "pytorch"
    ]
   },
   "outputs": [
    {
     "data": {
      "text/plain": [
       "tensor([[12., 12., 12., 12.],\n",
       "        [12., 12., 12., 12.],\n",
       "        [ 8.,  9., 10., 11.]])"
      ]
     },
     "execution_count": 12,
     "metadata": {},
     "output_type": "execute_result"
    }
   ],
   "source": [
    "X[:2, :] = 12\n",
    "X"
   ]
  },
  {
   "cell_type": "code",
   "execution_count": 13,
   "id": "73558ad5",
   "metadata": {
    "execution": {
     "iopub.execute_input": "2022-08-29T22:04:56.734633Z",
     "iopub.status.busy": "2022-08-29T22:04:56.733991Z",
     "iopub.status.idle": "2022-08-29T22:04:56.740561Z",
     "shell.execute_reply": "2022-08-29T22:04:56.739582Z"
    },
    "origin_pos": 53,
    "tab": [
     "pytorch"
    ]
   },
   "outputs": [
    {
     "data": {
      "text/plain": [
       "tensor([162754.7969, 162754.7969, 162754.7969, 162754.7969, 162754.7969,\n",
       "        162754.7969, 162754.7969, 162754.7969,   2980.9580,   8103.0840,\n",
       "         22026.4648,  59874.1406])"
      ]
     },
     "execution_count": 13,
     "metadata": {},
     "output_type": "execute_result"
    }
   ],
   "source": [
    "torch.exp(x)"
   ]
  },
  {
   "cell_type": "code",
   "execution_count": 14,
   "id": "b3a94dde",
   "metadata": {
    "execution": {
     "iopub.execute_input": "2022-08-29T22:04:56.743970Z",
     "iopub.status.busy": "2022-08-29T22:04:56.743454Z",
     "iopub.status.idle": "2022-08-29T22:04:56.751966Z",
     "shell.execute_reply": "2022-08-29T22:04:56.751173Z"
    },
    "origin_pos": 57,
    "tab": [
     "pytorch"
    ]
   },
   "outputs": [
    {
     "data": {
      "text/plain": [
       "(tensor([ 3.,  4.,  6., 10.]),\n",
       " tensor([-1.,  0.,  2.,  6.]),\n",
       " tensor([ 2.,  4.,  8., 16.]),\n",
       " tensor([0.5000, 1.0000, 2.0000, 4.0000]),\n",
       " tensor([ 1.,  4., 16., 64.]))"
      ]
     },
     "execution_count": 14,
     "metadata": {},
     "output_type": "execute_result"
    }
   ],
   "source": [
    "x = torch.tensor([1.0, 2, 4, 8])\n",
    "y = torch.tensor([2, 2, 2, 2])\n",
    "x + y, x - y, x * y, x / y, x ** y"
   ]
  },
  {
   "cell_type": "markdown",
   "id": "1b36ea4c",
   "metadata": {
    "slideshow": {
     "slide_type": "slide"
    }
   },
   "source": [
    "*concatenate* multiple tensors together"
   ]
  },
  {
   "cell_type": "code",
   "execution_count": 15,
   "id": "4f541c0e",
   "metadata": {
    "execution": {
     "iopub.execute_input": "2022-08-29T22:04:56.756112Z",
     "iopub.status.busy": "2022-08-29T22:04:56.755298Z",
     "iopub.status.idle": "2022-08-29T22:04:56.765001Z",
     "shell.execute_reply": "2022-08-29T22:04:56.764244Z"
    },
    "origin_pos": 61,
    "tab": [
     "pytorch"
    ]
   },
   "outputs": [
    {
     "data": {
      "text/plain": [
       "(tensor([[ 0.,  1.,  2.,  3.],\n",
       "         [ 4.,  5.,  6.,  7.],\n",
       "         [ 8.,  9., 10., 11.],\n",
       "         [ 2.,  1.,  4.,  3.],\n",
       "         [ 1.,  2.,  3.,  4.],\n",
       "         [ 4.,  3.,  2.,  1.]]),\n",
       " tensor([[ 0.,  1.,  2.,  3.,  2.,  1.,  4.,  3.],\n",
       "         [ 4.,  5.,  6.,  7.,  1.,  2.,  3.,  4.],\n",
       "         [ 8.,  9., 10., 11.,  4.,  3.,  2.,  1.]]))"
      ]
     },
     "execution_count": 15,
     "metadata": {},
     "output_type": "execute_result"
    }
   ],
   "source": [
    "X = torch.arange(12, dtype=torch.float32).reshape((3,4))\n",
    "Y = torch.tensor([[2.0, 1, 4, 3], [1, 2, 3, 4], [4, 3, 2, 1]])\n",
    "torch.cat((X, Y), dim=0), torch.cat((X, Y), dim=1)"
   ]
  },
  {
   "cell_type": "markdown",
   "id": "e7add389",
   "metadata": {
    "slideshow": {
     "slide_type": "slide"
    }
   },
   "source": [
    "Construct a binary tensor via *logical statements*"
   ]
  },
  {
   "cell_type": "code",
   "execution_count": 16,
   "id": "dbe2dc92",
   "metadata": {
    "execution": {
     "iopub.execute_input": "2022-08-29T22:04:56.768880Z",
     "iopub.status.busy": "2022-08-29T22:04:56.768104Z",
     "iopub.status.idle": "2022-08-29T22:04:56.774213Z",
     "shell.execute_reply": "2022-08-29T22:04:56.773410Z"
    },
    "origin_pos": 64,
    "tab": [
     "pytorch"
    ]
   },
   "outputs": [
    {
     "data": {
      "text/plain": [
       "tensor([[False,  True, False,  True],\n",
       "        [False, False, False, False],\n",
       "        [False, False, False, False]])"
      ]
     },
     "execution_count": 16,
     "metadata": {},
     "output_type": "execute_result"
    }
   ],
   "source": [
    "X == Y"
   ]
  },
  {
   "cell_type": "markdown",
   "id": "ba80f741",
   "metadata": {
    "slideshow": {
     "slide_type": "slide"
    }
   },
   "source": [
    "Summing all the elements in the tensor"
   ]
  },
  {
   "cell_type": "code",
   "execution_count": 17,
   "id": "7bbb0215",
   "metadata": {
    "execution": {
     "iopub.execute_input": "2022-08-29T22:04:56.777807Z",
     "iopub.status.busy": "2022-08-29T22:04:56.777183Z",
     "iopub.status.idle": "2022-08-29T22:04:56.783461Z",
     "shell.execute_reply": "2022-08-29T22:04:56.782393Z"
    },
    "origin_pos": 66,
    "tab": [
     "pytorch"
    ]
   },
   "outputs": [
    {
     "data": {
      "text/plain": [
       "tensor(66.)"
      ]
     },
     "execution_count": 17,
     "metadata": {},
     "output_type": "execute_result"
    }
   ],
   "source": [
    "X.sum()"
   ]
  },
  {
   "cell_type": "markdown",
   "id": "37f77f65",
   "metadata": {
    "slideshow": {
     "slide_type": "slide"
    }
   },
   "source": [
    "Perform elementwise binary operations\n",
    "by invoking the *broadcasting mechanism*"
   ]
  },
  {
   "cell_type": "code",
   "execution_count": 18,
   "id": "7dc87410",
   "metadata": {
    "execution": {
     "iopub.execute_input": "2022-08-29T22:04:56.787469Z",
     "iopub.status.busy": "2022-08-29T22:04:56.786619Z",
     "iopub.status.idle": "2022-08-29T22:04:56.793911Z",
     "shell.execute_reply": "2022-08-29T22:04:56.793170Z"
    },
    "origin_pos": 70,
    "tab": [
     "pytorch"
    ]
   },
   "outputs": [
    {
     "data": {
      "text/plain": [
       "(tensor([[0],\n",
       "         [1],\n",
       "         [2]]),\n",
       " tensor([[0, 1]]))"
      ]
     },
     "execution_count": 18,
     "metadata": {},
     "output_type": "execute_result"
    }
   ],
   "source": [
    "a = torch.arange(3).reshape((3, 1))\n",
    "b = torch.arange(2).reshape((1, 2))\n",
    "a, b"
   ]
  },
  {
   "cell_type": "code",
   "execution_count": 19,
   "id": "fc164b61",
   "metadata": {
    "execution": {
     "iopub.execute_input": "2022-08-29T22:04:56.797600Z",
     "iopub.status.busy": "2022-08-29T22:04:56.796789Z",
     "iopub.status.idle": "2022-08-29T22:04:56.803122Z",
     "shell.execute_reply": "2022-08-29T22:04:56.802288Z"
    },
    "origin_pos": 73,
    "tab": [
     "pytorch"
    ]
   },
   "outputs": [
    {
     "data": {
      "text/plain": [
       "tensor([[0, 1],\n",
       "        [1, 2],\n",
       "        [2, 3]])"
      ]
     },
     "execution_count": 19,
     "metadata": {},
     "output_type": "execute_result"
    }
   ],
   "source": [
    "a + b"
   ]
  },
  {
   "cell_type": "markdown",
   "id": "e3d10c94",
   "metadata": {
    "slideshow": {
     "slide_type": "slide"
    }
   },
   "source": [
    "Running operations can cause new memory to be\n",
    "allocated to host results"
   ]
  },
  {
   "cell_type": "code",
   "execution_count": 20,
   "id": "48ca7661",
   "metadata": {
    "execution": {
     "iopub.execute_input": "2022-08-29T22:04:56.806503Z",
     "iopub.status.busy": "2022-08-29T22:04:56.805907Z",
     "iopub.status.idle": "2022-08-29T22:04:56.811571Z",
     "shell.execute_reply": "2022-08-29T22:04:56.810616Z"
    },
    "origin_pos": 75,
    "tab": [
     "pytorch"
    ]
   },
   "outputs": [
    {
     "data": {
      "text/plain": [
       "False"
      ]
     },
     "execution_count": 20,
     "metadata": {},
     "output_type": "execute_result"
    }
   ],
   "source": [
    "before = id(Y)\n",
    "Y = Y + X\n",
    "id(Y) == before"
   ]
  },
  {
   "cell_type": "markdown",
   "id": "6f2781af",
   "metadata": {
    "slideshow": {
     "slide_type": "-"
    }
   },
   "source": [
    "Performing in-place operations"
   ]
  },
  {
   "cell_type": "code",
   "execution_count": 21,
   "id": "6110bd27",
   "metadata": {
    "execution": {
     "iopub.execute_input": "2022-08-29T22:04:56.815544Z",
     "iopub.status.busy": "2022-08-29T22:04:56.814857Z",
     "iopub.status.idle": "2022-08-29T22:04:56.820717Z",
     "shell.execute_reply": "2022-08-29T22:04:56.819960Z"
    },
    "origin_pos": 80,
    "tab": [
     "pytorch"
    ]
   },
   "outputs": [
    {
     "name": "stdout",
     "output_type": "stream",
     "text": [
      "id(Z): 139861571142976\n",
      "id(Z): 139861571142976\n"
     ]
    }
   ],
   "source": [
    "Z = torch.zeros_like(Y)\n",
    "print('id(Z):', id(Z))\n",
    "Z[:] = X + Y\n",
    "print('id(Z):', id(Z))"
   ]
  },
  {
   "cell_type": "markdown",
   "id": "feb0a2a3",
   "metadata": {
    "slideshow": {
     "slide_type": "slide"
    }
   },
   "source": [
    "If the value of `X` is not reused in subsequent computations,\n",
    "we can also use `X[:] = X + Y` or `X += Y`\n",
    "to reduce the memory overhead of the operation"
   ]
  },
  {
   "cell_type": "code",
   "execution_count": 22,
   "id": "8ed42322",
   "metadata": {
    "execution": {
     "iopub.execute_input": "2022-08-29T22:04:56.824410Z",
     "iopub.status.busy": "2022-08-29T22:04:56.823653Z",
     "iopub.status.idle": "2022-08-29T22:04:56.829849Z",
     "shell.execute_reply": "2022-08-29T22:04:56.828909Z"
    },
    "origin_pos": 84,
    "tab": [
     "pytorch"
    ]
   },
   "outputs": [
    {
     "data": {
      "text/plain": [
       "True"
      ]
     },
     "execution_count": 22,
     "metadata": {},
     "output_type": "execute_result"
    }
   ],
   "source": [
    "before = id(X)\n",
    "X += Y\n",
    "id(X) == before"
   ]
  },
  {
   "cell_type": "markdown",
   "id": "ec458339",
   "metadata": {
    "slideshow": {
     "slide_type": "slide"
    }
   },
   "source": [
    "Converting to a NumPy tensor (`ndarray`)"
   ]
  },
  {
   "cell_type": "code",
   "execution_count": 23,
   "id": "dda057eb",
   "metadata": {
    "execution": {
     "iopub.execute_input": "2022-08-29T22:04:56.834005Z",
     "iopub.status.busy": "2022-08-29T22:04:56.833401Z",
     "iopub.status.idle": "2022-08-29T22:04:56.839767Z",
     "shell.execute_reply": "2022-08-29T22:04:56.838782Z"
    },
    "origin_pos": 90,
    "tab": [
     "pytorch"
    ]
   },
   "outputs": [
    {
     "data": {
      "text/plain": [
       "(numpy.ndarray, torch.Tensor)"
      ]
     },
     "execution_count": 23,
     "metadata": {},
     "output_type": "execute_result"
    }
   ],
   "source": [
    "A = X.numpy()\n",
    "B = torch.from_numpy(A)\n",
    "type(A), type(B)"
   ]
  },
  {
   "cell_type": "markdown",
   "id": "88062aca",
   "metadata": {
    "slideshow": {
     "slide_type": "-"
    }
   },
   "source": [
    "Convert a size-1 tensor to a Python scalar"
   ]
  },
  {
   "cell_type": "code",
   "execution_count": 24,
   "id": "c02a1ecd",
   "metadata": {
    "execution": {
     "iopub.execute_input": "2022-08-29T22:04:56.844048Z",
     "iopub.status.busy": "2022-08-29T22:04:56.843242Z",
     "iopub.status.idle": "2022-08-29T22:04:56.850060Z",
     "shell.execute_reply": "2022-08-29T22:04:56.849303Z"
    },
    "origin_pos": 94,
    "tab": [
     "pytorch"
    ]
   },
   "outputs": [
    {
     "data": {
      "text/plain": [
       "(tensor([3.5000]), 3.5, 3.5, 3)"
      ]
     },
     "execution_count": 24,
     "metadata": {},
     "output_type": "execute_result"
    }
   ],
   "source": [
    "a = torch.tensor([3.5])\n",
    "a, a.item(), float(a), int(a)"
   ]
  }
 ],
 "metadata": {
  "celltoolbar": "Slideshow",
  "language_info": {
   "name": "python"
  },
  "rise": {
   "autolaunch": true,
   "enable_chalkboard": true,
   "overlay": "<div class='my-top-right'><img height=80px src='http://d2l.ai/_static/logo-with-text.png'/></div><div class='my-top-left'></div>",
   "scroll": true
  }
 },
 "nbformat": 4,
 "nbformat_minor": 5
}