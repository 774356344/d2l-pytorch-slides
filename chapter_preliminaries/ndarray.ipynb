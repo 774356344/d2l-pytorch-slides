{
 "cells": [
  {
   "cell_type": "markdown",
   "id": "38344411",
   "metadata": {
    "slideshow": {
     "slide_type": "-"
    }
   },
   "source": [
    "# Data Manipulation\n",
    "\n"
   ]
  },
  {
   "cell_type": "markdown",
   "id": "8d7bc82e",
   "metadata": {
    "slideshow": {
     "slide_type": "-"
    }
   },
   "source": [
    "To start, we import the PyTorch library.\n",
    "Note that the package name is `torch`"
   ]
  },
  {
   "cell_type": "code",
   "execution_count": 1,
   "id": "37b91f0c",
   "metadata": {
    "execution": {
     "iopub.execute_input": "2022-07-13T08:08:47.510329Z",
     "iopub.status.busy": "2022-07-13T08:08:47.509419Z",
     "iopub.status.idle": "2022-07-13T08:08:48.367464Z",
     "shell.execute_reply": "2022-07-13T08:08:48.366495Z"
    },
    "origin_pos": 6,
    "tab": [
     "pytorch"
    ]
   },
   "outputs": [],
   "source": [
    "import torch"
   ]
  },
  {
   "cell_type": "markdown",
   "id": "75c900db",
   "metadata": {
    "slideshow": {
     "slide_type": "slide"
    }
   },
   "source": [
    "A tensor represents a (possibly multi-dimensional) array of numerical values"
   ]
  },
  {
   "cell_type": "code",
   "execution_count": 2,
   "id": "46c1b437",
   "metadata": {
    "execution": {
     "iopub.execute_input": "2022-07-13T08:08:48.371966Z",
     "iopub.status.busy": "2022-07-13T08:08:48.371341Z",
     "iopub.status.idle": "2022-07-13T08:08:48.384848Z",
     "shell.execute_reply": "2022-07-13T08:08:48.384041Z"
    },
    "origin_pos": 13,
    "tab": [
     "pytorch"
    ]
   },
   "outputs": [
    {
     "data": {
      "text/plain": [
       "tensor([ 0.,  1.,  2.,  3.,  4.,  5.,  6.,  7.,  8.,  9., 10., 11.])"
      ]
     },
     "execution_count": 2,
     "metadata": {},
     "output_type": "execute_result"
    }
   ],
   "source": [
    "x = torch.arange(12, dtype=torch.float32)\n",
    "x"
   ]
  },
  {
   "cell_type": "code",
   "execution_count": 3,
   "id": "58ed0b8b",
   "metadata": {
    "execution": {
     "iopub.execute_input": "2022-07-13T08:08:48.388658Z",
     "iopub.status.busy": "2022-07-13T08:08:48.388199Z",
     "iopub.status.idle": "2022-07-13T08:08:48.393495Z",
     "shell.execute_reply": "2022-07-13T08:08:48.392716Z"
    },
    "origin_pos": 19,
    "tab": [
     "pytorch"
    ]
   },
   "outputs": [
    {
     "data": {
      "text/plain": [
       "12"
      ]
     },
     "execution_count": 3,
     "metadata": {},
     "output_type": "execute_result"
    }
   ],
   "source": [
    "x.numel()"
   ]
  },
  {
   "cell_type": "markdown",
   "id": "82a1d02e",
   "metadata": {
    "slideshow": {
     "slide_type": "-"
    }
   },
   "source": [
    "We can access a tensor's *shape*"
   ]
  },
  {
   "cell_type": "code",
   "execution_count": 4,
   "id": "25f86f77",
   "metadata": {
    "execution": {
     "iopub.execute_input": "2022-07-13T08:08:48.396972Z",
     "iopub.status.busy": "2022-07-13T08:08:48.396539Z",
     "iopub.status.idle": "2022-07-13T08:08:48.401863Z",
     "shell.execute_reply": "2022-07-13T08:08:48.400901Z"
    },
    "origin_pos": 22,
    "tab": [
     "pytorch"
    ]
   },
   "outputs": [
    {
     "data": {
      "text/plain": [
       "torch.Size([12])"
      ]
     },
     "execution_count": 4,
     "metadata": {},
     "output_type": "execute_result"
    }
   ],
   "source": [
    "x.shape"
   ]
  },
  {
   "cell_type": "markdown",
   "id": "5e4d495c",
   "metadata": {
    "slideshow": {
     "slide_type": "slide"
    }
   },
   "source": [
    "Change the shape of a tensor\n",
    "without altering its size or values"
   ]
  },
  {
   "cell_type": "code",
   "execution_count": 5,
   "id": "3451a98d",
   "metadata": {
    "execution": {
     "iopub.execute_input": "2022-07-13T08:08:48.406231Z",
     "iopub.status.busy": "2022-07-13T08:08:48.405541Z",
     "iopub.status.idle": "2022-07-13T08:08:48.412736Z",
     "shell.execute_reply": "2022-07-13T08:08:48.411736Z"
    },
    "origin_pos": 24,
    "tab": [
     "pytorch"
    ]
   },
   "outputs": [
    {
     "data": {
      "text/plain": [
       "tensor([[ 0.,  1.,  2.,  3.],\n",
       "        [ 4.,  5.,  6.,  7.],\n",
       "        [ 8.,  9., 10., 11.]])"
      ]
     },
     "execution_count": 5,
     "metadata": {},
     "output_type": "execute_result"
    }
   ],
   "source": [
    "X = x.reshape(3, 4)\n",
    "X"
   ]
  },
  {
   "cell_type": "markdown",
   "id": "46d2076d",
   "metadata": {
    "slideshow": {
     "slide_type": "slide"
    }
   },
   "source": [
    "We can construct a tensor with all elements set to zero\n",
    "or one"
   ]
  },
  {
   "cell_type": "code",
   "execution_count": 6,
   "id": "49e5a162",
   "metadata": {
    "execution": {
     "iopub.execute_input": "2022-07-13T08:08:48.416413Z",
     "iopub.status.busy": "2022-07-13T08:08:48.415720Z",
     "iopub.status.idle": "2022-07-13T08:08:48.422377Z",
     "shell.execute_reply": "2022-07-13T08:08:48.421476Z"
    },
    "origin_pos": 28,
    "tab": [
     "pytorch"
    ]
   },
   "outputs": [
    {
     "data": {
      "text/plain": [
       "tensor([[[0., 0., 0., 0.],\n",
       "         [0., 0., 0., 0.],\n",
       "         [0., 0., 0., 0.]],\n",
       "\n",
       "        [[0., 0., 0., 0.],\n",
       "         [0., 0., 0., 0.],\n",
       "         [0., 0., 0., 0.]]])"
      ]
     },
     "execution_count": 6,
     "metadata": {},
     "output_type": "execute_result"
    }
   ],
   "source": [
    "torch.zeros((2, 3, 4))"
   ]
  },
  {
   "cell_type": "code",
   "execution_count": 7,
   "id": "1afd456f",
   "metadata": {
    "execution": {
     "iopub.execute_input": "2022-07-13T08:08:48.426087Z",
     "iopub.status.busy": "2022-07-13T08:08:48.425760Z",
     "iopub.status.idle": "2022-07-13T08:08:48.433037Z",
     "shell.execute_reply": "2022-07-13T08:08:48.432203Z"
    },
    "origin_pos": 32,
    "tab": [
     "pytorch"
    ]
   },
   "outputs": [
    {
     "data": {
      "text/plain": [
       "tensor([[[1., 1., 1., 1.],\n",
       "         [1., 1., 1., 1.],\n",
       "         [1., 1., 1., 1.]],\n",
       "\n",
       "        [[1., 1., 1., 1.],\n",
       "         [1., 1., 1., 1.],\n",
       "         [1., 1., 1., 1.]]])"
      ]
     },
     "execution_count": 7,
     "metadata": {},
     "output_type": "execute_result"
    }
   ],
   "source": [
    "torch.ones((2, 3, 4))"
   ]
  },
  {
   "cell_type": "markdown",
   "id": "4ded87b7",
   "metadata": {
    "slideshow": {
     "slide_type": "slide"
    }
   },
   "source": [
    "Sample each element randomly (and independently)"
   ]
  },
  {
   "cell_type": "code",
   "execution_count": 8,
   "id": "cceaa755",
   "metadata": {
    "execution": {
     "iopub.execute_input": "2022-07-13T08:08:48.438528Z",
     "iopub.status.busy": "2022-07-13T08:08:48.437834Z",
     "iopub.status.idle": "2022-07-13T08:08:48.444187Z",
     "shell.execute_reply": "2022-07-13T08:08:48.443431Z"
    },
    "origin_pos": 36,
    "tab": [
     "pytorch"
    ]
   },
   "outputs": [
    {
     "data": {
      "text/plain": [
       "tensor([[-0.6722, -0.6158, -0.1069, -1.2617],\n",
       "        [ 1.6117, -1.7150, -0.4113, -0.4740],\n",
       "        [ 0.1810, -1.5657, -0.5581,  1.4778]])"
      ]
     },
     "execution_count": 8,
     "metadata": {},
     "output_type": "execute_result"
    }
   ],
   "source": [
    "torch.randn(3, 4)"
   ]
  },
  {
   "cell_type": "markdown",
   "id": "bc4a767d",
   "metadata": {
    "slideshow": {
     "slide_type": "slide"
    }
   },
   "source": [
    "Supplying the exact values for each element"
   ]
  },
  {
   "cell_type": "code",
   "execution_count": 9,
   "id": "161a311e",
   "metadata": {
    "execution": {
     "iopub.execute_input": "2022-07-13T08:08:48.448919Z",
     "iopub.status.busy": "2022-07-13T08:08:48.448608Z",
     "iopub.status.idle": "2022-07-13T08:08:48.455457Z",
     "shell.execute_reply": "2022-07-13T08:08:48.454619Z"
    },
    "origin_pos": 40,
    "tab": [
     "pytorch"
    ]
   },
   "outputs": [
    {
     "data": {
      "text/plain": [
       "tensor([[2, 1, 4, 3],\n",
       "        [1, 2, 3, 4],\n",
       "        [4, 3, 2, 1]])"
      ]
     },
     "execution_count": 9,
     "metadata": {},
     "output_type": "execute_result"
    }
   ],
   "source": [
    "torch.tensor([[2, 1, 4, 3], [1, 2, 3, 4], [4, 3, 2, 1]])"
   ]
  },
  {
   "cell_type": "markdown",
   "id": "c8227c00",
   "metadata": {
    "slideshow": {
     "slide_type": "slide"
    }
   },
   "source": [
    "`[-1]` selects the last row and `[1:3]`\n",
    "selects the second and third rows"
   ]
  },
  {
   "cell_type": "code",
   "execution_count": 10,
   "id": "ba24c7ee",
   "metadata": {
    "execution": {
     "iopub.execute_input": "2022-07-13T08:08:48.460096Z",
     "iopub.status.busy": "2022-07-13T08:08:48.458985Z",
     "iopub.status.idle": "2022-07-13T08:08:48.466891Z",
     "shell.execute_reply": "2022-07-13T08:08:48.466103Z"
    },
    "origin_pos": 43,
    "tab": [
     "pytorch"
    ]
   },
   "outputs": [
    {
     "data": {
      "text/plain": [
       "(tensor([ 8.,  9., 10., 11.]),\n",
       " tensor([[ 4.,  5.,  6.,  7.],\n",
       "         [ 8.,  9., 10., 11.]]))"
      ]
     },
     "execution_count": 10,
     "metadata": {},
     "output_type": "execute_result"
    }
   ],
   "source": [
    "X[-1], X[1:3]"
   ]
  },
  {
   "cell_type": "markdown",
   "id": "d63d89a4",
   "metadata": {
    "slideshow": {
     "slide_type": "-"
    }
   },
   "source": [
    "We can also write elements of a matrix by specifying indices"
   ]
  },
  {
   "cell_type": "code",
   "execution_count": 11,
   "id": "ffcfe667",
   "metadata": {
    "execution": {
     "iopub.execute_input": "2022-07-13T08:08:48.471878Z",
     "iopub.status.busy": "2022-07-13T08:08:48.471561Z",
     "iopub.status.idle": "2022-07-13T08:08:48.477906Z",
     "shell.execute_reply": "2022-07-13T08:08:48.477141Z"
    },
    "origin_pos": 46,
    "tab": [
     "pytorch"
    ]
   },
   "outputs": [
    {
     "data": {
      "text/plain": [
       "tensor([[ 0.,  1.,  2.,  3.],\n",
       "        [ 4.,  5., 17.,  7.],\n",
       "        [ 8.,  9., 10., 11.]])"
      ]
     },
     "execution_count": 11,
     "metadata": {},
     "output_type": "execute_result"
    }
   ],
   "source": [
    "X[1, 2] = 17\n",
    "X"
   ]
  },
  {
   "cell_type": "markdown",
   "id": "14ec2f7c",
   "metadata": {
    "slideshow": {
     "slide_type": "slide"
    }
   },
   "source": [
    "To assign multiple elements the same value,\n",
    "we apply the indexing on the left-hand side \n",
    "of the assignment operation"
   ]
  },
  {
   "cell_type": "code",
   "execution_count": 12,
   "id": "a6bacac5",
   "metadata": {
    "execution": {
     "iopub.execute_input": "2022-07-13T08:08:48.481485Z",
     "iopub.status.busy": "2022-07-13T08:08:48.481168Z",
     "iopub.status.idle": "2022-07-13T08:08:48.487416Z",
     "shell.execute_reply": "2022-07-13T08:08:48.486564Z"
    },
    "origin_pos": 49,
    "tab": [
     "pytorch"
    ]
   },
   "outputs": [
    {
     "data": {
      "text/plain": [
       "tensor([[12., 12., 12., 12.],\n",
       "        [12., 12., 12., 12.],\n",
       "        [ 8.,  9., 10., 11.]])"
      ]
     },
     "execution_count": 12,
     "metadata": {},
     "output_type": "execute_result"
    }
   ],
   "source": [
    "X[:2, :] = 12\n",
    "X"
   ]
  },
  {
   "cell_type": "code",
   "execution_count": 13,
   "id": "5fab0567",
   "metadata": {
    "execution": {
     "iopub.execute_input": "2022-07-13T08:08:48.490954Z",
     "iopub.status.busy": "2022-07-13T08:08:48.490651Z",
     "iopub.status.idle": "2022-07-13T08:08:48.496832Z",
     "shell.execute_reply": "2022-07-13T08:08:48.496056Z"
    },
    "origin_pos": 53,
    "tab": [
     "pytorch"
    ]
   },
   "outputs": [
    {
     "data": {
      "text/plain": [
       "tensor([162754.7969, 162754.7969, 162754.7969, 162754.7969, 162754.7969,\n",
       "        162754.7969, 162754.7969, 162754.7969,   2980.9580,   8103.0840,\n",
       "         22026.4648,  59874.1406])"
      ]
     },
     "execution_count": 13,
     "metadata": {},
     "output_type": "execute_result"
    }
   ],
   "source": [
    "torch.exp(x)"
   ]
  },
  {
   "cell_type": "code",
   "execution_count": 14,
   "id": "f038501e",
   "metadata": {
    "execution": {
     "iopub.execute_input": "2022-07-13T08:08:48.500736Z",
     "iopub.status.busy": "2022-07-13T08:08:48.500042Z",
     "iopub.status.idle": "2022-07-13T08:08:48.508458Z",
     "shell.execute_reply": "2022-07-13T08:08:48.507647Z"
    },
    "origin_pos": 57,
    "tab": [
     "pytorch"
    ]
   },
   "outputs": [
    {
     "data": {
      "text/plain": [
       "(tensor([ 3.,  4.,  6., 10.]),\n",
       " tensor([-1.,  0.,  2.,  6.]),\n",
       " tensor([ 2.,  4.,  8., 16.]),\n",
       " tensor([0.5000, 1.0000, 2.0000, 4.0000]),\n",
       " tensor([ 1.,  4., 16., 64.]))"
      ]
     },
     "execution_count": 14,
     "metadata": {},
     "output_type": "execute_result"
    }
   ],
   "source": [
    "x = torch.tensor([1.0, 2, 4, 8])\n",
    "y = torch.tensor([2, 2, 2, 2])\n",
    "x + y, x - y, x * y, x / y, x ** y"
   ]
  },
  {
   "cell_type": "markdown",
   "id": "a714c0b4",
   "metadata": {
    "slideshow": {
     "slide_type": "slide"
    }
   },
   "source": [
    "*concatenate* multiple tensors together"
   ]
  },
  {
   "cell_type": "code",
   "execution_count": 15,
   "id": "154c1959",
   "metadata": {
    "execution": {
     "iopub.execute_input": "2022-07-13T08:08:48.512176Z",
     "iopub.status.busy": "2022-07-13T08:08:48.511852Z",
     "iopub.status.idle": "2022-07-13T08:08:48.521032Z",
     "shell.execute_reply": "2022-07-13T08:08:48.519927Z"
    },
    "origin_pos": 61,
    "tab": [
     "pytorch"
    ]
   },
   "outputs": [
    {
     "data": {
      "text/plain": [
       "(tensor([[ 0.,  1.,  2.,  3.],\n",
       "         [ 4.,  5.,  6.,  7.],\n",
       "         [ 8.,  9., 10., 11.],\n",
       "         [ 2.,  1.,  4.,  3.],\n",
       "         [ 1.,  2.,  3.,  4.],\n",
       "         [ 4.,  3.,  2.,  1.]]),\n",
       " tensor([[ 0.,  1.,  2.,  3.,  2.,  1.,  4.,  3.],\n",
       "         [ 4.,  5.,  6.,  7.,  1.,  2.,  3.,  4.],\n",
       "         [ 8.,  9., 10., 11.,  4.,  3.,  2.,  1.]]))"
      ]
     },
     "execution_count": 15,
     "metadata": {},
     "output_type": "execute_result"
    }
   ],
   "source": [
    "X = torch.arange(12, dtype=torch.float32).reshape((3,4))\n",
    "Y = torch.tensor([[2.0, 1, 4, 3], [1, 2, 3, 4], [4, 3, 2, 1]])\n",
    "torch.cat((X, Y), dim=0), torch.cat((X, Y), dim=1)"
   ]
  },
  {
   "cell_type": "markdown",
   "id": "6374667d",
   "metadata": {
    "slideshow": {
     "slide_type": "slide"
    }
   },
   "source": [
    "Construct a binary tensor via *logical statements*"
   ]
  },
  {
   "cell_type": "code",
   "execution_count": 16,
   "id": "5d95012f",
   "metadata": {
    "execution": {
     "iopub.execute_input": "2022-07-13T08:08:48.524524Z",
     "iopub.status.busy": "2022-07-13T08:08:48.524226Z",
     "iopub.status.idle": "2022-07-13T08:08:48.530033Z",
     "shell.execute_reply": "2022-07-13T08:08:48.529264Z"
    },
    "origin_pos": 64,
    "tab": [
     "pytorch"
    ]
   },
   "outputs": [
    {
     "data": {
      "text/plain": [
       "tensor([[False,  True, False,  True],\n",
       "        [False, False, False, False],\n",
       "        [False, False, False, False]])"
      ]
     },
     "execution_count": 16,
     "metadata": {},
     "output_type": "execute_result"
    }
   ],
   "source": [
    "X == Y"
   ]
  },
  {
   "cell_type": "markdown",
   "id": "acda4652",
   "metadata": {
    "slideshow": {
     "slide_type": "slide"
    }
   },
   "source": [
    "Summing all the elements in the tensor"
   ]
  },
  {
   "cell_type": "code",
   "execution_count": 17,
   "id": "74c960f9",
   "metadata": {
    "execution": {
     "iopub.execute_input": "2022-07-13T08:08:48.533490Z",
     "iopub.status.busy": "2022-07-13T08:08:48.533195Z",
     "iopub.status.idle": "2022-07-13T08:08:48.538973Z",
     "shell.execute_reply": "2022-07-13T08:08:48.538223Z"
    },
    "origin_pos": 66,
    "tab": [
     "pytorch"
    ]
   },
   "outputs": [
    {
     "data": {
      "text/plain": [
       "tensor(66.)"
      ]
     },
     "execution_count": 17,
     "metadata": {},
     "output_type": "execute_result"
    }
   ],
   "source": [
    "X.sum()"
   ]
  },
  {
   "cell_type": "markdown",
   "id": "20bb384e",
   "metadata": {
    "slideshow": {
     "slide_type": "slide"
    }
   },
   "source": [
    "Perform elementwise binary operations\n",
    "by invoking the *broadcasting mechanism*"
   ]
  },
  {
   "cell_type": "code",
   "execution_count": 18,
   "id": "d079d781",
   "metadata": {
    "execution": {
     "iopub.execute_input": "2022-07-13T08:08:48.542384Z",
     "iopub.status.busy": "2022-07-13T08:08:48.542093Z",
     "iopub.status.idle": "2022-07-13T08:08:48.548692Z",
     "shell.execute_reply": "2022-07-13T08:08:48.547759Z"
    },
    "origin_pos": 70,
    "tab": [
     "pytorch"
    ]
   },
   "outputs": [
    {
     "data": {
      "text/plain": [
       "(tensor([[0],\n",
       "         [1],\n",
       "         [2]]),\n",
       " tensor([[0, 1]]))"
      ]
     },
     "execution_count": 18,
     "metadata": {},
     "output_type": "execute_result"
    }
   ],
   "source": [
    "a = torch.arange(3).reshape((3, 1))\n",
    "b = torch.arange(2).reshape((1, 2))\n",
    "a, b"
   ]
  },
  {
   "cell_type": "code",
   "execution_count": 19,
   "id": "b2d16464",
   "metadata": {
    "execution": {
     "iopub.execute_input": "2022-07-13T08:08:48.553199Z",
     "iopub.status.busy": "2022-07-13T08:08:48.552855Z",
     "iopub.status.idle": "2022-07-13T08:08:48.560446Z",
     "shell.execute_reply": "2022-07-13T08:08:48.559281Z"
    },
    "origin_pos": 73,
    "tab": [
     "pytorch"
    ]
   },
   "outputs": [
    {
     "data": {
      "text/plain": [
       "tensor([[0, 1],\n",
       "        [1, 2],\n",
       "        [2, 3]])"
      ]
     },
     "execution_count": 19,
     "metadata": {},
     "output_type": "execute_result"
    }
   ],
   "source": [
    "a + b"
   ]
  },
  {
   "cell_type": "markdown",
   "id": "3fb6d6d0",
   "metadata": {
    "slideshow": {
     "slide_type": "slide"
    }
   },
   "source": [
    "Running operations can cause new memory to be\n",
    "allocated to host results"
   ]
  },
  {
   "cell_type": "code",
   "execution_count": 20,
   "id": "e4984587",
   "metadata": {
    "execution": {
     "iopub.execute_input": "2022-07-13T08:08:48.564398Z",
     "iopub.status.busy": "2022-07-13T08:08:48.564052Z",
     "iopub.status.idle": "2022-07-13T08:08:48.571387Z",
     "shell.execute_reply": "2022-07-13T08:08:48.570230Z"
    },
    "origin_pos": 75,
    "tab": [
     "pytorch"
    ]
   },
   "outputs": [
    {
     "data": {
      "text/plain": [
       "False"
      ]
     },
     "execution_count": 20,
     "metadata": {},
     "output_type": "execute_result"
    }
   ],
   "source": [
    "before = id(Y)\n",
    "Y = Y + X\n",
    "id(Y) == before"
   ]
  },
  {
   "cell_type": "markdown",
   "id": "a3806f46",
   "metadata": {
    "slideshow": {
     "slide_type": "-"
    }
   },
   "source": [
    "Performing in-place operations"
   ]
  },
  {
   "cell_type": "code",
   "execution_count": 21,
   "id": "ff39a49d",
   "metadata": {
    "execution": {
     "iopub.execute_input": "2022-07-13T08:08:48.575428Z",
     "iopub.status.busy": "2022-07-13T08:08:48.575082Z",
     "iopub.status.idle": "2022-07-13T08:08:48.581874Z",
     "shell.execute_reply": "2022-07-13T08:08:48.580846Z"
    },
    "origin_pos": 80,
    "tab": [
     "pytorch"
    ]
   },
   "outputs": [
    {
     "name": "stdout",
     "output_type": "stream",
     "text": [
      "id(Z): 140461348957616\n",
      "id(Z): 140461348957616\n"
     ]
    }
   ],
   "source": [
    "Z = torch.zeros_like(Y)\n",
    "print('id(Z):', id(Z))\n",
    "Z[:] = X + Y\n",
    "print('id(Z):', id(Z))"
   ]
  },
  {
   "cell_type": "markdown",
   "id": "ccf682a4",
   "metadata": {
    "slideshow": {
     "slide_type": "slide"
    }
   },
   "source": [
    "If the value of `X` is not reused in subsequent computations,\n",
    "we can also use `X[:] = X + Y` or `X += Y`\n",
    "to reduce the memory overhead of the operation"
   ]
  },
  {
   "cell_type": "code",
   "execution_count": 22,
   "id": "b4179d1d",
   "metadata": {
    "execution": {
     "iopub.execute_input": "2022-07-13T08:08:48.585550Z",
     "iopub.status.busy": "2022-07-13T08:08:48.585256Z",
     "iopub.status.idle": "2022-07-13T08:08:48.593350Z",
     "shell.execute_reply": "2022-07-13T08:08:48.592182Z"
    },
    "origin_pos": 84,
    "tab": [
     "pytorch"
    ]
   },
   "outputs": [
    {
     "data": {
      "text/plain": [
       "True"
      ]
     },
     "execution_count": 22,
     "metadata": {},
     "output_type": "execute_result"
    }
   ],
   "source": [
    "before = id(X)\n",
    "X += Y\n",
    "id(X) == before"
   ]
  },
  {
   "cell_type": "markdown",
   "id": "0dcb22e8",
   "metadata": {
    "slideshow": {
     "slide_type": "slide"
    }
   },
   "source": [
    "Converting to a NumPy tensor (`ndarray`)"
   ]
  },
  {
   "cell_type": "code",
   "execution_count": 23,
   "id": "34f481d9",
   "metadata": {
    "execution": {
     "iopub.execute_input": "2022-07-13T08:08:48.597368Z",
     "iopub.status.busy": "2022-07-13T08:08:48.596765Z",
     "iopub.status.idle": "2022-07-13T08:08:48.603860Z",
     "shell.execute_reply": "2022-07-13T08:08:48.602760Z"
    },
    "origin_pos": 90,
    "tab": [
     "pytorch"
    ]
   },
   "outputs": [
    {
     "data": {
      "text/plain": [
       "(numpy.ndarray, torch.Tensor)"
      ]
     },
     "execution_count": 23,
     "metadata": {},
     "output_type": "execute_result"
    }
   ],
   "source": [
    "A = X.numpy()\n",
    "B = torch.from_numpy(A)\n",
    "type(A), type(B)"
   ]
  },
  {
   "cell_type": "markdown",
   "id": "92ee138a",
   "metadata": {
    "slideshow": {
     "slide_type": "-"
    }
   },
   "source": [
    "Convert a size-1 tensor to a Python scalar"
   ]
  },
  {
   "cell_type": "code",
   "execution_count": 24,
   "id": "c3f57d14",
   "metadata": {
    "execution": {
     "iopub.execute_input": "2022-07-13T08:08:48.608055Z",
     "iopub.status.busy": "2022-07-13T08:08:48.607395Z",
     "iopub.status.idle": "2022-07-13T08:08:48.615075Z",
     "shell.execute_reply": "2022-07-13T08:08:48.614151Z"
    },
    "origin_pos": 94,
    "tab": [
     "pytorch"
    ]
   },
   "outputs": [
    {
     "data": {
      "text/plain": [
       "(tensor([3.5000]), 3.5, 3.5, 3)"
      ]
     },
     "execution_count": 24,
     "metadata": {},
     "output_type": "execute_result"
    }
   ],
   "source": [
    "a = torch.tensor([3.5])\n",
    "a, a.item(), float(a), int(a)"
   ]
  }
 ],
 "metadata": {
  "celltoolbar": "Slideshow",
  "language_info": {
   "name": "python"
  },
  "rise": {
   "autolaunch": true,
   "enable_chalkboard": true,
   "overlay": "<div class='my-top-right'><img height=80px src='http://d2l.ai/_static/logo-with-text.png'/></div><div class='my-top-left'></div>",
   "scroll": true
  }
 },
 "nbformat": 4,
 "nbformat_minor": 5
}