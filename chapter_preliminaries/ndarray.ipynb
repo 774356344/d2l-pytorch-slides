{
 "cells": [
  {
   "cell_type": "markdown",
   "id": "c88bd465",
   "metadata": {
    "slideshow": {
     "slide_type": "-"
    }
   },
   "source": [
    "# Data Manipulation\n",
    "\n"
   ]
  },
  {
   "cell_type": "markdown",
   "id": "9cfb39b9",
   "metadata": {
    "slideshow": {
     "slide_type": "-"
    }
   },
   "source": [
    "To start, we import the PyTorch library.\n",
    "Note that the package name is `torch`"
   ]
  },
  {
   "cell_type": "code",
   "execution_count": 1,
   "id": "4ac15710",
   "metadata": {
    "execution": {
     "iopub.execute_input": "2022-08-19T17:13:27.721862Z",
     "iopub.status.busy": "2022-08-19T17:13:27.721376Z",
     "iopub.status.idle": "2022-08-19T17:13:28.586883Z",
     "shell.execute_reply": "2022-08-19T17:13:28.585971Z"
    },
    "origin_pos": 6,
    "tab": [
     "pytorch"
    ]
   },
   "outputs": [],
   "source": [
    "import torch"
   ]
  },
  {
   "cell_type": "markdown",
   "id": "1eeb151a",
   "metadata": {
    "slideshow": {
     "slide_type": "slide"
    }
   },
   "source": [
    "A tensor represents a (possibly multi-dimensional) array of numerical values"
   ]
  },
  {
   "cell_type": "code",
   "execution_count": 2,
   "id": "1e075467",
   "metadata": {
    "execution": {
     "iopub.execute_input": "2022-08-19T17:13:28.591469Z",
     "iopub.status.busy": "2022-08-19T17:13:28.590834Z",
     "iopub.status.idle": "2022-08-19T17:13:28.604013Z",
     "shell.execute_reply": "2022-08-19T17:13:28.603231Z"
    },
    "origin_pos": 13,
    "tab": [
     "pytorch"
    ]
   },
   "outputs": [
    {
     "data": {
      "text/plain": [
       "tensor([ 0.,  1.,  2.,  3.,  4.,  5.,  6.,  7.,  8.,  9., 10., 11.])"
      ]
     },
     "execution_count": 2,
     "metadata": {},
     "output_type": "execute_result"
    }
   ],
   "source": [
    "x = torch.arange(12, dtype=torch.float32)\n",
    "x"
   ]
  },
  {
   "cell_type": "code",
   "execution_count": 3,
   "id": "e2135209",
   "metadata": {
    "execution": {
     "iopub.execute_input": "2022-08-19T17:13:28.607670Z",
     "iopub.status.busy": "2022-08-19T17:13:28.607216Z",
     "iopub.status.idle": "2022-08-19T17:13:28.612318Z",
     "shell.execute_reply": "2022-08-19T17:13:28.611558Z"
    },
    "origin_pos": 19,
    "tab": [
     "pytorch"
    ]
   },
   "outputs": [
    {
     "data": {
      "text/plain": [
       "12"
      ]
     },
     "execution_count": 3,
     "metadata": {},
     "output_type": "execute_result"
    }
   ],
   "source": [
    "x.numel()"
   ]
  },
  {
   "cell_type": "markdown",
   "id": "a36c1db7",
   "metadata": {
    "slideshow": {
     "slide_type": "-"
    }
   },
   "source": [
    "We can access a tensor's *shape*"
   ]
  },
  {
   "cell_type": "code",
   "execution_count": 4,
   "id": "41b0d207",
   "metadata": {
    "execution": {
     "iopub.execute_input": "2022-08-19T17:13:28.616212Z",
     "iopub.status.busy": "2022-08-19T17:13:28.615664Z",
     "iopub.status.idle": "2022-08-19T17:13:28.620662Z",
     "shell.execute_reply": "2022-08-19T17:13:28.619886Z"
    },
    "origin_pos": 22,
    "tab": [
     "pytorch"
    ]
   },
   "outputs": [
    {
     "data": {
      "text/plain": [
       "torch.Size([12])"
      ]
     },
     "execution_count": 4,
     "metadata": {},
     "output_type": "execute_result"
    }
   ],
   "source": [
    "x.shape"
   ]
  },
  {
   "cell_type": "markdown",
   "id": "f08c02af",
   "metadata": {
    "slideshow": {
     "slide_type": "slide"
    }
   },
   "source": [
    "Change the shape of a tensor\n",
    "without altering its size or values"
   ]
  },
  {
   "cell_type": "code",
   "execution_count": 5,
   "id": "c83bf2c6",
   "metadata": {
    "execution": {
     "iopub.execute_input": "2022-08-19T17:13:28.624113Z",
     "iopub.status.busy": "2022-08-19T17:13:28.623572Z",
     "iopub.status.idle": "2022-08-19T17:13:28.629393Z",
     "shell.execute_reply": "2022-08-19T17:13:28.628618Z"
    },
    "origin_pos": 24,
    "tab": [
     "pytorch"
    ]
   },
   "outputs": [
    {
     "data": {
      "text/plain": [
       "tensor([[ 0.,  1.,  2.,  3.],\n",
       "        [ 4.,  5.,  6.,  7.],\n",
       "        [ 8.,  9., 10., 11.]])"
      ]
     },
     "execution_count": 5,
     "metadata": {},
     "output_type": "execute_result"
    }
   ],
   "source": [
    "X = x.reshape(3, 4)\n",
    "X"
   ]
  },
  {
   "cell_type": "markdown",
   "id": "c89f7477",
   "metadata": {
    "slideshow": {
     "slide_type": "slide"
    }
   },
   "source": [
    "We can construct a tensor with all elements set to zero\n",
    "or one"
   ]
  },
  {
   "cell_type": "code",
   "execution_count": 6,
   "id": "88e3e339",
   "metadata": {
    "execution": {
     "iopub.execute_input": "2022-08-19T17:13:28.632906Z",
     "iopub.status.busy": "2022-08-19T17:13:28.632369Z",
     "iopub.status.idle": "2022-08-19T17:13:28.637955Z",
     "shell.execute_reply": "2022-08-19T17:13:28.637190Z"
    },
    "origin_pos": 28,
    "tab": [
     "pytorch"
    ]
   },
   "outputs": [
    {
     "data": {
      "text/plain": [
       "tensor([[[0., 0., 0., 0.],\n",
       "         [0., 0., 0., 0.],\n",
       "         [0., 0., 0., 0.]],\n",
       "\n",
       "        [[0., 0., 0., 0.],\n",
       "         [0., 0., 0., 0.],\n",
       "         [0., 0., 0., 0.]]])"
      ]
     },
     "execution_count": 6,
     "metadata": {},
     "output_type": "execute_result"
    }
   ],
   "source": [
    "torch.zeros((2, 3, 4))"
   ]
  },
  {
   "cell_type": "code",
   "execution_count": 7,
   "id": "f1f4cfff",
   "metadata": {
    "execution": {
     "iopub.execute_input": "2022-08-19T17:13:28.641680Z",
     "iopub.status.busy": "2022-08-19T17:13:28.641153Z",
     "iopub.status.idle": "2022-08-19T17:13:28.647451Z",
     "shell.execute_reply": "2022-08-19T17:13:28.646549Z"
    },
    "origin_pos": 32,
    "tab": [
     "pytorch"
    ]
   },
   "outputs": [
    {
     "data": {
      "text/plain": [
       "tensor([[[1., 1., 1., 1.],\n",
       "         [1., 1., 1., 1.],\n",
       "         [1., 1., 1., 1.]],\n",
       "\n",
       "        [[1., 1., 1., 1.],\n",
       "         [1., 1., 1., 1.],\n",
       "         [1., 1., 1., 1.]]])"
      ]
     },
     "execution_count": 7,
     "metadata": {},
     "output_type": "execute_result"
    }
   ],
   "source": [
    "torch.ones((2, 3, 4))"
   ]
  },
  {
   "cell_type": "markdown",
   "id": "429489a1",
   "metadata": {
    "slideshow": {
     "slide_type": "slide"
    }
   },
   "source": [
    "Sample each element randomly (and independently)"
   ]
  },
  {
   "cell_type": "code",
   "execution_count": 8,
   "id": "0a104727",
   "metadata": {
    "execution": {
     "iopub.execute_input": "2022-08-19T17:13:28.651114Z",
     "iopub.status.busy": "2022-08-19T17:13:28.650412Z",
     "iopub.status.idle": "2022-08-19T17:13:28.656670Z",
     "shell.execute_reply": "2022-08-19T17:13:28.655629Z"
    },
    "origin_pos": 36,
    "tab": [
     "pytorch"
    ]
   },
   "outputs": [
    {
     "data": {
      "text/plain": [
       "tensor([[-0.1251, -0.0781,  0.2857, -1.8233],\n",
       "        [-1.2177, -0.3742, -0.8155, -0.9469],\n",
       "        [ 1.1702, -0.4262, -0.3659,  0.3414]])"
      ]
     },
     "execution_count": 8,
     "metadata": {},
     "output_type": "execute_result"
    }
   ],
   "source": [
    "torch.randn(3, 4)"
   ]
  },
  {
   "cell_type": "markdown",
   "id": "74efc7b0",
   "metadata": {
    "slideshow": {
     "slide_type": "slide"
    }
   },
   "source": [
    "Supplying the exact values for each element"
   ]
  },
  {
   "cell_type": "code",
   "execution_count": 9,
   "id": "bbbc7852",
   "metadata": {
    "execution": {
     "iopub.execute_input": "2022-08-19T17:13:28.660753Z",
     "iopub.status.busy": "2022-08-19T17:13:28.660063Z",
     "iopub.status.idle": "2022-08-19T17:13:28.668523Z",
     "shell.execute_reply": "2022-08-19T17:13:28.667490Z"
    },
    "origin_pos": 40,
    "tab": [
     "pytorch"
    ]
   },
   "outputs": [
    {
     "data": {
      "text/plain": [
       "tensor([[2, 1, 4, 3],\n",
       "        [1, 2, 3, 4],\n",
       "        [4, 3, 2, 1]])"
      ]
     },
     "execution_count": 9,
     "metadata": {},
     "output_type": "execute_result"
    }
   ],
   "source": [
    "torch.tensor([[2, 1, 4, 3], [1, 2, 3, 4], [4, 3, 2, 1]])"
   ]
  },
  {
   "cell_type": "markdown",
   "id": "eabbd630",
   "metadata": {
    "slideshow": {
     "slide_type": "slide"
    }
   },
   "source": [
    "`[-1]` selects the last row and `[1:3]`\n",
    "selects the second and third rows"
   ]
  },
  {
   "cell_type": "code",
   "execution_count": 10,
   "id": "9d0d91bd",
   "metadata": {
    "execution": {
     "iopub.execute_input": "2022-08-19T17:13:28.672923Z",
     "iopub.status.busy": "2022-08-19T17:13:28.672049Z",
     "iopub.status.idle": "2022-08-19T17:13:28.680713Z",
     "shell.execute_reply": "2022-08-19T17:13:28.679658Z"
    },
    "origin_pos": 43,
    "tab": [
     "pytorch"
    ]
   },
   "outputs": [
    {
     "data": {
      "text/plain": [
       "(tensor([ 8.,  9., 10., 11.]),\n",
       " tensor([[ 4.,  5.,  6.,  7.],\n",
       "         [ 8.,  9., 10., 11.]]))"
      ]
     },
     "execution_count": 10,
     "metadata": {},
     "output_type": "execute_result"
    }
   ],
   "source": [
    "X[-1], X[1:3]"
   ]
  },
  {
   "cell_type": "markdown",
   "id": "d9d17a17",
   "metadata": {
    "slideshow": {
     "slide_type": "-"
    }
   },
   "source": [
    "We can also write elements of a matrix by specifying indices"
   ]
  },
  {
   "cell_type": "code",
   "execution_count": 11,
   "id": "a27e0a25",
   "metadata": {
    "execution": {
     "iopub.execute_input": "2022-08-19T17:13:28.685054Z",
     "iopub.status.busy": "2022-08-19T17:13:28.684187Z",
     "iopub.status.idle": "2022-08-19T17:13:28.692208Z",
     "shell.execute_reply": "2022-08-19T17:13:28.691156Z"
    },
    "origin_pos": 46,
    "tab": [
     "pytorch"
    ]
   },
   "outputs": [
    {
     "data": {
      "text/plain": [
       "tensor([[ 0.,  1.,  2.,  3.],\n",
       "        [ 4.,  5., 17.,  7.],\n",
       "        [ 8.,  9., 10., 11.]])"
      ]
     },
     "execution_count": 11,
     "metadata": {},
     "output_type": "execute_result"
    }
   ],
   "source": [
    "X[1, 2] = 17\n",
    "X"
   ]
  },
  {
   "cell_type": "markdown",
   "id": "343d3d19",
   "metadata": {
    "slideshow": {
     "slide_type": "slide"
    }
   },
   "source": [
    "To assign multiple elements the same value,\n",
    "we apply the indexing on the left-hand side \n",
    "of the assignment operation"
   ]
  },
  {
   "cell_type": "code",
   "execution_count": 12,
   "id": "30a6db4f",
   "metadata": {
    "execution": {
     "iopub.execute_input": "2022-08-19T17:13:28.696549Z",
     "iopub.status.busy": "2022-08-19T17:13:28.695688Z",
     "iopub.status.idle": "2022-08-19T17:13:28.703807Z",
     "shell.execute_reply": "2022-08-19T17:13:28.702748Z"
    },
    "origin_pos": 49,
    "tab": [
     "pytorch"
    ]
   },
   "outputs": [
    {
     "data": {
      "text/plain": [
       "tensor([[12., 12., 12., 12.],\n",
       "        [12., 12., 12., 12.],\n",
       "        [ 8.,  9., 10., 11.]])"
      ]
     },
     "execution_count": 12,
     "metadata": {},
     "output_type": "execute_result"
    }
   ],
   "source": [
    "X[:2, :] = 12\n",
    "X"
   ]
  },
  {
   "cell_type": "code",
   "execution_count": 13,
   "id": "6e450f88",
   "metadata": {
    "execution": {
     "iopub.execute_input": "2022-08-19T17:13:28.707761Z",
     "iopub.status.busy": "2022-08-19T17:13:28.707169Z",
     "iopub.status.idle": "2022-08-19T17:13:28.714961Z",
     "shell.execute_reply": "2022-08-19T17:13:28.713894Z"
    },
    "origin_pos": 53,
    "tab": [
     "pytorch"
    ]
   },
   "outputs": [
    {
     "data": {
      "text/plain": [
       "tensor([162754.7969, 162754.7969, 162754.7969, 162754.7969, 162754.7969,\n",
       "        162754.7969, 162754.7969, 162754.7969,   2980.9580,   8103.0840,\n",
       "         22026.4648,  59874.1406])"
      ]
     },
     "execution_count": 13,
     "metadata": {},
     "output_type": "execute_result"
    }
   ],
   "source": [
    "torch.exp(x)"
   ]
  },
  {
   "cell_type": "code",
   "execution_count": 14,
   "id": "3dc38392",
   "metadata": {
    "execution": {
     "iopub.execute_input": "2022-08-19T17:13:28.719430Z",
     "iopub.status.busy": "2022-08-19T17:13:28.718506Z",
     "iopub.status.idle": "2022-08-19T17:13:28.730145Z",
     "shell.execute_reply": "2022-08-19T17:13:28.729099Z"
    },
    "origin_pos": 57,
    "tab": [
     "pytorch"
    ]
   },
   "outputs": [
    {
     "data": {
      "text/plain": [
       "(tensor([ 3.,  4.,  6., 10.]),\n",
       " tensor([-1.,  0.,  2.,  6.]),\n",
       " tensor([ 2.,  4.,  8., 16.]),\n",
       " tensor([0.5000, 1.0000, 2.0000, 4.0000]),\n",
       " tensor([ 1.,  4., 16., 64.]))"
      ]
     },
     "execution_count": 14,
     "metadata": {},
     "output_type": "execute_result"
    }
   ],
   "source": [
    "x = torch.tensor([1.0, 2, 4, 8])\n",
    "y = torch.tensor([2, 2, 2, 2])\n",
    "x + y, x - y, x * y, x / y, x ** y"
   ]
  },
  {
   "cell_type": "markdown",
   "id": "7032393a",
   "metadata": {
    "slideshow": {
     "slide_type": "slide"
    }
   },
   "source": [
    "*concatenate* multiple tensors together"
   ]
  },
  {
   "cell_type": "code",
   "execution_count": 15,
   "id": "652d5958",
   "metadata": {
    "execution": {
     "iopub.execute_input": "2022-08-19T17:13:28.734244Z",
     "iopub.status.busy": "2022-08-19T17:13:28.733559Z",
     "iopub.status.idle": "2022-08-19T17:13:28.745975Z",
     "shell.execute_reply": "2022-08-19T17:13:28.744932Z"
    },
    "origin_pos": 61,
    "tab": [
     "pytorch"
    ]
   },
   "outputs": [
    {
     "data": {
      "text/plain": [
       "(tensor([[ 0.,  1.,  2.,  3.],\n",
       "         [ 4.,  5.,  6.,  7.],\n",
       "         [ 8.,  9., 10., 11.],\n",
       "         [ 2.,  1.,  4.,  3.],\n",
       "         [ 1.,  2.,  3.,  4.],\n",
       "         [ 4.,  3.,  2.,  1.]]),\n",
       " tensor([[ 0.,  1.,  2.,  3.,  2.,  1.,  4.,  3.],\n",
       "         [ 4.,  5.,  6.,  7.,  1.,  2.,  3.,  4.],\n",
       "         [ 8.,  9., 10., 11.,  4.,  3.,  2.,  1.]]))"
      ]
     },
     "execution_count": 15,
     "metadata": {},
     "output_type": "execute_result"
    }
   ],
   "source": [
    "X = torch.arange(12, dtype=torch.float32).reshape((3,4))\n",
    "Y = torch.tensor([[2.0, 1, 4, 3], [1, 2, 3, 4], [4, 3, 2, 1]])\n",
    "torch.cat((X, Y), dim=0), torch.cat((X, Y), dim=1)"
   ]
  },
  {
   "cell_type": "markdown",
   "id": "2e7e739f",
   "metadata": {
    "slideshow": {
     "slide_type": "slide"
    }
   },
   "source": [
    "Construct a binary tensor via *logical statements*"
   ]
  },
  {
   "cell_type": "code",
   "execution_count": 16,
   "id": "87fab134",
   "metadata": {
    "execution": {
     "iopub.execute_input": "2022-08-19T17:13:28.750351Z",
     "iopub.status.busy": "2022-08-19T17:13:28.749685Z",
     "iopub.status.idle": "2022-08-19T17:13:28.756314Z",
     "shell.execute_reply": "2022-08-19T17:13:28.755505Z"
    },
    "origin_pos": 64,
    "tab": [
     "pytorch"
    ]
   },
   "outputs": [
    {
     "data": {
      "text/plain": [
       "tensor([[False,  True, False,  True],\n",
       "        [False, False, False, False],\n",
       "        [False, False, False, False]])"
      ]
     },
     "execution_count": 16,
     "metadata": {},
     "output_type": "execute_result"
    }
   ],
   "source": [
    "X == Y"
   ]
  },
  {
   "cell_type": "markdown",
   "id": "e8007c31",
   "metadata": {
    "slideshow": {
     "slide_type": "slide"
    }
   },
   "source": [
    "Summing all the elements in the tensor"
   ]
  },
  {
   "cell_type": "code",
   "execution_count": 17,
   "id": "ef5d5901",
   "metadata": {
    "execution": {
     "iopub.execute_input": "2022-08-19T17:13:28.759720Z",
     "iopub.status.busy": "2022-08-19T17:13:28.759194Z",
     "iopub.status.idle": "2022-08-19T17:13:28.764746Z",
     "shell.execute_reply": "2022-08-19T17:13:28.763961Z"
    },
    "origin_pos": 66,
    "tab": [
     "pytorch"
    ]
   },
   "outputs": [
    {
     "data": {
      "text/plain": [
       "tensor(66.)"
      ]
     },
     "execution_count": 17,
     "metadata": {},
     "output_type": "execute_result"
    }
   ],
   "source": [
    "X.sum()"
   ]
  },
  {
   "cell_type": "markdown",
   "id": "a9ede609",
   "metadata": {
    "slideshow": {
     "slide_type": "slide"
    }
   },
   "source": [
    "Perform elementwise binary operations\n",
    "by invoking the *broadcasting mechanism*"
   ]
  },
  {
   "cell_type": "code",
   "execution_count": 18,
   "id": "8465c8d1",
   "metadata": {
    "execution": {
     "iopub.execute_input": "2022-08-19T17:13:28.768128Z",
     "iopub.status.busy": "2022-08-19T17:13:28.767620Z",
     "iopub.status.idle": "2022-08-19T17:13:28.773856Z",
     "shell.execute_reply": "2022-08-19T17:13:28.773081Z"
    },
    "origin_pos": 70,
    "tab": [
     "pytorch"
    ]
   },
   "outputs": [
    {
     "data": {
      "text/plain": [
       "(tensor([[0],\n",
       "         [1],\n",
       "         [2]]),\n",
       " tensor([[0, 1]]))"
      ]
     },
     "execution_count": 18,
     "metadata": {},
     "output_type": "execute_result"
    }
   ],
   "source": [
    "a = torch.arange(3).reshape((3, 1))\n",
    "b = torch.arange(2).reshape((1, 2))\n",
    "a, b"
   ]
  },
  {
   "cell_type": "code",
   "execution_count": 19,
   "id": "ca784911",
   "metadata": {
    "execution": {
     "iopub.execute_input": "2022-08-19T17:13:28.777248Z",
     "iopub.status.busy": "2022-08-19T17:13:28.776742Z",
     "iopub.status.idle": "2022-08-19T17:13:28.782100Z",
     "shell.execute_reply": "2022-08-19T17:13:28.781296Z"
    },
    "origin_pos": 73,
    "tab": [
     "pytorch"
    ]
   },
   "outputs": [
    {
     "data": {
      "text/plain": [
       "tensor([[0, 1],\n",
       "        [1, 2],\n",
       "        [2, 3]])"
      ]
     },
     "execution_count": 19,
     "metadata": {},
     "output_type": "execute_result"
    }
   ],
   "source": [
    "a + b"
   ]
  },
  {
   "cell_type": "markdown",
   "id": "c65f9e6a",
   "metadata": {
    "slideshow": {
     "slide_type": "slide"
    }
   },
   "source": [
    "Running operations can cause new memory to be\n",
    "allocated to host results"
   ]
  },
  {
   "cell_type": "code",
   "execution_count": 20,
   "id": "29291894",
   "metadata": {
    "execution": {
     "iopub.execute_input": "2022-08-19T17:13:28.785466Z",
     "iopub.status.busy": "2022-08-19T17:13:28.784962Z",
     "iopub.status.idle": "2022-08-19T17:13:28.790392Z",
     "shell.execute_reply": "2022-08-19T17:13:28.789592Z"
    },
    "origin_pos": 75,
    "tab": [
     "pytorch"
    ]
   },
   "outputs": [
    {
     "data": {
      "text/plain": [
       "False"
      ]
     },
     "execution_count": 20,
     "metadata": {},
     "output_type": "execute_result"
    }
   ],
   "source": [
    "before = id(Y)\n",
    "Y = Y + X\n",
    "id(Y) == before"
   ]
  },
  {
   "cell_type": "markdown",
   "id": "836c379d",
   "metadata": {
    "slideshow": {
     "slide_type": "-"
    }
   },
   "source": [
    "Performing in-place operations"
   ]
  },
  {
   "cell_type": "code",
   "execution_count": 21,
   "id": "61abc0d9",
   "metadata": {
    "execution": {
     "iopub.execute_input": "2022-08-19T17:13:28.794174Z",
     "iopub.status.busy": "2022-08-19T17:13:28.793513Z",
     "iopub.status.idle": "2022-08-19T17:13:28.799161Z",
     "shell.execute_reply": "2022-08-19T17:13:28.798290Z"
    },
    "origin_pos": 80,
    "tab": [
     "pytorch"
    ]
   },
   "outputs": [
    {
     "name": "stdout",
     "output_type": "stream",
     "text": [
      "id(Z): 140166822857040\n",
      "id(Z): 140166822857040\n"
     ]
    }
   ],
   "source": [
    "Z = torch.zeros_like(Y)\n",
    "print('id(Z):', id(Z))\n",
    "Z[:] = X + Y\n",
    "print('id(Z):', id(Z))"
   ]
  },
  {
   "cell_type": "markdown",
   "id": "6cd9998b",
   "metadata": {
    "slideshow": {
     "slide_type": "slide"
    }
   },
   "source": [
    "If the value of `X` is not reused in subsequent computations,\n",
    "we can also use `X[:] = X + Y` or `X += Y`\n",
    "to reduce the memory overhead of the operation"
   ]
  },
  {
   "cell_type": "code",
   "execution_count": 22,
   "id": "a8ece28d",
   "metadata": {
    "execution": {
     "iopub.execute_input": "2022-08-19T17:13:28.802572Z",
     "iopub.status.busy": "2022-08-19T17:13:28.802036Z",
     "iopub.status.idle": "2022-08-19T17:13:28.807484Z",
     "shell.execute_reply": "2022-08-19T17:13:28.806627Z"
    },
    "origin_pos": 84,
    "tab": [
     "pytorch"
    ]
   },
   "outputs": [
    {
     "data": {
      "text/plain": [
       "True"
      ]
     },
     "execution_count": 22,
     "metadata": {},
     "output_type": "execute_result"
    }
   ],
   "source": [
    "before = id(X)\n",
    "X += Y\n",
    "id(X) == before"
   ]
  },
  {
   "cell_type": "markdown",
   "id": "ed64ea24",
   "metadata": {
    "slideshow": {
     "slide_type": "slide"
    }
   },
   "source": [
    "Converting to a NumPy tensor (`ndarray`)"
   ]
  },
  {
   "cell_type": "code",
   "execution_count": 23,
   "id": "a141f216",
   "metadata": {
    "execution": {
     "iopub.execute_input": "2022-08-19T17:13:28.811219Z",
     "iopub.status.busy": "2022-08-19T17:13:28.810597Z",
     "iopub.status.idle": "2022-08-19T17:13:28.816091Z",
     "shell.execute_reply": "2022-08-19T17:13:28.815260Z"
    },
    "origin_pos": 90,
    "tab": [
     "pytorch"
    ]
   },
   "outputs": [
    {
     "data": {
      "text/plain": [
       "(numpy.ndarray, torch.Tensor)"
      ]
     },
     "execution_count": 23,
     "metadata": {},
     "output_type": "execute_result"
    }
   ],
   "source": [
    "A = X.numpy()\n",
    "B = torch.from_numpy(A)\n",
    "type(A), type(B)"
   ]
  },
  {
   "cell_type": "markdown",
   "id": "53632f4d",
   "metadata": {
    "slideshow": {
     "slide_type": "-"
    }
   },
   "source": [
    "Convert a size-1 tensor to a Python scalar"
   ]
  },
  {
   "cell_type": "code",
   "execution_count": 24,
   "id": "56bb8204",
   "metadata": {
    "execution": {
     "iopub.execute_input": "2022-08-19T17:13:28.956852Z",
     "iopub.status.busy": "2022-08-19T17:13:28.956180Z",
     "iopub.status.idle": "2022-08-19T17:13:28.962842Z",
     "shell.execute_reply": "2022-08-19T17:13:28.962013Z"
    },
    "origin_pos": 94,
    "tab": [
     "pytorch"
    ]
   },
   "outputs": [
    {
     "data": {
      "text/plain": [
       "(tensor([3.5000]), 3.5, 3.5, 3)"
      ]
     },
     "execution_count": 24,
     "metadata": {},
     "output_type": "execute_result"
    }
   ],
   "source": [
    "a = torch.tensor([3.5])\n",
    "a, a.item(), float(a), int(a)"
   ]
  }
 ],
 "metadata": {
  "celltoolbar": "Slideshow",
  "language_info": {
   "name": "python"
  },
  "rise": {
   "autolaunch": true,
   "enable_chalkboard": true,
   "overlay": "<div class='my-top-right'><img height=80px src='http://d2l.ai/_static/logo-with-text.png'/></div><div class='my-top-left'></div>",
   "scroll": true
  }
 },
 "nbformat": 4,
 "nbformat_minor": 5
}