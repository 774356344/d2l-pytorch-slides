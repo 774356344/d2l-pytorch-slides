{
 "cells": [
  {
   "cell_type": "markdown",
   "id": "92fec8e9",
   "metadata": {
    "slideshow": {
     "slide_type": "-"
    }
   },
   "source": [
    "# Data Manipulation\n",
    "\n"
   ]
  },
  {
   "cell_type": "markdown",
   "id": "23a76cc7",
   "metadata": {
    "slideshow": {
     "slide_type": "-"
    }
   },
   "source": [
    "To start, we import the PyTorch library.\n",
    "Note that the package name is `torch`"
   ]
  },
  {
   "cell_type": "code",
   "execution_count": 1,
   "id": "e466b111",
   "metadata": {
    "execution": {
     "iopub.execute_input": "2022-12-14T05:38:52.335838Z",
     "iopub.status.busy": "2022-12-14T05:38:52.335410Z",
     "iopub.status.idle": "2022-12-14T05:38:53.658827Z",
     "shell.execute_reply": "2022-12-14T05:38:53.657518Z"
    },
    "origin_pos": 6,
    "tab": [
     "pytorch"
    ]
   },
   "outputs": [],
   "source": [
    "import torch"
   ]
  },
  {
   "cell_type": "markdown",
   "id": "b9688ff3",
   "metadata": {
    "slideshow": {
     "slide_type": "slide"
    }
   },
   "source": [
    "A tensor represents a (possibly multi-dimensional) array of numerical values"
   ]
  },
  {
   "cell_type": "code",
   "execution_count": 2,
   "id": "36b62ba1",
   "metadata": {
    "execution": {
     "iopub.execute_input": "2022-12-14T05:38:53.664566Z",
     "iopub.status.busy": "2022-12-14T05:38:53.663682Z",
     "iopub.status.idle": "2022-12-14T05:38:53.679483Z",
     "shell.execute_reply": "2022-12-14T05:38:53.678407Z"
    },
    "origin_pos": 14,
    "tab": [
     "pytorch"
    ]
   },
   "outputs": [
    {
     "data": {
      "text/plain": [
       "tensor([ 0.,  1.,  2.,  3.,  4.,  5.,  6.,  7.,  8.,  9., 10., 11.])"
      ]
     },
     "execution_count": 2,
     "metadata": {},
     "output_type": "execute_result"
    }
   ],
   "source": [
    "x = torch.arange(12, dtype=torch.float32)\n",
    "x"
   ]
  },
  {
   "cell_type": "code",
   "execution_count": 3,
   "id": "f6970395",
   "metadata": {
    "execution": {
     "iopub.execute_input": "2022-12-14T05:38:53.684309Z",
     "iopub.status.busy": "2022-12-14T05:38:53.683862Z",
     "iopub.status.idle": "2022-12-14T05:38:53.690764Z",
     "shell.execute_reply": "2022-12-14T05:38:53.689639Z"
    },
    "origin_pos": 21,
    "tab": [
     "pytorch"
    ]
   },
   "outputs": [
    {
     "data": {
      "text/plain": [
       "12"
      ]
     },
     "execution_count": 3,
     "metadata": {},
     "output_type": "execute_result"
    }
   ],
   "source": [
    "x.numel()"
   ]
  },
  {
   "cell_type": "markdown",
   "id": "a9ac8ca6",
   "metadata": {
    "slideshow": {
     "slide_type": "-"
    }
   },
   "source": [
    "We can access a tensor's *shape*"
   ]
  },
  {
   "cell_type": "code",
   "execution_count": 4,
   "id": "dd2d20bc",
   "metadata": {
    "execution": {
     "iopub.execute_input": "2022-12-14T05:38:53.694959Z",
     "iopub.status.busy": "2022-12-14T05:38:53.694487Z",
     "iopub.status.idle": "2022-12-14T05:38:53.700958Z",
     "shell.execute_reply": "2022-12-14T05:38:53.700177Z"
    },
    "origin_pos": 24,
    "tab": [
     "pytorch"
    ]
   },
   "outputs": [
    {
     "data": {
      "text/plain": [
       "torch.Size([12])"
      ]
     },
     "execution_count": 4,
     "metadata": {},
     "output_type": "execute_result"
    }
   ],
   "source": [
    "x.shape"
   ]
  },
  {
   "cell_type": "markdown",
   "id": "22dac818",
   "metadata": {
    "slideshow": {
     "slide_type": "slide"
    }
   },
   "source": [
    "Change the shape of a tensor\n",
    "without altering its size or values"
   ]
  },
  {
   "cell_type": "code",
   "execution_count": 5,
   "id": "5faab570",
   "metadata": {
    "execution": {
     "iopub.execute_input": "2022-12-14T05:38:53.704158Z",
     "iopub.status.busy": "2022-12-14T05:38:53.703883Z",
     "iopub.status.idle": "2022-12-14T05:38:53.709829Z",
     "shell.execute_reply": "2022-12-14T05:38:53.709124Z"
    },
    "origin_pos": 26,
    "tab": [
     "pytorch"
    ]
   },
   "outputs": [
    {
     "data": {
      "text/plain": [
       "tensor([[ 0.,  1.,  2.,  3.],\n",
       "        [ 4.,  5.,  6.,  7.],\n",
       "        [ 8.,  9., 10., 11.]])"
      ]
     },
     "execution_count": 5,
     "metadata": {},
     "output_type": "execute_result"
    }
   ],
   "source": [
    "X = x.reshape(3, 4)\n",
    "X"
   ]
  },
  {
   "cell_type": "markdown",
   "id": "6d10fb1e",
   "metadata": {
    "slideshow": {
     "slide_type": "slide"
    }
   },
   "source": [
    "We can construct a tensor with all elements set to zero\n",
    "or one"
   ]
  },
  {
   "cell_type": "code",
   "execution_count": 6,
   "id": "fbe33416",
   "metadata": {
    "execution": {
     "iopub.execute_input": "2022-12-14T05:38:53.713140Z",
     "iopub.status.busy": "2022-12-14T05:38:53.712863Z",
     "iopub.status.idle": "2022-12-14T05:38:53.718726Z",
     "shell.execute_reply": "2022-12-14T05:38:53.717983Z"
    },
    "origin_pos": 30,
    "tab": [
     "pytorch"
    ]
   },
   "outputs": [
    {
     "data": {
      "text/plain": [
       "tensor([[[0., 0., 0., 0.],\n",
       "         [0., 0., 0., 0.],\n",
       "         [0., 0., 0., 0.]],\n",
       "\n",
       "        [[0., 0., 0., 0.],\n",
       "         [0., 0., 0., 0.],\n",
       "         [0., 0., 0., 0.]]])"
      ]
     },
     "execution_count": 6,
     "metadata": {},
     "output_type": "execute_result"
    }
   ],
   "source": [
    "torch.zeros((2, 3, 4))"
   ]
  },
  {
   "cell_type": "code",
   "execution_count": 7,
   "id": "895f25bd",
   "metadata": {
    "execution": {
     "iopub.execute_input": "2022-12-14T05:38:53.721848Z",
     "iopub.status.busy": "2022-12-14T05:38:53.721578Z",
     "iopub.status.idle": "2022-12-14T05:38:53.728224Z",
     "shell.execute_reply": "2022-12-14T05:38:53.727486Z"
    },
    "origin_pos": 35,
    "tab": [
     "pytorch"
    ]
   },
   "outputs": [
    {
     "data": {
      "text/plain": [
       "tensor([[[1., 1., 1., 1.],\n",
       "         [1., 1., 1., 1.],\n",
       "         [1., 1., 1., 1.]],\n",
       "\n",
       "        [[1., 1., 1., 1.],\n",
       "         [1., 1., 1., 1.],\n",
       "         [1., 1., 1., 1.]]])"
      ]
     },
     "execution_count": 7,
     "metadata": {},
     "output_type": "execute_result"
    }
   ],
   "source": [
    "torch.ones((2, 3, 4))"
   ]
  },
  {
   "cell_type": "markdown",
   "id": "eab34c99",
   "metadata": {
    "slideshow": {
     "slide_type": "slide"
    }
   },
   "source": [
    "Sample each element randomly (and independently)"
   ]
  },
  {
   "cell_type": "code",
   "execution_count": 8,
   "id": "1d6e1032",
   "metadata": {
    "execution": {
     "iopub.execute_input": "2022-12-14T05:38:53.731520Z",
     "iopub.status.busy": "2022-12-14T05:38:53.731005Z",
     "iopub.status.idle": "2022-12-14T05:38:53.736540Z",
     "shell.execute_reply": "2022-12-14T05:38:53.735823Z"
    },
    "origin_pos": 40,
    "tab": [
     "pytorch"
    ]
   },
   "outputs": [
    {
     "data": {
      "text/plain": [
       "tensor([[ 0.1046, -0.7427,  2.2836, -0.2483],\n",
       "        [-0.0919,  0.3792,  0.5883, -0.5839],\n",
       "        [ 0.7603, -0.0391,  0.2581, -1.7167]])"
      ]
     },
     "execution_count": 8,
     "metadata": {},
     "output_type": "execute_result"
    }
   ],
   "source": [
    "torch.randn(3, 4)"
   ]
  },
  {
   "cell_type": "markdown",
   "id": "4c590fac",
   "metadata": {
    "slideshow": {
     "slide_type": "slide"
    }
   },
   "source": [
    "Supplying the exact values for each element"
   ]
  },
  {
   "cell_type": "code",
   "execution_count": 9,
   "id": "e7ffb60f",
   "metadata": {
    "execution": {
     "iopub.execute_input": "2022-12-14T05:38:53.739712Z",
     "iopub.status.busy": "2022-12-14T05:38:53.739210Z",
     "iopub.status.idle": "2022-12-14T05:38:53.744918Z",
     "shell.execute_reply": "2022-12-14T05:38:53.744217Z"
    },
    "origin_pos": 45,
    "tab": [
     "pytorch"
    ]
   },
   "outputs": [
    {
     "data": {
      "text/plain": [
       "tensor([[2, 1, 4, 3],\n",
       "        [1, 2, 3, 4],\n",
       "        [4, 3, 2, 1]])"
      ]
     },
     "execution_count": 9,
     "metadata": {},
     "output_type": "execute_result"
    }
   ],
   "source": [
    "torch.tensor([[2, 1, 4, 3], [1, 2, 3, 4], [4, 3, 2, 1]])"
   ]
  },
  {
   "cell_type": "markdown",
   "id": "c0242ccb",
   "metadata": {
    "slideshow": {
     "slide_type": "slide"
    }
   },
   "source": [
    "`[-1]` selects the last row and `[1:3]`\n",
    "selects the second and third rows"
   ]
  },
  {
   "cell_type": "code",
   "execution_count": 10,
   "id": "24dbd799",
   "metadata": {
    "execution": {
     "iopub.execute_input": "2022-12-14T05:38:53.749299Z",
     "iopub.status.busy": "2022-12-14T05:38:53.748688Z",
     "iopub.status.idle": "2022-12-14T05:38:53.754422Z",
     "shell.execute_reply": "2022-12-14T05:38:53.753690Z"
    },
    "origin_pos": 49,
    "tab": [
     "pytorch"
    ]
   },
   "outputs": [
    {
     "data": {
      "text/plain": [
       "(tensor([ 8.,  9., 10., 11.]),\n",
       " tensor([[ 4.,  5.,  6.,  7.],\n",
       "         [ 8.,  9., 10., 11.]]))"
      ]
     },
     "execution_count": 10,
     "metadata": {},
     "output_type": "execute_result"
    }
   ],
   "source": [
    "X[-1], X[1:3]"
   ]
  },
  {
   "cell_type": "markdown",
   "id": "4b1ca227",
   "metadata": {
    "slideshow": {
     "slide_type": "-"
    }
   },
   "source": [
    "We can also write elements of a matrix by specifying indices"
   ]
  },
  {
   "cell_type": "code",
   "execution_count": 11,
   "id": "018c143b",
   "metadata": {
    "execution": {
     "iopub.execute_input": "2022-12-14T05:38:53.757655Z",
     "iopub.status.busy": "2022-12-14T05:38:53.757174Z",
     "iopub.status.idle": "2022-12-14T05:38:53.762550Z",
     "shell.execute_reply": "2022-12-14T05:38:53.761833Z"
    },
    "origin_pos": 52,
    "tab": [
     "pytorch"
    ]
   },
   "outputs": [
    {
     "data": {
      "text/plain": [
       "tensor([[ 0.,  1.,  2.,  3.],\n",
       "        [ 4.,  5., 17.,  7.],\n",
       "        [ 8.,  9., 10., 11.]])"
      ]
     },
     "execution_count": 11,
     "metadata": {},
     "output_type": "execute_result"
    }
   ],
   "source": [
    "X[1, 2] = 17\n",
    "X"
   ]
  },
  {
   "cell_type": "markdown",
   "id": "9563e548",
   "metadata": {
    "slideshow": {
     "slide_type": "slide"
    }
   },
   "source": [
    "To assign multiple elements the same value,\n",
    "we apply the indexing on the left-hand side \n",
    "of the assignment operation"
   ]
  },
  {
   "cell_type": "code",
   "execution_count": 12,
   "id": "d5508ade",
   "metadata": {
    "execution": {
     "iopub.execute_input": "2022-12-14T05:38:53.765770Z",
     "iopub.status.busy": "2022-12-14T05:38:53.765290Z",
     "iopub.status.idle": "2022-12-14T05:38:53.770953Z",
     "shell.execute_reply": "2022-12-14T05:38:53.770045Z"
    },
    "origin_pos": 56,
    "tab": [
     "pytorch"
    ]
   },
   "outputs": [
    {
     "data": {
      "text/plain": [
       "tensor([[12., 12., 12., 12.],\n",
       "        [12., 12., 12., 12.],\n",
       "        [ 8.,  9., 10., 11.]])"
      ]
     },
     "execution_count": 12,
     "metadata": {},
     "output_type": "execute_result"
    }
   ],
   "source": [
    "X[:2, :] = 12\n",
    "X"
   ]
  },
  {
   "cell_type": "code",
   "execution_count": 13,
   "id": "98623b2b",
   "metadata": {
    "execution": {
     "iopub.execute_input": "2022-12-14T05:38:53.774967Z",
     "iopub.status.busy": "2022-12-14T05:38:53.774044Z",
     "iopub.status.idle": "2022-12-14T05:38:53.781674Z",
     "shell.execute_reply": "2022-12-14T05:38:53.780720Z"
    },
    "origin_pos": 61,
    "tab": [
     "pytorch"
    ]
   },
   "outputs": [
    {
     "data": {
      "text/plain": [
       "tensor([162754.7969, 162754.7969, 162754.7969, 162754.7969, 162754.7969,\n",
       "        162754.7969, 162754.7969, 162754.7969,   2980.9580,   8103.0840,\n",
       "         22026.4648,  59874.1406])"
      ]
     },
     "execution_count": 13,
     "metadata": {},
     "output_type": "execute_result"
    }
   ],
   "source": [
    "torch.exp(x)"
   ]
  },
  {
   "cell_type": "code",
   "execution_count": 14,
   "id": "6c8ae4a5",
   "metadata": {
    "execution": {
     "iopub.execute_input": "2022-12-14T05:38:53.785722Z",
     "iopub.status.busy": "2022-12-14T05:38:53.784954Z",
     "iopub.status.idle": "2022-12-14T05:38:53.796050Z",
     "shell.execute_reply": "2022-12-14T05:38:53.795090Z"
    },
    "origin_pos": 66,
    "tab": [
     "pytorch"
    ]
   },
   "outputs": [
    {
     "data": {
      "text/plain": [
       "(tensor([ 3.,  4.,  6., 10.]),\n",
       " tensor([-1.,  0.,  2.,  6.]),\n",
       " tensor([ 2.,  4.,  8., 16.]),\n",
       " tensor([0.5000, 1.0000, 2.0000, 4.0000]),\n",
       " tensor([ 1.,  4., 16., 64.]))"
      ]
     },
     "execution_count": 14,
     "metadata": {},
     "output_type": "execute_result"
    }
   ],
   "source": [
    "x = torch.tensor([1.0, 2, 4, 8])\n",
    "y = torch.tensor([2, 2, 2, 2])\n",
    "x + y, x - y, x * y, x / y, x ** y"
   ]
  },
  {
   "cell_type": "markdown",
   "id": "876c474c",
   "metadata": {
    "slideshow": {
     "slide_type": "slide"
    }
   },
   "source": [
    "*concatenate* multiple tensors together"
   ]
  },
  {
   "cell_type": "code",
   "execution_count": 15,
   "id": "47f90145",
   "metadata": {
    "execution": {
     "iopub.execute_input": "2022-12-14T05:38:53.800074Z",
     "iopub.status.busy": "2022-12-14T05:38:53.799298Z",
     "iopub.status.idle": "2022-12-14T05:38:53.810781Z",
     "shell.execute_reply": "2022-12-14T05:38:53.809790Z"
    },
    "origin_pos": 71,
    "tab": [
     "pytorch"
    ]
   },
   "outputs": [
    {
     "data": {
      "text/plain": [
       "(tensor([[ 0.,  1.,  2.,  3.],\n",
       "         [ 4.,  5.,  6.,  7.],\n",
       "         [ 8.,  9., 10., 11.],\n",
       "         [ 2.,  1.,  4.,  3.],\n",
       "         [ 1.,  2.,  3.,  4.],\n",
       "         [ 4.,  3.,  2.,  1.]]),\n",
       " tensor([[ 0.,  1.,  2.,  3.,  2.,  1.,  4.,  3.],\n",
       "         [ 4.,  5.,  6.,  7.,  1.,  2.,  3.,  4.],\n",
       "         [ 8.,  9., 10., 11.,  4.,  3.,  2.,  1.]]))"
      ]
     },
     "execution_count": 15,
     "metadata": {},
     "output_type": "execute_result"
    }
   ],
   "source": [
    "X = torch.arange(12, dtype=torch.float32).reshape((3,4))\n",
    "Y = torch.tensor([[2.0, 1, 4, 3], [1, 2, 3, 4], [4, 3, 2, 1]])\n",
    "torch.cat((X, Y), dim=0), torch.cat((X, Y), dim=1)"
   ]
  },
  {
   "cell_type": "markdown",
   "id": "df441f76",
   "metadata": {
    "slideshow": {
     "slide_type": "slide"
    }
   },
   "source": [
    "Construct a binary tensor via *logical statements*"
   ]
  },
  {
   "cell_type": "code",
   "execution_count": 16,
   "id": "9d5d1228",
   "metadata": {
    "execution": {
     "iopub.execute_input": "2022-12-14T05:38:53.814848Z",
     "iopub.status.busy": "2022-12-14T05:38:53.814009Z",
     "iopub.status.idle": "2022-12-14T05:38:53.821038Z",
     "shell.execute_reply": "2022-12-14T05:38:53.820091Z"
    },
    "origin_pos": 75,
    "tab": [
     "pytorch"
    ]
   },
   "outputs": [
    {
     "data": {
      "text/plain": [
       "tensor([[False,  True, False,  True],\n",
       "        [False, False, False, False],\n",
       "        [False, False, False, False]])"
      ]
     },
     "execution_count": 16,
     "metadata": {},
     "output_type": "execute_result"
    }
   ],
   "source": [
    "X == Y"
   ]
  },
  {
   "cell_type": "markdown",
   "id": "6857e1b8",
   "metadata": {
    "slideshow": {
     "slide_type": "slide"
    }
   },
   "source": [
    "Summing all the elements in the tensor"
   ]
  },
  {
   "cell_type": "code",
   "execution_count": 17,
   "id": "cb10a38f",
   "metadata": {
    "execution": {
     "iopub.execute_input": "2022-12-14T05:38:53.824763Z",
     "iopub.status.busy": "2022-12-14T05:38:53.824341Z",
     "iopub.status.idle": "2022-12-14T05:38:53.831598Z",
     "shell.execute_reply": "2022-12-14T05:38:53.830608Z"
    },
    "origin_pos": 77,
    "tab": [
     "pytorch"
    ]
   },
   "outputs": [
    {
     "data": {
      "text/plain": [
       "tensor(66.)"
      ]
     },
     "execution_count": 17,
     "metadata": {},
     "output_type": "execute_result"
    }
   ],
   "source": [
    "X.sum()"
   ]
  },
  {
   "cell_type": "markdown",
   "id": "6e9c1481",
   "metadata": {
    "slideshow": {
     "slide_type": "slide"
    }
   },
   "source": [
    "Perform elementwise binary operations\n",
    "by invoking the *broadcasting mechanism*"
   ]
  },
  {
   "cell_type": "code",
   "execution_count": 18,
   "id": "6fcff2cd",
   "metadata": {
    "execution": {
     "iopub.execute_input": "2022-12-14T05:38:53.836369Z",
     "iopub.status.busy": "2022-12-14T05:38:53.835947Z",
     "iopub.status.idle": "2022-12-14T05:38:53.844326Z",
     "shell.execute_reply": "2022-12-14T05:38:53.843382Z"
    },
    "origin_pos": 81,
    "tab": [
     "pytorch"
    ]
   },
   "outputs": [
    {
     "data": {
      "text/plain": [
       "(tensor([[0],\n",
       "         [1],\n",
       "         [2]]),\n",
       " tensor([[0, 1]]))"
      ]
     },
     "execution_count": 18,
     "metadata": {},
     "output_type": "execute_result"
    }
   ],
   "source": [
    "a = torch.arange(3).reshape((3, 1))\n",
    "b = torch.arange(2).reshape((1, 2))\n",
    "a, b"
   ]
  },
  {
   "cell_type": "code",
   "execution_count": 19,
   "id": "e7485479",
   "metadata": {
    "execution": {
     "iopub.execute_input": "2022-12-14T05:38:53.847914Z",
     "iopub.status.busy": "2022-12-14T05:38:53.847495Z",
     "iopub.status.idle": "2022-12-14T05:38:53.853708Z",
     "shell.execute_reply": "2022-12-14T05:38:53.852956Z"
    },
    "origin_pos": 85,
    "tab": [
     "pytorch"
    ]
   },
   "outputs": [
    {
     "data": {
      "text/plain": [
       "tensor([[0, 1],\n",
       "        [1, 2],\n",
       "        [2, 3]])"
      ]
     },
     "execution_count": 19,
     "metadata": {},
     "output_type": "execute_result"
    }
   ],
   "source": [
    "a + b"
   ]
  },
  {
   "cell_type": "markdown",
   "id": "096a65b2",
   "metadata": {
    "slideshow": {
     "slide_type": "slide"
    }
   },
   "source": [
    "Running operations can cause new memory to be\n",
    "allocated to host results"
   ]
  },
  {
   "cell_type": "code",
   "execution_count": 20,
   "id": "71b8ea54",
   "metadata": {
    "execution": {
     "iopub.execute_input": "2022-12-14T05:38:53.856821Z",
     "iopub.status.busy": "2022-12-14T05:38:53.856555Z",
     "iopub.status.idle": "2022-12-14T05:38:53.861836Z",
     "shell.execute_reply": "2022-12-14T05:38:53.861121Z"
    },
    "origin_pos": 87,
    "tab": [
     "pytorch"
    ]
   },
   "outputs": [
    {
     "data": {
      "text/plain": [
       "False"
      ]
     },
     "execution_count": 20,
     "metadata": {},
     "output_type": "execute_result"
    }
   ],
   "source": [
    "before = id(Y)\n",
    "Y = Y + X\n",
    "id(Y) == before"
   ]
  },
  {
   "cell_type": "markdown",
   "id": "81bb9c45",
   "metadata": {
    "slideshow": {
     "slide_type": "-"
    }
   },
   "source": [
    "Performing in-place operations"
   ]
  },
  {
   "cell_type": "code",
   "execution_count": 21,
   "id": "04050204",
   "metadata": {
    "execution": {
     "iopub.execute_input": "2022-12-14T05:38:53.864847Z",
     "iopub.status.busy": "2022-12-14T05:38:53.864583Z",
     "iopub.status.idle": "2022-12-14T05:38:53.869627Z",
     "shell.execute_reply": "2022-12-14T05:38:53.868902Z"
    },
    "origin_pos": 92,
    "tab": [
     "pytorch"
    ]
   },
   "outputs": [
    {
     "name": "stdout",
     "output_type": "stream",
     "text": [
      "id(Z): 140125792645008\n",
      "id(Z): 140125792645008\n"
     ]
    }
   ],
   "source": [
    "Z = torch.zeros_like(Y)\n",
    "print('id(Z):', id(Z))\n",
    "Z[:] = X + Y\n",
    "print('id(Z):', id(Z))"
   ]
  },
  {
   "cell_type": "markdown",
   "id": "61fe8754",
   "metadata": {
    "slideshow": {
     "slide_type": "slide"
    }
   },
   "source": [
    "If the value of `X` is not reused in subsequent computations,\n",
    "we can also use `X[:] = X + Y` or `X += Y`\n",
    "to reduce the memory overhead of the operation"
   ]
  },
  {
   "cell_type": "code",
   "execution_count": 22,
   "id": "45f55b3d",
   "metadata": {
    "execution": {
     "iopub.execute_input": "2022-12-14T05:38:53.872558Z",
     "iopub.status.busy": "2022-12-14T05:38:53.872297Z",
     "iopub.status.idle": "2022-12-14T05:38:53.877703Z",
     "shell.execute_reply": "2022-12-14T05:38:53.876937Z"
    },
    "origin_pos": 97,
    "tab": [
     "pytorch"
    ]
   },
   "outputs": [
    {
     "data": {
      "text/plain": [
       "True"
      ]
     },
     "execution_count": 22,
     "metadata": {},
     "output_type": "execute_result"
    }
   ],
   "source": [
    "before = id(X)\n",
    "X += Y\n",
    "id(X) == before"
   ]
  },
  {
   "cell_type": "markdown",
   "id": "4af7b1d8",
   "metadata": {
    "slideshow": {
     "slide_type": "slide"
    }
   },
   "source": [
    "Converting to a NumPy tensor (`ndarray`)"
   ]
  },
  {
   "cell_type": "code",
   "execution_count": 23,
   "id": "c2702b02",
   "metadata": {
    "execution": {
     "iopub.execute_input": "2022-12-14T05:38:53.882476Z",
     "iopub.status.busy": "2022-12-14T05:38:53.881820Z",
     "iopub.status.idle": "2022-12-14T05:38:53.887165Z",
     "shell.execute_reply": "2022-12-14T05:38:53.886433Z"
    },
    "origin_pos": 103,
    "tab": [
     "pytorch"
    ]
   },
   "outputs": [
    {
     "data": {
      "text/plain": [
       "(numpy.ndarray, torch.Tensor)"
      ]
     },
     "execution_count": 23,
     "metadata": {},
     "output_type": "execute_result"
    }
   ],
   "source": [
    "A = X.numpy()\n",
    "B = torch.from_numpy(A)\n",
    "type(A), type(B)"
   ]
  },
  {
   "cell_type": "markdown",
   "id": "dc5e5ca2",
   "metadata": {
    "slideshow": {
     "slide_type": "-"
    }
   },
   "source": [
    "Convert a size-1 tensor to a Python scalar"
   ]
  },
  {
   "cell_type": "code",
   "execution_count": 24,
   "id": "2127d5fe",
   "metadata": {
    "execution": {
     "iopub.execute_input": "2022-12-14T05:38:53.890524Z",
     "iopub.status.busy": "2022-12-14T05:38:53.889917Z",
     "iopub.status.idle": "2022-12-14T05:38:53.895841Z",
     "shell.execute_reply": "2022-12-14T05:38:53.895080Z"
    },
    "origin_pos": 108,
    "tab": [
     "pytorch"
    ]
   },
   "outputs": [
    {
     "data": {
      "text/plain": [
       "(tensor([3.5000]), 3.5, 3.5, 3)"
      ]
     },
     "execution_count": 24,
     "metadata": {},
     "output_type": "execute_result"
    }
   ],
   "source": [
    "a = torch.tensor([3.5])\n",
    "a, a.item(), float(a), int(a)"
   ]
  }
 ],
 "metadata": {
  "celltoolbar": "Slideshow",
  "language_info": {
   "name": "python"
  },
  "rise": {
   "autolaunch": true,
   "enable_chalkboard": true,
   "overlay": "<div class='my-top-right'><img height=80px src='http://d2l.ai/_static/logo-with-text.png'/></div><div class='my-top-left'></div>",
   "scroll": true
  }
 },
 "nbformat": 4,
 "nbformat_minor": 5
}