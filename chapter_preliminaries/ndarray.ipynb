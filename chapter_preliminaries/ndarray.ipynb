{
 "cells": [
  {
   "cell_type": "markdown",
   "id": "48c32df7",
   "metadata": {
    "slideshow": {
     "slide_type": "-"
    }
   },
   "source": [
    "# Data Manipulation\n",
    "\n"
   ]
  },
  {
   "cell_type": "markdown",
   "id": "61b98c01",
   "metadata": {
    "slideshow": {
     "slide_type": "-"
    }
   },
   "source": [
    "To start, we import the PyTorch library.\n",
    "Note that the package name is `torch`"
   ]
  },
  {
   "cell_type": "code",
   "execution_count": 1,
   "id": "1c8fce9c",
   "metadata": {
    "execution": {
     "iopub.execute_input": "2022-08-29T07:24:56.238020Z",
     "iopub.status.busy": "2022-08-29T07:24:56.237446Z",
     "iopub.status.idle": "2022-08-29T07:24:57.081136Z",
     "shell.execute_reply": "2022-08-29T07:24:57.080213Z"
    },
    "origin_pos": 6,
    "tab": [
     "pytorch"
    ]
   },
   "outputs": [],
   "source": [
    "import torch"
   ]
  },
  {
   "cell_type": "markdown",
   "id": "5cee369e",
   "metadata": {
    "slideshow": {
     "slide_type": "slide"
    }
   },
   "source": [
    "A tensor represents a (possibly multi-dimensional) array of numerical values"
   ]
  },
  {
   "cell_type": "code",
   "execution_count": 2,
   "id": "5d966545",
   "metadata": {
    "execution": {
     "iopub.execute_input": "2022-08-29T07:24:57.085663Z",
     "iopub.status.busy": "2022-08-29T07:24:57.085099Z",
     "iopub.status.idle": "2022-08-29T07:24:57.098523Z",
     "shell.execute_reply": "2022-08-29T07:24:57.097753Z"
    },
    "origin_pos": 13,
    "tab": [
     "pytorch"
    ]
   },
   "outputs": [
    {
     "data": {
      "text/plain": [
       "tensor([ 0.,  1.,  2.,  3.,  4.,  5.,  6.,  7.,  8.,  9., 10., 11.])"
      ]
     },
     "execution_count": 2,
     "metadata": {},
     "output_type": "execute_result"
    }
   ],
   "source": [
    "x = torch.arange(12, dtype=torch.float32)\n",
    "x"
   ]
  },
  {
   "cell_type": "code",
   "execution_count": 3,
   "id": "63c91252",
   "metadata": {
    "execution": {
     "iopub.execute_input": "2022-08-29T07:24:57.102054Z",
     "iopub.status.busy": "2022-08-29T07:24:57.101603Z",
     "iopub.status.idle": "2022-08-29T07:24:57.106763Z",
     "shell.execute_reply": "2022-08-29T07:24:57.105977Z"
    },
    "origin_pos": 19,
    "tab": [
     "pytorch"
    ]
   },
   "outputs": [
    {
     "data": {
      "text/plain": [
       "12"
      ]
     },
     "execution_count": 3,
     "metadata": {},
     "output_type": "execute_result"
    }
   ],
   "source": [
    "x.numel()"
   ]
  },
  {
   "cell_type": "markdown",
   "id": "19ef0285",
   "metadata": {
    "slideshow": {
     "slide_type": "-"
    }
   },
   "source": [
    "We can access a tensor's *shape*"
   ]
  },
  {
   "cell_type": "code",
   "execution_count": 4,
   "id": "6ee45011",
   "metadata": {
    "execution": {
     "iopub.execute_input": "2022-08-29T07:24:57.110296Z",
     "iopub.status.busy": "2022-08-29T07:24:57.109863Z",
     "iopub.status.idle": "2022-08-29T07:24:57.114983Z",
     "shell.execute_reply": "2022-08-29T07:24:57.114202Z"
    },
    "origin_pos": 22,
    "tab": [
     "pytorch"
    ]
   },
   "outputs": [
    {
     "data": {
      "text/plain": [
       "torch.Size([12])"
      ]
     },
     "execution_count": 4,
     "metadata": {},
     "output_type": "execute_result"
    }
   ],
   "source": [
    "x.shape"
   ]
  },
  {
   "cell_type": "markdown",
   "id": "fe3a86b8",
   "metadata": {
    "slideshow": {
     "slide_type": "slide"
    }
   },
   "source": [
    "Change the shape of a tensor\n",
    "without altering its size or values"
   ]
  },
  {
   "cell_type": "code",
   "execution_count": 5,
   "id": "c480e60a",
   "metadata": {
    "execution": {
     "iopub.execute_input": "2022-08-29T07:24:57.118209Z",
     "iopub.status.busy": "2022-08-29T07:24:57.117914Z",
     "iopub.status.idle": "2022-08-29T07:24:57.124060Z",
     "shell.execute_reply": "2022-08-29T07:24:57.123258Z"
    },
    "origin_pos": 24,
    "tab": [
     "pytorch"
    ]
   },
   "outputs": [
    {
     "data": {
      "text/plain": [
       "tensor([[ 0.,  1.,  2.,  3.],\n",
       "        [ 4.,  5.,  6.,  7.],\n",
       "        [ 8.,  9., 10., 11.]])"
      ]
     },
     "execution_count": 5,
     "metadata": {},
     "output_type": "execute_result"
    }
   ],
   "source": [
    "X = x.reshape(3, 4)\n",
    "X"
   ]
  },
  {
   "cell_type": "markdown",
   "id": "ff8e9d88",
   "metadata": {
    "slideshow": {
     "slide_type": "slide"
    }
   },
   "source": [
    "We can construct a tensor with all elements set to zero\n",
    "or one"
   ]
  },
  {
   "cell_type": "code",
   "execution_count": 6,
   "id": "5c0860b6",
   "metadata": {
    "execution": {
     "iopub.execute_input": "2022-08-29T07:24:57.127685Z",
     "iopub.status.busy": "2022-08-29T07:24:57.127145Z",
     "iopub.status.idle": "2022-08-29T07:24:57.132833Z",
     "shell.execute_reply": "2022-08-29T07:24:57.132082Z"
    },
    "origin_pos": 28,
    "tab": [
     "pytorch"
    ]
   },
   "outputs": [
    {
     "data": {
      "text/plain": [
       "tensor([[[0., 0., 0., 0.],\n",
       "         [0., 0., 0., 0.],\n",
       "         [0., 0., 0., 0.]],\n",
       "\n",
       "        [[0., 0., 0., 0.],\n",
       "         [0., 0., 0., 0.],\n",
       "         [0., 0., 0., 0.]]])"
      ]
     },
     "execution_count": 6,
     "metadata": {},
     "output_type": "execute_result"
    }
   ],
   "source": [
    "torch.zeros((2, 3, 4))"
   ]
  },
  {
   "cell_type": "code",
   "execution_count": 7,
   "id": "26d3604a",
   "metadata": {
    "execution": {
     "iopub.execute_input": "2022-08-29T07:24:57.136358Z",
     "iopub.status.busy": "2022-08-29T07:24:57.135784Z",
     "iopub.status.idle": "2022-08-29T07:24:57.141890Z",
     "shell.execute_reply": "2022-08-29T07:24:57.141141Z"
    },
    "origin_pos": 32,
    "tab": [
     "pytorch"
    ]
   },
   "outputs": [
    {
     "data": {
      "text/plain": [
       "tensor([[[1., 1., 1., 1.],\n",
       "         [1., 1., 1., 1.],\n",
       "         [1., 1., 1., 1.]],\n",
       "\n",
       "        [[1., 1., 1., 1.],\n",
       "         [1., 1., 1., 1.],\n",
       "         [1., 1., 1., 1.]]])"
      ]
     },
     "execution_count": 7,
     "metadata": {},
     "output_type": "execute_result"
    }
   ],
   "source": [
    "torch.ones((2, 3, 4))"
   ]
  },
  {
   "cell_type": "markdown",
   "id": "bd637b08",
   "metadata": {
    "slideshow": {
     "slide_type": "slide"
    }
   },
   "source": [
    "Sample each element randomly (and independently)"
   ]
  },
  {
   "cell_type": "code",
   "execution_count": 8,
   "id": "c50b9d08",
   "metadata": {
    "execution": {
     "iopub.execute_input": "2022-08-29T07:24:57.145420Z",
     "iopub.status.busy": "2022-08-29T07:24:57.144888Z",
     "iopub.status.idle": "2022-08-29T07:24:57.150884Z",
     "shell.execute_reply": "2022-08-29T07:24:57.150081Z"
    },
    "origin_pos": 36,
    "tab": [
     "pytorch"
    ]
   },
   "outputs": [
    {
     "data": {
      "text/plain": [
       "tensor([[ 2.0435, -0.4183,  0.4925,  0.9750],\n",
       "        [ 2.4891,  0.4297,  0.0364, -2.1371],\n",
       "        [-0.2761,  1.0208, -1.3343, -0.3094]])"
      ]
     },
     "execution_count": 8,
     "metadata": {},
     "output_type": "execute_result"
    }
   ],
   "source": [
    "torch.randn(3, 4)"
   ]
  },
  {
   "cell_type": "markdown",
   "id": "0aaf6cdc",
   "metadata": {
    "slideshow": {
     "slide_type": "slide"
    }
   },
   "source": [
    "Supplying the exact values for each element"
   ]
  },
  {
   "cell_type": "code",
   "execution_count": 9,
   "id": "0cdd688a",
   "metadata": {
    "execution": {
     "iopub.execute_input": "2022-08-29T07:24:57.154309Z",
     "iopub.status.busy": "2022-08-29T07:24:57.153786Z",
     "iopub.status.idle": "2022-08-29T07:24:57.160024Z",
     "shell.execute_reply": "2022-08-29T07:24:57.159204Z"
    },
    "origin_pos": 40,
    "tab": [
     "pytorch"
    ]
   },
   "outputs": [
    {
     "data": {
      "text/plain": [
       "tensor([[2, 1, 4, 3],\n",
       "        [1, 2, 3, 4],\n",
       "        [4, 3, 2, 1]])"
      ]
     },
     "execution_count": 9,
     "metadata": {},
     "output_type": "execute_result"
    }
   ],
   "source": [
    "torch.tensor([[2, 1, 4, 3], [1, 2, 3, 4], [4, 3, 2, 1]])"
   ]
  },
  {
   "cell_type": "markdown",
   "id": "4e8491fa",
   "metadata": {
    "slideshow": {
     "slide_type": "slide"
    }
   },
   "source": [
    "`[-1]` selects the last row and `[1:3]`\n",
    "selects the second and third rows"
   ]
  },
  {
   "cell_type": "code",
   "execution_count": 10,
   "id": "d13bd7ca",
   "metadata": {
    "execution": {
     "iopub.execute_input": "2022-08-29T07:24:57.163658Z",
     "iopub.status.busy": "2022-08-29T07:24:57.163104Z",
     "iopub.status.idle": "2022-08-29T07:24:57.169468Z",
     "shell.execute_reply": "2022-08-29T07:24:57.168683Z"
    },
    "origin_pos": 43,
    "tab": [
     "pytorch"
    ]
   },
   "outputs": [
    {
     "data": {
      "text/plain": [
       "(tensor([ 8.,  9., 10., 11.]),\n",
       " tensor([[ 4.,  5.,  6.,  7.],\n",
       "         [ 8.,  9., 10., 11.]]))"
      ]
     },
     "execution_count": 10,
     "metadata": {},
     "output_type": "execute_result"
    }
   ],
   "source": [
    "X[-1], X[1:3]"
   ]
  },
  {
   "cell_type": "markdown",
   "id": "8ca8bc1b",
   "metadata": {
    "slideshow": {
     "slide_type": "-"
    }
   },
   "source": [
    "We can also write elements of a matrix by specifying indices"
   ]
  },
  {
   "cell_type": "code",
   "execution_count": 11,
   "id": "934cbf1e",
   "metadata": {
    "execution": {
     "iopub.execute_input": "2022-08-29T07:24:57.172738Z",
     "iopub.status.busy": "2022-08-29T07:24:57.172444Z",
     "iopub.status.idle": "2022-08-29T07:24:57.178711Z",
     "shell.execute_reply": "2022-08-29T07:24:57.177882Z"
    },
    "origin_pos": 46,
    "tab": [
     "pytorch"
    ]
   },
   "outputs": [
    {
     "data": {
      "text/plain": [
       "tensor([[ 0.,  1.,  2.,  3.],\n",
       "        [ 4.,  5., 17.,  7.],\n",
       "        [ 8.,  9., 10., 11.]])"
      ]
     },
     "execution_count": 11,
     "metadata": {},
     "output_type": "execute_result"
    }
   ],
   "source": [
    "X[1, 2] = 17\n",
    "X"
   ]
  },
  {
   "cell_type": "markdown",
   "id": "9a78aac2",
   "metadata": {
    "slideshow": {
     "slide_type": "slide"
    }
   },
   "source": [
    "To assign multiple elements the same value,\n",
    "we apply the indexing on the left-hand side \n",
    "of the assignment operation"
   ]
  },
  {
   "cell_type": "code",
   "execution_count": 12,
   "id": "f74a55b2",
   "metadata": {
    "execution": {
     "iopub.execute_input": "2022-08-29T07:24:57.182297Z",
     "iopub.status.busy": "2022-08-29T07:24:57.181718Z",
     "iopub.status.idle": "2022-08-29T07:24:57.187648Z",
     "shell.execute_reply": "2022-08-29T07:24:57.186900Z"
    },
    "origin_pos": 49,
    "tab": [
     "pytorch"
    ]
   },
   "outputs": [
    {
     "data": {
      "text/plain": [
       "tensor([[12., 12., 12., 12.],\n",
       "        [12., 12., 12., 12.],\n",
       "        [ 8.,  9., 10., 11.]])"
      ]
     },
     "execution_count": 12,
     "metadata": {},
     "output_type": "execute_result"
    }
   ],
   "source": [
    "X[:2, :] = 12\n",
    "X"
   ]
  },
  {
   "cell_type": "code",
   "execution_count": 13,
   "id": "d1a93a3b",
   "metadata": {
    "execution": {
     "iopub.execute_input": "2022-08-29T07:24:57.191253Z",
     "iopub.status.busy": "2022-08-29T07:24:57.190641Z",
     "iopub.status.idle": "2022-08-29T07:24:57.196468Z",
     "shell.execute_reply": "2022-08-29T07:24:57.195675Z"
    },
    "origin_pos": 53,
    "tab": [
     "pytorch"
    ]
   },
   "outputs": [
    {
     "data": {
      "text/plain": [
       "tensor([162754.7969, 162754.7969, 162754.7969, 162754.7969, 162754.7969,\n",
       "        162754.7969, 162754.7969, 162754.7969,   2980.9580,   8103.0840,\n",
       "         22026.4648,  59874.1406])"
      ]
     },
     "execution_count": 13,
     "metadata": {},
     "output_type": "execute_result"
    }
   ],
   "source": [
    "torch.exp(x)"
   ]
  },
  {
   "cell_type": "code",
   "execution_count": 14,
   "id": "47593ba8",
   "metadata": {
    "execution": {
     "iopub.execute_input": "2022-08-29T07:24:57.199744Z",
     "iopub.status.busy": "2022-08-29T07:24:57.199452Z",
     "iopub.status.idle": "2022-08-29T07:24:57.207973Z",
     "shell.execute_reply": "2022-08-29T07:24:57.207194Z"
    },
    "origin_pos": 57,
    "tab": [
     "pytorch"
    ]
   },
   "outputs": [
    {
     "data": {
      "text/plain": [
       "(tensor([ 3.,  4.,  6., 10.]),\n",
       " tensor([-1.,  0.,  2.,  6.]),\n",
       " tensor([ 2.,  4.,  8., 16.]),\n",
       " tensor([0.5000, 1.0000, 2.0000, 4.0000]),\n",
       " tensor([ 1.,  4., 16., 64.]))"
      ]
     },
     "execution_count": 14,
     "metadata": {},
     "output_type": "execute_result"
    }
   ],
   "source": [
    "x = torch.tensor([1.0, 2, 4, 8])\n",
    "y = torch.tensor([2, 2, 2, 2])\n",
    "x + y, x - y, x * y, x / y, x ** y"
   ]
  },
  {
   "cell_type": "markdown",
   "id": "9b5e68f8",
   "metadata": {
    "slideshow": {
     "slide_type": "slide"
    }
   },
   "source": [
    "*concatenate* multiple tensors together"
   ]
  },
  {
   "cell_type": "code",
   "execution_count": 15,
   "id": "403d0a38",
   "metadata": {
    "execution": {
     "iopub.execute_input": "2022-08-29T07:24:57.211865Z",
     "iopub.status.busy": "2022-08-29T07:24:57.211262Z",
     "iopub.status.idle": "2022-08-29T07:24:57.219883Z",
     "shell.execute_reply": "2022-08-29T07:24:57.219108Z"
    },
    "origin_pos": 61,
    "tab": [
     "pytorch"
    ]
   },
   "outputs": [
    {
     "data": {
      "text/plain": [
       "(tensor([[ 0.,  1.,  2.,  3.],\n",
       "         [ 4.,  5.,  6.,  7.],\n",
       "         [ 8.,  9., 10., 11.],\n",
       "         [ 2.,  1.,  4.,  3.],\n",
       "         [ 1.,  2.,  3.,  4.],\n",
       "         [ 4.,  3.,  2.,  1.]]),\n",
       " tensor([[ 0.,  1.,  2.,  3.,  2.,  1.,  4.,  3.],\n",
       "         [ 4.,  5.,  6.,  7.,  1.,  2.,  3.,  4.],\n",
       "         [ 8.,  9., 10., 11.,  4.,  3.,  2.,  1.]]))"
      ]
     },
     "execution_count": 15,
     "metadata": {},
     "output_type": "execute_result"
    }
   ],
   "source": [
    "X = torch.arange(12, dtype=torch.float32).reshape((3,4))\n",
    "Y = torch.tensor([[2.0, 1, 4, 3], [1, 2, 3, 4], [4, 3, 2, 1]])\n",
    "torch.cat((X, Y), dim=0), torch.cat((X, Y), dim=1)"
   ]
  },
  {
   "cell_type": "markdown",
   "id": "29b86bcd",
   "metadata": {
    "slideshow": {
     "slide_type": "slide"
    }
   },
   "source": [
    "Construct a binary tensor via *logical statements*"
   ]
  },
  {
   "cell_type": "code",
   "execution_count": 16,
   "id": "91fb0e69",
   "metadata": {
    "execution": {
     "iopub.execute_input": "2022-08-29T07:24:57.223521Z",
     "iopub.status.busy": "2022-08-29T07:24:57.222933Z",
     "iopub.status.idle": "2022-08-29T07:24:57.228454Z",
     "shell.execute_reply": "2022-08-29T07:24:57.227679Z"
    },
    "origin_pos": 64,
    "tab": [
     "pytorch"
    ]
   },
   "outputs": [
    {
     "data": {
      "text/plain": [
       "tensor([[False,  True, False,  True],\n",
       "        [False, False, False, False],\n",
       "        [False, False, False, False]])"
      ]
     },
     "execution_count": 16,
     "metadata": {},
     "output_type": "execute_result"
    }
   ],
   "source": [
    "X == Y"
   ]
  },
  {
   "cell_type": "markdown",
   "id": "4399f9f2",
   "metadata": {
    "slideshow": {
     "slide_type": "slide"
    }
   },
   "source": [
    "Summing all the elements in the tensor"
   ]
  },
  {
   "cell_type": "code",
   "execution_count": 17,
   "id": "767e3409",
   "metadata": {
    "execution": {
     "iopub.execute_input": "2022-08-29T07:24:57.232082Z",
     "iopub.status.busy": "2022-08-29T07:24:57.231508Z",
     "iopub.status.idle": "2022-08-29T07:24:57.237079Z",
     "shell.execute_reply": "2022-08-29T07:24:57.236332Z"
    },
    "origin_pos": 66,
    "tab": [
     "pytorch"
    ]
   },
   "outputs": [
    {
     "data": {
      "text/plain": [
       "tensor(66.)"
      ]
     },
     "execution_count": 17,
     "metadata": {},
     "output_type": "execute_result"
    }
   ],
   "source": [
    "X.sum()"
   ]
  },
  {
   "cell_type": "markdown",
   "id": "036c3a13",
   "metadata": {
    "slideshow": {
     "slide_type": "slide"
    }
   },
   "source": [
    "Perform elementwise binary operations\n",
    "by invoking the *broadcasting mechanism*"
   ]
  },
  {
   "cell_type": "code",
   "execution_count": 18,
   "id": "adc64dc9",
   "metadata": {
    "execution": {
     "iopub.execute_input": "2022-08-29T07:24:57.240701Z",
     "iopub.status.busy": "2022-08-29T07:24:57.240126Z",
     "iopub.status.idle": "2022-08-29T07:24:57.246424Z",
     "shell.execute_reply": "2022-08-29T07:24:57.245668Z"
    },
    "origin_pos": 70,
    "tab": [
     "pytorch"
    ]
   },
   "outputs": [
    {
     "data": {
      "text/plain": [
       "(tensor([[0],\n",
       "         [1],\n",
       "         [2]]),\n",
       " tensor([[0, 1]]))"
      ]
     },
     "execution_count": 18,
     "metadata": {},
     "output_type": "execute_result"
    }
   ],
   "source": [
    "a = torch.arange(3).reshape((3, 1))\n",
    "b = torch.arange(2).reshape((1, 2))\n",
    "a, b"
   ]
  },
  {
   "cell_type": "code",
   "execution_count": 19,
   "id": "155c1f43",
   "metadata": {
    "execution": {
     "iopub.execute_input": "2022-08-29T07:24:57.249663Z",
     "iopub.status.busy": "2022-08-29T07:24:57.249371Z",
     "iopub.status.idle": "2022-08-29T07:24:57.255106Z",
     "shell.execute_reply": "2022-08-29T07:24:57.254304Z"
    },
    "origin_pos": 73,
    "tab": [
     "pytorch"
    ]
   },
   "outputs": [
    {
     "data": {
      "text/plain": [
       "tensor([[0, 1],\n",
       "        [1, 2],\n",
       "        [2, 3]])"
      ]
     },
     "execution_count": 19,
     "metadata": {},
     "output_type": "execute_result"
    }
   ],
   "source": [
    "a + b"
   ]
  },
  {
   "cell_type": "markdown",
   "id": "cbb04c93",
   "metadata": {
    "slideshow": {
     "slide_type": "slide"
    }
   },
   "source": [
    "Running operations can cause new memory to be\n",
    "allocated to host results"
   ]
  },
  {
   "cell_type": "code",
   "execution_count": 20,
   "id": "17b87855",
   "metadata": {
    "execution": {
     "iopub.execute_input": "2022-08-29T07:24:57.258331Z",
     "iopub.status.busy": "2022-08-29T07:24:57.258046Z",
     "iopub.status.idle": "2022-08-29T07:24:57.263660Z",
     "shell.execute_reply": "2022-08-29T07:24:57.262880Z"
    },
    "origin_pos": 75,
    "tab": [
     "pytorch"
    ]
   },
   "outputs": [
    {
     "data": {
      "text/plain": [
       "False"
      ]
     },
     "execution_count": 20,
     "metadata": {},
     "output_type": "execute_result"
    }
   ],
   "source": [
    "before = id(Y)\n",
    "Y = Y + X\n",
    "id(Y) == before"
   ]
  },
  {
   "cell_type": "markdown",
   "id": "c23fd5bb",
   "metadata": {
    "slideshow": {
     "slide_type": "-"
    }
   },
   "source": [
    "Performing in-place operations"
   ]
  },
  {
   "cell_type": "code",
   "execution_count": 21,
   "id": "b4b3c905",
   "metadata": {
    "execution": {
     "iopub.execute_input": "2022-08-29T07:24:57.267439Z",
     "iopub.status.busy": "2022-08-29T07:24:57.266740Z",
     "iopub.status.idle": "2022-08-29T07:24:57.273308Z",
     "shell.execute_reply": "2022-08-29T07:24:57.272313Z"
    },
    "origin_pos": 80,
    "tab": [
     "pytorch"
    ]
   },
   "outputs": [
    {
     "name": "stdout",
     "output_type": "stream",
     "text": [
      "id(Z): 140007996874240\n",
      "id(Z): 140007996874240\n"
     ]
    }
   ],
   "source": [
    "Z = torch.zeros_like(Y)\n",
    "print('id(Z):', id(Z))\n",
    "Z[:] = X + Y\n",
    "print('id(Z):', id(Z))"
   ]
  },
  {
   "cell_type": "markdown",
   "id": "55bbb3ad",
   "metadata": {
    "slideshow": {
     "slide_type": "slide"
    }
   },
   "source": [
    "If the value of `X` is not reused in subsequent computations,\n",
    "we can also use `X[:] = X + Y` or `X += Y`\n",
    "to reduce the memory overhead of the operation"
   ]
  },
  {
   "cell_type": "code",
   "execution_count": 22,
   "id": "3fa5c17a",
   "metadata": {
    "execution": {
     "iopub.execute_input": "2022-08-29T07:24:57.277591Z",
     "iopub.status.busy": "2022-08-29T07:24:57.276856Z",
     "iopub.status.idle": "2022-08-29T07:24:57.283672Z",
     "shell.execute_reply": "2022-08-29T07:24:57.282834Z"
    },
    "origin_pos": 84,
    "tab": [
     "pytorch"
    ]
   },
   "outputs": [
    {
     "data": {
      "text/plain": [
       "True"
      ]
     },
     "execution_count": 22,
     "metadata": {},
     "output_type": "execute_result"
    }
   ],
   "source": [
    "before = id(X)\n",
    "X += Y\n",
    "id(X) == before"
   ]
  },
  {
   "cell_type": "markdown",
   "id": "77abbd86",
   "metadata": {
    "slideshow": {
     "slide_type": "slide"
    }
   },
   "source": [
    "Converting to a NumPy tensor (`ndarray`)"
   ]
  },
  {
   "cell_type": "code",
   "execution_count": 23,
   "id": "16fa3030",
   "metadata": {
    "execution": {
     "iopub.execute_input": "2022-08-29T07:24:57.287281Z",
     "iopub.status.busy": "2022-08-29T07:24:57.286754Z",
     "iopub.status.idle": "2022-08-29T07:24:57.292359Z",
     "shell.execute_reply": "2022-08-29T07:24:57.291512Z"
    },
    "origin_pos": 90,
    "tab": [
     "pytorch"
    ]
   },
   "outputs": [
    {
     "data": {
      "text/plain": [
       "(numpy.ndarray, torch.Tensor)"
      ]
     },
     "execution_count": 23,
     "metadata": {},
     "output_type": "execute_result"
    }
   ],
   "source": [
    "A = X.numpy()\n",
    "B = torch.from_numpy(A)\n",
    "type(A), type(B)"
   ]
  },
  {
   "cell_type": "markdown",
   "id": "e76f2148",
   "metadata": {
    "slideshow": {
     "slide_type": "-"
    }
   },
   "source": [
    "Convert a size-1 tensor to a Python scalar"
   ]
  },
  {
   "cell_type": "code",
   "execution_count": 24,
   "id": "52aece0f",
   "metadata": {
    "execution": {
     "iopub.execute_input": "2022-08-29T07:24:57.295787Z",
     "iopub.status.busy": "2022-08-29T07:24:57.295265Z",
     "iopub.status.idle": "2022-08-29T07:24:57.301555Z",
     "shell.execute_reply": "2022-08-29T07:24:57.300721Z"
    },
    "origin_pos": 94,
    "tab": [
     "pytorch"
    ]
   },
   "outputs": [
    {
     "data": {
      "text/plain": [
       "(tensor([3.5000]), 3.5, 3.5, 3)"
      ]
     },
     "execution_count": 24,
     "metadata": {},
     "output_type": "execute_result"
    }
   ],
   "source": [
    "a = torch.tensor([3.5])\n",
    "a, a.item(), float(a), int(a)"
   ]
  }
 ],
 "metadata": {
  "celltoolbar": "Slideshow",
  "language_info": {
   "name": "python"
  },
  "rise": {
   "autolaunch": true,
   "enable_chalkboard": true,
   "overlay": "<div class='my-top-right'><img height=80px src='http://d2l.ai/_static/logo-with-text.png'/></div><div class='my-top-left'></div>",
   "scroll": true
  }
 },
 "nbformat": 4,
 "nbformat_minor": 5
}