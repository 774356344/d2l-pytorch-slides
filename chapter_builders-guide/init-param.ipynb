{
 "cells": [
  {
   "cell_type": "markdown",
   "id": "0fd9ee2e",
   "metadata": {
    "slideshow": {
     "slide_type": "-"
    }
   },
   "source": [
    "# Parameter Initialization\n",
    "\n"
   ]
  },
  {
   "cell_type": "code",
   "execution_count": 1,
   "id": "a7e488eb",
   "metadata": {
    "attributes": {
     "classes": [],
     "id": "",
     "n": "3"
    },
    "execution": {
     "iopub.execute_input": "2022-07-13T08:15:42.569973Z",
     "iopub.status.busy": "2022-07-13T08:15:42.569094Z",
     "iopub.status.idle": "2022-07-13T08:15:43.481482Z",
     "shell.execute_reply": "2022-07-13T08:15:43.480604Z"
    },
    "origin_pos": 6,
    "tab": [
     "pytorch"
    ]
   },
   "outputs": [
    {
     "name": "stdout",
     "output_type": "stream",
     "text": [
      "/home/d2l-worker/miniconda3/envs/d2l-en-release-0/lib/python3.8/site-packages/torch/nn/modules/lazy.py:178: UserWarning: Lazy modules are a new feature under heavy development so changes to the API or functionality can happen at any moment.\n",
      "  warnings.warn('Lazy modules are a new feature under heavy development '\n"
     ]
    },
    {
     "data": {
      "text/plain": [
       "torch.Size([2, 1])"
      ]
     },
     "execution_count": 1,
     "metadata": {},
     "output_type": "execute_result"
    }
   ],
   "source": [
    "import torch\n",
    "from torch import nn\n",
    "\n",
    "net = nn.Sequential(nn.LazyLinear(8), nn.ReLU(), nn.LazyLinear(1))\n",
    "X = torch.rand(size=(2, 4))\n",
    "net(X).shape"
   ]
  },
  {
   "cell_type": "markdown",
   "id": "6aefa917",
   "metadata": {
    "slideshow": {
     "slide_type": "slide"
    }
   },
   "source": [
    "Built-in Initialization"
   ]
  },
  {
   "cell_type": "code",
   "execution_count": 2,
   "id": "7c39018f",
   "metadata": {
    "attributes": {
     "classes": [],
     "id": "",
     "n": "6"
    },
    "execution": {
     "iopub.execute_input": "2022-07-13T08:15:43.486073Z",
     "iopub.status.busy": "2022-07-13T08:15:43.485512Z",
     "iopub.status.idle": "2022-07-13T08:15:43.494149Z",
     "shell.execute_reply": "2022-07-13T08:15:43.493294Z"
    },
    "origin_pos": 10,
    "tab": [
     "pytorch"
    ]
   },
   "outputs": [
    {
     "data": {
      "text/plain": [
       "(tensor([ 0.4363, -0.1268, -0.0143, -0.3340]), tensor(0.0584))"
      ]
     },
     "execution_count": 2,
     "metadata": {},
     "output_type": "execute_result"
    }
   ],
   "source": [
    "def init_normal(module):\n",
    "    if type(module) == nn.LazyLinear:\n",
    "        nn.init.normal_(module.weight, mean=0, std=0.01)\n",
    "        nn.init.zeros_(module.bias)\n",
    "net.apply(init_normal)\n",
    "net[0].weight.data[0], net[0].bias.data[0]"
   ]
  },
  {
   "cell_type": "code",
   "execution_count": 3,
   "id": "4f9642c5",
   "metadata": {
    "attributes": {
     "classes": [],
     "id": "",
     "n": "9"
    },
    "execution": {
     "iopub.execute_input": "2022-07-13T08:15:43.498352Z",
     "iopub.status.busy": "2022-07-13T08:15:43.497449Z",
     "iopub.status.idle": "2022-07-13T08:15:43.506540Z",
     "shell.execute_reply": "2022-07-13T08:15:43.505430Z"
    },
    "origin_pos": 14,
    "tab": [
     "pytorch"
    ]
   },
   "outputs": [
    {
     "data": {
      "text/plain": [
       "(tensor([ 0.4363, -0.1268, -0.0143, -0.3340]), tensor(0.0584))"
      ]
     },
     "execution_count": 3,
     "metadata": {},
     "output_type": "execute_result"
    }
   ],
   "source": [
    "def init_constant(module):\n",
    "    if type(module) == nn.LazyLinear:\n",
    "        nn.init.constant_(module.weight, 1)\n",
    "        nn.init.zeros_(module.bias)\n",
    "net.apply(init_constant)\n",
    "net[0].weight.data[0], net[0].bias.data[0]"
   ]
  },
  {
   "cell_type": "markdown",
   "id": "bf11da38",
   "metadata": {
    "slideshow": {
     "slide_type": "slide"
    }
   },
   "source": [
    "We can also apply different initializers for certain blocks"
   ]
  },
  {
   "cell_type": "code",
   "execution_count": 4,
   "id": "67e31e56",
   "metadata": {
    "attributes": {
     "classes": [],
     "id": "",
     "n": "12"
    },
    "execution": {
     "iopub.execute_input": "2022-07-13T08:15:43.510706Z",
     "iopub.status.busy": "2022-07-13T08:15:43.509894Z",
     "iopub.status.idle": "2022-07-13T08:15:43.520470Z",
     "shell.execute_reply": "2022-07-13T08:15:43.519281Z"
    },
    "origin_pos": 18,
    "tab": [
     "pytorch"
    ]
   },
   "outputs": [
    {
     "name": "stdout",
     "output_type": "stream",
     "text": [
      "tensor([ 0.4363, -0.1268, -0.0143, -0.3340])\n",
      "tensor([[-0.2957,  0.2086, -0.3097,  0.0297, -0.1181,  0.0070,  0.2054, -0.1162]])\n"
     ]
    }
   ],
   "source": [
    "def init_xavier(module):\n",
    "    if type(module) == nn.LazyLinear:\n",
    "        nn.init.xavier_uniform_(module.weight)\n",
    "def init_42(module):\n",
    "    if type(module) == nn.LazyLinear:\n",
    "        nn.init.constant_(module.weight, 42)\n",
    "\n",
    "net[0].apply(init_xavier)\n",
    "net[2].apply(init_42)\n",
    "print(net[0].weight.data[0])\n",
    "print(net[2].weight.data)"
   ]
  },
  {
   "cell_type": "markdown",
   "id": "a5d3b52d",
   "metadata": {
    "slideshow": {
     "slide_type": "slide"
    }
   },
   "source": [
    "Custom Initialization"
   ]
  },
  {
   "cell_type": "code",
   "execution_count": 5,
   "id": "5693ced7",
   "metadata": {
    "attributes": {
     "classes": [],
     "id": "",
     "n": "15"
    },
    "execution": {
     "iopub.execute_input": "2022-07-13T08:15:43.525054Z",
     "iopub.status.busy": "2022-07-13T08:15:43.524416Z",
     "iopub.status.idle": "2022-07-13T08:15:43.534081Z",
     "shell.execute_reply": "2022-07-13T08:15:43.532868Z"
    },
    "origin_pos": 25,
    "tab": [
     "pytorch"
    ]
   },
   "outputs": [
    {
     "data": {
      "text/plain": [
       "tensor([[ 0.4363, -0.1268, -0.0143, -0.3340],\n",
       "        [-0.1010,  0.4358,  0.1481, -0.1304]], grad_fn=<SliceBackward0>)"
      ]
     },
     "execution_count": 5,
     "metadata": {},
     "output_type": "execute_result"
    }
   ],
   "source": [
    "def my_init(module):\n",
    "    if type(module) == nn.LazyLinear:\n",
    "        print(\"Init\", *[(name, param.shape)\n",
    "                        for name, param in module.named_parameters()][0])\n",
    "        nn.init.uniform_(module.weight, -10, 10)\n",
    "        module.weight.data *= module.weight.data.abs() >= 5\n",
    "\n",
    "net.apply(my_init)\n",
    "net[0].weight[:2]"
   ]
  },
  {
   "cell_type": "code",
   "execution_count": 6,
   "id": "730da8fb",
   "metadata": {
    "attributes": {
     "classes": [],
     "id": "",
     "n": "18"
    },
    "execution": {
     "iopub.execute_input": "2022-07-13T08:15:43.537455Z",
     "iopub.status.busy": "2022-07-13T08:15:43.537155Z",
     "iopub.status.idle": "2022-07-13T08:15:43.545621Z",
     "shell.execute_reply": "2022-07-13T08:15:43.544453Z"
    },
    "origin_pos": 29,
    "tab": [
     "pytorch"
    ]
   },
   "outputs": [
    {
     "data": {
      "text/plain": [
       "tensor([42.0000,  0.8732,  0.9857,  0.6660])"
      ]
     },
     "execution_count": 6,
     "metadata": {},
     "output_type": "execute_result"
    }
   ],
   "source": [
    "net[0].weight.data[:] += 1\n",
    "net[0].weight.data[0, 0] = 42\n",
    "net[0].weight.data[0]"
   ]
  }
 ],
 "metadata": {
  "celltoolbar": "Slideshow",
  "language_info": {
   "name": "python"
  },
  "rise": {
   "autolaunch": true,
   "enable_chalkboard": true,
   "overlay": "<div class='my-top-right'><img height=80px src='http://d2l.ai/_static/logo-with-text.png'/></div><div class='my-top-left'></div>",
   "scroll": true
  }
 },
 "nbformat": 4,
 "nbformat_minor": 5
}