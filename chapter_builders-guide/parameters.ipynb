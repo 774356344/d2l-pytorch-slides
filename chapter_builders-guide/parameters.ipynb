{
 "cells": [
  {
   "cell_type": "markdown",
   "id": "1a4277f6",
   "metadata": {
    "slideshow": {
     "slide_type": "-"
    }
   },
   "source": [
    "# Parameter Management\n",
    "\n",
    "We start by focusing on an MLP with one hidden layer"
   ]
  },
  {
   "cell_type": "code",
   "execution_count": 1,
   "id": "c1c65fd6",
   "metadata": {
    "execution": {
     "iopub.execute_input": "2022-08-29T22:12:51.966446Z",
     "iopub.status.busy": "2022-08-29T22:12:51.965746Z",
     "iopub.status.idle": "2022-08-29T22:12:52.851276Z",
     "shell.execute_reply": "2022-08-29T22:12:52.850401Z"
    },
    "origin_pos": 3,
    "tab": [
     "pytorch"
    ]
   },
   "outputs": [
    {
     "name": "stdout",
     "output_type": "stream",
     "text": [
      "/home/d2l-worker/miniconda3/envs/d2l-en-release-0/lib/python3.9/site-packages/torch/nn/modules/lazy.py:178: UserWarning: Lazy modules are a new feature under heavy development so changes to the API or functionality can happen at any moment.\n",
      "  warnings.warn('Lazy modules are a new feature under heavy development '\n"
     ]
    },
    {
     "data": {
      "text/plain": [
       "torch.Size([2, 1])"
      ]
     },
     "execution_count": 1,
     "metadata": {},
     "output_type": "execute_result"
    }
   ],
   "source": [
    "import torch\n",
    "from torch import nn\n",
    "\n",
    "net = nn.Sequential(nn.LazyLinear(8), nn.ReLU(), nn.LazyLinear(1))\n",
    "X = torch.rand(size=(2, 4))\n",
    "net(X).shape"
   ]
  },
  {
   "cell_type": "markdown",
   "id": "7ff68a19",
   "metadata": {
    "slideshow": {
     "slide_type": "slide"
    }
   },
   "source": [
    "Parameter Access"
   ]
  },
  {
   "cell_type": "code",
   "execution_count": 2,
   "id": "1f4d74e9",
   "metadata": {
    "execution": {
     "iopub.execute_input": "2022-08-29T22:12:52.855690Z",
     "iopub.status.busy": "2022-08-29T22:12:52.855343Z",
     "iopub.status.idle": "2022-08-29T22:12:52.862745Z",
     "shell.execute_reply": "2022-08-29T22:12:52.861973Z"
    },
    "origin_pos": 7,
    "tab": [
     "pytorch"
    ]
   },
   "outputs": [
    {
     "data": {
      "text/plain": [
       "OrderedDict([('weight',\n",
       "              tensor([[ 0.3343,  0.1153,  0.2627,  0.2910, -0.2849,  0.3251,  0.2483,  0.3354]])),\n",
       "             ('bias', tensor([-0.1800]))])"
      ]
     },
     "execution_count": 2,
     "metadata": {},
     "output_type": "execute_result"
    }
   ],
   "source": [
    "net[2].state_dict()"
   ]
  },
  {
   "cell_type": "markdown",
   "id": "e70287ea",
   "metadata": {
    "slideshow": {
     "slide_type": "slide"
    }
   },
   "source": [
    "Targeted Parameters"
   ]
  },
  {
   "cell_type": "code",
   "execution_count": 3,
   "id": "ec893aeb",
   "metadata": {
    "execution": {
     "iopub.execute_input": "2022-08-29T22:12:52.865992Z",
     "iopub.status.busy": "2022-08-29T22:12:52.865723Z",
     "iopub.status.idle": "2022-08-29T22:12:52.871898Z",
     "shell.execute_reply": "2022-08-29T22:12:52.871095Z"
    },
    "origin_pos": 11,
    "tab": [
     "pytorch"
    ]
   },
   "outputs": [
    {
     "data": {
      "text/plain": [
       "(torch.nn.parameter.Parameter, tensor([-0.1800]))"
      ]
     },
     "execution_count": 3,
     "metadata": {},
     "output_type": "execute_result"
    }
   ],
   "source": [
    "type(net[2].bias), net[2].bias.data"
   ]
  },
  {
   "cell_type": "code",
   "execution_count": 4,
   "id": "206af565",
   "metadata": {
    "execution": {
     "iopub.execute_input": "2022-08-29T22:12:52.875537Z",
     "iopub.status.busy": "2022-08-29T22:12:52.875263Z",
     "iopub.status.idle": "2022-08-29T22:12:52.880563Z",
     "shell.execute_reply": "2022-08-29T22:12:52.879776Z"
    },
    "origin_pos": 15,
    "tab": [
     "pytorch"
    ]
   },
   "outputs": [
    {
     "data": {
      "text/plain": [
       "True"
      ]
     },
     "execution_count": 4,
     "metadata": {},
     "output_type": "execute_result"
    }
   ],
   "source": [
    "net[2].weight.grad == None"
   ]
  },
  {
   "cell_type": "markdown",
   "id": "ce07aa53",
   "metadata": {
    "slideshow": {
     "slide_type": "slide"
    }
   },
   "source": [
    "All Parameters at Once"
   ]
  },
  {
   "cell_type": "code",
   "execution_count": 5,
   "id": "bc2ee999",
   "metadata": {
    "execution": {
     "iopub.execute_input": "2022-08-29T22:12:52.883717Z",
     "iopub.status.busy": "2022-08-29T22:12:52.883449Z",
     "iopub.status.idle": "2022-08-29T22:12:52.889185Z",
     "shell.execute_reply": "2022-08-29T22:12:52.888440Z"
    },
    "origin_pos": 18,
    "tab": [
     "pytorch"
    ]
   },
   "outputs": [
    {
     "data": {
      "text/plain": [
       "[('0.weight', torch.Size([8, 4])),\n",
       " ('0.bias', torch.Size([8])),\n",
       " ('2.weight', torch.Size([1, 8])),\n",
       " ('2.bias', torch.Size([1]))]"
      ]
     },
     "execution_count": 5,
     "metadata": {},
     "output_type": "execute_result"
    }
   ],
   "source": [
    "[(name, param.shape) for name, param in net.named_parameters()]"
   ]
  },
  {
   "cell_type": "markdown",
   "id": "1c1c460a",
   "metadata": {
    "slideshow": {
     "slide_type": "slide"
    }
   },
   "source": [
    "Tied Parameters"
   ]
  },
  {
   "cell_type": "code",
   "execution_count": 6,
   "id": "ff81d7f7",
   "metadata": {
    "execution": {
     "iopub.execute_input": "2022-08-29T22:12:52.892314Z",
     "iopub.status.busy": "2022-08-29T22:12:52.892044Z",
     "iopub.status.idle": "2022-08-29T22:12:52.900862Z",
     "shell.execute_reply": "2022-08-29T22:12:52.900070Z"
    },
    "origin_pos": 22,
    "tab": [
     "pytorch"
    ]
   },
   "outputs": [
    {
     "name": "stdout",
     "output_type": "stream",
     "text": [
      "tensor([True, True, True, True, True, True, True, True])\n",
      "tensor([True, True, True, True, True, True, True, True])\n"
     ]
    }
   ],
   "source": [
    "shared = nn.LazyLinear(8)\n",
    "net = nn.Sequential(nn.LazyLinear(8), nn.ReLU(),\n",
    "                    shared, nn.ReLU(),\n",
    "                    shared, nn.ReLU(),\n",
    "                    nn.LazyLinear(1))\n",
    "net(X)\n",
    "print(net[2].weight.data[0] == net[4].weight.data[0])\n",
    "net[2].weight.data[0, 0] = 100\n",
    "print(net[2].weight.data[0] == net[4].weight.data[0])"
   ]
  }
 ],
 "metadata": {
  "celltoolbar": "Slideshow",
  "language_info": {
   "name": "python"
  },
  "rise": {
   "autolaunch": true,
   "enable_chalkboard": true,
   "overlay": "<div class='my-top-right'><img height=80px src='http://d2l.ai/_static/logo-with-text.png'/></div><div class='my-top-left'></div>",
   "scroll": true
  }
 },
 "nbformat": 4,
 "nbformat_minor": 5
}