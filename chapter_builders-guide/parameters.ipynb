{
 "cells": [
  {
   "cell_type": "markdown",
   "id": "6403e47b",
   "metadata": {
    "slideshow": {
     "slide_type": "-"
    }
   },
   "source": [
    "# Parameter Management\n",
    "\n",
    "We start by focusing on an MLP with one hidden layer"
   ]
  },
  {
   "cell_type": "code",
   "execution_count": 1,
   "id": "f93d52d6",
   "metadata": {
    "execution": {
     "iopub.execute_input": "2022-07-13T08:03:08.882663Z",
     "iopub.status.busy": "2022-07-13T08:03:08.881992Z",
     "iopub.status.idle": "2022-07-13T08:03:09.746987Z",
     "shell.execute_reply": "2022-07-13T08:03:09.746090Z"
    },
    "origin_pos": 3,
    "tab": [
     "pytorch"
    ]
   },
   "outputs": [
    {
     "name": "stdout",
     "output_type": "stream",
     "text": [
      "/home/d2l-worker/miniconda3/envs/d2l-en-release-1/lib/python3.8/site-packages/torch/nn/modules/lazy.py:178: UserWarning: Lazy modules are a new feature under heavy development so changes to the API or functionality can happen at any moment.\n",
      "  warnings.warn('Lazy modules are a new feature under heavy development '\n"
     ]
    },
    {
     "data": {
      "text/plain": [
       "torch.Size([2, 1])"
      ]
     },
     "execution_count": 1,
     "metadata": {},
     "output_type": "execute_result"
    }
   ],
   "source": [
    "import torch\n",
    "from torch import nn\n",
    "\n",
    "net = nn.Sequential(nn.LazyLinear(8), nn.ReLU(), nn.LazyLinear(1))\n",
    "X = torch.rand(size=(2, 4))\n",
    "net(X).shape"
   ]
  },
  {
   "cell_type": "markdown",
   "id": "8605e447",
   "metadata": {
    "slideshow": {
     "slide_type": "slide"
    }
   },
   "source": [
    "Parameter Access"
   ]
  },
  {
   "cell_type": "code",
   "execution_count": 2,
   "id": "338bde6d",
   "metadata": {
    "execution": {
     "iopub.execute_input": "2022-07-13T08:03:09.755371Z",
     "iopub.status.busy": "2022-07-13T08:03:09.754833Z",
     "iopub.status.idle": "2022-07-13T08:03:09.762510Z",
     "shell.execute_reply": "2022-07-13T08:03:09.761707Z"
    },
    "origin_pos": 7,
    "tab": [
     "pytorch"
    ]
   },
   "outputs": [
    {
     "data": {
      "text/plain": [
       "OrderedDict([('weight',\n",
       "              tensor([[ 0.1198, -0.2152,  0.0656, -0.1944,  0.3139,  0.2708,  0.3222,  0.3448]])),\n",
       "             ('bias', tensor([0.2444]))])"
      ]
     },
     "execution_count": 2,
     "metadata": {},
     "output_type": "execute_result"
    }
   ],
   "source": [
    "net[2].state_dict()"
   ]
  },
  {
   "cell_type": "markdown",
   "id": "7a6440bd",
   "metadata": {
    "slideshow": {
     "slide_type": "slide"
    }
   },
   "source": [
    "Targeted Parameters"
   ]
  },
  {
   "cell_type": "code",
   "execution_count": 3,
   "id": "a8ab4114",
   "metadata": {
    "execution": {
     "iopub.execute_input": "2022-07-13T08:03:09.767217Z",
     "iopub.status.busy": "2022-07-13T08:03:09.766717Z",
     "iopub.status.idle": "2022-07-13T08:03:09.773118Z",
     "shell.execute_reply": "2022-07-13T08:03:09.772274Z"
    },
    "origin_pos": 11,
    "tab": [
     "pytorch"
    ]
   },
   "outputs": [
    {
     "data": {
      "text/plain": [
       "(torch.nn.parameter.Parameter, tensor([0.2444]))"
      ]
     },
     "execution_count": 3,
     "metadata": {},
     "output_type": "execute_result"
    }
   ],
   "source": [
    "type(net[2].bias), net[2].bias.data"
   ]
  },
  {
   "cell_type": "code",
   "execution_count": 4,
   "id": "22536aeb",
   "metadata": {
    "execution": {
     "iopub.execute_input": "2022-07-13T08:03:09.776815Z",
     "iopub.status.busy": "2022-07-13T08:03:09.776256Z",
     "iopub.status.idle": "2022-07-13T08:03:09.781694Z",
     "shell.execute_reply": "2022-07-13T08:03:09.780869Z"
    },
    "origin_pos": 15,
    "tab": [
     "pytorch"
    ]
   },
   "outputs": [
    {
     "data": {
      "text/plain": [
       "True"
      ]
     },
     "execution_count": 4,
     "metadata": {},
     "output_type": "execute_result"
    }
   ],
   "source": [
    "net[2].weight.grad == None"
   ]
  },
  {
   "cell_type": "markdown",
   "id": "411a212a",
   "metadata": {
    "slideshow": {
     "slide_type": "slide"
    }
   },
   "source": [
    "All Parameters at Once"
   ]
  },
  {
   "cell_type": "code",
   "execution_count": 5,
   "id": "2baf1706",
   "metadata": {
    "execution": {
     "iopub.execute_input": "2022-07-13T08:03:09.785302Z",
     "iopub.status.busy": "2022-07-13T08:03:09.784746Z",
     "iopub.status.idle": "2022-07-13T08:03:09.790733Z",
     "shell.execute_reply": "2022-07-13T08:03:09.789891Z"
    },
    "origin_pos": 18,
    "tab": [
     "pytorch"
    ]
   },
   "outputs": [
    {
     "data": {
      "text/plain": [
       "[('0.weight', torch.Size([8, 4])),\n",
       " ('0.bias', torch.Size([8])),\n",
       " ('2.weight', torch.Size([1, 8])),\n",
       " ('2.bias', torch.Size([1]))]"
      ]
     },
     "execution_count": 5,
     "metadata": {},
     "output_type": "execute_result"
    }
   ],
   "source": [
    "[(name, param.shape) for name, param in net.named_parameters()]"
   ]
  },
  {
   "cell_type": "markdown",
   "id": "20346728",
   "metadata": {
    "slideshow": {
     "slide_type": "slide"
    }
   },
   "source": [
    "Tied Parameters"
   ]
  },
  {
   "cell_type": "code",
   "execution_count": 6,
   "id": "3a307581",
   "metadata": {
    "execution": {
     "iopub.execute_input": "2022-07-13T08:03:09.794306Z",
     "iopub.status.busy": "2022-07-13T08:03:09.793663Z",
     "iopub.status.idle": "2022-07-13T08:03:09.802910Z",
     "shell.execute_reply": "2022-07-13T08:03:09.802061Z"
    },
    "origin_pos": 22,
    "tab": [
     "pytorch"
    ]
   },
   "outputs": [
    {
     "name": "stdout",
     "output_type": "stream",
     "text": [
      "tensor([True, True, True, True, True, True, True, True])\n",
      "tensor([True, True, True, True, True, True, True, True])\n"
     ]
    }
   ],
   "source": [
    "shared = nn.LazyLinear(8)\n",
    "net = nn.Sequential(nn.LazyLinear(8), nn.ReLU(),\n",
    "                    shared, nn.ReLU(),\n",
    "                    shared, nn.ReLU(),\n",
    "                    nn.LazyLinear(1))\n",
    "net(X)\n",
    "print(net[2].weight.data[0] == net[4].weight.data[0])\n",
    "net[2].weight.data[0, 0] = 100\n",
    "print(net[2].weight.data[0] == net[4].weight.data[0])"
   ]
  }
 ],
 "metadata": {
  "celltoolbar": "Slideshow",
  "language_info": {
   "name": "python"
  },
  "rise": {
   "autolaunch": true,
   "enable_chalkboard": true,
   "overlay": "<div class='my-top-right'><img height=80px src='http://d2l.ai/_static/logo-with-text.png'/></div><div class='my-top-left'></div>",
   "scroll": true
  }
 },
 "nbformat": 4,
 "nbformat_minor": 5
}