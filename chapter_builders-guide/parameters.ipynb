{
 "cells": [
  {
   "cell_type": "markdown",
   "id": "d35ae471",
   "metadata": {
    "slideshow": {
     "slide_type": "-"
    }
   },
   "source": [
    "# Parameter Management\n",
    "\n",
    "We start by focusing on an MLP with one hidden layer"
   ]
  },
  {
   "cell_type": "code",
   "execution_count": 1,
   "id": "be8f7427",
   "metadata": {
    "execution": {
     "iopub.execute_input": "2022-07-13T08:09:47.418095Z",
     "iopub.status.busy": "2022-07-13T08:09:47.417511Z",
     "iopub.status.idle": "2022-07-13T08:09:48.311835Z",
     "shell.execute_reply": "2022-07-13T08:09:48.310919Z"
    },
    "origin_pos": 3,
    "tab": [
     "pytorch"
    ]
   },
   "outputs": [
    {
     "name": "stdout",
     "output_type": "stream",
     "text": [
      "/home/d2l-worker/miniconda3/envs/d2l-en-release-0/lib/python3.8/site-packages/torch/nn/modules/lazy.py:178: UserWarning: Lazy modules are a new feature under heavy development so changes to the API or functionality can happen at any moment.\n",
      "  warnings.warn('Lazy modules are a new feature under heavy development '\n"
     ]
    },
    {
     "data": {
      "text/plain": [
       "torch.Size([2, 1])"
      ]
     },
     "execution_count": 1,
     "metadata": {},
     "output_type": "execute_result"
    }
   ],
   "source": [
    "import torch\n",
    "from torch import nn\n",
    "\n",
    "net = nn.Sequential(nn.LazyLinear(8), nn.ReLU(), nn.LazyLinear(1))\n",
    "X = torch.rand(size=(2, 4))\n",
    "net(X).shape"
   ]
  },
  {
   "cell_type": "markdown",
   "id": "f409a109",
   "metadata": {
    "slideshow": {
     "slide_type": "slide"
    }
   },
   "source": [
    "Parameter Access"
   ]
  },
  {
   "cell_type": "code",
   "execution_count": 2,
   "id": "e2aa38b9",
   "metadata": {
    "execution": {
     "iopub.execute_input": "2022-07-13T08:09:48.315475Z",
     "iopub.status.busy": "2022-07-13T08:09:48.315082Z",
     "iopub.status.idle": "2022-07-13T08:09:48.322791Z",
     "shell.execute_reply": "2022-07-13T08:09:48.321976Z"
    },
    "origin_pos": 7,
    "tab": [
     "pytorch"
    ]
   },
   "outputs": [
    {
     "data": {
      "text/plain": [
       "OrderedDict([('weight',\n",
       "              tensor([[-0.2067, -0.3326, -0.2806, -0.0525,  0.0306,  0.0665, -0.0704, -0.3219]])),\n",
       "             ('bias', tensor([0.0025]))])"
      ]
     },
     "execution_count": 2,
     "metadata": {},
     "output_type": "execute_result"
    }
   ],
   "source": [
    "net[2].state_dict()"
   ]
  },
  {
   "cell_type": "markdown",
   "id": "81c4271e",
   "metadata": {
    "slideshow": {
     "slide_type": "slide"
    }
   },
   "source": [
    "Targeted Parameters"
   ]
  },
  {
   "cell_type": "code",
   "execution_count": 3,
   "id": "1ef207ea",
   "metadata": {
    "execution": {
     "iopub.execute_input": "2022-07-13T08:09:48.326023Z",
     "iopub.status.busy": "2022-07-13T08:09:48.325736Z",
     "iopub.status.idle": "2022-07-13T08:09:48.331958Z",
     "shell.execute_reply": "2022-07-13T08:09:48.331076Z"
    },
    "origin_pos": 11,
    "tab": [
     "pytorch"
    ]
   },
   "outputs": [
    {
     "data": {
      "text/plain": [
       "(torch.nn.parameter.Parameter, tensor([0.0025]))"
      ]
     },
     "execution_count": 3,
     "metadata": {},
     "output_type": "execute_result"
    }
   ],
   "source": [
    "type(net[2].bias), net[2].bias.data"
   ]
  },
  {
   "cell_type": "code",
   "execution_count": 4,
   "id": "4839089b",
   "metadata": {
    "execution": {
     "iopub.execute_input": "2022-07-13T08:09:48.335160Z",
     "iopub.status.busy": "2022-07-13T08:09:48.334848Z",
     "iopub.status.idle": "2022-07-13T08:09:48.340310Z",
     "shell.execute_reply": "2022-07-13T08:09:48.339467Z"
    },
    "origin_pos": 15,
    "tab": [
     "pytorch"
    ]
   },
   "outputs": [
    {
     "data": {
      "text/plain": [
       "True"
      ]
     },
     "execution_count": 4,
     "metadata": {},
     "output_type": "execute_result"
    }
   ],
   "source": [
    "net[2].weight.grad == None"
   ]
  },
  {
   "cell_type": "markdown",
   "id": "64937cb4",
   "metadata": {
    "slideshow": {
     "slide_type": "slide"
    }
   },
   "source": [
    "All Parameters at Once"
   ]
  },
  {
   "cell_type": "code",
   "execution_count": 5,
   "id": "524eb2cd",
   "metadata": {
    "execution": {
     "iopub.execute_input": "2022-07-13T08:09:48.344004Z",
     "iopub.status.busy": "2022-07-13T08:09:48.343300Z",
     "iopub.status.idle": "2022-07-13T08:09:48.349209Z",
     "shell.execute_reply": "2022-07-13T08:09:48.348245Z"
    },
    "origin_pos": 18,
    "tab": [
     "pytorch"
    ]
   },
   "outputs": [
    {
     "data": {
      "text/plain": [
       "[('0.weight', torch.Size([8, 4])),\n",
       " ('0.bias', torch.Size([8])),\n",
       " ('2.weight', torch.Size([1, 8])),\n",
       " ('2.bias', torch.Size([1]))]"
      ]
     },
     "execution_count": 5,
     "metadata": {},
     "output_type": "execute_result"
    }
   ],
   "source": [
    "[(name, param.shape) for name, param in net.named_parameters()]"
   ]
  },
  {
   "cell_type": "markdown",
   "id": "7f307ed3",
   "metadata": {
    "slideshow": {
     "slide_type": "slide"
    }
   },
   "source": [
    "Tied Parameters"
   ]
  },
  {
   "cell_type": "code",
   "execution_count": 6,
   "id": "b1c9df33",
   "metadata": {
    "execution": {
     "iopub.execute_input": "2022-07-13T08:09:48.353185Z",
     "iopub.status.busy": "2022-07-13T08:09:48.352299Z",
     "iopub.status.idle": "2022-07-13T08:09:48.361397Z",
     "shell.execute_reply": "2022-07-13T08:09:48.360562Z"
    },
    "origin_pos": 22,
    "tab": [
     "pytorch"
    ]
   },
   "outputs": [
    {
     "name": "stdout",
     "output_type": "stream",
     "text": [
      "tensor([True, True, True, True, True, True, True, True])\n",
      "tensor([True, True, True, True, True, True, True, True])\n"
     ]
    }
   ],
   "source": [
    "shared = nn.LazyLinear(8)\n",
    "net = nn.Sequential(nn.LazyLinear(8), nn.ReLU(),\n",
    "                    shared, nn.ReLU(),\n",
    "                    shared, nn.ReLU(),\n",
    "                    nn.LazyLinear(1))\n",
    "net(X)\n",
    "print(net[2].weight.data[0] == net[4].weight.data[0])\n",
    "net[2].weight.data[0, 0] = 100\n",
    "print(net[2].weight.data[0] == net[4].weight.data[0])"
   ]
  }
 ],
 "metadata": {
  "celltoolbar": "Slideshow",
  "language_info": {
   "name": "python"
  },
  "rise": {
   "autolaunch": true,
   "enable_chalkboard": true,
   "overlay": "<div class='my-top-right'><img height=80px src='http://d2l.ai/_static/logo-with-text.png'/></div><div class='my-top-left'></div>",
   "scroll": true
  }
 },
 "nbformat": 4,
 "nbformat_minor": 5
}