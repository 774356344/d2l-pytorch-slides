{
 "cells": [
  {
   "cell_type": "markdown",
   "id": "eadbf7e9",
   "metadata": {
    "slideshow": {
     "slide_type": "-"
    }
   },
   "source": [
    "# Custom Layers\n",
    "\n",
    "Layers without Parameters"
   ]
  },
  {
   "cell_type": "code",
   "execution_count": 2,
   "id": "a2fe6434",
   "metadata": {
    "execution": {
     "iopub.execute_input": "2022-09-07T22:03:45.825229Z",
     "iopub.status.busy": "2022-09-07T22:03:45.824561Z",
     "iopub.status.idle": "2022-09-07T22:03:45.854935Z",
     "shell.execute_reply": "2022-09-07T22:03:45.854115Z"
    },
    "origin_pos": 6,
    "tab": [
     "pytorch"
    ]
   },
   "outputs": [
    {
     "data": {
      "text/plain": [
       "tensor([-2., -1.,  0.,  1.,  2.])"
      ]
     },
     "execution_count": 2,
     "metadata": {},
     "output_type": "execute_result"
    }
   ],
   "source": [
    "import torch\n",
    "from torch import nn\n",
    "from torch.nn import functional as F\n",
    "from d2l import torch as d2l\n",
    "\n",
    "\n",
    "class CenteredLayer(nn.Module):\n",
    "    def __init__(self):\n",
    "        super().__init__()\n",
    "\n",
    "    def forward(self, X):\n",
    "        return X - X.mean()\n",
    "\n",
    "layer = CenteredLayer()\n",
    "layer(torch.tensor([1.0, 2, 3, 4, 5]))"
   ]
  },
  {
   "cell_type": "markdown",
   "id": "cea4df80",
   "metadata": {
    "slideshow": {
     "slide_type": "slide"
    }
   },
   "source": [
    "Incorporate our layer as a component\n",
    "in constructing more complex models"
   ]
  },
  {
   "cell_type": "code",
   "execution_count": 3,
   "id": "ad437e03",
   "metadata": {
    "execution": {
     "iopub.execute_input": "2022-09-07T22:03:45.860886Z",
     "iopub.status.busy": "2022-09-07T22:03:45.860220Z",
     "iopub.status.idle": "2022-09-07T22:03:45.866181Z",
     "shell.execute_reply": "2022-09-07T22:03:45.865381Z"
    },
    "origin_pos": 9,
    "tab": [
     "pytorch"
    ]
   },
   "outputs": [
    {
     "name": "stdout",
     "output_type": "stream",
     "text": [
      "/home/d2l-worker/miniconda3/envs/d2l-en-release-0/lib/python3.9/site-packages/torch/nn/modules/lazy.py:178: UserWarning: Lazy modules are a new feature under heavy development so changes to the API or functionality can happen at any moment.\n",
      "  warnings.warn('Lazy modules are a new feature under heavy development '\n"
     ]
    }
   ],
   "source": [
    "net = nn.Sequential(nn.LazyLinear(128), CenteredLayer())"
   ]
  },
  {
   "cell_type": "code",
   "execution_count": 4,
   "id": "082ddbbc",
   "metadata": {
    "execution": {
     "iopub.execute_input": "2022-09-07T22:03:45.870699Z",
     "iopub.status.busy": "2022-09-07T22:03:45.870174Z",
     "iopub.status.idle": "2022-09-07T22:03:45.877660Z",
     "shell.execute_reply": "2022-09-07T22:03:45.876708Z"
    },
    "origin_pos": 12,
    "tab": [
     "pytorch"
    ]
   },
   "outputs": [
    {
     "data": {
      "text/plain": [
       "tensor(-9.3132e-10, grad_fn=<MeanBackward0>)"
      ]
     },
     "execution_count": 4,
     "metadata": {},
     "output_type": "execute_result"
    }
   ],
   "source": [
    "Y = net(torch.rand(4, 8))\n",
    "Y.mean()"
   ]
  },
  {
   "cell_type": "markdown",
   "id": "f27cb399",
   "metadata": {
    "slideshow": {
     "slide_type": "slide"
    }
   },
   "source": [
    "Layers with Parameters"
   ]
  },
  {
   "cell_type": "code",
   "execution_count": 6,
   "id": "44ae1f6b",
   "metadata": {
    "execution": {
     "iopub.execute_input": "2022-09-07T22:03:45.894348Z",
     "iopub.status.busy": "2022-09-07T22:03:45.893524Z",
     "iopub.status.idle": "2022-09-07T22:03:45.900410Z",
     "shell.execute_reply": "2022-09-07T22:03:45.899559Z"
    },
    "origin_pos": 21,
    "tab": [
     "pytorch"
    ]
   },
   "outputs": [
    {
     "data": {
      "text/plain": [
       "Parameter containing:\n",
       "tensor([[ 0.2803,  0.4214,  0.1135],\n",
       "        [-1.6947,  0.4963, -0.1225],\n",
       "        [-1.1451, -0.6529, -0.9109],\n",
       "        [-1.2034,  0.7811,  0.0789],\n",
       "        [ 1.1655,  2.1892,  1.7039]], requires_grad=True)"
      ]
     },
     "execution_count": 6,
     "metadata": {},
     "output_type": "execute_result"
    }
   ],
   "source": [
    "class MyLinear(nn.Module):\n",
    "    def __init__(self, in_units, units):\n",
    "        super().__init__()\n",
    "        self.weight = nn.Parameter(torch.randn(in_units, units))\n",
    "        self.bias = nn.Parameter(torch.randn(units,))\n",
    "\n",
    "    def forward(self, X):\n",
    "        linear = torch.matmul(X, self.weight.data) + self.bias.data\n",
    "        return F.relu(linear)\n",
    "\n",
    "linear = MyLinear(5, 3)\n",
    "linear.weight"
   ]
  },
  {
   "cell_type": "markdown",
   "id": "2b143fe3",
   "metadata": {
    "slideshow": {
     "slide_type": "slide"
    }
   },
   "source": [
    "Directly carry out forward propagation calculations using custom layers"
   ]
  },
  {
   "cell_type": "code",
   "execution_count": 7,
   "id": "229181ad",
   "metadata": {
    "execution": {
     "iopub.execute_input": "2022-09-07T22:03:45.905161Z",
     "iopub.status.busy": "2022-09-07T22:03:45.904623Z",
     "iopub.status.idle": "2022-09-07T22:03:45.913350Z",
     "shell.execute_reply": "2022-09-07T22:03:45.912279Z"
    },
    "origin_pos": 25,
    "tab": [
     "pytorch"
    ]
   },
   "outputs": [
    {
     "data": {
      "text/plain": [
       "tensor([[0.0000, 1.3874, 0.0000],\n",
       "        [0.0000, 1.8211, 0.0000]])"
      ]
     },
     "execution_count": 7,
     "metadata": {},
     "output_type": "execute_result"
    }
   ],
   "source": [
    "linear(torch.rand(2, 5))"
   ]
  },
  {
   "cell_type": "markdown",
   "id": "666ce7c7",
   "metadata": {
    "slideshow": {
     "slide_type": "-"
    }
   },
   "source": [
    "Construct models using custom layers"
   ]
  },
  {
   "cell_type": "code",
   "execution_count": 8,
   "id": "5853c0a8",
   "metadata": {
    "execution": {
     "iopub.execute_input": "2022-09-07T22:03:45.917284Z",
     "iopub.status.busy": "2022-09-07T22:03:45.916454Z",
     "iopub.status.idle": "2022-09-07T22:03:45.924589Z",
     "shell.execute_reply": "2022-09-07T22:03:45.923511Z"
    },
    "origin_pos": 29,
    "tab": [
     "pytorch"
    ]
   },
   "outputs": [
    {
     "data": {
      "text/plain": [
       "tensor([[8.4128],\n",
       "        [5.0333]])"
      ]
     },
     "execution_count": 8,
     "metadata": {},
     "output_type": "execute_result"
    }
   ],
   "source": [
    "net = nn.Sequential(MyLinear(64, 8), MyLinear(8, 1))\n",
    "net(torch.rand(2, 64))"
   ]
  }
 ],
 "metadata": {
  "celltoolbar": "Slideshow",
  "language_info": {
   "name": "python"
  },
  "rise": {
   "autolaunch": true,
   "enable_chalkboard": true,
   "overlay": "<div class='my-top-right'><img height=80px src='http://d2l.ai/_static/logo-with-text.png'/></div><div class='my-top-left'></div>",
   "scroll": true
  }
 },
 "nbformat": 4,
 "nbformat_minor": 5
}