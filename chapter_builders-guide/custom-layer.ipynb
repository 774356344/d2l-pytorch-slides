{
 "cells": [
  {
   "cell_type": "markdown",
   "id": "6be5b247",
   "metadata": {
    "slideshow": {
     "slide_type": "-"
    }
   },
   "source": [
    "# Custom Layers\n",
    "\n",
    "Layers without Parameters"
   ]
  },
  {
   "cell_type": "code",
   "execution_count": 2,
   "id": "cffb0365",
   "metadata": {
    "execution": {
     "iopub.execute_input": "2022-08-19T17:21:30.918176Z",
     "iopub.status.busy": "2022-08-19T17:21:30.917647Z",
     "iopub.status.idle": "2022-08-19T17:21:30.946178Z",
     "shell.execute_reply": "2022-08-19T17:21:30.945412Z"
    },
    "origin_pos": 6,
    "tab": [
     "pytorch"
    ]
   },
   "outputs": [
    {
     "data": {
      "text/plain": [
       "tensor([-2., -1.,  0.,  1.,  2.])"
      ]
     },
     "execution_count": 2,
     "metadata": {},
     "output_type": "execute_result"
    }
   ],
   "source": [
    "import torch\n",
    "from torch import nn\n",
    "from torch.nn import functional as F\n",
    "from d2l import torch as d2l\n",
    "\n",
    "\n",
    "class CenteredLayer(nn.Module):\n",
    "    def __init__(self):\n",
    "        super().__init__()\n",
    "\n",
    "    def forward(self, X):\n",
    "        return X - X.mean()\n",
    "\n",
    "layer = CenteredLayer()\n",
    "layer(torch.tensor([1.0, 2, 3, 4, 5]))"
   ]
  },
  {
   "cell_type": "markdown",
   "id": "3603d592",
   "metadata": {
    "slideshow": {
     "slide_type": "slide"
    }
   },
   "source": [
    "Incorporate our layer as a component\n",
    "in constructing more complex models"
   ]
  },
  {
   "cell_type": "code",
   "execution_count": 3,
   "id": "9ae7592b",
   "metadata": {
    "execution": {
     "iopub.execute_input": "2022-08-19T17:21:30.949663Z",
     "iopub.status.busy": "2022-08-19T17:21:30.949230Z",
     "iopub.status.idle": "2022-08-19T17:21:30.954682Z",
     "shell.execute_reply": "2022-08-19T17:21:30.953845Z"
    },
    "origin_pos": 9,
    "tab": [
     "pytorch"
    ]
   },
   "outputs": [
    {
     "name": "stdout",
     "output_type": "stream",
     "text": [
      "/home/d2l-worker/miniconda3/envs/d2l-en-release-1/lib/python3.8/site-packages/torch/nn/modules/lazy.py:178: UserWarning: Lazy modules are a new feature under heavy development so changes to the API or functionality can happen at any moment.\n",
      "  warnings.warn('Lazy modules are a new feature under heavy development '\n"
     ]
    }
   ],
   "source": [
    "net = nn.Sequential(nn.LazyLinear(128), CenteredLayer())"
   ]
  },
  {
   "cell_type": "code",
   "execution_count": 4,
   "id": "da3118c9",
   "metadata": {
    "execution": {
     "iopub.execute_input": "2022-08-19T17:21:30.957981Z",
     "iopub.status.busy": "2022-08-19T17:21:30.957566Z",
     "iopub.status.idle": "2022-08-19T17:21:30.963828Z",
     "shell.execute_reply": "2022-08-19T17:21:30.963021Z"
    },
    "origin_pos": 12,
    "tab": [
     "pytorch"
    ]
   },
   "outputs": [
    {
     "data": {
      "text/plain": [
       "tensor(0., grad_fn=<MeanBackward0>)"
      ]
     },
     "execution_count": 4,
     "metadata": {},
     "output_type": "execute_result"
    }
   ],
   "source": [
    "Y = net(torch.rand(4, 8))\n",
    "Y.mean()"
   ]
  },
  {
   "cell_type": "markdown",
   "id": "bbc9ac58",
   "metadata": {
    "slideshow": {
     "slide_type": "slide"
    }
   },
   "source": [
    "Layers with Parameters"
   ]
  },
  {
   "cell_type": "code",
   "execution_count": 6,
   "id": "55c57e26",
   "metadata": {
    "execution": {
     "iopub.execute_input": "2022-08-19T17:21:30.975336Z",
     "iopub.status.busy": "2022-08-19T17:21:30.975062Z",
     "iopub.status.idle": "2022-08-19T17:21:30.982827Z",
     "shell.execute_reply": "2022-08-19T17:21:30.981671Z"
    },
    "origin_pos": 21,
    "tab": [
     "pytorch"
    ]
   },
   "outputs": [
    {
     "data": {
      "text/plain": [
       "Parameter containing:\n",
       "tensor([[-0.1768,  0.5718,  1.3372],\n",
       "        [-0.0800, -0.3124,  0.5639],\n",
       "        [ 1.0192,  1.8009,  1.0995],\n",
       "        [ 1.2927,  2.0420, -0.0564],\n",
       "        [-1.1036,  1.4116,  1.9683]], requires_grad=True)"
      ]
     },
     "execution_count": 6,
     "metadata": {},
     "output_type": "execute_result"
    }
   ],
   "source": [
    "class MyLinear(nn.Module):\n",
    "    def __init__(self, in_units, units):\n",
    "        super().__init__()\n",
    "        self.weight = nn.Parameter(torch.randn(in_units, units))\n",
    "        self.bias = nn.Parameter(torch.randn(units,))\n",
    "\n",
    "    def forward(self, X):\n",
    "        linear = torch.matmul(X, self.weight.data) + self.bias.data\n",
    "        return F.relu(linear)\n",
    "\n",
    "linear = MyLinear(5, 3)\n",
    "linear.weight"
   ]
  },
  {
   "cell_type": "markdown",
   "id": "6cf7a174",
   "metadata": {
    "slideshow": {
     "slide_type": "slide"
    }
   },
   "source": [
    "Directly carry out forward propagation calculations using custom layers"
   ]
  },
  {
   "cell_type": "code",
   "execution_count": 7,
   "id": "12ca0e30",
   "metadata": {
    "execution": {
     "iopub.execute_input": "2022-08-19T17:21:30.985871Z",
     "iopub.status.busy": "2022-08-19T17:21:30.985600Z",
     "iopub.status.idle": "2022-08-19T17:21:30.992986Z",
     "shell.execute_reply": "2022-08-19T17:21:30.991919Z"
    },
    "origin_pos": 25,
    "tab": [
     "pytorch"
    ]
   },
   "outputs": [
    {
     "data": {
      "text/plain": [
       "tensor([[0.0000, 3.3582, 1.4402],\n",
       "        [0.2795, 3.7836, 0.7976]])"
      ]
     },
     "execution_count": 7,
     "metadata": {},
     "output_type": "execute_result"
    }
   ],
   "source": [
    "linear(torch.rand(2, 5))"
   ]
  },
  {
   "cell_type": "markdown",
   "id": "70290557",
   "metadata": {
    "slideshow": {
     "slide_type": "-"
    }
   },
   "source": [
    "Construct models using custom layers"
   ]
  },
  {
   "cell_type": "code",
   "execution_count": 8,
   "id": "7d9c597f",
   "metadata": {
    "execution": {
     "iopub.execute_input": "2022-08-19T17:21:30.996238Z",
     "iopub.status.busy": "2022-08-19T17:21:30.995966Z",
     "iopub.status.idle": "2022-08-19T17:21:31.002767Z",
     "shell.execute_reply": "2022-08-19T17:21:31.001959Z"
    },
    "origin_pos": 29,
    "tab": [
     "pytorch"
    ]
   },
   "outputs": [
    {
     "data": {
      "text/plain": [
       "tensor([[0.],\n",
       "        [0.]])"
      ]
     },
     "execution_count": 8,
     "metadata": {},
     "output_type": "execute_result"
    }
   ],
   "source": [
    "net = nn.Sequential(MyLinear(64, 8), MyLinear(8, 1))\n",
    "net(torch.rand(2, 64))"
   ]
  }
 ],
 "metadata": {
  "celltoolbar": "Slideshow",
  "language_info": {
   "name": "python"
  },
  "rise": {
   "autolaunch": true,
   "enable_chalkboard": true,
   "overlay": "<div class='my-top-right'><img height=80px src='http://d2l.ai/_static/logo-with-text.png'/></div><div class='my-top-left'></div>",
   "scroll": true
  }
 },
 "nbformat": 4,
 "nbformat_minor": 5
}