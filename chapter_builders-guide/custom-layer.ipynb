{
 "cells": [
  {
   "cell_type": "markdown",
   "id": "11b0fa19",
   "metadata": {
    "slideshow": {
     "slide_type": "-"
    }
   },
   "source": [
    "# Custom Layers\n",
    "\n",
    "Layers without Parameters"
   ]
  },
  {
   "cell_type": "code",
   "execution_count": 2,
   "id": "cf2e29f1",
   "metadata": {
    "execution": {
     "iopub.execute_input": "2022-07-13T08:07:29.094917Z",
     "iopub.status.busy": "2022-07-13T08:07:29.094316Z",
     "iopub.status.idle": "2022-07-13T08:07:29.123728Z",
     "shell.execute_reply": "2022-07-13T08:07:29.122782Z"
    },
    "origin_pos": 6,
    "tab": [
     "pytorch"
    ]
   },
   "outputs": [
    {
     "data": {
      "text/plain": [
       "tensor([-2., -1.,  0.,  1.,  2.])"
      ]
     },
     "execution_count": 2,
     "metadata": {},
     "output_type": "execute_result"
    }
   ],
   "source": [
    "import torch\n",
    "from torch import nn\n",
    "from torch.nn import functional as F\n",
    "from d2l import torch as d2l\n",
    "\n",
    "\n",
    "class CenteredLayer(nn.Module):\n",
    "    def __init__(self):\n",
    "        super().__init__()\n",
    "\n",
    "    def forward(self, X):\n",
    "        return X - X.mean()\n",
    "\n",
    "layer = CenteredLayer()\n",
    "layer(torch.tensor([1.0, 2, 3, 4, 5]))"
   ]
  },
  {
   "cell_type": "markdown",
   "id": "4bf766b4",
   "metadata": {
    "slideshow": {
     "slide_type": "slide"
    }
   },
   "source": [
    "Incorporate our layer as a component\n",
    "in constructing more complex models"
   ]
  },
  {
   "cell_type": "code",
   "execution_count": 3,
   "id": "e94f87ae",
   "metadata": {
    "execution": {
     "iopub.execute_input": "2022-07-13T08:07:29.129416Z",
     "iopub.status.busy": "2022-07-13T08:07:29.128946Z",
     "iopub.status.idle": "2022-07-13T08:07:29.134574Z",
     "shell.execute_reply": "2022-07-13T08:07:29.133766Z"
    },
    "origin_pos": 9,
    "tab": [
     "pytorch"
    ]
   },
   "outputs": [
    {
     "name": "stdout",
     "output_type": "stream",
     "text": [
      "/home/d2l-worker/miniconda3/envs/d2l-en-release-0/lib/python3.8/site-packages/torch/nn/modules/lazy.py:178: UserWarning: Lazy modules are a new feature under heavy development so changes to the API or functionality can happen at any moment.\n",
      "  warnings.warn('Lazy modules are a new feature under heavy development '\n"
     ]
    }
   ],
   "source": [
    "net = nn.Sequential(nn.LazyLinear(128), CenteredLayer())"
   ]
  },
  {
   "cell_type": "code",
   "execution_count": 4,
   "id": "2a7aaa97",
   "metadata": {
    "execution": {
     "iopub.execute_input": "2022-07-13T08:07:29.139541Z",
     "iopub.status.busy": "2022-07-13T08:07:29.139040Z",
     "iopub.status.idle": "2022-07-13T08:07:29.145665Z",
     "shell.execute_reply": "2022-07-13T08:07:29.144882Z"
    },
    "origin_pos": 12,
    "tab": [
     "pytorch"
    ]
   },
   "outputs": [
    {
     "data": {
      "text/plain": [
       "tensor(8.3819e-09, grad_fn=<MeanBackward0>)"
      ]
     },
     "execution_count": 4,
     "metadata": {},
     "output_type": "execute_result"
    }
   ],
   "source": [
    "Y = net(torch.rand(4, 8))\n",
    "Y.mean()"
   ]
  },
  {
   "cell_type": "markdown",
   "id": "1dbe9554",
   "metadata": {
    "slideshow": {
     "slide_type": "slide"
    }
   },
   "source": [
    "Layers with Parameters"
   ]
  },
  {
   "cell_type": "code",
   "execution_count": 6,
   "id": "c79a3781",
   "metadata": {
    "execution": {
     "iopub.execute_input": "2022-07-13T08:07:29.158867Z",
     "iopub.status.busy": "2022-07-13T08:07:29.158430Z",
     "iopub.status.idle": "2022-07-13T08:07:29.164591Z",
     "shell.execute_reply": "2022-07-13T08:07:29.163812Z"
    },
    "origin_pos": 21,
    "tab": [
     "pytorch"
    ]
   },
   "outputs": [
    {
     "data": {
      "text/plain": [
       "Parameter containing:\n",
       "tensor([[-1.1165, -0.5198,  1.4635],\n",
       "        [-2.2328, -0.3483,  0.3339],\n",
       "        [-0.9038,  0.7497,  0.5034],\n",
       "        [ 1.0029, -1.1396,  0.0971],\n",
       "        [-1.9167,  1.2176,  0.5163]], requires_grad=True)"
      ]
     },
     "execution_count": 6,
     "metadata": {},
     "output_type": "execute_result"
    }
   ],
   "source": [
    "class MyLinear(nn.Module):\n",
    "    def __init__(self, in_units, units):\n",
    "        super().__init__()\n",
    "        self.weight = nn.Parameter(torch.randn(in_units, units))\n",
    "        self.bias = nn.Parameter(torch.randn(units,))\n",
    "\n",
    "    def forward(self, X):\n",
    "        linear = torch.matmul(X, self.weight.data) + self.bias.data\n",
    "        return F.relu(linear)\n",
    "\n",
    "linear = MyLinear(5, 3)\n",
    "linear.weight"
   ]
  },
  {
   "cell_type": "markdown",
   "id": "6af03757",
   "metadata": {
    "slideshow": {
     "slide_type": "slide"
    }
   },
   "source": [
    "Directly carry out forward propagation calculations using custom layers"
   ]
  },
  {
   "cell_type": "code",
   "execution_count": 7,
   "id": "360058ed",
   "metadata": {
    "execution": {
     "iopub.execute_input": "2022-07-13T08:07:29.167993Z",
     "iopub.status.busy": "2022-07-13T08:07:29.167726Z",
     "iopub.status.idle": "2022-07-13T08:07:29.173502Z",
     "shell.execute_reply": "2022-07-13T08:07:29.172718Z"
    },
    "origin_pos": 25,
    "tab": [
     "pytorch"
    ]
   },
   "outputs": [
    {
     "data": {
      "text/plain": [
       "tensor([[0.0000, 0.2919, 1.2563],\n",
       "        [0.0000, 0.0000, 1.9034]])"
      ]
     },
     "execution_count": 7,
     "metadata": {},
     "output_type": "execute_result"
    }
   ],
   "source": [
    "linear(torch.rand(2, 5))"
   ]
  },
  {
   "cell_type": "markdown",
   "id": "1ff85d5a",
   "metadata": {
    "slideshow": {
     "slide_type": "-"
    }
   },
   "source": [
    "Construct models using custom layers"
   ]
  },
  {
   "cell_type": "code",
   "execution_count": 8,
   "id": "4d4d29a7",
   "metadata": {
    "execution": {
     "iopub.execute_input": "2022-07-13T08:07:29.176971Z",
     "iopub.status.busy": "2022-07-13T08:07:29.176428Z",
     "iopub.status.idle": "2022-07-13T08:07:29.182891Z",
     "shell.execute_reply": "2022-07-13T08:07:29.182100Z"
    },
    "origin_pos": 29,
    "tab": [
     "pytorch"
    ]
   },
   "outputs": [
    {
     "data": {
      "text/plain": [
       "tensor([[0.],\n",
       "        [0.]])"
      ]
     },
     "execution_count": 8,
     "metadata": {},
     "output_type": "execute_result"
    }
   ],
   "source": [
    "net = nn.Sequential(MyLinear(64, 8), MyLinear(8, 1))\n",
    "net(torch.rand(2, 64))"
   ]
  }
 ],
 "metadata": {
  "celltoolbar": "Slideshow",
  "language_info": {
   "name": "python"
  },
  "rise": {
   "autolaunch": true,
   "enable_chalkboard": true,
   "overlay": "<div class='my-top-right'><img height=80px src='http://d2l.ai/_static/logo-with-text.png'/></div><div class='my-top-left'></div>",
   "scroll": true
  }
 },
 "nbformat": 4,
 "nbformat_minor": 5
}