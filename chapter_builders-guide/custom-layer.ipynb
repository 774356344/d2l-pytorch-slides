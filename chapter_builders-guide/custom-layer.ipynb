{
 "cells": [
  {
   "cell_type": "markdown",
   "id": "571e051f",
   "metadata": {
    "slideshow": {
     "slide_type": "-"
    }
   },
   "source": [
    "# Custom Layers\n",
    "\n",
    "Layers without Parameters"
   ]
  },
  {
   "cell_type": "code",
   "execution_count": 2,
   "id": "dfab7c2e",
   "metadata": {
    "execution": {
     "iopub.execute_input": "2022-08-29T07:25:40.730596Z",
     "iopub.status.busy": "2022-08-29T07:25:40.730210Z",
     "iopub.status.idle": "2022-08-29T07:25:40.759015Z",
     "shell.execute_reply": "2022-08-29T07:25:40.758163Z"
    },
    "origin_pos": 6,
    "tab": [
     "pytorch"
    ]
   },
   "outputs": [
    {
     "data": {
      "text/plain": [
       "tensor([-2., -1.,  0.,  1.,  2.])"
      ]
     },
     "execution_count": 2,
     "metadata": {},
     "output_type": "execute_result"
    }
   ],
   "source": [
    "import torch\n",
    "from torch import nn\n",
    "from torch.nn import functional as F\n",
    "from d2l import torch as d2l\n",
    "\n",
    "\n",
    "class CenteredLayer(nn.Module):\n",
    "    def __init__(self):\n",
    "        super().__init__()\n",
    "\n",
    "    def forward(self, X):\n",
    "        return X - X.mean()\n",
    "\n",
    "layer = CenteredLayer()\n",
    "layer(torch.tensor([1.0, 2, 3, 4, 5]))"
   ]
  },
  {
   "cell_type": "markdown",
   "id": "e8c47c19",
   "metadata": {
    "slideshow": {
     "slide_type": "slide"
    }
   },
   "source": [
    "Incorporate our layer as a component\n",
    "in constructing more complex models"
   ]
  },
  {
   "cell_type": "code",
   "execution_count": 3,
   "id": "5406b092",
   "metadata": {
    "execution": {
     "iopub.execute_input": "2022-08-29T07:25:40.765140Z",
     "iopub.status.busy": "2022-08-29T07:25:40.764539Z",
     "iopub.status.idle": "2022-08-29T07:25:40.770942Z",
     "shell.execute_reply": "2022-08-29T07:25:40.769790Z"
    },
    "origin_pos": 9,
    "tab": [
     "pytorch"
    ]
   },
   "outputs": [
    {
     "name": "stdout",
     "output_type": "stream",
     "text": [
      "/home/d2l-worker/miniconda3/envs/d2l-en-release-0/lib/python3.9/site-packages/torch/nn/modules/lazy.py:178: UserWarning: Lazy modules are a new feature under heavy development so changes to the API or functionality can happen at any moment.\n",
      "  warnings.warn('Lazy modules are a new feature under heavy development '\n"
     ]
    }
   ],
   "source": [
    "net = nn.Sequential(nn.LazyLinear(128), CenteredLayer())"
   ]
  },
  {
   "cell_type": "code",
   "execution_count": 4,
   "id": "041c9758",
   "metadata": {
    "execution": {
     "iopub.execute_input": "2022-08-29T07:25:40.777630Z",
     "iopub.status.busy": "2022-08-29T07:25:40.777045Z",
     "iopub.status.idle": "2022-08-29T07:25:40.785561Z",
     "shell.execute_reply": "2022-08-29T07:25:40.784762Z"
    },
    "origin_pos": 12,
    "tab": [
     "pytorch"
    ]
   },
   "outputs": [
    {
     "data": {
      "text/plain": [
       "tensor(-7.4506e-09, grad_fn=<MeanBackward0>)"
      ]
     },
     "execution_count": 4,
     "metadata": {},
     "output_type": "execute_result"
    }
   ],
   "source": [
    "Y = net(torch.rand(4, 8))\n",
    "Y.mean()"
   ]
  },
  {
   "cell_type": "markdown",
   "id": "c638e20a",
   "metadata": {
    "slideshow": {
     "slide_type": "slide"
    }
   },
   "source": [
    "Layers with Parameters"
   ]
  },
  {
   "cell_type": "code",
   "execution_count": 6,
   "id": "486ca43b",
   "metadata": {
    "execution": {
     "iopub.execute_input": "2022-08-29T07:25:40.799831Z",
     "iopub.status.busy": "2022-08-29T07:25:40.799111Z",
     "iopub.status.idle": "2022-08-29T07:25:40.806830Z",
     "shell.execute_reply": "2022-08-29T07:25:40.805951Z"
    },
    "origin_pos": 21,
    "tab": [
     "pytorch"
    ]
   },
   "outputs": [
    {
     "data": {
      "text/plain": [
       "Parameter containing:\n",
       "tensor([[ 0.0086,  0.7049,  0.9014],\n",
       "        [-2.0992,  0.0520,  0.2377],\n",
       "        [-1.2058, -1.8399, -1.9473],\n",
       "        [-0.2344,  0.0886,  0.3781],\n",
       "        [ 1.9463,  2.6551, -0.9139]], requires_grad=True)"
      ]
     },
     "execution_count": 6,
     "metadata": {},
     "output_type": "execute_result"
    }
   ],
   "source": [
    "class MyLinear(nn.Module):\n",
    "    def __init__(self, in_units, units):\n",
    "        super().__init__()\n",
    "        self.weight = nn.Parameter(torch.randn(in_units, units))\n",
    "        self.bias = nn.Parameter(torch.randn(units,))\n",
    "\n",
    "    def forward(self, X):\n",
    "        linear = torch.matmul(X, self.weight.data) + self.bias.data\n",
    "        return F.relu(linear)\n",
    "\n",
    "linear = MyLinear(5, 3)\n",
    "linear.weight"
   ]
  },
  {
   "cell_type": "markdown",
   "id": "e58d1633",
   "metadata": {
    "slideshow": {
     "slide_type": "slide"
    }
   },
   "source": [
    "Directly carry out forward propagation calculations using custom layers"
   ]
  },
  {
   "cell_type": "code",
   "execution_count": 7,
   "id": "3ed47005",
   "metadata": {
    "execution": {
     "iopub.execute_input": "2022-08-29T07:25:40.810466Z",
     "iopub.status.busy": "2022-08-29T07:25:40.809911Z",
     "iopub.status.idle": "2022-08-29T07:25:40.816606Z",
     "shell.execute_reply": "2022-08-29T07:25:40.815793Z"
    },
    "origin_pos": 25,
    "tab": [
     "pytorch"
    ]
   },
   "outputs": [
    {
     "data": {
      "text/plain": [
       "tensor([[0.0000, 1.2721, 0.0000],\n",
       "        [0.0000, 0.0079, 0.0000]])"
      ]
     },
     "execution_count": 7,
     "metadata": {},
     "output_type": "execute_result"
    }
   ],
   "source": [
    "linear(torch.rand(2, 5))"
   ]
  },
  {
   "cell_type": "markdown",
   "id": "dadc231d",
   "metadata": {
    "slideshow": {
     "slide_type": "-"
    }
   },
   "source": [
    "Construct models using custom layers"
   ]
  },
  {
   "cell_type": "code",
   "execution_count": 8,
   "id": "75e66d97",
   "metadata": {
    "execution": {
     "iopub.execute_input": "2022-08-29T07:25:40.820354Z",
     "iopub.status.busy": "2022-08-29T07:25:40.819851Z",
     "iopub.status.idle": "2022-08-29T07:25:40.827091Z",
     "shell.execute_reply": "2022-08-29T07:25:40.826253Z"
    },
    "origin_pos": 29,
    "tab": [
     "pytorch"
    ]
   },
   "outputs": [
    {
     "data": {
      "text/plain": [
       "tensor([[13.7958],\n",
       "        [ 3.1321]])"
      ]
     },
     "execution_count": 8,
     "metadata": {},
     "output_type": "execute_result"
    }
   ],
   "source": [
    "net = nn.Sequential(MyLinear(64, 8), MyLinear(8, 1))\n",
    "net(torch.rand(2, 64))"
   ]
  }
 ],
 "metadata": {
  "celltoolbar": "Slideshow",
  "language_info": {
   "name": "python"
  },
  "rise": {
   "autolaunch": true,
   "enable_chalkboard": true,
   "overlay": "<div class='my-top-right'><img height=80px src='http://d2l.ai/_static/logo-with-text.png'/></div><div class='my-top-left'></div>",
   "scroll": true
  }
 },
 "nbformat": 4,
 "nbformat_minor": 5
}