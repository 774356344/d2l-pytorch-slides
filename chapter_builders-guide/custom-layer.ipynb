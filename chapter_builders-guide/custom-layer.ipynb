{
 "cells": [
  {
   "cell_type": "markdown",
   "id": "90d46644",
   "metadata": {
    "slideshow": {
     "slide_type": "-"
    }
   },
   "source": [
    "# Custom Layers\n",
    "\n",
    "Layers without Parameters"
   ]
  },
  {
   "cell_type": "code",
   "execution_count": 2,
   "id": "15f14927",
   "metadata": {
    "execution": {
     "iopub.execute_input": "2022-08-29T22:12:47.954731Z",
     "iopub.status.busy": "2022-08-29T22:12:47.953722Z",
     "iopub.status.idle": "2022-08-29T22:12:47.997214Z",
     "shell.execute_reply": "2022-08-29T22:12:47.995701Z"
    },
    "origin_pos": 6,
    "tab": [
     "pytorch"
    ]
   },
   "outputs": [
    {
     "data": {
      "text/plain": [
       "tensor([-2., -1.,  0.,  1.,  2.])"
      ]
     },
     "execution_count": 2,
     "metadata": {},
     "output_type": "execute_result"
    }
   ],
   "source": [
    "import torch\n",
    "from torch import nn\n",
    "from torch.nn import functional as F\n",
    "from d2l import torch as d2l\n",
    "\n",
    "\n",
    "class CenteredLayer(nn.Module):\n",
    "    def __init__(self):\n",
    "        super().__init__()\n",
    "\n",
    "    def forward(self, X):\n",
    "        return X - X.mean()\n",
    "\n",
    "layer = CenteredLayer()\n",
    "layer(torch.tensor([1.0, 2, 3, 4, 5]))"
   ]
  },
  {
   "cell_type": "markdown",
   "id": "0bb53285",
   "metadata": {
    "slideshow": {
     "slide_type": "slide"
    }
   },
   "source": [
    "Incorporate our layer as a component\n",
    "in constructing more complex models"
   ]
  },
  {
   "cell_type": "code",
   "execution_count": 3,
   "id": "5b9217a6",
   "metadata": {
    "execution": {
     "iopub.execute_input": "2022-08-29T22:12:48.011786Z",
     "iopub.status.busy": "2022-08-29T22:12:48.003904Z",
     "iopub.status.idle": "2022-08-29T22:12:48.021077Z",
     "shell.execute_reply": "2022-08-29T22:12:48.019596Z"
    },
    "origin_pos": 9,
    "tab": [
     "pytorch"
    ]
   },
   "outputs": [
    {
     "name": "stdout",
     "output_type": "stream",
     "text": [
      "/home/d2l-worker/miniconda3/envs/d2l-en-release-0/lib/python3.9/site-packages/torch/nn/modules/lazy.py:178: UserWarning: Lazy modules are a new feature under heavy development so changes to the API or functionality can happen at any moment.\n",
      "  warnings.warn('Lazy modules are a new feature under heavy development '\n"
     ]
    }
   ],
   "source": [
    "net = nn.Sequential(nn.LazyLinear(128), CenteredLayer())"
   ]
  },
  {
   "cell_type": "code",
   "execution_count": 4,
   "id": "46348bdc",
   "metadata": {
    "execution": {
     "iopub.execute_input": "2022-08-29T22:12:48.028704Z",
     "iopub.status.busy": "2022-08-29T22:12:48.027644Z",
     "iopub.status.idle": "2022-08-29T22:12:48.042774Z",
     "shell.execute_reply": "2022-08-29T22:12:48.041218Z"
    },
    "origin_pos": 12,
    "tab": [
     "pytorch"
    ]
   },
   "outputs": [
    {
     "data": {
      "text/plain": [
       "tensor(2.7940e-09, grad_fn=<MeanBackward0>)"
      ]
     },
     "execution_count": 4,
     "metadata": {},
     "output_type": "execute_result"
    }
   ],
   "source": [
    "Y = net(torch.rand(4, 8))\n",
    "Y.mean()"
   ]
  },
  {
   "cell_type": "markdown",
   "id": "110b88b1",
   "metadata": {
    "slideshow": {
     "slide_type": "slide"
    }
   },
   "source": [
    "Layers with Parameters"
   ]
  },
  {
   "cell_type": "code",
   "execution_count": 6,
   "id": "4cb55022",
   "metadata": {
    "execution": {
     "iopub.execute_input": "2022-08-29T22:12:48.074215Z",
     "iopub.status.busy": "2022-08-29T22:12:48.067667Z",
     "iopub.status.idle": "2022-08-29T22:12:48.081380Z",
     "shell.execute_reply": "2022-08-29T22:12:48.080481Z"
    },
    "origin_pos": 21,
    "tab": [
     "pytorch"
    ]
   },
   "outputs": [
    {
     "data": {
      "text/plain": [
       "Parameter containing:\n",
       "tensor([[-1.0395,  0.8737,  2.0275],\n",
       "        [-0.4998, -0.5290,  0.3615],\n",
       "        [-0.6028,  0.0096,  0.5972],\n",
       "        [-1.1421, -3.5420, -0.3456],\n",
       "        [-0.4646, -1.3582, -1.6133]], requires_grad=True)"
      ]
     },
     "execution_count": 6,
     "metadata": {},
     "output_type": "execute_result"
    }
   ],
   "source": [
    "class MyLinear(nn.Module):\n",
    "    def __init__(self, in_units, units):\n",
    "        super().__init__()\n",
    "        self.weight = nn.Parameter(torch.randn(in_units, units))\n",
    "        self.bias = nn.Parameter(torch.randn(units,))\n",
    "\n",
    "    def forward(self, X):\n",
    "        linear = torch.matmul(X, self.weight.data) + self.bias.data\n",
    "        return F.relu(linear)\n",
    "\n",
    "linear = MyLinear(5, 3)\n",
    "linear.weight"
   ]
  },
  {
   "cell_type": "markdown",
   "id": "53089ccb",
   "metadata": {
    "slideshow": {
     "slide_type": "slide"
    }
   },
   "source": [
    "Directly carry out forward propagation calculations using custom layers"
   ]
  },
  {
   "cell_type": "code",
   "execution_count": 7,
   "id": "bee2f6a0",
   "metadata": {
    "execution": {
     "iopub.execute_input": "2022-08-29T22:12:48.084986Z",
     "iopub.status.busy": "2022-08-29T22:12:48.084418Z",
     "iopub.status.idle": "2022-08-29T22:12:48.090679Z",
     "shell.execute_reply": "2022-08-29T22:12:48.089627Z"
    },
    "origin_pos": 25,
    "tab": [
     "pytorch"
    ]
   },
   "outputs": [
    {
     "data": {
      "text/plain": [
       "tensor([[0.0000, 0.0000, 0.7392],\n",
       "        [0.0000, 0.0000, 0.4820]])"
      ]
     },
     "execution_count": 7,
     "metadata": {},
     "output_type": "execute_result"
    }
   ],
   "source": [
    "linear(torch.rand(2, 5))"
   ]
  },
  {
   "cell_type": "markdown",
   "id": "3531baff",
   "metadata": {
    "slideshow": {
     "slide_type": "-"
    }
   },
   "source": [
    "Construct models using custom layers"
   ]
  },
  {
   "cell_type": "code",
   "execution_count": 8,
   "id": "e9f41ba2",
   "metadata": {
    "execution": {
     "iopub.execute_input": "2022-08-29T22:12:48.094829Z",
     "iopub.status.busy": "2022-08-29T22:12:48.094095Z",
     "iopub.status.idle": "2022-08-29T22:12:48.102147Z",
     "shell.execute_reply": "2022-08-29T22:12:48.101444Z"
    },
    "origin_pos": 29,
    "tab": [
     "pytorch"
    ]
   },
   "outputs": [
    {
     "data": {
      "text/plain": [
       "tensor([[15.2350],\n",
       "        [15.7412]])"
      ]
     },
     "execution_count": 8,
     "metadata": {},
     "output_type": "execute_result"
    }
   ],
   "source": [
    "net = nn.Sequential(MyLinear(64, 8), MyLinear(8, 1))\n",
    "net(torch.rand(2, 64))"
   ]
  }
 ],
 "metadata": {
  "celltoolbar": "Slideshow",
  "language_info": {
   "name": "python"
  },
  "rise": {
   "autolaunch": true,
   "enable_chalkboard": true,
   "overlay": "<div class='my-top-right'><img height=80px src='http://d2l.ai/_static/logo-with-text.png'/></div><div class='my-top-left'></div>",
   "scroll": true
  }
 },
 "nbformat": 4,
 "nbformat_minor": 5
}