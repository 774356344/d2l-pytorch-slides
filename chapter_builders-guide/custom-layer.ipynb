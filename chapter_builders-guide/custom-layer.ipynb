{
 "cells": [
  {
   "cell_type": "markdown",
   "id": "f796a1b6",
   "metadata": {
    "slideshow": {
     "slide_type": "-"
    }
   },
   "source": [
    "# Custom Layers\n",
    "\n",
    "Layers without Parameters"
   ]
  },
  {
   "cell_type": "code",
   "execution_count": 2,
   "id": "c0463d8a",
   "metadata": {
    "execution": {
     "iopub.execute_input": "2022-07-13T07:56:13.528093Z",
     "iopub.status.busy": "2022-07-13T07:56:13.527438Z",
     "iopub.status.idle": "2022-07-13T07:56:13.557483Z",
     "shell.execute_reply": "2022-07-13T07:56:13.556301Z"
    },
    "origin_pos": 6,
    "tab": [
     "pytorch"
    ]
   },
   "outputs": [
    {
     "data": {
      "text/plain": [
       "tensor([-2., -1.,  0.,  1.,  2.])"
      ]
     },
     "execution_count": 2,
     "metadata": {},
     "output_type": "execute_result"
    }
   ],
   "source": [
    "import torch\n",
    "from torch import nn\n",
    "from torch.nn import functional as F\n",
    "from d2l import torch as d2l\n",
    "\n",
    "\n",
    "class CenteredLayer(nn.Module):\n",
    "    def __init__(self):\n",
    "        super().__init__()\n",
    "\n",
    "    def forward(self, X):\n",
    "        return X - X.mean()\n",
    "\n",
    "layer = CenteredLayer()\n",
    "layer(torch.tensor([1.0, 2, 3, 4, 5]))"
   ]
  },
  {
   "cell_type": "markdown",
   "id": "b1fdad88",
   "metadata": {
    "slideshow": {
     "slide_type": "slide"
    }
   },
   "source": [
    "Incorporate our layer as a component\n",
    "in constructing more complex models"
   ]
  },
  {
   "cell_type": "code",
   "execution_count": 3,
   "id": "ed0e57fe",
   "metadata": {
    "execution": {
     "iopub.execute_input": "2022-07-13T07:56:13.562901Z",
     "iopub.status.busy": "2022-07-13T07:56:13.562356Z",
     "iopub.status.idle": "2022-07-13T07:56:13.569477Z",
     "shell.execute_reply": "2022-07-13T07:56:13.568303Z"
    },
    "origin_pos": 9,
    "tab": [
     "pytorch"
    ]
   },
   "outputs": [
    {
     "name": "stdout",
     "output_type": "stream",
     "text": [
      "/home/d2l-worker/miniconda3/envs/d2l-en-release-1/lib/python3.8/site-packages/torch/nn/modules/lazy.py:178: UserWarning: Lazy modules are a new feature under heavy development so changes to the API or functionality can happen at any moment.\n",
      "  warnings.warn('Lazy modules are a new feature under heavy development '\n"
     ]
    }
   ],
   "source": [
    "net = nn.Sequential(nn.LazyLinear(128), CenteredLayer())"
   ]
  },
  {
   "cell_type": "code",
   "execution_count": 4,
   "id": "dd238af6",
   "metadata": {
    "execution": {
     "iopub.execute_input": "2022-07-13T07:56:13.574487Z",
     "iopub.status.busy": "2022-07-13T07:56:13.574000Z",
     "iopub.status.idle": "2022-07-13T07:56:13.582234Z",
     "shell.execute_reply": "2022-07-13T07:56:13.581080Z"
    },
    "origin_pos": 12,
    "tab": [
     "pytorch"
    ]
   },
   "outputs": [
    {
     "data": {
      "text/plain": [
       "tensor(-2.7940e-09, grad_fn=<MeanBackward0>)"
      ]
     },
     "execution_count": 4,
     "metadata": {},
     "output_type": "execute_result"
    }
   ],
   "source": [
    "Y = net(torch.rand(4, 8))\n",
    "Y.mean()"
   ]
  },
  {
   "cell_type": "markdown",
   "id": "79c61955",
   "metadata": {
    "slideshow": {
     "slide_type": "slide"
    }
   },
   "source": [
    "Layers with Parameters"
   ]
  },
  {
   "cell_type": "code",
   "execution_count": 6,
   "id": "67087e46",
   "metadata": {
    "execution": {
     "iopub.execute_input": "2022-07-13T07:56:13.598500Z",
     "iopub.status.busy": "2022-07-13T07:56:13.597718Z",
     "iopub.status.idle": "2022-07-13T07:56:13.605767Z",
     "shell.execute_reply": "2022-07-13T07:56:13.604603Z"
    },
    "origin_pos": 21,
    "tab": [
     "pytorch"
    ]
   },
   "outputs": [
    {
     "data": {
      "text/plain": [
       "Parameter containing:\n",
       "tensor([[ 1.0719,  1.0110, -1.5918],\n",
       "        [-0.5946,  0.9317,  1.3236],\n",
       "        [-0.6391, -1.3251, -0.5486],\n",
       "        [-0.3400, -0.8267,  1.1447],\n",
       "        [-0.8234, -1.7403,  1.9107]], requires_grad=True)"
      ]
     },
     "execution_count": 6,
     "metadata": {},
     "output_type": "execute_result"
    }
   ],
   "source": [
    "class MyLinear(nn.Module):\n",
    "    def __init__(self, in_units, units):\n",
    "        super().__init__()\n",
    "        self.weight = nn.Parameter(torch.randn(in_units, units))\n",
    "        self.bias = nn.Parameter(torch.randn(units,))\n",
    "\n",
    "    def forward(self, X):\n",
    "        linear = torch.matmul(X, self.weight.data) + self.bias.data\n",
    "        return F.relu(linear)\n",
    "\n",
    "linear = MyLinear(5, 3)\n",
    "linear.weight"
   ]
  },
  {
   "cell_type": "markdown",
   "id": "e809679b",
   "metadata": {
    "slideshow": {
     "slide_type": "slide"
    }
   },
   "source": [
    "Directly carry out forward propagation calculations using custom layers"
   ]
  },
  {
   "cell_type": "code",
   "execution_count": 7,
   "id": "ba0b9f10",
   "metadata": {
    "execution": {
     "iopub.execute_input": "2022-07-13T07:56:13.611026Z",
     "iopub.status.busy": "2022-07-13T07:56:13.610148Z",
     "iopub.status.idle": "2022-07-13T07:56:13.618133Z",
     "shell.execute_reply": "2022-07-13T07:56:13.616971Z"
    },
    "origin_pos": 25,
    "tab": [
     "pytorch"
    ]
   },
   "outputs": [
    {
     "data": {
      "text/plain": [
       "tensor([[0.0000, 0.0000, 0.2119],\n",
       "        [1.0213, 0.0000, 0.0000]])"
      ]
     },
     "execution_count": 7,
     "metadata": {},
     "output_type": "execute_result"
    }
   ],
   "source": [
    "linear(torch.rand(2, 5))"
   ]
  },
  {
   "cell_type": "markdown",
   "id": "3016b52c",
   "metadata": {
    "slideshow": {
     "slide_type": "-"
    }
   },
   "source": [
    "Construct models using custom layers"
   ]
  },
  {
   "cell_type": "code",
   "execution_count": 8,
   "id": "6c227880",
   "metadata": {
    "execution": {
     "iopub.execute_input": "2022-07-13T07:56:13.623249Z",
     "iopub.status.busy": "2022-07-13T07:56:13.622372Z",
     "iopub.status.idle": "2022-07-13T07:56:13.630927Z",
     "shell.execute_reply": "2022-07-13T07:56:13.629756Z"
    },
    "origin_pos": 29,
    "tab": [
     "pytorch"
    ]
   },
   "outputs": [
    {
     "data": {
      "text/plain": [
       "tensor([[5.8839],\n",
       "        [7.6682]])"
      ]
     },
     "execution_count": 8,
     "metadata": {},
     "output_type": "execute_result"
    }
   ],
   "source": [
    "net = nn.Sequential(MyLinear(64, 8), MyLinear(8, 1))\n",
    "net(torch.rand(2, 64))"
   ]
  }
 ],
 "metadata": {
  "celltoolbar": "Slideshow",
  "language_info": {
   "name": "python"
  },
  "rise": {
   "autolaunch": true,
   "enable_chalkboard": true,
   "overlay": "<div class='my-top-right'><img height=80px src='http://d2l.ai/_static/logo-with-text.png'/></div><div class='my-top-left'></div>",
   "scroll": true
  }
 },
 "nbformat": 4,
 "nbformat_minor": 5
}