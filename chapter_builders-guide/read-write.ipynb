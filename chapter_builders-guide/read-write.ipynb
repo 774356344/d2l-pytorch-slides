{
 "cells": [
  {
   "cell_type": "markdown",
   "id": "3a25edcb",
   "metadata": {
    "slideshow": {
     "slide_type": "-"
    }
   },
   "source": [
    "# File I/O\n",
    "\n",
    "Loading and Saving Tensors"
   ]
  },
  {
   "cell_type": "code",
   "execution_count": 2,
   "id": "1f851acb",
   "metadata": {
    "execution": {
     "iopub.execute_input": "2022-08-29T07:25:45.710856Z",
     "iopub.status.busy": "2022-08-29T07:25:45.710073Z",
     "iopub.status.idle": "2022-08-29T07:25:45.726223Z",
     "shell.execute_reply": "2022-08-29T07:25:45.725150Z"
    },
    "origin_pos": 7,
    "tab": [
     "pytorch"
    ]
   },
   "outputs": [
    {
     "data": {
      "text/plain": [
       "tensor([0, 1, 2, 3])"
      ]
     },
     "execution_count": 2,
     "metadata": {},
     "output_type": "execute_result"
    }
   ],
   "source": [
    "import torch\n",
    "from torch import nn\n",
    "from torch.nn import functional as F\n",
    "\n",
    "x = torch.arange(4)\n",
    "torch.save(x, 'x-file')\n",
    "\n",
    "x2 = torch.load('x-file')\n",
    "x2"
   ]
  },
  {
   "cell_type": "markdown",
   "id": "7023ddd7",
   "metadata": {
    "slideshow": {
     "slide_type": "slide"
    }
   },
   "source": [
    "Store a list of tensors and read them back into memory"
   ]
  },
  {
   "cell_type": "code",
   "execution_count": 3,
   "id": "0b389370",
   "metadata": {
    "execution": {
     "iopub.execute_input": "2022-08-29T07:25:45.731051Z",
     "iopub.status.busy": "2022-08-29T07:25:45.730489Z",
     "iopub.status.idle": "2022-08-29T07:25:45.739532Z",
     "shell.execute_reply": "2022-08-29T07:25:45.738718Z"
    },
    "origin_pos": 11,
    "tab": [
     "pytorch"
    ]
   },
   "outputs": [
    {
     "data": {
      "text/plain": [
       "(tensor([0, 1, 2, 3]), tensor([0., 0., 0., 0.]))"
      ]
     },
     "execution_count": 3,
     "metadata": {},
     "output_type": "execute_result"
    }
   ],
   "source": [
    "y = torch.zeros(4)\n",
    "torch.save([x, y],'x-files')\n",
    "x2, y2 = torch.load('x-files')\n",
    "(x2, y2)"
   ]
  },
  {
   "cell_type": "markdown",
   "id": "f39789c7",
   "metadata": {
    "slideshow": {
     "slide_type": "slide"
    }
   },
   "source": [
    "Write and read a dictionary that maps\n",
    "from strings to tensors"
   ]
  },
  {
   "cell_type": "code",
   "execution_count": 4,
   "id": "c1f5039f",
   "metadata": {
    "execution": {
     "iopub.execute_input": "2022-08-29T07:25:45.743582Z",
     "iopub.status.busy": "2022-08-29T07:25:45.743088Z",
     "iopub.status.idle": "2022-08-29T07:25:45.751787Z",
     "shell.execute_reply": "2022-08-29T07:25:45.750729Z"
    },
    "origin_pos": 15,
    "tab": [
     "pytorch"
    ]
   },
   "outputs": [
    {
     "data": {
      "text/plain": [
       "{'x': tensor([0, 1, 2, 3]), 'y': tensor([0., 0., 0., 0.])}"
      ]
     },
     "execution_count": 4,
     "metadata": {},
     "output_type": "execute_result"
    }
   ],
   "source": [
    "mydict = {'x': x, 'y': y}\n",
    "torch.save(mydict, 'mydict')\n",
    "mydict2 = torch.load('mydict')\n",
    "mydict2"
   ]
  },
  {
   "cell_type": "markdown",
   "id": "b7e72570",
   "metadata": {
    "slideshow": {
     "slide_type": "slide"
    }
   },
   "source": [
    "Loading and Saving Model Parameters\n",
    "Let's start with our familiar MLP"
   ]
  },
  {
   "cell_type": "code",
   "execution_count": 5,
   "id": "8f1d256f",
   "metadata": {
    "execution": {
     "iopub.execute_input": "2022-08-29T07:25:45.755404Z",
     "iopub.status.busy": "2022-08-29T07:25:45.754914Z",
     "iopub.status.idle": "2022-08-29T07:25:45.764748Z",
     "shell.execute_reply": "2022-08-29T07:25:45.763659Z"
    },
    "origin_pos": 19,
    "tab": [
     "pytorch"
    ]
   },
   "outputs": [
    {
     "name": "stdout",
     "output_type": "stream",
     "text": [
      "/home/d2l-worker/miniconda3/envs/d2l-en-release-0/lib/python3.9/site-packages/torch/nn/modules/lazy.py:178: UserWarning: Lazy modules are a new feature under heavy development so changes to the API or functionality can happen at any moment.\n",
      "  warnings.warn('Lazy modules are a new feature under heavy development '\n"
     ]
    }
   ],
   "source": [
    "class MLP(nn.Module):\n",
    "    def __init__(self):\n",
    "        super().__init__()\n",
    "        self.hidden = nn.LazyLinear(256)\n",
    "        self.output = nn.LazyLinear(10)\n",
    "\n",
    "    def forward(self, x):\n",
    "        return self.output(F.relu(self.hidden(x)))\n",
    "\n",
    "net = MLP()\n",
    "X = torch.randn(size=(2, 20))\n",
    "Y = net(X)"
   ]
  },
  {
   "cell_type": "markdown",
   "id": "dd9866f3",
   "metadata": {
    "slideshow": {
     "slide_type": "slide"
    }
   },
   "source": [
    "Store the parameters of the model as a file"
   ]
  },
  {
   "cell_type": "code",
   "execution_count": 6,
   "id": "a13c247f",
   "metadata": {
    "execution": {
     "iopub.execute_input": "2022-08-29T07:25:45.769351Z",
     "iopub.status.busy": "2022-08-29T07:25:45.768217Z",
     "iopub.status.idle": "2022-08-29T07:25:45.775287Z",
     "shell.execute_reply": "2022-08-29T07:25:45.774153Z"
    },
    "origin_pos": 23,
    "tab": [
     "pytorch"
    ]
   },
   "outputs": [],
   "source": [
    "torch.save(net.state_dict(), 'mlp.params')"
   ]
  },
  {
   "cell_type": "markdown",
   "id": "943e0e4e",
   "metadata": {
    "slideshow": {
     "slide_type": "slide"
    }
   },
   "source": [
    "Read the parameters stored in the file directly"
   ]
  },
  {
   "cell_type": "code",
   "execution_count": 7,
   "id": "1d586cfd",
   "metadata": {
    "execution": {
     "iopub.execute_input": "2022-08-29T07:25:45.780433Z",
     "iopub.status.busy": "2022-08-29T07:25:45.779682Z",
     "iopub.status.idle": "2022-08-29T07:25:45.790548Z",
     "shell.execute_reply": "2022-08-29T07:25:45.789479Z"
    },
    "origin_pos": 27,
    "tab": [
     "pytorch"
    ]
   },
   "outputs": [
    {
     "data": {
      "text/plain": [
       "MLP(\n",
       "  (hidden): LazyLinear(in_features=0, out_features=256, bias=True)\n",
       "  (output): LazyLinear(in_features=0, out_features=10, bias=True)\n",
       ")"
      ]
     },
     "execution_count": 7,
     "metadata": {},
     "output_type": "execute_result"
    }
   ],
   "source": [
    "clone = MLP()\n",
    "clone.load_state_dict(torch.load('mlp.params'))\n",
    "clone.eval()"
   ]
  },
  {
   "cell_type": "code",
   "execution_count": 8,
   "id": "c1286312",
   "metadata": {
    "execution": {
     "iopub.execute_input": "2022-08-29T07:25:45.794558Z",
     "iopub.status.busy": "2022-08-29T07:25:45.794093Z",
     "iopub.status.idle": "2022-08-29T07:25:45.802593Z",
     "shell.execute_reply": "2022-08-29T07:25:45.801522Z"
    },
    "origin_pos": 30,
    "tab": [
     "pytorch"
    ]
   },
   "outputs": [
    {
     "data": {
      "text/plain": [
       "tensor([[True, True, True, True, True, True, True, True, True, True],\n",
       "        [True, True, True, True, True, True, True, True, True, True]])"
      ]
     },
     "execution_count": 8,
     "metadata": {},
     "output_type": "execute_result"
    }
   ],
   "source": [
    "Y_clone = clone(X)\n",
    "Y_clone == Y"
   ]
  }
 ],
 "metadata": {
  "celltoolbar": "Slideshow",
  "language_info": {
   "name": "python"
  },
  "rise": {
   "autolaunch": true,
   "enable_chalkboard": true,
   "overlay": "<div class='my-top-right'><img height=80px src='http://d2l.ai/_static/logo-with-text.png'/></div><div class='my-top-left'></div>",
   "scroll": true
  }
 },
 "nbformat": 4,
 "nbformat_minor": 5
}