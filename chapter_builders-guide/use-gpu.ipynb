{
 "cells": [
  {
   "cell_type": "markdown",
   "id": "d908095d",
   "metadata": {
    "slideshow": {
     "slide_type": "-"
    }
   },
   "source": [
    "# GPUs\n",
    "\n",
    "View the graphics card information"
   ]
  },
  {
   "cell_type": "code",
   "execution_count": 1,
   "id": "aee552f5",
   "metadata": {
    "execution": {
     "iopub.execute_input": "2022-07-13T08:04:59.966381Z",
     "iopub.status.busy": "2022-07-13T08:04:59.966002Z",
     "iopub.status.idle": "2022-07-13T08:05:00.883282Z",
     "shell.execute_reply": "2022-07-13T08:05:00.881846Z"
    },
    "origin_pos": 2,
    "tab": [
     "pytorch"
    ]
   },
   "outputs": [
    {
     "name": "stdout",
     "output_type": "stream",
     "text": [
      "Wed Jul 13 08:05:00 2022       \r\n",
      "+-----------------------------------------------------------------------------+\r\n",
      "| NVIDIA-SMI 460.106.00   Driver Version: 460.106.00   CUDA Version: 11.2     |\r\n",
      "|-------------------------------+----------------------+----------------------+\r\n",
      "| GPU  Name        Persistence-M| Bus-Id        Disp.A | Volatile Uncorr. ECC |\r\n",
      "| Fan  Temp  Perf  Pwr:Usage/Cap|         Memory-Usage | GPU-Util  Compute M. |\r\n",
      "|                               |                      |               MIG M. |\r\n",
      "|===============================+======================+======================|\r\n",
      "|   0  Tesla V100-SXM2...  Off  | 00000000:00:1B.0 Off |                    0 |\r\n",
      "| N/A   62C    P0    70W / 300W |      0MiB / 16160MiB |      0%      Default |\r\n",
      "|                               |                      |                  N/A |\r\n",
      "+-------------------------------+----------------------+----------------------+\r\n"
     ]
    },
    {
     "name": "stdout",
     "output_type": "stream",
     "text": [
      "|   1  Tesla V100-SXM2...  Off  | 00000000:00:1C.0 Off |                    0 |\r\n",
      "| N/A   53C    P0    58W / 300W |      0MiB / 16160MiB |      0%      Default |\r\n",
      "|                               |                      |                  N/A |\r\n",
      "+-------------------------------+----------------------+----------------------+\r\n",
      "|   2  Tesla V100-SXM2...  Off  | 00000000:00:1D.0 Off |                    0 |\r\n",
      "| N/A   53C    P0    81W / 300W |   1570MiB / 16160MiB |     60%      Default |\r\n",
      "|                               |                      |                  N/A |\r\n",
      "+-------------------------------+----------------------+----------------------+\r\n",
      "|   3  Tesla V100-SXM2...  Off  | 00000000:00:1E.0 Off |                    0 |\r\n",
      "| N/A   52C    P0    84W / 300W |   1582MiB / 16160MiB |     55%      Default |\r\n",
      "|                               |                      |                  N/A |\r\n",
      "+-------------------------------+----------------------+----------------------+\r\n",
      "                                                                               \r\n",
      "+-----------------------------------------------------------------------------+\r\n",
      "| Processes:                                                                  |\r\n",
      "|  GPU   GI   CI        PID   Type   Process name                  GPU Memory |\r\n",
      "|        ID   ID                                                   Usage      |\r\n",
      "|=============================================================================|\r\n",
      "|    2   N/A  N/A     72924      C   ...l-en-release-1/bin/python     1567MiB |\r\n",
      "|    3   N/A  N/A     72924      C   ...l-en-release-1/bin/python     1579MiB |\r\n",
      "+-----------------------------------------------------------------------------+\r\n"
     ]
    }
   ],
   "source": [
    "!nvidia-smi"
   ]
  },
  {
   "cell_type": "markdown",
   "id": "cfe875b0",
   "metadata": {
    "slideshow": {
     "slide_type": "slide"
    }
   },
   "source": [
    "Computing Devices"
   ]
  },
  {
   "cell_type": "code",
   "execution_count": 3,
   "id": "19ad5dd0",
   "metadata": {
    "execution": {
     "iopub.execute_input": "2022-07-13T08:05:03.008506Z",
     "iopub.status.busy": "2022-07-13T08:05:03.007973Z",
     "iopub.status.idle": "2022-07-13T08:05:03.015889Z",
     "shell.execute_reply": "2022-07-13T08:05:03.015102Z"
    },
    "origin_pos": 11,
    "tab": [
     "pytorch"
    ]
   },
   "outputs": [
    {
     "data": {
      "text/plain": [
       "(device(type='cpu'),\n",
       " device(type='cuda', index=0),\n",
       " device(type='cuda', index=1))"
      ]
     },
     "execution_count": 3,
     "metadata": {},
     "output_type": "execute_result"
    }
   ],
   "source": [
    "import torch\n",
    "from torch import nn\n",
    "from d2l import torch as d2l\n",
    "\n",
    "def cpu():  \n",
    "    return torch.device('cpu')\n",
    "def gpu(i=0):  \n",
    "    return torch.device(f'cuda:{i}')\n",
    "cpu(), gpu(), gpu(1)"
   ]
  },
  {
   "cell_type": "markdown",
   "id": "ae52e79e",
   "metadata": {
    "slideshow": {
     "slide_type": "-"
    }
   },
   "source": [
    "Query the number of available GPUs"
   ]
  },
  {
   "cell_type": "code",
   "execution_count": 4,
   "id": "d01eca40",
   "metadata": {
    "execution": {
     "iopub.execute_input": "2022-07-13T08:05:03.019484Z",
     "iopub.status.busy": "2022-07-13T08:05:03.018821Z",
     "iopub.status.idle": "2022-07-13T08:05:03.024058Z",
     "shell.execute_reply": "2022-07-13T08:05:03.023291Z"
    },
    "origin_pos": 13,
    "tab": [
     "pytorch"
    ]
   },
   "outputs": [
    {
     "data": {
      "text/plain": [
       "2"
      ]
     },
     "execution_count": 4,
     "metadata": {},
     "output_type": "execute_result"
    }
   ],
   "source": [
    "def num_gpus():  \n",
    "    return torch.cuda.device_count()\n",
    "num_gpus()"
   ]
  },
  {
   "cell_type": "markdown",
   "id": "695d5412",
   "metadata": {
    "slideshow": {
     "slide_type": "slide"
    }
   },
   "source": [
    "Define two convenient functions that allow us\n",
    "to run code even if the requested GPUs do not exist"
   ]
  },
  {
   "cell_type": "code",
   "execution_count": 5,
   "id": "7b2e5680",
   "metadata": {
    "execution": {
     "iopub.execute_input": "2022-07-13T08:05:03.027440Z",
     "iopub.status.busy": "2022-07-13T08:05:03.026926Z",
     "iopub.status.idle": "2022-07-13T08:05:03.033768Z",
     "shell.execute_reply": "2022-07-13T08:05:03.033023Z"
    },
    "origin_pos": 15,
    "tab": [
     "pytorch"
    ]
   },
   "outputs": [
    {
     "data": {
      "text/plain": [
       "(device(type='cuda', index=0),\n",
       " device(type='cpu'),\n",
       " [device(type='cuda', index=0), device(type='cuda', index=1)])"
      ]
     },
     "execution_count": 5,
     "metadata": {},
     "output_type": "execute_result"
    }
   ],
   "source": [
    "def try_gpu(i=0):  \n",
    "    \"\"\"Return gpu(i) if exists, otherwise return cpu().\"\"\"\n",
    "    if num_gpus() >= i + 1:\n",
    "        return gpu(i)\n",
    "    return cpu()\n",
    "\n",
    "def try_all_gpus():  \n",
    "    \"\"\"Return all available GPUs, or [cpu(),] if no GPU exists.\"\"\"\n",
    "    return [gpu(i) for i in range(num_gpus())]\n",
    "\n",
    "try_gpu(), try_gpu(10), try_all_gpus()"
   ]
  },
  {
   "cell_type": "markdown",
   "id": "06c559c9",
   "metadata": {
    "slideshow": {
     "slide_type": "slide"
    }
   },
   "source": [
    "Query the device where the tensor is located"
   ]
  },
  {
   "cell_type": "code",
   "execution_count": 6,
   "id": "f58ef633",
   "metadata": {
    "execution": {
     "iopub.execute_input": "2022-07-13T08:05:03.037019Z",
     "iopub.status.busy": "2022-07-13T08:05:03.036605Z",
     "iopub.status.idle": "2022-07-13T08:05:03.042082Z",
     "shell.execute_reply": "2022-07-13T08:05:03.041311Z"
    },
    "origin_pos": 18,
    "tab": [
     "pytorch"
    ]
   },
   "outputs": [
    {
     "data": {
      "text/plain": [
       "device(type='cpu')"
      ]
     },
     "execution_count": 6,
     "metadata": {},
     "output_type": "execute_result"
    }
   ],
   "source": [
    "x = torch.tensor([1, 2, 3])\n",
    "x.device"
   ]
  },
  {
   "cell_type": "markdown",
   "id": "e9dd2b4c",
   "metadata": {
    "slideshow": {
     "slide_type": "slide"
    }
   },
   "source": [
    "Store a tensor on the GPU"
   ]
  },
  {
   "cell_type": "code",
   "execution_count": 7,
   "id": "9de3211c",
   "metadata": {
    "execution": {
     "iopub.execute_input": "2022-07-13T08:05:03.045581Z",
     "iopub.status.busy": "2022-07-13T08:05:03.044962Z",
     "iopub.status.idle": "2022-07-13T08:05:06.303928Z",
     "shell.execute_reply": "2022-07-13T08:05:06.303081Z"
    },
    "origin_pos": 22,
    "tab": [
     "pytorch"
    ]
   },
   "outputs": [
    {
     "data": {
      "text/plain": [
       "tensor([[1., 1., 1.],\n",
       "        [1., 1., 1.]], device='cuda:0')"
      ]
     },
     "execution_count": 7,
     "metadata": {},
     "output_type": "execute_result"
    }
   ],
   "source": [
    "X = torch.ones(2, 3, device=try_gpu())\n",
    "X"
   ]
  },
  {
   "cell_type": "markdown",
   "id": "44bfb885",
   "metadata": {
    "slideshow": {
     "slide_type": "-"
    }
   },
   "source": [
    "Create a random tensor on the second GPU"
   ]
  },
  {
   "cell_type": "code",
   "execution_count": 8,
   "id": "8e058c7c",
   "metadata": {
    "execution": {
     "iopub.execute_input": "2022-07-13T08:05:06.307858Z",
     "iopub.status.busy": "2022-07-13T08:05:06.307168Z",
     "iopub.status.idle": "2022-07-13T08:05:09.156635Z",
     "shell.execute_reply": "2022-07-13T08:05:09.155801Z"
    },
    "origin_pos": 26,
    "tab": [
     "pytorch"
    ]
   },
   "outputs": [
    {
     "data": {
      "text/plain": [
       "tensor([[0.2081, 0.1938, 0.2107],\n",
       "        [0.4302, 0.7709, 0.3293]], device='cuda:1')"
      ]
     },
     "execution_count": 8,
     "metadata": {},
     "output_type": "execute_result"
    }
   ],
   "source": [
    "Y = torch.rand(2, 3, device=try_gpu(1))\n",
    "Y"
   ]
  },
  {
   "cell_type": "markdown",
   "id": "b9b3d72e",
   "metadata": {
    "slideshow": {
     "slide_type": "slide"
    }
   },
   "source": [
    "If we want to compute `X + Y`,\n",
    "we need to decide where to perform this operation"
   ]
  },
  {
   "cell_type": "code",
   "execution_count": 9,
   "id": "48c4f9b9",
   "metadata": {
    "execution": {
     "iopub.execute_input": "2022-07-13T08:05:09.160437Z",
     "iopub.status.busy": "2022-07-13T08:05:09.159829Z",
     "iopub.status.idle": "2022-07-13T08:05:09.167590Z",
     "shell.execute_reply": "2022-07-13T08:05:09.166729Z"
    },
    "origin_pos": 30,
    "tab": [
     "pytorch"
    ]
   },
   "outputs": [
    {
     "name": "stdout",
     "output_type": "stream",
     "text": [
      "tensor([[1., 1., 1.],\n",
      "        [1., 1., 1.]], device='cuda:0')\n",
      "tensor([[1., 1., 1.],\n",
      "        [1., 1., 1.]], device='cuda:1')\n"
     ]
    }
   ],
   "source": [
    "Z = X.cuda(1)\n",
    "print(X)\n",
    "print(Z)"
   ]
  },
  {
   "cell_type": "markdown",
   "id": "72cbc6c3",
   "metadata": {
    "slideshow": {
     "slide_type": "slide"
    }
   },
   "source": [
    "The data is on the same GPU\n",
    "(both `Z` and `Y` are),\n",
    "we can add them up"
   ]
  },
  {
   "cell_type": "code",
   "execution_count": 10,
   "id": "6fbda4f2",
   "metadata": {
    "execution": {
     "iopub.execute_input": "2022-07-13T08:05:09.171269Z",
     "iopub.status.busy": "2022-07-13T08:05:09.170803Z",
     "iopub.status.idle": "2022-07-13T08:05:09.177471Z",
     "shell.execute_reply": "2022-07-13T08:05:09.176653Z"
    },
    "origin_pos": 33,
    "tab": [
     "pytorch"
    ]
   },
   "outputs": [
    {
     "data": {
      "text/plain": [
       "tensor([[1.2081, 1.1938, 1.2107],\n",
       "        [1.4302, 1.7709, 1.3293]], device='cuda:1')"
      ]
     },
     "execution_count": 10,
     "metadata": {},
     "output_type": "execute_result"
    }
   ],
   "source": [
    "Y + Z"
   ]
  },
  {
   "cell_type": "code",
   "execution_count": 11,
   "id": "03b4ec13",
   "metadata": {
    "execution": {
     "iopub.execute_input": "2022-07-13T08:05:09.181168Z",
     "iopub.status.busy": "2022-07-13T08:05:09.180616Z",
     "iopub.status.idle": "2022-07-13T08:05:09.185942Z",
     "shell.execute_reply": "2022-07-13T08:05:09.185150Z"
    },
    "origin_pos": 38,
    "tab": [
     "pytorch"
    ]
   },
   "outputs": [
    {
     "data": {
      "text/plain": [
       "True"
      ]
     },
     "execution_count": 11,
     "metadata": {},
     "output_type": "execute_result"
    }
   ],
   "source": [
    "Z.cuda(1) is Z"
   ]
  },
  {
   "cell_type": "markdown",
   "id": "bcc9e051",
   "metadata": {
    "slideshow": {
     "slide_type": "slide"
    }
   },
   "source": [
    "Neural Networks and GPUs"
   ]
  },
  {
   "cell_type": "code",
   "execution_count": 12,
   "id": "e9faf08a",
   "metadata": {
    "execution": {
     "iopub.execute_input": "2022-07-13T08:05:09.189595Z",
     "iopub.status.busy": "2022-07-13T08:05:09.189062Z",
     "iopub.status.idle": "2022-07-13T08:05:09.194813Z",
     "shell.execute_reply": "2022-07-13T08:05:09.194018Z"
    },
    "origin_pos": 42,
    "tab": [
     "pytorch"
    ]
   },
   "outputs": [
    {
     "name": "stdout",
     "output_type": "stream",
     "text": [
      "/home/d2l-worker/miniconda3/envs/d2l-en-release-1/lib/python3.8/site-packages/torch/nn/modules/lazy.py:178: UserWarning: Lazy modules are a new feature under heavy development so changes to the API or functionality can happen at any moment.\n",
      "  warnings.warn('Lazy modules are a new feature under heavy development '\n"
     ]
    }
   ],
   "source": [
    "net = nn.Sequential(nn.LazyLinear(1))\n",
    "net = net.to(device=try_gpu())"
   ]
  },
  {
   "cell_type": "code",
   "execution_count": 13,
   "id": "30ec67b9",
   "metadata": {
    "execution": {
     "iopub.execute_input": "2022-07-13T08:05:09.198434Z",
     "iopub.status.busy": "2022-07-13T08:05:09.197893Z",
     "iopub.status.idle": "2022-07-13T08:05:09.463202Z",
     "shell.execute_reply": "2022-07-13T08:05:09.462033Z"
    },
    "origin_pos": 45,
    "tab": [
     "pytorch"
    ]
   },
   "outputs": [
    {
     "data": {
      "text/plain": [
       "tensor([[0.6670],\n",
       "        [0.6670]], device='cuda:0', grad_fn=<AddmmBackward0>)"
      ]
     },
     "execution_count": 13,
     "metadata": {},
     "output_type": "execute_result"
    }
   ],
   "source": [
    "net(X)"
   ]
  },
  {
   "cell_type": "markdown",
   "id": "6f81d4c7",
   "metadata": {
    "slideshow": {
     "slide_type": "-"
    }
   },
   "source": [
    "Confirm that the model parameters are stored on the same GPU"
   ]
  },
  {
   "cell_type": "code",
   "execution_count": 14,
   "id": "1c226b90",
   "metadata": {
    "execution": {
     "iopub.execute_input": "2022-07-13T08:05:09.466905Z",
     "iopub.status.busy": "2022-07-13T08:05:09.466280Z",
     "iopub.status.idle": "2022-07-13T08:05:09.473050Z",
     "shell.execute_reply": "2022-07-13T08:05:09.472002Z"
    },
    "origin_pos": 48,
    "tab": [
     "pytorch"
    ]
   },
   "outputs": [
    {
     "data": {
      "text/plain": [
       "device(type='cuda', index=0)"
      ]
     },
     "execution_count": 14,
     "metadata": {},
     "output_type": "execute_result"
    }
   ],
   "source": [
    "net[0].weight.data.device"
   ]
  },
  {
   "cell_type": "code",
   "execution_count": 15,
   "id": "010d54eb",
   "metadata": {
    "execution": {
     "iopub.execute_input": "2022-07-13T08:05:09.478024Z",
     "iopub.status.busy": "2022-07-13T08:05:09.477327Z",
     "iopub.status.idle": "2022-07-13T08:05:09.485970Z",
     "shell.execute_reply": "2022-07-13T08:05:09.485151Z"
    },
    "origin_pos": 52,
    "tab": [
     "pytorch"
    ]
   },
   "outputs": [],
   "source": [
    "@d2l.add_to_class(d2l.Trainer)  \n",
    "def __init__(self, max_epochs, num_gpus=0, gradient_clip_val=0):\n",
    "    self.save_hyperparameters()\n",
    "    self.gpus = [d2l.gpu(i) for i in range(min(num_gpus, d2l.num_gpus()))]\n",
    "\n",
    "@d2l.add_to_class(d2l.Trainer)  \n",
    "def prepare_batch(self, batch):\n",
    "    if self.gpus:\n",
    "        batch = [a.to(self.gpus[0]) for a in batch]\n",
    "    return batch\n",
    "\n",
    "@d2l.add_to_class(d2l.Trainer)  \n",
    "def prepare_model(self, model):\n",
    "    model.trainer = self\n",
    "    model.board.xlim = [0, self.max_epochs]\n",
    "    if self.gpus:\n",
    "        model.to(self.gpus[0])\n",
    "    self.model = model"
   ]
  }
 ],
 "metadata": {
  "celltoolbar": "Slideshow",
  "language_info": {
   "name": "python"
  },
  "rise": {
   "autolaunch": true,
   "enable_chalkboard": true,
   "overlay": "<div class='my-top-right'><img height=80px src='http://d2l.ai/_static/logo-with-text.png'/></div><div class='my-top-left'></div>",
   "scroll": true
  }
 },
 "nbformat": 4,
 "nbformat_minor": 5
}