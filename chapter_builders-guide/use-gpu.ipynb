{
 "cells": [
  {
   "cell_type": "markdown",
   "id": "df5f8f6d",
   "metadata": {
    "slideshow": {
     "slide_type": "-"
    }
   },
   "source": [
    "# GPUs\n",
    "\n",
    "View the graphics card information"
   ]
  },
  {
   "cell_type": "code",
   "execution_count": 1,
   "id": "84b7d12a",
   "metadata": {
    "execution": {
     "iopub.execute_input": "2022-08-19T17:15:08.090056Z",
     "iopub.status.busy": "2022-08-19T17:15:08.089339Z",
     "iopub.status.idle": "2022-08-19T17:15:09.021136Z",
     "shell.execute_reply": "2022-08-19T17:15:09.019805Z"
    },
    "origin_pos": 2,
    "tab": [
     "pytorch"
    ]
   },
   "outputs": [
    {
     "name": "stdout",
     "output_type": "stream",
     "text": [
      "Fri Aug 19 17:15:08 2022       \r\n",
      "+-----------------------------------------------------------------------------+\r\n",
      "| NVIDIA-SMI 460.106.00   Driver Version: 460.106.00   CUDA Version: 11.2     |\r\n",
      "|-------------------------------+----------------------+----------------------+\r\n",
      "| GPU  Name        Persistence-M| Bus-Id        Disp.A | Volatile Uncorr. ECC |\r\n",
      "| Fan  Temp  Perf  Pwr:Usage/Cap|         Memory-Usage | GPU-Util  Compute M. |\r\n",
      "|                               |                      |               MIG M. |\r\n",
      "|===============================+======================+======================|\r\n",
      "|   0  Tesla V100-SXM2...  Off  | 00000000:00:1B.0 Off |                    0 |\r\n",
      "| N/A   56C    P0    76W / 300W |   3189MiB / 16160MiB |     22%      Default |\r\n",
      "|                               |                      |                  N/A |\r\n",
      "+-------------------------------+----------------------+----------------------+\r\n"
     ]
    },
    {
     "name": "stdout",
     "output_type": "stream",
     "text": [
      "|   1  Tesla V100-SXM2...  Off  | 00000000:00:1C.0 Off |                    0 |\r\n",
      "| N/A   53C    P0    42W / 300W |      3MiB / 16160MiB |      0%      Default |\r\n",
      "|                               |                      |                  N/A |\r\n",
      "+-------------------------------+----------------------+----------------------+\r\n",
      "|   2  Tesla V100-SXM2...  Off  | 00000000:00:1D.0 Off |                    0 |\r\n",
      "| N/A   52C    P0    62W / 300W |   1542MiB / 16160MiB |     26%      Default |\r\n",
      "|                               |                      |                  N/A |\r\n",
      "+-------------------------------+----------------------+----------------------+\r\n",
      "|   3  Tesla V100-SXM2...  Off  | 00000000:00:1E.0 Off |                    0 |\r\n",
      "| N/A   57C    P0    48W / 300W |      3MiB / 16160MiB |      0%      Default |\r\n",
      "|                               |                      |                  N/A |\r\n",
      "+-------------------------------+----------------------+----------------------+\r\n",
      "                                                                               \r\n",
      "+-----------------------------------------------------------------------------+\r\n",
      "| Processes:                                                                  |\r\n",
      "|  GPU   GI   CI        PID   Type   Process name                  GPU Memory |\r\n",
      "|        ID   ID                                                   Usage      |\r\n",
      "|=============================================================================|\r\n",
      "|    0   N/A  N/A       931      C   ...l-en-release-1/bin/python     1429MiB |\r\n",
      "|    2   N/A  N/A       931      C   ...l-en-release-1/bin/python     1539MiB |\r\n",
      "+-----------------------------------------------------------------------------+\r\n"
     ]
    }
   ],
   "source": [
    "!nvidia-smi"
   ]
  },
  {
   "cell_type": "markdown",
   "id": "127a1f9e",
   "metadata": {
    "slideshow": {
     "slide_type": "slide"
    }
   },
   "source": [
    "Computing Devices"
   ]
  },
  {
   "cell_type": "code",
   "execution_count": 3,
   "id": "fa3c0918",
   "metadata": {
    "execution": {
     "iopub.execute_input": "2022-08-19T17:15:11.078396Z",
     "iopub.status.busy": "2022-08-19T17:15:11.077786Z",
     "iopub.status.idle": "2022-08-19T17:15:11.088014Z",
     "shell.execute_reply": "2022-08-19T17:15:11.086593Z"
    },
    "origin_pos": 11,
    "tab": [
     "pytorch"
    ]
   },
   "outputs": [
    {
     "data": {
      "text/plain": [
       "(device(type='cpu'),\n",
       " device(type='cuda', index=0),\n",
       " device(type='cuda', index=1))"
      ]
     },
     "execution_count": 3,
     "metadata": {},
     "output_type": "execute_result"
    }
   ],
   "source": [
    "import torch\n",
    "from torch import nn\n",
    "from d2l import torch as d2l\n",
    "\n",
    "def cpu():  \n",
    "    return torch.device('cpu')\n",
    "def gpu(i=0):  \n",
    "    return torch.device(f'cuda:{i}')\n",
    "cpu(), gpu(), gpu(1)"
   ]
  },
  {
   "cell_type": "markdown",
   "id": "5384401e",
   "metadata": {
    "slideshow": {
     "slide_type": "-"
    }
   },
   "source": [
    "Query the number of available GPUs"
   ]
  },
  {
   "cell_type": "code",
   "execution_count": 4,
   "id": "11795a0b",
   "metadata": {
    "execution": {
     "iopub.execute_input": "2022-08-19T17:15:11.092150Z",
     "iopub.status.busy": "2022-08-19T17:15:11.091194Z",
     "iopub.status.idle": "2022-08-19T17:15:11.099373Z",
     "shell.execute_reply": "2022-08-19T17:15:11.098214Z"
    },
    "origin_pos": 13,
    "tab": [
     "pytorch"
    ]
   },
   "outputs": [
    {
     "data": {
      "text/plain": [
       "2"
      ]
     },
     "execution_count": 4,
     "metadata": {},
     "output_type": "execute_result"
    }
   ],
   "source": [
    "def num_gpus():  \n",
    "    return torch.cuda.device_count()\n",
    "num_gpus()"
   ]
  },
  {
   "cell_type": "markdown",
   "id": "3b8dfdca",
   "metadata": {
    "slideshow": {
     "slide_type": "slide"
    }
   },
   "source": [
    "Define two convenient functions that allow us\n",
    "to run code even if the requested GPUs do not exist"
   ]
  },
  {
   "cell_type": "code",
   "execution_count": 5,
   "id": "41a4e057",
   "metadata": {
    "execution": {
     "iopub.execute_input": "2022-08-19T17:15:11.102920Z",
     "iopub.status.busy": "2022-08-19T17:15:11.102308Z",
     "iopub.status.idle": "2022-08-19T17:15:11.111134Z",
     "shell.execute_reply": "2022-08-19T17:15:11.109801Z"
    },
    "origin_pos": 15,
    "tab": [
     "pytorch"
    ]
   },
   "outputs": [
    {
     "data": {
      "text/plain": [
       "(device(type='cuda', index=0),\n",
       " device(type='cpu'),\n",
       " [device(type='cuda', index=0), device(type='cuda', index=1)])"
      ]
     },
     "execution_count": 5,
     "metadata": {},
     "output_type": "execute_result"
    }
   ],
   "source": [
    "def try_gpu(i=0):  \n",
    "    \"\"\"Return gpu(i) if exists, otherwise return cpu().\"\"\"\n",
    "    if num_gpus() >= i + 1:\n",
    "        return gpu(i)\n",
    "    return cpu()\n",
    "\n",
    "def try_all_gpus():  \n",
    "    \"\"\"Return all available GPUs, or [cpu(),] if no GPU exists.\"\"\"\n",
    "    return [gpu(i) for i in range(num_gpus())]\n",
    "\n",
    "try_gpu(), try_gpu(10), try_all_gpus()"
   ]
  },
  {
   "cell_type": "markdown",
   "id": "8b69ec09",
   "metadata": {
    "slideshow": {
     "slide_type": "slide"
    }
   },
   "source": [
    "Query the device where the tensor is located"
   ]
  },
  {
   "cell_type": "code",
   "execution_count": 6,
   "id": "3a1b08b0",
   "metadata": {
    "execution": {
     "iopub.execute_input": "2022-08-19T17:15:11.116224Z",
     "iopub.status.busy": "2022-08-19T17:15:11.115499Z",
     "iopub.status.idle": "2022-08-19T17:15:11.123294Z",
     "shell.execute_reply": "2022-08-19T17:15:11.122169Z"
    },
    "origin_pos": 18,
    "tab": [
     "pytorch"
    ]
   },
   "outputs": [
    {
     "data": {
      "text/plain": [
       "device(type='cpu')"
      ]
     },
     "execution_count": 6,
     "metadata": {},
     "output_type": "execute_result"
    }
   ],
   "source": [
    "x = torch.tensor([1, 2, 3])\n",
    "x.device"
   ]
  },
  {
   "cell_type": "markdown",
   "id": "979aef13",
   "metadata": {
    "slideshow": {
     "slide_type": "slide"
    }
   },
   "source": [
    "Store a tensor on the GPU"
   ]
  },
  {
   "cell_type": "code",
   "execution_count": 7,
   "id": "5d4d9207",
   "metadata": {
    "execution": {
     "iopub.execute_input": "2022-08-19T17:15:11.127268Z",
     "iopub.status.busy": "2022-08-19T17:15:11.126367Z",
     "iopub.status.idle": "2022-08-19T17:15:14.168319Z",
     "shell.execute_reply": "2022-08-19T17:15:14.167496Z"
    },
    "origin_pos": 22,
    "tab": [
     "pytorch"
    ]
   },
   "outputs": [
    {
     "data": {
      "text/plain": [
       "tensor([[1., 1., 1.],\n",
       "        [1., 1., 1.]], device='cuda:0')"
      ]
     },
     "execution_count": 7,
     "metadata": {},
     "output_type": "execute_result"
    }
   ],
   "source": [
    "X = torch.ones(2, 3, device=try_gpu())\n",
    "X"
   ]
  },
  {
   "cell_type": "markdown",
   "id": "225ec65c",
   "metadata": {
    "slideshow": {
     "slide_type": "-"
    }
   },
   "source": [
    "Create a random tensor on the second GPU"
   ]
  },
  {
   "cell_type": "code",
   "execution_count": 8,
   "id": "b01c7187",
   "metadata": {
    "execution": {
     "iopub.execute_input": "2022-08-19T17:15:14.173366Z",
     "iopub.status.busy": "2022-08-19T17:15:14.172789Z",
     "iopub.status.idle": "2022-08-19T17:15:17.004513Z",
     "shell.execute_reply": "2022-08-19T17:15:17.003640Z"
    },
    "origin_pos": 26,
    "tab": [
     "pytorch"
    ]
   },
   "outputs": [
    {
     "data": {
      "text/plain": [
       "tensor([[0.3104, 0.9887, 0.7314],\n",
       "        [0.1797, 0.9548, 0.5226]], device='cuda:1')"
      ]
     },
     "execution_count": 8,
     "metadata": {},
     "output_type": "execute_result"
    }
   ],
   "source": [
    "Y = torch.rand(2, 3, device=try_gpu(1))\n",
    "Y"
   ]
  },
  {
   "cell_type": "markdown",
   "id": "3724f1e2",
   "metadata": {
    "slideshow": {
     "slide_type": "slide"
    }
   },
   "source": [
    "If we want to compute `X + Y`,\n",
    "we need to decide where to perform this operation"
   ]
  },
  {
   "cell_type": "code",
   "execution_count": 9,
   "id": "bd3a326e",
   "metadata": {
    "execution": {
     "iopub.execute_input": "2022-08-19T17:15:17.008348Z",
     "iopub.status.busy": "2022-08-19T17:15:17.007756Z",
     "iopub.status.idle": "2022-08-19T17:15:17.015223Z",
     "shell.execute_reply": "2022-08-19T17:15:17.014347Z"
    },
    "origin_pos": 30,
    "tab": [
     "pytorch"
    ]
   },
   "outputs": [
    {
     "name": "stdout",
     "output_type": "stream",
     "text": [
      "tensor([[1., 1., 1.],\n",
      "        [1., 1., 1.]], device='cuda:0')\n",
      "tensor([[1., 1., 1.],\n",
      "        [1., 1., 1.]], device='cuda:1')\n"
     ]
    }
   ],
   "source": [
    "Z = X.cuda(1)\n",
    "print(X)\n",
    "print(Z)"
   ]
  },
  {
   "cell_type": "markdown",
   "id": "cd508f8c",
   "metadata": {
    "slideshow": {
     "slide_type": "slide"
    }
   },
   "source": [
    "The data is on the same GPU\n",
    "(both `Z` and `Y` are),\n",
    "we can add them up"
   ]
  },
  {
   "cell_type": "code",
   "execution_count": 10,
   "id": "880a488b",
   "metadata": {
    "execution": {
     "iopub.execute_input": "2022-08-19T17:15:17.018491Z",
     "iopub.status.busy": "2022-08-19T17:15:17.018218Z",
     "iopub.status.idle": "2022-08-19T17:15:17.026174Z",
     "shell.execute_reply": "2022-08-19T17:15:17.025027Z"
    },
    "origin_pos": 33,
    "tab": [
     "pytorch"
    ]
   },
   "outputs": [
    {
     "data": {
      "text/plain": [
       "tensor([[1.3104, 1.9887, 1.7314],\n",
       "        [1.1797, 1.9548, 1.5226]], device='cuda:1')"
      ]
     },
     "execution_count": 10,
     "metadata": {},
     "output_type": "execute_result"
    }
   ],
   "source": [
    "Y + Z"
   ]
  },
  {
   "cell_type": "code",
   "execution_count": 11,
   "id": "62dd0055",
   "metadata": {
    "execution": {
     "iopub.execute_input": "2022-08-19T17:15:17.030890Z",
     "iopub.status.busy": "2022-08-19T17:15:17.030444Z",
     "iopub.status.idle": "2022-08-19T17:15:17.036747Z",
     "shell.execute_reply": "2022-08-19T17:15:17.035983Z"
    },
    "origin_pos": 38,
    "tab": [
     "pytorch"
    ]
   },
   "outputs": [
    {
     "data": {
      "text/plain": [
       "True"
      ]
     },
     "execution_count": 11,
     "metadata": {},
     "output_type": "execute_result"
    }
   ],
   "source": [
    "Z.cuda(1) is Z"
   ]
  },
  {
   "cell_type": "markdown",
   "id": "d4814e0f",
   "metadata": {
    "slideshow": {
     "slide_type": "slide"
    }
   },
   "source": [
    "Neural Networks and GPUs"
   ]
  },
  {
   "cell_type": "code",
   "execution_count": 12,
   "id": "b5d53d7d",
   "metadata": {
    "execution": {
     "iopub.execute_input": "2022-08-19T17:15:17.040565Z",
     "iopub.status.busy": "2022-08-19T17:15:17.039926Z",
     "iopub.status.idle": "2022-08-19T17:15:17.045818Z",
     "shell.execute_reply": "2022-08-19T17:15:17.045031Z"
    },
    "origin_pos": 42,
    "tab": [
     "pytorch"
    ]
   },
   "outputs": [
    {
     "name": "stdout",
     "output_type": "stream",
     "text": [
      "/home/d2l-worker/miniconda3/envs/d2l-en-release-1/lib/python3.8/site-packages/torch/nn/modules/lazy.py:178: UserWarning: Lazy modules are a new feature under heavy development so changes to the API or functionality can happen at any moment.\n",
      "  warnings.warn('Lazy modules are a new feature under heavy development '\n"
     ]
    }
   ],
   "source": [
    "net = nn.Sequential(nn.LazyLinear(1))\n",
    "net = net.to(device=try_gpu())"
   ]
  },
  {
   "cell_type": "code",
   "execution_count": 13,
   "id": "e4ce6830",
   "metadata": {
    "execution": {
     "iopub.execute_input": "2022-08-19T17:15:17.049177Z",
     "iopub.status.busy": "2022-08-19T17:15:17.048758Z",
     "iopub.status.idle": "2022-08-19T17:15:17.314505Z",
     "shell.execute_reply": "2022-08-19T17:15:17.313701Z"
    },
    "origin_pos": 45,
    "tab": [
     "pytorch"
    ]
   },
   "outputs": [
    {
     "data": {
      "text/plain": [
       "tensor([[-0.2376],\n",
       "        [-0.2376]], device='cuda:0', grad_fn=<AddmmBackward0>)"
      ]
     },
     "execution_count": 13,
     "metadata": {},
     "output_type": "execute_result"
    }
   ],
   "source": [
    "net(X)"
   ]
  },
  {
   "cell_type": "markdown",
   "id": "52b4323b",
   "metadata": {
    "slideshow": {
     "slide_type": "-"
    }
   },
   "source": [
    "Confirm that the model parameters are stored on the same GPU"
   ]
  },
  {
   "cell_type": "code",
   "execution_count": 14,
   "id": "309a6906",
   "metadata": {
    "execution": {
     "iopub.execute_input": "2022-08-19T17:15:17.318269Z",
     "iopub.status.busy": "2022-08-19T17:15:17.317703Z",
     "iopub.status.idle": "2022-08-19T17:15:17.322921Z",
     "shell.execute_reply": "2022-08-19T17:15:17.322153Z"
    },
    "origin_pos": 48,
    "tab": [
     "pytorch"
    ]
   },
   "outputs": [
    {
     "data": {
      "text/plain": [
       "device(type='cuda', index=0)"
      ]
     },
     "execution_count": 14,
     "metadata": {},
     "output_type": "execute_result"
    }
   ],
   "source": [
    "net[0].weight.data.device"
   ]
  },
  {
   "cell_type": "code",
   "execution_count": 15,
   "id": "1dd2d367",
   "metadata": {
    "execution": {
     "iopub.execute_input": "2022-08-19T17:15:17.327426Z",
     "iopub.status.busy": "2022-08-19T17:15:17.326710Z",
     "iopub.status.idle": "2022-08-19T17:15:17.336389Z",
     "shell.execute_reply": "2022-08-19T17:15:17.335270Z"
    },
    "origin_pos": 52,
    "tab": [
     "pytorch"
    ]
   },
   "outputs": [],
   "source": [
    "@d2l.add_to_class(d2l.Trainer)  \n",
    "def __init__(self, max_epochs, num_gpus=0, gradient_clip_val=0):\n",
    "    self.save_hyperparameters()\n",
    "    self.gpus = [d2l.gpu(i) for i in range(min(num_gpus, d2l.num_gpus()))]\n",
    "\n",
    "@d2l.add_to_class(d2l.Trainer)  \n",
    "def prepare_batch(self, batch):\n",
    "    if self.gpus:\n",
    "        batch = [a.to(self.gpus[0]) for a in batch]\n",
    "    return batch\n",
    "\n",
    "@d2l.add_to_class(d2l.Trainer)  \n",
    "def prepare_model(self, model):\n",
    "    model.trainer = self\n",
    "    model.board.xlim = [0, self.max_epochs]\n",
    "    if self.gpus:\n",
    "        model.to(self.gpus[0])\n",
    "    self.model = model"
   ]
  }
 ],
 "metadata": {
  "celltoolbar": "Slideshow",
  "language_info": {
   "name": "python"
  },
  "rise": {
   "autolaunch": true,
   "enable_chalkboard": true,
   "overlay": "<div class='my-top-right'><img height=80px src='http://d2l.ai/_static/logo-with-text.png'/></div><div class='my-top-left'></div>",
   "scroll": true
  }
 },
 "nbformat": 4,
 "nbformat_minor": 5
}