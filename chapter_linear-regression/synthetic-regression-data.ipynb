{
 "cells": [
  {
   "cell_type": "markdown",
   "id": "ea426c76",
   "metadata": {
    "slideshow": {
     "slide_type": "-"
    }
   },
   "source": [
    "# Synthetic Regression Data\n",
    "\n"
   ]
  },
  {
   "cell_type": "code",
   "execution_count": 1,
   "id": "6b31f44e",
   "metadata": {
    "execution": {
     "iopub.execute_input": "2022-08-29T22:02:30.696278Z",
     "iopub.status.busy": "2022-08-29T22:02:30.695733Z",
     "iopub.status.idle": "2022-08-29T22:02:32.637296Z",
     "shell.execute_reply": "2022-08-29T22:02:32.636220Z"
    },
    "origin_pos": 3,
    "tab": [
     "pytorch"
    ]
   },
   "outputs": [],
   "source": [
    "%matplotlib inline\n",
    "import random\n",
    "import torch\n",
    "from d2l import torch as d2l"
   ]
  },
  {
   "cell_type": "markdown",
   "id": "f5b4f841",
   "metadata": {
    "slideshow": {
     "slide_type": "-"
    }
   },
   "source": [
    "$$\\mathbf{y}= \\mathbf{X} \\mathbf{w} + b + \\mathbf\\epsilon$$"
   ]
  },
  {
   "cell_type": "code",
   "execution_count": 3,
   "id": "8717f53d",
   "metadata": {
    "execution": {
     "iopub.execute_input": "2022-08-29T22:02:32.651442Z",
     "iopub.status.busy": "2022-08-29T22:02:32.650715Z",
     "iopub.status.idle": "2022-08-29T22:02:32.657490Z",
     "shell.execute_reply": "2022-08-29T22:02:32.656424Z"
    },
    "origin_pos": 8,
    "tab": [
     "pytorch"
    ]
   },
   "outputs": [],
   "source": [
    "class SyntheticRegressionData(d2l.DataModule):  \n",
    "    def __init__(self, w, b, noise=0.01, num_train=1000, num_val=1000,\n",
    "                 batch_size=32):\n",
    "        super().__init__()\n",
    "        self.save_hyperparameters()\n",
    "        n = num_train + num_val\n",
    "        self.X = torch.randn(n, len(w))\n",
    "        noise = torch.randn(n, 1) * noise\n",
    "        self.y = torch.matmul(self.X, w.reshape((-1, 1))) + b + noise\n",
    "\n",
    "data = SyntheticRegressionData(w=torch.tensor([2, -3.4]), b=4.2)"
   ]
  },
  {
   "cell_type": "markdown",
   "id": "f69127c0",
   "metadata": {
    "slideshow": {
     "slide_type": "slide"
    }
   },
   "source": [
    "Each row in `features` consists of a vector in $\\mathbb{R}^2$ and each row in `labels` is a scalar"
   ]
  },
  {
   "cell_type": "code",
   "execution_count": 4,
   "id": "3c5a7c83",
   "metadata": {
    "execution": {
     "iopub.execute_input": "2022-08-29T22:02:32.661369Z",
     "iopub.status.busy": "2022-08-29T22:02:32.660561Z",
     "iopub.status.idle": "2022-08-29T22:02:32.667708Z",
     "shell.execute_reply": "2022-08-29T22:02:32.666693Z"
    },
    "origin_pos": 10,
    "tab": [
     "pytorch"
    ]
   },
   "outputs": [
    {
     "name": "stdout",
     "output_type": "stream",
     "text": [
      "features: tensor([0.3656, 0.3797]) \n",
      "label: tensor([3.6244])\n"
     ]
    }
   ],
   "source": [
    "print('features:', data.X[0],'\\nlabel:', data.y[0])"
   ]
  },
  {
   "cell_type": "markdown",
   "id": "81a3b7c2",
   "metadata": {
    "slideshow": {
     "slide_type": "slide"
    }
   },
   "source": [
    "Implement the `get_dataloader` function,\n",
    "takes a batch size, a matrix of features,\n",
    "and a vector of labels, and generates minibatches of size `batch_size`"
   ]
  },
  {
   "cell_type": "code",
   "execution_count": 6,
   "id": "2706268f",
   "metadata": {
    "execution": {
     "iopub.execute_input": "2022-08-29T22:02:32.680638Z",
     "iopub.status.busy": "2022-08-29T22:02:32.680119Z",
     "iopub.status.idle": "2022-08-29T22:02:32.686113Z",
     "shell.execute_reply": "2022-08-29T22:02:32.685112Z"
    },
    "origin_pos": 14,
    "tab": [
     "pytorch"
    ]
   },
   "outputs": [
    {
     "name": "stdout",
     "output_type": "stream",
     "text": [
      "X shape: torch.Size([32, 2]) \n",
      "y shape: torch.Size([32, 1])\n"
     ]
    }
   ],
   "source": [
    "@d2l.add_to_class(SyntheticRegressionData)\n",
    "def get_dataloader(self, train):\n",
    "    if train:\n",
    "        indices = list(range(0, self.num_train))\n",
    "        random.shuffle(indices)\n",
    "    else:\n",
    "        indices = list(range(self.num_train, self.num_train+self.num_val))\n",
    "    for i in range(0, len(indices), self.batch_size):\n",
    "        batch_indices = torch.tensor(indices[i: i+self.batch_size])\n",
    "        yield self.X[batch_indices], self.y[batch_indices]\n",
    "\n",
    "X, y = next(iter(data.train_dataloader()))\n",
    "print('X shape:', X.shape, '\\ny shape:', y.shape)"
   ]
  },
  {
   "cell_type": "markdown",
   "id": "699c2e59",
   "metadata": {
    "slideshow": {
     "slide_type": "slide"
    }
   },
   "source": [
    "Call the existing API in a framework to load data"
   ]
  },
  {
   "cell_type": "code",
   "execution_count": 8,
   "id": "2d42e184",
   "metadata": {
    "attributes": {
     "classes": [],
     "id": "",
     "n": "4"
    },
    "execution": {
     "iopub.execute_input": "2022-08-29T22:02:32.699493Z",
     "iopub.status.busy": "2022-08-29T22:02:32.698804Z",
     "iopub.status.idle": "2022-08-29T22:02:32.705636Z",
     "shell.execute_reply": "2022-08-29T22:02:32.704588Z"
    },
    "origin_pos": 18,
    "tab": [
     "pytorch"
    ]
   },
   "outputs": [
    {
     "name": "stdout",
     "output_type": "stream",
     "text": [
      "X shape: torch.Size([32, 2]) \n",
      "y shape: torch.Size([32, 1])\n"
     ]
    }
   ],
   "source": [
    "@d2l.add_to_class(d2l.DataModule)  \n",
    "def get_tensorloader(self, tensors, train, indices=slice(0, None)):\n",
    "    tensors = tuple(a[indices] for a in tensors)\n",
    "    dataset = torch.utils.data.TensorDataset(*tensors)\n",
    "    return torch.utils.data.DataLoader(dataset, self.batch_size,\n",
    "                                       shuffle=train)\n",
    "@d2l.add_to_class(SyntheticRegressionData)  \n",
    "def get_dataloader(self, train):\n",
    "    i = slice(0, self.num_train) if train else slice(self.num_train, None)\n",
    "    return self.get_tensorloader((self.X, self.y), train, i)\n",
    "\n",
    "X, y = next(iter(data.train_dataloader()))\n",
    "print('X shape:', X.shape, '\\ny shape:', y.shape)"
   ]
  },
  {
   "cell_type": "code",
   "execution_count": 9,
   "id": "4a0d01aa",
   "metadata": {
    "execution": {
     "iopub.execute_input": "2022-08-29T22:02:32.709413Z",
     "iopub.status.busy": "2022-08-29T22:02:32.708676Z",
     "iopub.status.idle": "2022-08-29T22:02:32.716692Z",
     "shell.execute_reply": "2022-08-29T22:02:32.715640Z"
    },
    "origin_pos": 20,
    "tab": [
     "pytorch"
    ]
   },
   "outputs": [
    {
     "data": {
      "text/plain": [
       "32"
      ]
     },
     "execution_count": 9,
     "metadata": {},
     "output_type": "execute_result"
    }
   ],
   "source": [
    "len(data.train_dataloader())"
   ]
  }
 ],
 "metadata": {
  "celltoolbar": "Slideshow",
  "language_info": {
   "name": "python"
  },
  "rise": {
   "autolaunch": true,
   "enable_chalkboard": true,
   "overlay": "<div class='my-top-right'><img height=80px src='http://d2l.ai/_static/logo-with-text.png'/></div><div class='my-top-left'></div>",
   "scroll": true
  }
 },
 "nbformat": 4,
 "nbformat_minor": 5
}