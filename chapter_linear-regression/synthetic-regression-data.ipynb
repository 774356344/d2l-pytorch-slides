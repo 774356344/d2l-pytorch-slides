{
 "cells": [
  {
   "cell_type": "markdown",
   "id": "376bd051",
   "metadata": {
    "slideshow": {
     "slide_type": "-"
    }
   },
   "source": [
    "# Synthetic Regression Data\n",
    "\n"
   ]
  },
  {
   "cell_type": "code",
   "execution_count": 1,
   "id": "312074e5",
   "metadata": {
    "execution": {
     "iopub.execute_input": "2022-07-13T08:07:14.866672Z",
     "iopub.status.busy": "2022-07-13T08:07:14.866350Z",
     "iopub.status.idle": "2022-07-13T08:07:16.763526Z",
     "shell.execute_reply": "2022-07-13T08:07:16.762547Z"
    },
    "origin_pos": 3,
    "tab": [
     "pytorch"
    ]
   },
   "outputs": [],
   "source": [
    "%matplotlib inline\n",
    "import random\n",
    "import torch\n",
    "from d2l import torch as d2l"
   ]
  },
  {
   "cell_type": "markdown",
   "id": "b66216e1",
   "metadata": {
    "slideshow": {
     "slide_type": "-"
    }
   },
   "source": [
    "$$\\mathbf{y}= \\mathbf{X} \\mathbf{w} + b + \\mathbf\\epsilon$$"
   ]
  },
  {
   "cell_type": "code",
   "execution_count": 3,
   "id": "a332d0b3",
   "metadata": {
    "execution": {
     "iopub.execute_input": "2022-07-13T08:07:16.800885Z",
     "iopub.status.busy": "2022-07-13T08:07:16.800302Z",
     "iopub.status.idle": "2022-07-13T08:07:16.806467Z",
     "shell.execute_reply": "2022-07-13T08:07:16.805655Z"
    },
    "origin_pos": 8,
    "tab": [
     "pytorch"
    ]
   },
   "outputs": [],
   "source": [
    "class SyntheticRegressionData(d2l.DataModule):  \n",
    "    def __init__(self, w, b, noise=0.01, num_train=1000, num_val=1000,\n",
    "                 batch_size=32):\n",
    "        super().__init__()\n",
    "        self.save_hyperparameters()\n",
    "        n = num_train + num_val\n",
    "        self.X = torch.randn(n, len(w))\n",
    "        noise = torch.randn(n, 1) * noise\n",
    "        self.y = torch.matmul(self.X, w.reshape((-1, 1))) + b + noise\n",
    "\n",
    "data = SyntheticRegressionData(w=torch.tensor([2, -3.4]), b=4.2)"
   ]
  },
  {
   "cell_type": "markdown",
   "id": "193535dc",
   "metadata": {
    "slideshow": {
     "slide_type": "slide"
    }
   },
   "source": [
    "Each row in `features` consists of a vector in $\\mathbb{R}^2$ and each row in `labels` is a scalar"
   ]
  },
  {
   "cell_type": "code",
   "execution_count": 4,
   "id": "e9042455",
   "metadata": {
    "execution": {
     "iopub.execute_input": "2022-07-13T08:07:16.809953Z",
     "iopub.status.busy": "2022-07-13T08:07:16.809478Z",
     "iopub.status.idle": "2022-07-13T08:07:16.815747Z",
     "shell.execute_reply": "2022-07-13T08:07:16.814910Z"
    },
    "origin_pos": 10,
    "tab": [
     "pytorch"
    ]
   },
   "outputs": [
    {
     "name": "stdout",
     "output_type": "stream",
     "text": [
      "features: tensor([-1.0052, -0.1289]) \n",
      "label: tensor([2.6433])\n"
     ]
    }
   ],
   "source": [
    "print('features:', data.X[0],'\\nlabel:', data.y[0])"
   ]
  },
  {
   "cell_type": "markdown",
   "id": "13573766",
   "metadata": {
    "slideshow": {
     "slide_type": "slide"
    }
   },
   "source": [
    "Implement the `get_dataloader` function,\n",
    "takes a batch size, a matrix of features,\n",
    "and a vector of labels, and generates minibatches of size `batch_size`"
   ]
  },
  {
   "cell_type": "code",
   "execution_count": 6,
   "id": "09d618e9",
   "metadata": {
    "execution": {
     "iopub.execute_input": "2022-07-13T08:07:16.830362Z",
     "iopub.status.busy": "2022-07-13T08:07:16.829916Z",
     "iopub.status.idle": "2022-07-13T08:07:16.835400Z",
     "shell.execute_reply": "2022-07-13T08:07:16.834509Z"
    },
    "origin_pos": 14,
    "tab": [
     "pytorch"
    ]
   },
   "outputs": [
    {
     "name": "stdout",
     "output_type": "stream",
     "text": [
      "X shape: torch.Size([32, 2]) \n",
      "y shape: torch.Size([32, 1])\n"
     ]
    }
   ],
   "source": [
    "@d2l.add_to_class(SyntheticRegressionData)\n",
    "def get_dataloader(self, train):\n",
    "    if train:\n",
    "        indices = list(range(0, self.num_train))\n",
    "        random.shuffle(indices)\n",
    "    else:\n",
    "        indices = list(range(self.num_train, self.num_train+self.num_val))\n",
    "    for i in range(0, len(indices), self.batch_size):\n",
    "        batch_indices = torch.tensor(indices[i: i+self.batch_size])\n",
    "        yield self.X[batch_indices], self.y[batch_indices]\n",
    "\n",
    "X, y = next(iter(data.train_dataloader()))\n",
    "print('X shape:', X.shape, '\\ny shape:', y.shape)"
   ]
  },
  {
   "cell_type": "markdown",
   "id": "b1302e64",
   "metadata": {
    "slideshow": {
     "slide_type": "slide"
    }
   },
   "source": [
    "Call the existing API in a framework to load data"
   ]
  },
  {
   "cell_type": "code",
   "execution_count": 8,
   "id": "c469cc42",
   "metadata": {
    "attributes": {
     "classes": [],
     "id": "",
     "n": "4"
    },
    "execution": {
     "iopub.execute_input": "2022-07-13T08:07:16.851363Z",
     "iopub.status.busy": "2022-07-13T08:07:16.850799Z",
     "iopub.status.idle": "2022-07-13T08:07:16.856914Z",
     "shell.execute_reply": "2022-07-13T08:07:16.856063Z"
    },
    "origin_pos": 18,
    "tab": [
     "pytorch"
    ]
   },
   "outputs": [
    {
     "name": "stdout",
     "output_type": "stream",
     "text": [
      "X shape: torch.Size([32, 2]) \n",
      "y shape: torch.Size([32, 1])\n"
     ]
    }
   ],
   "source": [
    "@d2l.add_to_class(d2l.DataModule)  \n",
    "def get_tensorloader(self, tensors, train, indices=slice(0, None)):\n",
    "    tensors = tuple(a[indices] for a in tensors)\n",
    "    dataset = torch.utils.data.TensorDataset(*tensors)\n",
    "    return torch.utils.data.DataLoader(dataset, self.batch_size,\n",
    "                                       shuffle=train)\n",
    "@d2l.add_to_class(SyntheticRegressionData)  \n",
    "def get_dataloader(self, train):\n",
    "    i = slice(0, self.num_train) if train else slice(self.num_train, None)\n",
    "    return self.get_tensorloader((self.X, self.y), train, i)\n",
    "\n",
    "X, y = next(iter(data.train_dataloader()))\n",
    "print('X shape:', X.shape, '\\ny shape:', y.shape)"
   ]
  },
  {
   "cell_type": "code",
   "execution_count": 9,
   "id": "af1833e1",
   "metadata": {
    "execution": {
     "iopub.execute_input": "2022-07-13T08:07:16.861902Z",
     "iopub.status.busy": "2022-07-13T08:07:16.861354Z",
     "iopub.status.idle": "2022-07-13T08:07:16.868716Z",
     "shell.execute_reply": "2022-07-13T08:07:16.867881Z"
    },
    "origin_pos": 20,
    "tab": [
     "pytorch"
    ]
   },
   "outputs": [
    {
     "data": {
      "text/plain": [
       "32"
      ]
     },
     "execution_count": 9,
     "metadata": {},
     "output_type": "execute_result"
    }
   ],
   "source": [
    "len(data.train_dataloader())"
   ]
  }
 ],
 "metadata": {
  "celltoolbar": "Slideshow",
  "language_info": {
   "name": "python"
  },
  "rise": {
   "autolaunch": true,
   "enable_chalkboard": true,
   "overlay": "<div class='my-top-right'><img height=80px src='http://d2l.ai/_static/logo-with-text.png'/></div><div class='my-top-left'></div>",
   "scroll": true
  }
 },
 "nbformat": 4,
 "nbformat_minor": 5
}