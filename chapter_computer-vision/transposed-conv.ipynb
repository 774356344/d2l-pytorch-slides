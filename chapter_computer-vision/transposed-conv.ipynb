{
 "cells": [
  {
   "cell_type": "markdown",
   "id": "b03d085e",
   "metadata": {
    "slideshow": {
     "slide_type": "-"
    }
   },
   "source": [
    "# Transposed Convolution\n",
    "\n"
   ]
  },
  {
   "cell_type": "code",
   "execution_count": 1,
   "id": "46fe60c8",
   "metadata": {
    "execution": {
     "iopub.execute_input": "2022-07-13T08:15:47.445712Z",
     "iopub.status.busy": "2022-07-13T08:15:47.445401Z",
     "iopub.status.idle": "2022-07-13T08:15:49.401352Z",
     "shell.execute_reply": "2022-07-13T08:15:49.400342Z"
    },
    "origin_pos": 2,
    "tab": [
     "pytorch"
    ]
   },
   "outputs": [],
   "source": [
    "import torch\n",
    "from torch import nn\n",
    "from d2l import torch as d2l"
   ]
  },
  {
   "cell_type": "markdown",
   "id": "19e44f14",
   "metadata": {
    "slideshow": {
     "slide_type": "-"
    }
   },
   "source": [
    "Implement this basic transposed convolution operation"
   ]
  },
  {
   "cell_type": "code",
   "execution_count": 2,
   "id": "c7f5a8a6",
   "metadata": {
    "execution": {
     "iopub.execute_input": "2022-07-13T08:15:49.437705Z",
     "iopub.status.busy": "2022-07-13T08:15:49.437062Z",
     "iopub.status.idle": "2022-07-13T08:15:49.442927Z",
     "shell.execute_reply": "2022-07-13T08:15:49.441920Z"
    },
    "origin_pos": 4,
    "tab": [
     "pytorch"
    ]
   },
   "outputs": [],
   "source": [
    "def trans_conv(X, K):\n",
    "    h, w = K.shape\n",
    "    Y = torch.zeros((X.shape[0] + h - 1, X.shape[1] + w - 1))\n",
    "    for i in range(X.shape[0]):\n",
    "        for j in range(X.shape[1]):\n",
    "            Y[i: i + h, j: j + w] += X[i, j] * K\n",
    "    return Y"
   ]
  },
  {
   "cell_type": "markdown",
   "id": "1324fea5",
   "metadata": {
    "slideshow": {
     "slide_type": "slide"
    }
   },
   "source": [
    "Validate the output of the above implementation"
   ]
  },
  {
   "cell_type": "code",
   "execution_count": 3,
   "id": "1ab2e5c4",
   "metadata": {
    "execution": {
     "iopub.execute_input": "2022-07-13T08:15:49.447823Z",
     "iopub.status.busy": "2022-07-13T08:15:49.447289Z",
     "iopub.status.idle": "2022-07-13T08:15:49.474969Z",
     "shell.execute_reply": "2022-07-13T08:15:49.474186Z"
    },
    "origin_pos": 6,
    "tab": [
     "pytorch"
    ]
   },
   "outputs": [
    {
     "data": {
      "text/plain": [
       "tensor([[ 0.,  0.,  1.],\n",
       "        [ 0.,  4.,  6.],\n",
       "        [ 4., 12.,  9.]])"
      ]
     },
     "execution_count": 3,
     "metadata": {},
     "output_type": "execute_result"
    }
   ],
   "source": [
    "X = torch.tensor([[0.0, 1.0], [2.0, 3.0]])\n",
    "K = torch.tensor([[0.0, 1.0], [2.0, 3.0]])\n",
    "trans_conv(X, K)"
   ]
  },
  {
   "cell_type": "markdown",
   "id": "f17b75c4",
   "metadata": {
    "slideshow": {
     "slide_type": "slide"
    }
   },
   "source": [
    "Use high-level APIs to obtain the same results"
   ]
  },
  {
   "cell_type": "code",
   "execution_count": 4,
   "id": "5a9f379b",
   "metadata": {
    "execution": {
     "iopub.execute_input": "2022-07-13T08:15:49.480488Z",
     "iopub.status.busy": "2022-07-13T08:15:49.480029Z",
     "iopub.status.idle": "2022-07-13T08:15:49.487536Z",
     "shell.execute_reply": "2022-07-13T08:15:49.486756Z"
    },
    "origin_pos": 9,
    "tab": [
     "pytorch"
    ]
   },
   "outputs": [
    {
     "data": {
      "text/plain": [
       "tensor([[[[ 0.,  0.,  1.],\n",
       "          [ 0.,  4.,  6.],\n",
       "          [ 4., 12.,  9.]]]], grad_fn=<ConvolutionBackward0>)"
      ]
     },
     "execution_count": 4,
     "metadata": {},
     "output_type": "execute_result"
    }
   ],
   "source": [
    "X, K = X.reshape(1, 1, 2, 2), K.reshape(1, 1, 2, 2)\n",
    "tconv = nn.ConvTranspose2d(1, 1, kernel_size=2, bias=False)\n",
    "tconv.weight.data = K\n",
    "tconv(X)"
   ]
  },
  {
   "cell_type": "markdown",
   "id": "e503045d",
   "metadata": {
    "slideshow": {
     "slide_type": "slide"
    }
   },
   "source": [
    "Padding, Strides, and Multiple Channels"
   ]
  },
  {
   "cell_type": "code",
   "execution_count": 5,
   "id": "b6536401",
   "metadata": {
    "execution": {
     "iopub.execute_input": "2022-07-13T08:15:49.492169Z",
     "iopub.status.busy": "2022-07-13T08:15:49.491675Z",
     "iopub.status.idle": "2022-07-13T08:15:49.498136Z",
     "shell.execute_reply": "2022-07-13T08:15:49.497375Z"
    },
    "origin_pos": 12,
    "tab": [
     "pytorch"
    ]
   },
   "outputs": [
    {
     "data": {
      "text/plain": [
       "tensor([[[[4.]]]], grad_fn=<ConvolutionBackward0>)"
      ]
     },
     "execution_count": 5,
     "metadata": {},
     "output_type": "execute_result"
    }
   ],
   "source": [
    "tconv = nn.ConvTranspose2d(1, 1, kernel_size=2, padding=1, bias=False)\n",
    "tconv.weight.data = K\n",
    "tconv(X)"
   ]
  },
  {
   "cell_type": "code",
   "execution_count": 6,
   "id": "c4c4f2b9",
   "metadata": {
    "execution": {
     "iopub.execute_input": "2022-07-13T08:15:49.503199Z",
     "iopub.status.busy": "2022-07-13T08:15:49.502546Z",
     "iopub.status.idle": "2022-07-13T08:15:49.511325Z",
     "shell.execute_reply": "2022-07-13T08:15:49.510177Z"
    },
    "origin_pos": 15,
    "tab": [
     "pytorch"
    ]
   },
   "outputs": [
    {
     "data": {
      "text/plain": [
       "tensor([[[[0., 0., 0., 1.],\n",
       "          [0., 0., 2., 3.],\n",
       "          [0., 2., 0., 3.],\n",
       "          [4., 6., 6., 9.]]]], grad_fn=<ConvolutionBackward0>)"
      ]
     },
     "execution_count": 6,
     "metadata": {},
     "output_type": "execute_result"
    }
   ],
   "source": [
    "tconv = nn.ConvTranspose2d(1, 1, kernel_size=2, stride=2, bias=False)\n",
    "tconv.weight.data = K\n",
    "tconv(X)"
   ]
  },
  {
   "cell_type": "code",
   "execution_count": 7,
   "id": "a18bedab",
   "metadata": {
    "execution": {
     "iopub.execute_input": "2022-07-13T08:15:49.516256Z",
     "iopub.status.busy": "2022-07-13T08:15:49.515692Z",
     "iopub.status.idle": "2022-07-13T08:15:49.526937Z",
     "shell.execute_reply": "2022-07-13T08:15:49.526157Z"
    },
    "origin_pos": 18,
    "tab": [
     "pytorch"
    ]
   },
   "outputs": [
    {
     "data": {
      "text/plain": [
       "True"
      ]
     },
     "execution_count": 7,
     "metadata": {},
     "output_type": "execute_result"
    }
   ],
   "source": [
    "X = torch.rand(size=(1, 10, 16, 16))\n",
    "conv = nn.Conv2d(10, 20, kernel_size=5, padding=2, stride=3)\n",
    "tconv = nn.ConvTranspose2d(20, 10, kernel_size=5, padding=2, stride=3)\n",
    "tconv(conv(X)).shape == X.shape"
   ]
  },
  {
   "cell_type": "markdown",
   "id": "e53ce59e",
   "metadata": {
    "slideshow": {
     "slide_type": "slide"
    }
   },
   "source": [
    "Connection to Matrix Transposition"
   ]
  },
  {
   "cell_type": "code",
   "execution_count": 8,
   "id": "10eebaf4",
   "metadata": {
    "execution": {
     "iopub.execute_input": "2022-07-13T08:15:49.531535Z",
     "iopub.status.busy": "2022-07-13T08:15:49.530959Z",
     "iopub.status.idle": "2022-07-13T08:15:49.537775Z",
     "shell.execute_reply": "2022-07-13T08:15:49.537018Z"
    },
    "origin_pos": 20,
    "tab": [
     "pytorch"
    ]
   },
   "outputs": [
    {
     "data": {
      "text/plain": [
       "tensor([[27., 37.],\n",
       "        [57., 67.]])"
      ]
     },
     "execution_count": 8,
     "metadata": {},
     "output_type": "execute_result"
    }
   ],
   "source": [
    "X = torch.arange(9.0).reshape(3, 3)\n",
    "K = torch.tensor([[1.0, 2.0], [3.0, 4.0]])\n",
    "Y = d2l.corr2d(X, K)\n",
    "Y"
   ]
  },
  {
   "cell_type": "code",
   "execution_count": 9,
   "id": "430daecb",
   "metadata": {
    "execution": {
     "iopub.execute_input": "2022-07-13T08:15:49.542566Z",
     "iopub.status.busy": "2022-07-13T08:15:49.541867Z",
     "iopub.status.idle": "2022-07-13T08:15:49.549542Z",
     "shell.execute_reply": "2022-07-13T08:15:49.548801Z"
    },
    "origin_pos": 22,
    "tab": [
     "pytorch"
    ]
   },
   "outputs": [
    {
     "data": {
      "text/plain": [
       "tensor([[1., 2., 0., 3., 4., 0., 0., 0., 0.],\n",
       "        [0., 1., 2., 0., 3., 4., 0., 0., 0.],\n",
       "        [0., 0., 0., 1., 2., 0., 3., 4., 0.],\n",
       "        [0., 0., 0., 0., 1., 2., 0., 3., 4.]])"
      ]
     },
     "execution_count": 9,
     "metadata": {},
     "output_type": "execute_result"
    }
   ],
   "source": [
    "def kernel2matrix(K):\n",
    "    k, W = torch.zeros(5), torch.zeros((4, 9))\n",
    "    k[:2], k[3:5] = K[0, :], K[1, :]\n",
    "    W[0, :5], W[1, 1:6], W[2, 3:8], W[3, 4:] = k, k, k, k\n",
    "    return W\n",
    "\n",
    "W = kernel2matrix(K)\n",
    "W"
   ]
  },
  {
   "cell_type": "code",
   "execution_count": 10,
   "id": "2cfe824c",
   "metadata": {
    "execution": {
     "iopub.execute_input": "2022-07-13T08:15:49.554163Z",
     "iopub.status.busy": "2022-07-13T08:15:49.553648Z",
     "iopub.status.idle": "2022-07-13T08:15:49.560079Z",
     "shell.execute_reply": "2022-07-13T08:15:49.558956Z"
    },
    "origin_pos": 24,
    "tab": [
     "pytorch"
    ]
   },
   "outputs": [
    {
     "data": {
      "text/plain": [
       "tensor([[True, True],\n",
       "        [True, True]])"
      ]
     },
     "execution_count": 10,
     "metadata": {},
     "output_type": "execute_result"
    }
   ],
   "source": [
    "Y == torch.matmul(W, X.reshape(-1)).reshape(2, 2)"
   ]
  },
  {
   "cell_type": "code",
   "execution_count": 11,
   "id": "79b7ed47",
   "metadata": {
    "execution": {
     "iopub.execute_input": "2022-07-13T08:15:49.564930Z",
     "iopub.status.busy": "2022-07-13T08:15:49.564376Z",
     "iopub.status.idle": "2022-07-13T08:15:49.572417Z",
     "shell.execute_reply": "2022-07-13T08:15:49.571569Z"
    },
    "origin_pos": 26,
    "tab": [
     "pytorch"
    ]
   },
   "outputs": [
    {
     "data": {
      "text/plain": [
       "tensor([[True, True, True],\n",
       "        [True, True, True],\n",
       "        [True, True, True]])"
      ]
     },
     "execution_count": 11,
     "metadata": {},
     "output_type": "execute_result"
    }
   ],
   "source": [
    "Z = trans_conv(Y, K)\n",
    "Z == torch.matmul(W.T, Y.reshape(-1)).reshape(3, 3)"
   ]
  }
 ],
 "metadata": {
  "celltoolbar": "Slideshow",
  "language_info": {
   "name": "python"
  },
  "rise": {
   "autolaunch": true,
   "enable_chalkboard": true,
   "overlay": "<div class='my-top-right'><img height=80px src='http://d2l.ai/_static/logo-with-text.png'/></div><div class='my-top-left'></div>",
   "scroll": true
  }
 },
 "nbformat": 4,
 "nbformat_minor": 5
}