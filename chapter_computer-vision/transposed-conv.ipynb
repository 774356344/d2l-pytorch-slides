{
 "cells": [
  {
   "cell_type": "markdown",
   "id": "a7a15cac",
   "metadata": {
    "slideshow": {
     "slide_type": "-"
    }
   },
   "source": [
    "# Transposed Convolution\n",
    "\n"
   ]
  },
  {
   "cell_type": "code",
   "execution_count": 1,
   "id": "3e0fa8e5",
   "metadata": {
    "execution": {
     "iopub.execute_input": "2022-07-13T08:01:12.715215Z",
     "iopub.status.busy": "2022-07-13T08:01:12.714451Z",
     "iopub.status.idle": "2022-07-13T08:01:14.629251Z",
     "shell.execute_reply": "2022-07-13T08:01:14.628026Z"
    },
    "origin_pos": 2,
    "tab": [
     "pytorch"
    ]
   },
   "outputs": [],
   "source": [
    "import torch\n",
    "from torch import nn\n",
    "from d2l import torch as d2l"
   ]
  },
  {
   "cell_type": "markdown",
   "id": "f5d9063d",
   "metadata": {
    "slideshow": {
     "slide_type": "-"
    }
   },
   "source": [
    "Implement this basic transposed convolution operation"
   ]
  },
  {
   "cell_type": "code",
   "execution_count": 2,
   "id": "d6e122f5",
   "metadata": {
    "execution": {
     "iopub.execute_input": "2022-07-13T08:01:14.633623Z",
     "iopub.status.busy": "2022-07-13T08:01:14.633000Z",
     "iopub.status.idle": "2022-07-13T08:01:14.639389Z",
     "shell.execute_reply": "2022-07-13T08:01:14.638256Z"
    },
    "origin_pos": 4,
    "tab": [
     "pytorch"
    ]
   },
   "outputs": [],
   "source": [
    "def trans_conv(X, K):\n",
    "    h, w = K.shape\n",
    "    Y = torch.zeros((X.shape[0] + h - 1, X.shape[1] + w - 1))\n",
    "    for i in range(X.shape[0]):\n",
    "        for j in range(X.shape[1]):\n",
    "            Y[i: i + h, j: j + w] += X[i, j] * K\n",
    "    return Y"
   ]
  },
  {
   "cell_type": "markdown",
   "id": "89463ee0",
   "metadata": {
    "slideshow": {
     "slide_type": "slide"
    }
   },
   "source": [
    "Validate the output of the above implementation"
   ]
  },
  {
   "cell_type": "code",
   "execution_count": 3,
   "id": "97d92c91",
   "metadata": {
    "execution": {
     "iopub.execute_input": "2022-07-13T08:01:14.642884Z",
     "iopub.status.busy": "2022-07-13T08:01:14.642417Z",
     "iopub.status.idle": "2022-07-13T08:01:14.672010Z",
     "shell.execute_reply": "2022-07-13T08:01:14.670813Z"
    },
    "origin_pos": 6,
    "tab": [
     "pytorch"
    ]
   },
   "outputs": [
    {
     "data": {
      "text/plain": [
       "tensor([[ 0.,  0.,  1.],\n",
       "        [ 0.,  4.,  6.],\n",
       "        [ 4., 12.,  9.]])"
      ]
     },
     "execution_count": 3,
     "metadata": {},
     "output_type": "execute_result"
    }
   ],
   "source": [
    "X = torch.tensor([[0.0, 1.0], [2.0, 3.0]])\n",
    "K = torch.tensor([[0.0, 1.0], [2.0, 3.0]])\n",
    "trans_conv(X, K)"
   ]
  },
  {
   "cell_type": "markdown",
   "id": "1320e165",
   "metadata": {
    "slideshow": {
     "slide_type": "slide"
    }
   },
   "source": [
    "Use high-level APIs to obtain the same results"
   ]
  },
  {
   "cell_type": "code",
   "execution_count": 4,
   "id": "83c8c890",
   "metadata": {
    "execution": {
     "iopub.execute_input": "2022-07-13T08:01:14.675703Z",
     "iopub.status.busy": "2022-07-13T08:01:14.675229Z",
     "iopub.status.idle": "2022-07-13T08:01:14.684244Z",
     "shell.execute_reply": "2022-07-13T08:01:14.683133Z"
    },
    "origin_pos": 9,
    "tab": [
     "pytorch"
    ]
   },
   "outputs": [
    {
     "data": {
      "text/plain": [
       "tensor([[[[ 0.,  0.,  1.],\n",
       "          [ 0.,  4.,  6.],\n",
       "          [ 4., 12.,  9.]]]], grad_fn=<ConvolutionBackward0>)"
      ]
     },
     "execution_count": 4,
     "metadata": {},
     "output_type": "execute_result"
    }
   ],
   "source": [
    "X, K = X.reshape(1, 1, 2, 2), K.reshape(1, 1, 2, 2)\n",
    "tconv = nn.ConvTranspose2d(1, 1, kernel_size=2, bias=False)\n",
    "tconv.weight.data = K\n",
    "tconv(X)"
   ]
  },
  {
   "cell_type": "markdown",
   "id": "e154770d",
   "metadata": {
    "slideshow": {
     "slide_type": "slide"
    }
   },
   "source": [
    "Padding, Strides, and Multiple Channels"
   ]
  },
  {
   "cell_type": "code",
   "execution_count": 5,
   "id": "9485a96b",
   "metadata": {
    "execution": {
     "iopub.execute_input": "2022-07-13T08:01:14.687630Z",
     "iopub.status.busy": "2022-07-13T08:01:14.687138Z",
     "iopub.status.idle": "2022-07-13T08:01:14.695203Z",
     "shell.execute_reply": "2022-07-13T08:01:14.694024Z"
    },
    "origin_pos": 12,
    "tab": [
     "pytorch"
    ]
   },
   "outputs": [
    {
     "data": {
      "text/plain": [
       "tensor([[[[4.]]]], grad_fn=<ConvolutionBackward0>)"
      ]
     },
     "execution_count": 5,
     "metadata": {},
     "output_type": "execute_result"
    }
   ],
   "source": [
    "tconv = nn.ConvTranspose2d(1, 1, kernel_size=2, padding=1, bias=False)\n",
    "tconv.weight.data = K\n",
    "tconv(X)"
   ]
  },
  {
   "cell_type": "code",
   "execution_count": 6,
   "id": "6dc7e43f",
   "metadata": {
    "execution": {
     "iopub.execute_input": "2022-07-13T08:01:14.698757Z",
     "iopub.status.busy": "2022-07-13T08:01:14.698280Z",
     "iopub.status.idle": "2022-07-13T08:01:14.706441Z",
     "shell.execute_reply": "2022-07-13T08:01:14.705306Z"
    },
    "origin_pos": 15,
    "tab": [
     "pytorch"
    ]
   },
   "outputs": [
    {
     "data": {
      "text/plain": [
       "tensor([[[[0., 0., 0., 1.],\n",
       "          [0., 0., 2., 3.],\n",
       "          [0., 2., 0., 3.],\n",
       "          [4., 6., 6., 9.]]]], grad_fn=<ConvolutionBackward0>)"
      ]
     },
     "execution_count": 6,
     "metadata": {},
     "output_type": "execute_result"
    }
   ],
   "source": [
    "tconv = nn.ConvTranspose2d(1, 1, kernel_size=2, stride=2, bias=False)\n",
    "tconv.weight.data = K\n",
    "tconv(X)"
   ]
  },
  {
   "cell_type": "code",
   "execution_count": 7,
   "id": "bc5178a9",
   "metadata": {
    "execution": {
     "iopub.execute_input": "2022-07-13T08:01:14.710393Z",
     "iopub.status.busy": "2022-07-13T08:01:14.709542Z",
     "iopub.status.idle": "2022-07-13T08:01:14.722329Z",
     "shell.execute_reply": "2022-07-13T08:01:14.721243Z"
    },
    "origin_pos": 18,
    "tab": [
     "pytorch"
    ]
   },
   "outputs": [
    {
     "data": {
      "text/plain": [
       "True"
      ]
     },
     "execution_count": 7,
     "metadata": {},
     "output_type": "execute_result"
    }
   ],
   "source": [
    "X = torch.rand(size=(1, 10, 16, 16))\n",
    "conv = nn.Conv2d(10, 20, kernel_size=5, padding=2, stride=3)\n",
    "tconv = nn.ConvTranspose2d(20, 10, kernel_size=5, padding=2, stride=3)\n",
    "tconv(conv(X)).shape == X.shape"
   ]
  },
  {
   "cell_type": "markdown",
   "id": "6a7ff8e3",
   "metadata": {
    "slideshow": {
     "slide_type": "slide"
    }
   },
   "source": [
    "Connection to Matrix Transposition"
   ]
  },
  {
   "cell_type": "code",
   "execution_count": 8,
   "id": "7757d8fe",
   "metadata": {
    "execution": {
     "iopub.execute_input": "2022-07-13T08:01:14.725784Z",
     "iopub.status.busy": "2022-07-13T08:01:14.725302Z",
     "iopub.status.idle": "2022-07-13T08:01:14.733740Z",
     "shell.execute_reply": "2022-07-13T08:01:14.732617Z"
    },
    "origin_pos": 20,
    "tab": [
     "pytorch"
    ]
   },
   "outputs": [
    {
     "data": {
      "text/plain": [
       "tensor([[27., 37.],\n",
       "        [57., 67.]])"
      ]
     },
     "execution_count": 8,
     "metadata": {},
     "output_type": "execute_result"
    }
   ],
   "source": [
    "X = torch.arange(9.0).reshape(3, 3)\n",
    "K = torch.tensor([[1.0, 2.0], [3.0, 4.0]])\n",
    "Y = d2l.corr2d(X, K)\n",
    "Y"
   ]
  },
  {
   "cell_type": "code",
   "execution_count": 9,
   "id": "afe1d9fc",
   "metadata": {
    "execution": {
     "iopub.execute_input": "2022-07-13T08:01:14.737534Z",
     "iopub.status.busy": "2022-07-13T08:01:14.736760Z",
     "iopub.status.idle": "2022-07-13T08:01:14.746371Z",
     "shell.execute_reply": "2022-07-13T08:01:14.745251Z"
    },
    "origin_pos": 22,
    "tab": [
     "pytorch"
    ]
   },
   "outputs": [
    {
     "data": {
      "text/plain": [
       "tensor([[1., 2., 0., 3., 4., 0., 0., 0., 0.],\n",
       "        [0., 1., 2., 0., 3., 4., 0., 0., 0.],\n",
       "        [0., 0., 0., 1., 2., 0., 3., 4., 0.],\n",
       "        [0., 0., 0., 0., 1., 2., 0., 3., 4.]])"
      ]
     },
     "execution_count": 9,
     "metadata": {},
     "output_type": "execute_result"
    }
   ],
   "source": [
    "def kernel2matrix(K):\n",
    "    k, W = torch.zeros(5), torch.zeros((4, 9))\n",
    "    k[:2], k[3:5] = K[0, :], K[1, :]\n",
    "    W[0, :5], W[1, 1:6], W[2, 3:8], W[3, 4:] = k, k, k, k\n",
    "    return W\n",
    "\n",
    "W = kernel2matrix(K)\n",
    "W"
   ]
  },
  {
   "cell_type": "code",
   "execution_count": 10,
   "id": "62dc7ce1",
   "metadata": {
    "execution": {
     "iopub.execute_input": "2022-07-13T08:01:14.750443Z",
     "iopub.status.busy": "2022-07-13T08:01:14.749601Z",
     "iopub.status.idle": "2022-07-13T08:01:14.757094Z",
     "shell.execute_reply": "2022-07-13T08:01:14.755966Z"
    },
    "origin_pos": 24,
    "tab": [
     "pytorch"
    ]
   },
   "outputs": [
    {
     "data": {
      "text/plain": [
       "tensor([[True, True],\n",
       "        [True, True]])"
      ]
     },
     "execution_count": 10,
     "metadata": {},
     "output_type": "execute_result"
    }
   ],
   "source": [
    "Y == torch.matmul(W, X.reshape(-1)).reshape(2, 2)"
   ]
  },
  {
   "cell_type": "code",
   "execution_count": 11,
   "id": "2951f883",
   "metadata": {
    "execution": {
     "iopub.execute_input": "2022-07-13T08:01:14.760946Z",
     "iopub.status.busy": "2022-07-13T08:01:14.760117Z",
     "iopub.status.idle": "2022-07-13T08:01:14.767696Z",
     "shell.execute_reply": "2022-07-13T08:01:14.766557Z"
    },
    "origin_pos": 26,
    "tab": [
     "pytorch"
    ]
   },
   "outputs": [
    {
     "data": {
      "text/plain": [
       "tensor([[True, True, True],\n",
       "        [True, True, True],\n",
       "        [True, True, True]])"
      ]
     },
     "execution_count": 11,
     "metadata": {},
     "output_type": "execute_result"
    }
   ],
   "source": [
    "Z = trans_conv(Y, K)\n",
    "Z == torch.matmul(W.T, Y.reshape(-1)).reshape(3, 3)"
   ]
  }
 ],
 "metadata": {
  "celltoolbar": "Slideshow",
  "language_info": {
   "name": "python"
  },
  "rise": {
   "autolaunch": true,
   "enable_chalkboard": true,
   "overlay": "<div class='my-top-right'><img height=80px src='http://d2l.ai/_static/logo-with-text.png'/></div><div class='my-top-left'></div>",
   "scroll": true
  }
 },
 "nbformat": 4,
 "nbformat_minor": 5
}