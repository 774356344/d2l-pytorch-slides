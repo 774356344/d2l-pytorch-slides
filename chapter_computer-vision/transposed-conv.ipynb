{
 "cells": [
  {
   "cell_type": "markdown",
   "id": "e7789dbb",
   "metadata": {
    "slideshow": {
     "slide_type": "-"
    }
   },
   "source": [
    "# Transposed Convolution\n",
    "\n"
   ]
  },
  {
   "cell_type": "code",
   "execution_count": 1,
   "id": "e2c43d67",
   "metadata": {
    "execution": {
     "iopub.execute_input": "2022-09-07T22:07:39.798479Z",
     "iopub.status.busy": "2022-09-07T22:07:39.797752Z",
     "iopub.status.idle": "2022-09-07T22:07:41.828384Z",
     "shell.execute_reply": "2022-09-07T22:07:41.827493Z"
    },
    "origin_pos": 2,
    "tab": [
     "pytorch"
    ]
   },
   "outputs": [],
   "source": [
    "import torch\n",
    "from torch import nn\n",
    "from d2l import torch as d2l"
   ]
  },
  {
   "cell_type": "markdown",
   "id": "d6fa0673",
   "metadata": {
    "slideshow": {
     "slide_type": "-"
    }
   },
   "source": [
    "Implement this basic transposed convolution operation"
   ]
  },
  {
   "cell_type": "code",
   "execution_count": 2,
   "id": "0282df7d",
   "metadata": {
    "execution": {
     "iopub.execute_input": "2022-09-07T22:07:41.833502Z",
     "iopub.status.busy": "2022-09-07T22:07:41.832921Z",
     "iopub.status.idle": "2022-09-07T22:07:41.838328Z",
     "shell.execute_reply": "2022-09-07T22:07:41.837560Z"
    },
    "origin_pos": 4,
    "tab": [
     "pytorch"
    ]
   },
   "outputs": [],
   "source": [
    "def trans_conv(X, K):\n",
    "    h, w = K.shape\n",
    "    Y = torch.zeros((X.shape[0] + h - 1, X.shape[1] + w - 1))\n",
    "    for i in range(X.shape[0]):\n",
    "        for j in range(X.shape[1]):\n",
    "            Y[i: i + h, j: j + w] += X[i, j] * K\n",
    "    return Y"
   ]
  },
  {
   "cell_type": "markdown",
   "id": "36ee50c9",
   "metadata": {
    "slideshow": {
     "slide_type": "slide"
    }
   },
   "source": [
    "Validate the output of the above implementation"
   ]
  },
  {
   "cell_type": "code",
   "execution_count": 3,
   "id": "a334c36f",
   "metadata": {
    "execution": {
     "iopub.execute_input": "2022-09-07T22:07:41.841762Z",
     "iopub.status.busy": "2022-09-07T22:07:41.841317Z",
     "iopub.status.idle": "2022-09-07T22:07:41.871067Z",
     "shell.execute_reply": "2022-09-07T22:07:41.870134Z"
    },
    "origin_pos": 6,
    "tab": [
     "pytorch"
    ]
   },
   "outputs": [
    {
     "data": {
      "text/plain": [
       "tensor([[ 0.,  0.,  1.],\n",
       "        [ 0.,  4.,  6.],\n",
       "        [ 4., 12.,  9.]])"
      ]
     },
     "execution_count": 3,
     "metadata": {},
     "output_type": "execute_result"
    }
   ],
   "source": [
    "X = torch.tensor([[0.0, 1.0], [2.0, 3.0]])\n",
    "K = torch.tensor([[0.0, 1.0], [2.0, 3.0]])\n",
    "trans_conv(X, K)"
   ]
  },
  {
   "cell_type": "markdown",
   "id": "443669f0",
   "metadata": {
    "slideshow": {
     "slide_type": "slide"
    }
   },
   "source": [
    "Use high-level APIs to obtain the same results"
   ]
  },
  {
   "cell_type": "code",
   "execution_count": 4,
   "id": "5462bcbc",
   "metadata": {
    "execution": {
     "iopub.execute_input": "2022-09-07T22:07:41.875638Z",
     "iopub.status.busy": "2022-09-07T22:07:41.875039Z",
     "iopub.status.idle": "2022-09-07T22:07:41.885123Z",
     "shell.execute_reply": "2022-09-07T22:07:41.884146Z"
    },
    "origin_pos": 9,
    "tab": [
     "pytorch"
    ]
   },
   "outputs": [
    {
     "data": {
      "text/plain": [
       "tensor([[[[ 0.,  0.,  1.],\n",
       "          [ 0.,  4.,  6.],\n",
       "          [ 4., 12.,  9.]]]], grad_fn=<ConvolutionBackward0>)"
      ]
     },
     "execution_count": 4,
     "metadata": {},
     "output_type": "execute_result"
    }
   ],
   "source": [
    "X, K = X.reshape(1, 1, 2, 2), K.reshape(1, 1, 2, 2)\n",
    "tconv = nn.ConvTranspose2d(1, 1, kernel_size=2, bias=False)\n",
    "tconv.weight.data = K\n",
    "tconv(X)"
   ]
  },
  {
   "cell_type": "markdown",
   "id": "c1e2498e",
   "metadata": {
    "slideshow": {
     "slide_type": "slide"
    }
   },
   "source": [
    "Padding, Strides, and Multiple Channels"
   ]
  },
  {
   "cell_type": "code",
   "execution_count": 5,
   "id": "7a4aef6b",
   "metadata": {
    "execution": {
     "iopub.execute_input": "2022-09-07T22:07:41.888840Z",
     "iopub.status.busy": "2022-09-07T22:07:41.888255Z",
     "iopub.status.idle": "2022-09-07T22:07:41.896493Z",
     "shell.execute_reply": "2022-09-07T22:07:41.895600Z"
    },
    "origin_pos": 12,
    "tab": [
     "pytorch"
    ]
   },
   "outputs": [
    {
     "data": {
      "text/plain": [
       "tensor([[[[4.]]]], grad_fn=<ConvolutionBackward0>)"
      ]
     },
     "execution_count": 5,
     "metadata": {},
     "output_type": "execute_result"
    }
   ],
   "source": [
    "tconv = nn.ConvTranspose2d(1, 1, kernel_size=2, padding=1, bias=False)\n",
    "tconv.weight.data = K\n",
    "tconv(X)"
   ]
  },
  {
   "cell_type": "code",
   "execution_count": 6,
   "id": "f3d8eb1e",
   "metadata": {
    "execution": {
     "iopub.execute_input": "2022-09-07T22:07:41.899984Z",
     "iopub.status.busy": "2022-09-07T22:07:41.899477Z",
     "iopub.status.idle": "2022-09-07T22:07:41.907284Z",
     "shell.execute_reply": "2022-09-07T22:07:41.906501Z"
    },
    "origin_pos": 15,
    "tab": [
     "pytorch"
    ]
   },
   "outputs": [
    {
     "data": {
      "text/plain": [
       "tensor([[[[0., 0., 0., 1.],\n",
       "          [0., 0., 2., 3.],\n",
       "          [0., 2., 0., 3.],\n",
       "          [4., 6., 6., 9.]]]], grad_fn=<ConvolutionBackward0>)"
      ]
     },
     "execution_count": 6,
     "metadata": {},
     "output_type": "execute_result"
    }
   ],
   "source": [
    "tconv = nn.ConvTranspose2d(1, 1, kernel_size=2, stride=2, bias=False)\n",
    "tconv.weight.data = K\n",
    "tconv(X)"
   ]
  },
  {
   "cell_type": "code",
   "execution_count": 7,
   "id": "34161773",
   "metadata": {
    "execution": {
     "iopub.execute_input": "2022-09-07T22:07:41.911589Z",
     "iopub.status.busy": "2022-09-07T22:07:41.910731Z",
     "iopub.status.idle": "2022-09-07T22:07:41.923307Z",
     "shell.execute_reply": "2022-09-07T22:07:41.922379Z"
    },
    "origin_pos": 18,
    "tab": [
     "pytorch"
    ]
   },
   "outputs": [
    {
     "data": {
      "text/plain": [
       "True"
      ]
     },
     "execution_count": 7,
     "metadata": {},
     "output_type": "execute_result"
    }
   ],
   "source": [
    "X = torch.rand(size=(1, 10, 16, 16))\n",
    "conv = nn.Conv2d(10, 20, kernel_size=5, padding=2, stride=3)\n",
    "tconv = nn.ConvTranspose2d(20, 10, kernel_size=5, padding=2, stride=3)\n",
    "tconv(conv(X)).shape == X.shape"
   ]
  },
  {
   "cell_type": "markdown",
   "id": "aa0ebf5d",
   "metadata": {
    "slideshow": {
     "slide_type": "slide"
    }
   },
   "source": [
    "Connection to Matrix Transposition"
   ]
  },
  {
   "cell_type": "code",
   "execution_count": 8,
   "id": "99cffe3c",
   "metadata": {
    "execution": {
     "iopub.execute_input": "2022-09-07T22:07:41.927119Z",
     "iopub.status.busy": "2022-09-07T22:07:41.926446Z",
     "iopub.status.idle": "2022-09-07T22:07:41.934210Z",
     "shell.execute_reply": "2022-09-07T22:07:41.933386Z"
    },
    "origin_pos": 20,
    "tab": [
     "pytorch"
    ]
   },
   "outputs": [
    {
     "data": {
      "text/plain": [
       "tensor([[27., 37.],\n",
       "        [57., 67.]])"
      ]
     },
     "execution_count": 8,
     "metadata": {},
     "output_type": "execute_result"
    }
   ],
   "source": [
    "X = torch.arange(9.0).reshape(3, 3)\n",
    "K = torch.tensor([[1.0, 2.0], [3.0, 4.0]])\n",
    "Y = d2l.corr2d(X, K)\n",
    "Y"
   ]
  },
  {
   "cell_type": "code",
   "execution_count": 9,
   "id": "ea961b51",
   "metadata": {
    "execution": {
     "iopub.execute_input": "2022-09-07T22:07:41.937649Z",
     "iopub.status.busy": "2022-09-07T22:07:41.937365Z",
     "iopub.status.idle": "2022-09-07T22:07:41.946054Z",
     "shell.execute_reply": "2022-09-07T22:07:41.945181Z"
    },
    "origin_pos": 22,
    "tab": [
     "pytorch"
    ]
   },
   "outputs": [
    {
     "data": {
      "text/plain": [
       "tensor([[1., 2., 0., 3., 4., 0., 0., 0., 0.],\n",
       "        [0., 1., 2., 0., 3., 4., 0., 0., 0.],\n",
       "        [0., 0., 0., 1., 2., 0., 3., 4., 0.],\n",
       "        [0., 0., 0., 0., 1., 2., 0., 3., 4.]])"
      ]
     },
     "execution_count": 9,
     "metadata": {},
     "output_type": "execute_result"
    }
   ],
   "source": [
    "def kernel2matrix(K):\n",
    "    k, W = torch.zeros(5), torch.zeros((4, 9))\n",
    "    k[:2], k[3:5] = K[0, :], K[1, :]\n",
    "    W[0, :5], W[1, 1:6], W[2, 3:8], W[3, 4:] = k, k, k, k\n",
    "    return W\n",
    "\n",
    "W = kernel2matrix(K)\n",
    "W"
   ]
  },
  {
   "cell_type": "code",
   "execution_count": 10,
   "id": "9bac7150",
   "metadata": {
    "execution": {
     "iopub.execute_input": "2022-09-07T22:07:41.949506Z",
     "iopub.status.busy": "2022-09-07T22:07:41.949219Z",
     "iopub.status.idle": "2022-09-07T22:07:41.956192Z",
     "shell.execute_reply": "2022-09-07T22:07:41.955366Z"
    },
    "origin_pos": 24,
    "tab": [
     "pytorch"
    ]
   },
   "outputs": [
    {
     "data": {
      "text/plain": [
       "tensor([[True, True],\n",
       "        [True, True]])"
      ]
     },
     "execution_count": 10,
     "metadata": {},
     "output_type": "execute_result"
    }
   ],
   "source": [
    "Y == torch.matmul(W, X.reshape(-1)).reshape(2, 2)"
   ]
  },
  {
   "cell_type": "code",
   "execution_count": 11,
   "id": "3114e5d1",
   "metadata": {
    "execution": {
     "iopub.execute_input": "2022-09-07T22:07:41.959524Z",
     "iopub.status.busy": "2022-09-07T22:07:41.959236Z",
     "iopub.status.idle": "2022-09-07T22:07:41.966081Z",
     "shell.execute_reply": "2022-09-07T22:07:41.965255Z"
    },
    "origin_pos": 26,
    "tab": [
     "pytorch"
    ]
   },
   "outputs": [
    {
     "data": {
      "text/plain": [
       "tensor([[True, True, True],\n",
       "        [True, True, True],\n",
       "        [True, True, True]])"
      ]
     },
     "execution_count": 11,
     "metadata": {},
     "output_type": "execute_result"
    }
   ],
   "source": [
    "Z = trans_conv(Y, K)\n",
    "Z == torch.matmul(W.T, Y.reshape(-1)).reshape(3, 3)"
   ]
  }
 ],
 "metadata": {
  "celltoolbar": "Slideshow",
  "language_info": {
   "name": "python"
  },
  "rise": {
   "autolaunch": true,
   "enable_chalkboard": true,
   "overlay": "<div class='my-top-right'><img height=80px src='http://d2l.ai/_static/logo-with-text.png'/></div><div class='my-top-left'></div>",
   "scroll": true
  }
 },
 "nbformat": 4,
 "nbformat_minor": 5
}